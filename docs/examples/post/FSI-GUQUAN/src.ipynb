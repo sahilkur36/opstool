{
 "cells": [
  {
   "cell_type": "markdown",
   "id": "7366818e",
   "metadata": {},
   "source": [
    "# Fluid-structure interaction"
   ]
  },
  {
   "cell_type": "markdown",
   "id": "c04d9640",
   "metadata": {},
   "source": [
    "This example originates from the GitHub repository maintained by Professor Quan Gu of Xiamen University. \n",
    "Refer to: [OpenSeesXMU](https://github.com/OpenSeesXMU/A-practical-guide-to-OpenSees---examples/tree/master/Chapter07--Fluid-solid%20coupling)"
   ]
  },
  {
   "cell_type": "code",
   "execution_count": 1,
   "id": "8fbb30fc",
   "metadata": {},
   "outputs": [],
   "source": [
    "import matplotlib.pyplot as plt\n",
    "import openseespy.opensees as ops\n",
    "\n",
    "import opstool as opst\n"
   ]
  },
  {
   "cell_type": "code",
   "execution_count": 2,
   "id": "5f924afa",
   "metadata": {},
   "outputs": [],
   "source": [
    "ops.wipe()\n",
    "ops.model(\"basic\", \"-ndm\", 3, \"-ndf\", 3)\n",
    "ops.node(1, 1.0, 0.0, 0.0)\n",
    "ops.node(2, 1.0, 1.0, 0.0)\n",
    "ops.node(3, 0.0, 1.0, 0.0)\n",
    "ops.node(4, 0.0, 0.0, 0.0)\n",
    "ops.node(5, 1.0, 0.0, 1.0)\n",
    "ops.node(6, 1.0, 1.0, 1.0)\n",
    "ops.node(7, 0.0, 1.0, 1.0)\n",
    "ops.node(8, 0.0, 0.0, 1.0)"
   ]
  },
  {
   "cell_type": "code",
   "execution_count": 3,
   "id": "9c15f964",
   "metadata": {},
   "outputs": [
    {
     "name": "stderr",
     "output_type": "stream",
     "text": [
      "LinearCap nDmaterial - Written: Quan Gu and Zhijian Qiu \n"
     ]
    }
   ],
   "source": [
    "ops.nDMaterial(\"TruncatedDP\", 1, 3, 2400000, 14957000000.0, 17677000000.0, 0.11, 26614000.0, -2068400.0)\n",
    "ops.element(\"bbarBrick\", 1, 1, 2, 3, 4, 5, 6, 7, 8, 1, 0, 0, -23520000.0)"
   ]
  },
  {
   "cell_type": "code",
   "execution_count": 4,
   "id": "ba0f1b55",
   "metadata": {},
   "outputs": [],
   "source": [
    "ops.element(\"VS3D4\", 5, 3, 4, 8, 7, 25000000000.0, 100000000000.0, 2600, 475, 1.33, 0.67)\n",
    "ops.element(\"VS3D4\", 6, 1, 2, 6, 5, 25000000000.0, 100000000000.0, 2600, 475, 1.33, 0.67)\n",
    "ops.element(\"VS3D4\", 7, 1, 2, 3, 4, 25000000000.0, 100000000000.0, 2600, 475, 1.33, 0.67)\n",
    "ops.element(\"VS3D4\", 8, 1, 5, 8, 4, 25000000000.0, 100000000000.0, 2600, 475, 1.33, 0.67)"
   ]
  },
  {
   "cell_type": "code",
   "execution_count": 5,
   "id": "d7f3c48d",
   "metadata": {},
   "outputs": [],
   "source": [
    "ops.model(\"basic\", \"-ndm\", 3, \"-ndf\", 1)\n",
    "ops.node(9, 1.0, 1.0, 0.0)\n",
    "ops.node(10, 1.0, 2.0, 0.0)\n",
    "ops.node(11, 0.0, 2.0, 0.0)\n",
    "ops.node(12, 0.0, 1.0, 0.0)\n",
    "ops.node(13, 1.0, 1.0, 1.0)\n",
    "ops.node(14, 1.0, 2.0, 1.0)\n",
    "ops.node(15, 0.0, 2.0, 1.0)\n",
    "ops.node(16, 0.0, 1.0, 1.0)\n",
    "ops.nDMaterial(\"AcousticMedium\", 2, 2070000000.0, 1000)\n",
    "ops.element(\"AC3D8\", 3, 9, 10, 11, 12, 13, 14, 15, 16, 2)\n",
    "ops.element(\"ASI3D8\", 2, 2, 3, 6, 7, 9, 12, 13, 16)\n",
    "ops.element(\"AV3D4\", 4, 10, 11, 15, 14, 2)\n",
    "ops.fix(13, 1)\n",
    "ops.fix(14, 1)\n",
    "ops.fix(15, 1)\n",
    "ops.fix(16, 1)"
   ]
  },
  {
   "cell_type": "code",
   "execution_count": 6,
   "id": "9f8c6b0e",
   "metadata": {},
   "outputs": [
    {
     "data": {
      "application/vnd.plotly.v1+json": {
       "config": {
        "plotlyServerURL": "https://plot.ly"
       },
       "data": [
        {
         "color": "#FF4500",
         "hoverinfo": "skip",
         "i": {
          "bdata": "AAAAAAAAAAAAAAAAAAAAAAAAAAAAAAAAAQAAAAEAAAACAAAAAwAAAAQAAAAEAAAA",
          "dtype": "i4"
         },
         "j": {
          "bdata": "AQAAAAIAAAADAAAABwAAAAEAAAAFAAAAAgAAAAYAAAAGAAAABgAAAAUAAAAGAAAA",
          "dtype": "i4"
         },
         "k": {
          "bdata": "AgAAAAMAAAAHAAAABAAAAAUAAAAEAAAABgAAAAUAAAADAAAABwAAAAYAAAAHAAAA",
          "dtype": "i4"
         },
         "name": "BbarBrick",
         "opacity": 1,
         "type": "mesh3d",
         "x": {
          "bdata": "AACAPwAAgD8AAAAAAAAAAAAAgD8AAIA/AAAAAAAAAAA=",
          "dtype": "f4"
         },
         "y": {
          "bdata": "AAAAAAAAgD8AAIA/AAAAAAAAAAAAAIA/AACAPwAAAAA=",
          "dtype": "f4"
         },
         "z": {
          "bdata": "AAAAAAAAAAAAAAAAAAAAAAAAgD8AAIA/AACAPwAAgD8=",
          "dtype": "f4"
         }
        },
        {
         "connectgaps": false,
         "hoverinfo": "skip",
         "line": {
          "color": "black",
          "width": 1
         },
         "mode": "lines",
         "name": "Edge",
         "type": "scatter3d",
         "x": {
          "bdata": "AAAAAAAA8D8AAAAAAADwPwAAAAAAAAAAAAAAAAAAAAAAAAAAAADwPwAAAAAAAPh/AAAAAAAA8D8AAAAAAADwPwAAAAAAAPA/AAAAAAAA8D8AAAAAAADwPwAAAAAAAPh/AAAAAAAA8D8AAAAAAAAAAAAAAAAAAAAAAAAAAAAA8D8AAAAAAADwPwAAAAAAAPh/AAAAAAAA8D8AAAAAAAAAAAAAAAAAAAAAAAAAAAAA8D8AAAAAAADwPwAAAAAAAPh/AAAAAAAAAAAAAAAAAAAAAAAAAAAAAAAAAAAAAAAAAAAAAAAAAAAAAAAAAAAAAPh/AAAAAAAA8D8AAAAAAADwPwAAAAAAAAAAAAAAAAAAAAAAAAAAAADwPwAAAAAAAPh/",
          "dtype": "f8"
         },
         "y": {
          "bdata": "AAAAAAAAAAAAAAAAAADwPwAAAAAAAPA/AAAAAAAAAAAAAAAAAAAAAAAAAAAAAPh/AAAAAAAAAAAAAAAAAADwPwAAAAAAAPA/AAAAAAAAAAAAAAAAAAAAAAAAAAAAAPh/AAAAAAAAAAAAAAAAAAAAAAAAAAAAAAAAAAAAAAAAAAAAAAAAAAAAAAAAAAAAAPh/AAAAAAAA8D8AAAAAAADwPwAAAAAAAPA/AAAAAAAA8D8AAAAAAADwPwAAAAAAAPh/AAAAAAAA8D8AAAAAAAAAAAAAAAAAAAAAAAAAAAAA8D8AAAAAAADwPwAAAAAAAPh/AAAAAAAAAAAAAAAAAADwPwAAAAAAAPA/AAAAAAAAAAAAAAAAAAAAAAAAAAAAAPh/",
          "dtype": "f8"
         },
         "z": {
          "bdata": "AAAAAAAAAAAAAAAAAAAAAAAAAAAAAAAAAAAAAAAAAAAAAAAAAAAAAAAAAAAAAPh/AAAAAAAAAAAAAAAAAAAAAAAAAAAAAPA/AAAAAAAA8D8AAAAAAAAAAAAAAAAAAPh/AAAAAAAAAAAAAAAAAAAAAAAAAAAAAPA/AAAAAAAA8D8AAAAAAAAAAAAAAAAAAPh/AAAAAAAAAAAAAAAAAAAAAAAAAAAAAPA/AAAAAAAA8D8AAAAAAAAAAAAAAAAAAPh/AAAAAAAAAAAAAAAAAAAAAAAAAAAAAPA/AAAAAAAA8D8AAAAAAAAAAAAAAAAAAPh/AAAAAAAA8D8AAAAAAADwPwAAAAAAAPA/AAAAAAAA8D8AAAAAAADwPwAAAAAAAPh/",
          "dtype": "f8"
         }
        },
        {
         "color": "#00FFFF",
         "hoverinfo": "skip",
         "i": {
          "bdata": "AAAAAAEAAAACAAAAAwAAAAQAAAAEAAAA",
          "dtype": "i4"
         },
         "j": {
          "bdata": "BAAAAAUAAAAGAAAABwAAAAYAAAAFAAAA",
          "dtype": "i4"
         },
         "k": {
          "bdata": "BwAAAAQAAAAFAAAABgAAAAcAAAAGAAAA",
          "dtype": "i4"
         },
         "name": "ASI3D8QuadWithSensitivity",
         "opacity": 1,
         "type": "mesh3d",
         "x": {
          "bdata": "AACAPwAAAAAAAIA/AAAAAAAAgD8AAAAAAACAPwAAAAA=",
          "dtype": "f4"
         },
         "y": {
          "bdata": "AACAPwAAgD8AAIA/AACAPwAAgD8AAIA/AACAPwAAgD8=",
          "dtype": "f4"
         },
         "z": {
          "bdata": "AAAAAAAAAAAAAIA/AACAPwAAAAAAAAAAAACAPwAAgD8=",
          "dtype": "f4"
         }
        },
        {
         "connectgaps": false,
         "hoverinfo": "skip",
         "line": {
          "color": "black",
          "width": 1
         },
         "mode": "lines",
         "name": "Edge",
         "type": "scatter3d",
         "x": {
          "bdata": "AAAAAAAA8D8AAAAAAADwPwAAAAAAAAAAAAAAAAAAAAAAAAAAAADwPwAAAAAAAPA/AAAAAAAAAAAAAAAAAAAAAAAAAAAAAPA/AAAAAAAA+H8=",
          "dtype": "f8"
         },
         "y": {
          "bdata": "AAAAAAAA8D8AAAAAAADwPwAAAAAAAPA/AAAAAAAA8D8AAAAAAADwPwAAAAAAAPA/AAAAAAAA8D8AAAAAAADwPwAAAAAAAPA/AAAAAAAA+H8=",
          "dtype": "f8"
         },
         "z": {
          "bdata": "AAAAAAAAAAAAAAAAAAAAAAAAAAAAAAAAAAAAAAAAAAAAAAAAAADwPwAAAAAAAPA/AAAAAAAA8D8AAAAAAADwPwAAAAAAAAAAAAAAAAAA+H8=",
          "dtype": "f8"
         }
        },
        {
         "color": "#FF4500",
         "hoverinfo": "skip",
         "i": {
          "bdata": "AAAAAAAAAAAAAAAAAAAAAAAAAAAAAAAAAQAAAAEAAAACAAAAAwAAAAQAAAAEAAAA",
          "dtype": "i4"
         },
         "j": {
          "bdata": "AQAAAAIAAAADAAAABwAAAAEAAAAFAAAAAgAAAAYAAAAGAAAABgAAAAUAAAAGAAAA",
          "dtype": "i4"
         },
         "k": {
          "bdata": "AgAAAAMAAAAHAAAABAAAAAUAAAAEAAAABgAAAAUAAAADAAAABwAAAAYAAAAHAAAA",
          "dtype": "i4"
         },
         "name": "AC3D8HexWithSensitivity",
         "opacity": 1,
         "type": "mesh3d",
         "x": {
          "bdata": "AACAPwAAgD8AAAAAAAAAAAAAgD8AAIA/AAAAAAAAAAA=",
          "dtype": "f4"
         },
         "y": {
          "bdata": "AACAPwAAAEAAAABAAACAPwAAgD8AAABAAAAAQAAAgD8=",
          "dtype": "f4"
         },
         "z": {
          "bdata": "AAAAAAAAAAAAAAAAAAAAAAAAgD8AAIA/AACAPwAAgD8=",
          "dtype": "f4"
         }
        },
        {
         "connectgaps": false,
         "hoverinfo": "skip",
         "line": {
          "color": "black",
          "width": 1
         },
         "mode": "lines",
         "name": "Edge",
         "type": "scatter3d",
         "x": {
          "bdata": "AAAAAAAA8D8AAAAAAADwPwAAAAAAAAAAAAAAAAAAAAAAAAAAAADwPwAAAAAAAPh/AAAAAAAA8D8AAAAAAADwPwAAAAAAAPA/AAAAAAAA8D8AAAAAAADwPwAAAAAAAPh/AAAAAAAA8D8AAAAAAAAAAAAAAAAAAAAAAAAAAAAA8D8AAAAAAADwPwAAAAAAAPh/AAAAAAAA8D8AAAAAAAAAAAAAAAAAAAAAAAAAAAAA8D8AAAAAAADwPwAAAAAAAPh/AAAAAAAAAAAAAAAAAAAAAAAAAAAAAAAAAAAAAAAAAAAAAAAAAAAAAAAAAAAAAPh/AAAAAAAA8D8AAAAAAADwPwAAAAAAAAAAAAAAAAAAAAAAAAAAAADwPwAAAAAAAPh/",
          "dtype": "f8"
         },
         "y": {
          "bdata": "AAAAAAAA8D8AAAAAAAAAQAAAAAAAAABAAAAAAAAA8D8AAAAAAADwPwAAAAAAAPh/AAAAAAAA8D8AAAAAAAAAQAAAAAAAAABAAAAAAAAA8D8AAAAAAADwPwAAAAAAAPh/AAAAAAAA8D8AAAAAAADwPwAAAAAAAPA/AAAAAAAA8D8AAAAAAADwPwAAAAAAAPh/AAAAAAAAAEAAAAAAAAAAQAAAAAAAAABAAAAAAAAAAEAAAAAAAAAAQAAAAAAAAPh/AAAAAAAAAEAAAAAAAADwPwAAAAAAAPA/AAAAAAAAAEAAAAAAAAAAQAAAAAAAAPh/AAAAAAAA8D8AAAAAAAAAQAAAAAAAAABAAAAAAAAA8D8AAAAAAADwPwAAAAAAAPh/",
          "dtype": "f8"
         },
         "z": {
          "bdata": "AAAAAAAAAAAAAAAAAAAAAAAAAAAAAAAAAAAAAAAAAAAAAAAAAAAAAAAAAAAAAPh/AAAAAAAAAAAAAAAAAAAAAAAAAAAAAPA/AAAAAAAA8D8AAAAAAAAAAAAAAAAAAPh/AAAAAAAAAAAAAAAAAAAAAAAAAAAAAPA/AAAAAAAA8D8AAAAAAAAAAAAAAAAAAPh/AAAAAAAAAAAAAAAAAAAAAAAAAAAAAPA/AAAAAAAA8D8AAAAAAAAAAAAAAAAAAPh/AAAAAAAAAAAAAAAAAAAAAAAAAAAAAPA/AAAAAAAA8D8AAAAAAAAAAAAAAAAAAPh/AAAAAAAA8D8AAAAAAADwPwAAAAAAAPA/AAAAAAAA8D8AAAAAAADwPwAAAAAAAPh/",
          "dtype": "f8"
         }
        },
        {
         "color": "#00FFFF",
         "hoverinfo": "skip",
         "i": {
          "bdata": "AAAAAAAAAAA=",
          "dtype": "i4"
         },
         "j": {
          "bdata": "AQAAAAIAAAA=",
          "dtype": "i4"
         },
         "k": {
          "bdata": "AgAAAAMAAAA=",
          "dtype": "i4"
         },
         "name": "AV3D4QuadWithSensitivity",
         "opacity": 1,
         "type": "mesh3d",
         "x": {
          "bdata": "AACAPwAAAAAAAAAAAACAPw==",
          "dtype": "f4"
         },
         "y": {
          "bdata": "AAAAQAAAAEAAAABAAAAAQA==",
          "dtype": "f4"
         },
         "z": {
          "bdata": "AAAAAAAAAAAAAIA/AACAPw==",
          "dtype": "f4"
         }
        },
        {
         "connectgaps": false,
         "hoverinfo": "skip",
         "line": {
          "color": "black",
          "width": 1
         },
         "mode": "lines",
         "name": "Edge",
         "type": "scatter3d",
         "x": {
          "bdata": "AAAAAAAA8D8AAAAAAAAAAAAAAAAAAAAAAAAAAAAA8D8AAAAAAADwPwAAAAAAAPh/",
          "dtype": "f8"
         },
         "y": {
          "bdata": "AAAAAAAAAEAAAAAAAAAAQAAAAAAAAABAAAAAAAAAAEAAAAAAAAAAQAAAAAAAAPh/",
          "dtype": "f8"
         },
         "z": {
          "bdata": "AAAAAAAAAAAAAAAAAAAAAAAAAAAAAPA/AAAAAAAA8D8AAAAAAAAAAAAAAAAAAPh/",
          "dtype": "f8"
         }
        },
        {
         "color": "#00FFFF",
         "hoverinfo": "skip",
         "i": {
          "bdata": "AAAAAAAAAAAEAAAABAAAAAgAAAAIAAAADAAAAAwAAAA=",
          "dtype": "i4"
         },
         "j": {
          "bdata": "AQAAAAIAAAAFAAAABgAAAAkAAAAKAAAADQAAAA4AAAA=",
          "dtype": "i4"
         },
         "k": {
          "bdata": "AgAAAAMAAAAGAAAABwAAAAoAAAALAAAADgAAAA8AAAA=",
          "dtype": "i4"
         },
         "name": "VS3D4QuadWithSensitivity",
         "opacity": 1,
         "type": "mesh3d",
         "x": {
          "bdata": "AAAAAAAAAAAAAAAAAAAAAAAAgD8AAIA/AACAPwAAgD8AAIA/AACAPwAAAAAAAAAAAACAPwAAgD8AAAAAAAAAAA==",
          "dtype": "f4"
         },
         "y": {
          "bdata": "AACAPwAAAAAAAAAAAACAPwAAAAAAAIA/AACAPwAAAAAAAAAAAACAPwAAgD8AAAAAAAAAAAAAAAAAAAAAAAAAAA==",
          "dtype": "f4"
         },
         "z": {
          "bdata": "AAAAAAAAAAAAAIA/AACAPwAAAAAAAAAAAACAPwAAgD8AAAAAAAAAAAAAAAAAAAAAAAAAAAAAgD8AAIA/AAAAAA==",
          "dtype": "f4"
         }
        },
        {
         "connectgaps": false,
         "hoverinfo": "skip",
         "line": {
          "color": "black",
          "width": 1
         },
         "mode": "lines",
         "name": "Edge",
         "type": "scatter3d",
         "x": {
          "bdata": "AAAAAAAAAAAAAAAAAAAAAAAAAAAAAAAAAAAAAAAAAAAAAAAAAAAAAAAAAAAAAPh/AAAAAAAA8D8AAAAAAADwPwAAAAAAAPA/AAAAAAAA8D8AAAAAAADwPwAAAAAAAPh/AAAAAAAA8D8AAAAAAADwPwAAAAAAAAAAAAAAAAAAAAAAAAAAAADwPwAAAAAAAPh/AAAAAAAA8D8AAAAAAADwPwAAAAAAAAAAAAAAAAAAAAAAAAAAAADwPwAAAAAAAPh/",
          "dtype": "f8"
         },
         "y": {
          "bdata": "AAAAAAAA8D8AAAAAAAAAAAAAAAAAAAAAAAAAAAAA8D8AAAAAAADwPwAAAAAAAPh/AAAAAAAAAAAAAAAAAADwPwAAAAAAAPA/AAAAAAAAAAAAAAAAAAAAAAAAAAAAAPh/AAAAAAAAAAAAAAAAAADwPwAAAAAAAPA/AAAAAAAAAAAAAAAAAAAAAAAAAAAAAPh/AAAAAAAAAAAAAAAAAAAAAAAAAAAAAAAAAAAAAAAAAAAAAAAAAAAAAAAAAAAAAPh/",
          "dtype": "f8"
         },
         "z": {
          "bdata": "AAAAAAAAAAAAAAAAAAAAAAAAAAAAAPA/AAAAAAAA8D8AAAAAAAAAAAAAAAAAAPh/AAAAAAAAAAAAAAAAAAAAAAAAAAAAAPA/AAAAAAAA8D8AAAAAAAAAAAAAAAAAAPh/AAAAAAAAAAAAAAAAAAAAAAAAAAAAAAAAAAAAAAAAAAAAAAAAAAAAAAAAAAAAAPh/AAAAAAAAAAAAAAAAAADwPwAAAAAAAPA/AAAAAAAAAAAAAAAAAAAAAAAAAAAAAPh/",
          "dtype": "f8"
         }
        },
        {
         "customdata": [
          "eleTag: 1<br>connectedNodes:<br> [1 2 3 4 5 6 7 8]"
         ],
         "hovertemplate": "%{customdata}",
         "marker": {
          "color": "#FF4500",
          "size": 3,
          "symbol": "diamond-open"
         },
         "mode": "markers",
         "name": "BbarBrick",
         "type": "scatter3d",
         "x": {
          "bdata": "AAAAPw==",
          "dtype": "f4"
         },
         "y": {
          "bdata": "AAAAPw==",
          "dtype": "f4"
         },
         "z": {
          "bdata": "AAAAPw==",
          "dtype": "f4"
         }
        },
        {
         "customdata": [
          "eleTag: 2<br>connectedNodes:<br> [ 2  3  6  7  9 12 13 16]"
         ],
         "hovertemplate": "%{customdata}",
         "marker": {
          "color": "#00FFFF",
          "size": 3,
          "symbol": "diamond-open"
         },
         "mode": "markers",
         "name": "ASI3D8QuadWithSensitivity",
         "type": "scatter3d",
         "x": {
          "bdata": "AAAAPw==",
          "dtype": "f4"
         },
         "y": {
          "bdata": "AACAPw==",
          "dtype": "f4"
         },
         "z": {
          "bdata": "AAAAPw==",
          "dtype": "f4"
         }
        },
        {
         "customdata": [
          "eleTag: 3<br>connectedNodes:<br> [ 9 10 11 12 13 14 15 16]"
         ],
         "hovertemplate": "%{customdata}",
         "marker": {
          "color": "#FF4500",
          "size": 3,
          "symbol": "diamond-open"
         },
         "mode": "markers",
         "name": "AC3D8HexWithSensitivity",
         "type": "scatter3d",
         "x": {
          "bdata": "AAAAPw==",
          "dtype": "f4"
         },
         "y": {
          "bdata": "AADAPw==",
          "dtype": "f4"
         },
         "z": {
          "bdata": "AAAAPw==",
          "dtype": "f4"
         }
        },
        {
         "customdata": [
          "eleTag: 4<br>connectedNodes:<br> [10 11 15 14]"
         ],
         "hovertemplate": "%{customdata}",
         "marker": {
          "color": "#00FFFF",
          "size": 3,
          "symbol": "diamond-open"
         },
         "mode": "markers",
         "name": "AV3D4QuadWithSensitivity",
         "type": "scatter3d",
         "x": {
          "bdata": "AAAAPw==",
          "dtype": "f4"
         },
         "y": {
          "bdata": "AAAAQA==",
          "dtype": "f4"
         },
         "z": {
          "bdata": "AAAAPw==",
          "dtype": "f4"
         }
        },
        {
         "customdata": [
          "eleTag: 5<br>connectedNodes:<br> [3 4 8 7]",
          "eleTag: 6<br>connectedNodes:<br> [1 2 6 5]",
          "eleTag: 7<br>connectedNodes:<br> [1 2 3 4]",
          "eleTag: 8<br>connectedNodes:<br> [1 5 8 4]"
         ],
         "hovertemplate": "%{customdata}",
         "marker": {
          "color": "#00FFFF",
          "size": 3,
          "symbol": "diamond-open"
         },
         "mode": "markers",
         "name": "VS3D4QuadWithSensitivity",
         "type": "scatter3d",
         "x": {
          "bdata": "AAAAAAAAgD8AAAA/AAAAPw==",
          "dtype": "f4"
         },
         "y": {
          "bdata": "AAAAPwAAAD8AAAA/AAAAAA==",
          "dtype": "f4"
         },
         "z": {
          "bdata": "AAAAPwAAAD8AAAAAAAAAPw==",
          "dtype": "f4"
         }
        },
        {
         "customdata": [
          "1",
          "2",
          "3",
          "4",
          "5",
          "6",
          "7",
          "8",
          "9",
          "10",
          "11",
          "12",
          "13",
          "14",
          "15",
          "16"
         ],
         "hovertemplate": "x: %{x}<br>y: %{y}<br>z: %{z} <br>nodeTag: %{customdata}",
         "marker": {
          "color": "#580f41",
          "size": 3,
          "symbol": "circle"
         },
         "mode": "markers",
         "name": "Nodes",
         "type": "scatter3d",
         "x": {
          "bdata": "AACAPwAAgD8AAAAAAAAAAAAAgD8AAIA/AAAAAAAAAAAAAIA/AACAPwAAAAAAAAAAAACAPwAAgD8AAAAAAAAAAA==",
          "dtype": "f4"
         },
         "y": {
          "bdata": "AAAAAAAAgD8AAIA/AAAAAAAAAAAAAIA/AACAPwAAAAAAAIA/AAAAQAAAAEAAAIA/AACAPwAAAEAAAABAAACAPw==",
          "dtype": "f4"
         },
         "z": {
          "bdata": "AAAAAAAAAAAAAAAAAAAAAAAAgD8AAIA/AACAPwAAgD8AAAAAAAAAAAAAAAAAAAAAAACAPwAAgD8AAIA/AACAPw==",
          "dtype": "f4"
         }
        },
        {
         "connectgaps": false,
         "hoverinfo": "skip",
         "line": {
          "color": "#15b01a",
          "width": 1
         },
         "mode": "lines",
         "name": "BC",
         "type": "scatter3d",
         "x": {
          "bdata": "AAAAAAAA8D8AAAAAAADwPwAAAAAAAPA/AAAAAAAA8D8AAAAAAADwPwAAAAAAAPh/AAAAAAAA8D8AAAAAAADwPwAAAAAAAPA/AAAAAAAA8D8AAAAAAADwPwAAAAAAAPh/AAAAAAAAAAAAAAAAAAAAAAAAAAAAAAAAAAAAAAAAAAAAAAAAAAAAAAAAAAAAAPh/AAAAAAAAAAAAAAAAAAAAAAAAAAAAAAAAAAAAAAAAAAAAAAAAAAAAAAAAAAAAAPh/",
          "dtype": "f8"
         },
         "y": {
          "bdata": "hetRuB6F7z89CtejcD3wPz0K16NwPfA/hetRuB6F7z+F61G4HoXvPwAAAAAAAPh/w/UoXI/C/z8fhetRuB4AQB+F61G4HgBAw/UoXI/C/z/D9Shcj8L/PwAAAAAAAPh/w/UoXI/C/z8fhetRuB4AQB+F61G4HgBAw/UoXI/C/z/D9Shcj8L/PwAAAAAAAPh/hetRuB6F7z89CtejcD3wPz0K16NwPfA/hetRuB6F7z+F61G4HoXvPwAAAAAAAPh/",
          "dtype": "f8"
         },
         "z": {
          "bdata": "hetRuB6F7z+F61G4HoXvPz0K16NwPfA/PQrXo3A98D+F61G4HoXvPwAAAAAAAPh/hetRuB6F7z+F61G4HoXvPz0K16NwPfA/PQrXo3A98D+F61G4HoXvPwAAAAAAAPh/hetRuB6F7z+F61G4HoXvPz0K16NwPfA/PQrXo3A98D+F61G4HoXvPwAAAAAAAPh/hetRuB6F7z+F61G4HoXvPz0K16NwPfA/PQrXo3A98D+F61G4HoXvPwAAAAAAAPh/",
          "dtype": "f8"
         }
        }
       ],
       "layout": {
        "autosize": true,
        "font": {
         "family": "Arial, sans-serif"
        },
        "scene": {
         "aspectmode": "data",
         "aspectratio": {
          "x": 1,
          "y": 1,
          "z": 1
         },
         "camera": {
          "eye": {
           "x": -4,
           "y": -4,
           "z": 10
          },
          "projection": {
           "type": "orthographic"
          }
         },
         "xaxis": {
          "showgrid": true,
          "visible": true,
          "zeroline": true
         },
         "yaxis": {
          "showgrid": true,
          "visible": true,
          "zeroline": true
         },
         "zaxis": {
          "showgrid": true,
          "visible": true,
          "zeroline": true
         }
        },
        "showlegend": false,
        "template": {
         "data": {
          "bar": [
           {
            "error_x": {
             "color": "#2a3f5f"
            },
            "error_y": {
             "color": "#2a3f5f"
            },
            "marker": {
             "line": {
              "color": "#E5ECF6",
              "width": 0.5
             },
             "pattern": {
              "fillmode": "overlay",
              "size": 10,
              "solidity": 0.2
             }
            },
            "type": "bar"
           }
          ],
          "barpolar": [
           {
            "marker": {
             "line": {
              "color": "#E5ECF6",
              "width": 0.5
             },
             "pattern": {
              "fillmode": "overlay",
              "size": 10,
              "solidity": 0.2
             }
            },
            "type": "barpolar"
           }
          ],
          "carpet": [
           {
            "aaxis": {
             "endlinecolor": "#2a3f5f",
             "gridcolor": "white",
             "linecolor": "white",
             "minorgridcolor": "white",
             "startlinecolor": "#2a3f5f"
            },
            "baxis": {
             "endlinecolor": "#2a3f5f",
             "gridcolor": "white",
             "linecolor": "white",
             "minorgridcolor": "white",
             "startlinecolor": "#2a3f5f"
            },
            "type": "carpet"
           }
          ],
          "choropleth": [
           {
            "colorbar": {
             "outlinewidth": 0,
             "ticks": ""
            },
            "type": "choropleth"
           }
          ],
          "contour": [
           {
            "colorbar": {
             "outlinewidth": 0,
             "ticks": ""
            },
            "colorscale": [
             [
              0,
              "#0d0887"
             ],
             [
              0.1111111111111111,
              "#46039f"
             ],
             [
              0.2222222222222222,
              "#7201a8"
             ],
             [
              0.3333333333333333,
              "#9c179e"
             ],
             [
              0.4444444444444444,
              "#bd3786"
             ],
             [
              0.5555555555555556,
              "#d8576b"
             ],
             [
              0.6666666666666666,
              "#ed7953"
             ],
             [
              0.7777777777777778,
              "#fb9f3a"
             ],
             [
              0.8888888888888888,
              "#fdca26"
             ],
             [
              1,
              "#f0f921"
             ]
            ],
            "type": "contour"
           }
          ],
          "contourcarpet": [
           {
            "colorbar": {
             "outlinewidth": 0,
             "ticks": ""
            },
            "type": "contourcarpet"
           }
          ],
          "heatmap": [
           {
            "colorbar": {
             "outlinewidth": 0,
             "ticks": ""
            },
            "colorscale": [
             [
              0,
              "#0d0887"
             ],
             [
              0.1111111111111111,
              "#46039f"
             ],
             [
              0.2222222222222222,
              "#7201a8"
             ],
             [
              0.3333333333333333,
              "#9c179e"
             ],
             [
              0.4444444444444444,
              "#bd3786"
             ],
             [
              0.5555555555555556,
              "#d8576b"
             ],
             [
              0.6666666666666666,
              "#ed7953"
             ],
             [
              0.7777777777777778,
              "#fb9f3a"
             ],
             [
              0.8888888888888888,
              "#fdca26"
             ],
             [
              1,
              "#f0f921"
             ]
            ],
            "type": "heatmap"
           }
          ],
          "histogram": [
           {
            "marker": {
             "pattern": {
              "fillmode": "overlay",
              "size": 10,
              "solidity": 0.2
             }
            },
            "type": "histogram"
           }
          ],
          "histogram2d": [
           {
            "colorbar": {
             "outlinewidth": 0,
             "ticks": ""
            },
            "colorscale": [
             [
              0,
              "#0d0887"
             ],
             [
              0.1111111111111111,
              "#46039f"
             ],
             [
              0.2222222222222222,
              "#7201a8"
             ],
             [
              0.3333333333333333,
              "#9c179e"
             ],
             [
              0.4444444444444444,
              "#bd3786"
             ],
             [
              0.5555555555555556,
              "#d8576b"
             ],
             [
              0.6666666666666666,
              "#ed7953"
             ],
             [
              0.7777777777777778,
              "#fb9f3a"
             ],
             [
              0.8888888888888888,
              "#fdca26"
             ],
             [
              1,
              "#f0f921"
             ]
            ],
            "type": "histogram2d"
           }
          ],
          "histogram2dcontour": [
           {
            "colorbar": {
             "outlinewidth": 0,
             "ticks": ""
            },
            "colorscale": [
             [
              0,
              "#0d0887"
             ],
             [
              0.1111111111111111,
              "#46039f"
             ],
             [
              0.2222222222222222,
              "#7201a8"
             ],
             [
              0.3333333333333333,
              "#9c179e"
             ],
             [
              0.4444444444444444,
              "#bd3786"
             ],
             [
              0.5555555555555556,
              "#d8576b"
             ],
             [
              0.6666666666666666,
              "#ed7953"
             ],
             [
              0.7777777777777778,
              "#fb9f3a"
             ],
             [
              0.8888888888888888,
              "#fdca26"
             ],
             [
              1,
              "#f0f921"
             ]
            ],
            "type": "histogram2dcontour"
           }
          ],
          "mesh3d": [
           {
            "colorbar": {
             "outlinewidth": 0,
             "ticks": ""
            },
            "type": "mesh3d"
           }
          ],
          "parcoords": [
           {
            "line": {
             "colorbar": {
              "outlinewidth": 0,
              "ticks": ""
             }
            },
            "type": "parcoords"
           }
          ],
          "pie": [
           {
            "automargin": true,
            "type": "pie"
           }
          ],
          "scatter": [
           {
            "fillpattern": {
             "fillmode": "overlay",
             "size": 10,
             "solidity": 0.2
            },
            "type": "scatter"
           }
          ],
          "scatter3d": [
           {
            "line": {
             "colorbar": {
              "outlinewidth": 0,
              "ticks": ""
             }
            },
            "marker": {
             "colorbar": {
              "outlinewidth": 0,
              "ticks": ""
             }
            },
            "type": "scatter3d"
           }
          ],
          "scattercarpet": [
           {
            "marker": {
             "colorbar": {
              "outlinewidth": 0,
              "ticks": ""
             }
            },
            "type": "scattercarpet"
           }
          ],
          "scattergeo": [
           {
            "marker": {
             "colorbar": {
              "outlinewidth": 0,
              "ticks": ""
             }
            },
            "type": "scattergeo"
           }
          ],
          "scattergl": [
           {
            "marker": {
             "colorbar": {
              "outlinewidth": 0,
              "ticks": ""
             }
            },
            "type": "scattergl"
           }
          ],
          "scattermap": [
           {
            "marker": {
             "colorbar": {
              "outlinewidth": 0,
              "ticks": ""
             }
            },
            "type": "scattermap"
           }
          ],
          "scattermapbox": [
           {
            "marker": {
             "colorbar": {
              "outlinewidth": 0,
              "ticks": ""
             }
            },
            "type": "scattermapbox"
           }
          ],
          "scatterpolar": [
           {
            "marker": {
             "colorbar": {
              "outlinewidth": 0,
              "ticks": ""
             }
            },
            "type": "scatterpolar"
           }
          ],
          "scatterpolargl": [
           {
            "marker": {
             "colorbar": {
              "outlinewidth": 0,
              "ticks": ""
             }
            },
            "type": "scatterpolargl"
           }
          ],
          "scatterternary": [
           {
            "marker": {
             "colorbar": {
              "outlinewidth": 0,
              "ticks": ""
             }
            },
            "type": "scatterternary"
           }
          ],
          "surface": [
           {
            "colorbar": {
             "outlinewidth": 0,
             "ticks": ""
            },
            "colorscale": [
             [
              0,
              "#0d0887"
             ],
             [
              0.1111111111111111,
              "#46039f"
             ],
             [
              0.2222222222222222,
              "#7201a8"
             ],
             [
              0.3333333333333333,
              "#9c179e"
             ],
             [
              0.4444444444444444,
              "#bd3786"
             ],
             [
              0.5555555555555556,
              "#d8576b"
             ],
             [
              0.6666666666666666,
              "#ed7953"
             ],
             [
              0.7777777777777778,
              "#fb9f3a"
             ],
             [
              0.8888888888888888,
              "#fdca26"
             ],
             [
              1,
              "#f0f921"
             ]
            ],
            "type": "surface"
           }
          ],
          "table": [
           {
            "cells": {
             "fill": {
              "color": "#EBF0F8"
             },
             "line": {
              "color": "white"
             }
            },
            "header": {
             "fill": {
              "color": "#C8D4E3"
             },
             "line": {
              "color": "white"
             }
            },
            "type": "table"
           }
          ]
         },
         "layout": {
          "annotationdefaults": {
           "arrowcolor": "#2a3f5f",
           "arrowhead": 0,
           "arrowwidth": 1
          },
          "autotypenumbers": "strict",
          "coloraxis": {
           "colorbar": {
            "outlinewidth": 0,
            "ticks": ""
           }
          },
          "colorscale": {
           "diverging": [
            [
             0,
             "#8e0152"
            ],
            [
             0.1,
             "#c51b7d"
            ],
            [
             0.2,
             "#de77ae"
            ],
            [
             0.3,
             "#f1b6da"
            ],
            [
             0.4,
             "#fde0ef"
            ],
            [
             0.5,
             "#f7f7f7"
            ],
            [
             0.6,
             "#e6f5d0"
            ],
            [
             0.7,
             "#b8e186"
            ],
            [
             0.8,
             "#7fbc41"
            ],
            [
             0.9,
             "#4d9221"
            ],
            [
             1,
             "#276419"
            ]
           ],
           "sequential": [
            [
             0,
             "#0d0887"
            ],
            [
             0.1111111111111111,
             "#46039f"
            ],
            [
             0.2222222222222222,
             "#7201a8"
            ],
            [
             0.3333333333333333,
             "#9c179e"
            ],
            [
             0.4444444444444444,
             "#bd3786"
            ],
            [
             0.5555555555555556,
             "#d8576b"
            ],
            [
             0.6666666666666666,
             "#ed7953"
            ],
            [
             0.7777777777777778,
             "#fb9f3a"
            ],
            [
             0.8888888888888888,
             "#fdca26"
            ],
            [
             1,
             "#f0f921"
            ]
           ],
           "sequentialminus": [
            [
             0,
             "#0d0887"
            ],
            [
             0.1111111111111111,
             "#46039f"
            ],
            [
             0.2222222222222222,
             "#7201a8"
            ],
            [
             0.3333333333333333,
             "#9c179e"
            ],
            [
             0.4444444444444444,
             "#bd3786"
            ],
            [
             0.5555555555555556,
             "#d8576b"
            ],
            [
             0.6666666666666666,
             "#ed7953"
            ],
            [
             0.7777777777777778,
             "#fb9f3a"
            ],
            [
             0.8888888888888888,
             "#fdca26"
            ],
            [
             1,
             "#f0f921"
            ]
           ]
          },
          "colorway": [
           "#636efa",
           "#EF553B",
           "#00cc96",
           "#ab63fa",
           "#FFA15A",
           "#19d3f3",
           "#FF6692",
           "#B6E880",
           "#FF97FF",
           "#FECB52"
          ],
          "font": {
           "color": "#2a3f5f"
          },
          "geo": {
           "bgcolor": "white",
           "lakecolor": "white",
           "landcolor": "#E5ECF6",
           "showlakes": true,
           "showland": true,
           "subunitcolor": "white"
          },
          "hoverlabel": {
           "align": "left"
          },
          "hovermode": "closest",
          "mapbox": {
           "style": "light"
          },
          "paper_bgcolor": "white",
          "plot_bgcolor": "#E5ECF6",
          "polar": {
           "angularaxis": {
            "gridcolor": "white",
            "linecolor": "white",
            "ticks": ""
           },
           "bgcolor": "#E5ECF6",
           "radialaxis": {
            "gridcolor": "white",
            "linecolor": "white",
            "ticks": ""
           }
          },
          "scene": {
           "xaxis": {
            "backgroundcolor": "#E5ECF6",
            "gridcolor": "white",
            "gridwidth": 2,
            "linecolor": "white",
            "showbackground": true,
            "ticks": "",
            "zerolinecolor": "white"
           },
           "yaxis": {
            "backgroundcolor": "#E5ECF6",
            "gridcolor": "white",
            "gridwidth": 2,
            "linecolor": "white",
            "showbackground": true,
            "ticks": "",
            "zerolinecolor": "white"
           },
           "zaxis": {
            "backgroundcolor": "#E5ECF6",
            "gridcolor": "white",
            "gridwidth": 2,
            "linecolor": "white",
            "showbackground": true,
            "ticks": "",
            "zerolinecolor": "white"
           }
          },
          "shapedefaults": {
           "line": {
            "color": "#2a3f5f"
           }
          },
          "ternary": {
           "aaxis": {
            "gridcolor": "white",
            "linecolor": "white",
            "ticks": ""
           },
           "baxis": {
            "gridcolor": "white",
            "linecolor": "white",
            "ticks": ""
           },
           "bgcolor": "#E5ECF6",
           "caxis": {
            "gridcolor": "white",
            "linecolor": "white",
            "ticks": ""
           }
          },
          "title": {
           "x": 0.05
          },
          "xaxis": {
           "automargin": true,
           "gridcolor": "white",
           "linecolor": "white",
           "ticks": "",
           "title": {
            "standoff": 15
           },
           "zerolinecolor": "white",
           "zerolinewidth": 2
          },
          "yaxis": {
           "automargin": true,
           "gridcolor": "white",
           "linecolor": "white",
           "ticks": "",
           "title": {
            "standoff": 15
           },
           "zerolinecolor": "white",
           "zerolinewidth": 2
          }
         }
        },
        "title": {
         "font": {
          "family": "courier",
          "size": 18
         },
         "text": "<b>OPSTOOL</b>:: Num. Node: <b>16</b> Num. Ele: <b>8</b>"
        }
       }
      }
     },
     "metadata": {},
     "output_type": "display_data"
    }
   ],
   "source": [
    "fig = opst.vis.plotly.plot_model()\n",
    "fig.write_html(\"model.html\", full_html=False, include_plotlyjs=\"cdn\")\n",
    "fig.show()"
   ]
  },
  {
   "cell_type": "raw",
   "id": "9e0117e1",
   "metadata": {
    "raw_mimetype": "text/restructuredtext",
    "vscode": {
     "languageId": "raw"
    }
   },
   "source": [
    ".. raw:: html\n",
    "   :file: model.html"
   ]
  },
  {
   "cell_type": "code",
   "execution_count": 7,
   "id": "a9c23f66",
   "metadata": {},
   "outputs": [],
   "source": [
    "ops.timeSeries(\"Path\", 1, \"-dt\", 0.01, \"-filePath\", \"elcentro.txt\", \"-factor\", 3)\n",
    "ops.pattern(\"Plain\", 111, 1)\n",
    "ops.load(1, 1000000.0, 0, 1000000.0)\n",
    "ops.load(2, 1000000.0, 0, 1000000.0)\n",
    "ops.load(3, 1000000.0, 0, 1000000.0)\n",
    "ops.load(4, 1000000.0, 0, 1000000.0)"
   ]
  },
  {
   "cell_type": "code",
   "execution_count": 8,
   "id": "b5750a72",
   "metadata": {},
   "outputs": [],
   "source": [
    "ops.wipeAnalysis()\n",
    "ops.constraints(\"Transformation\")\n",
    "ops.system(\"BandGeneral\")\n",
    "ops.numberer(\"Plain\")\n",
    "ops.test(\"NormDispIncr\", 1e-05, 20, 0)\n",
    "ops.algorithm(\"Newton\")\n",
    "ops.integrator(\"Newmark\", 0.5, 0.25)\n",
    "ops.analysis(\"Transient\")"
   ]
  },
  {
   "cell_type": "code",
   "execution_count": 9,
   "id": "e0f443ff",
   "metadata": {},
   "outputs": [
    {
     "data": {
      "text/html": [
       "<pre style=\"white-space:pre;overflow-x:auto;line-height:normal;font-family:Menlo,'DejaVu Sans Mono',consolas,'Courier New',monospace\"><span style=\"color: #cf6275; text-decoration-color: #cf6275; font-weight: bold\">OPSTOOL</span> <span style=\"color: #12e193; text-decoration-color: #12e193; font-weight: bold\">::</span>  All responses data with _odb_tag = FSI saved in <span style=\"color: #ff4c4c; text-decoration-color: #ff4c4c; font-weight: bold\">.opstool.output/RespStepData-FSI.nc</span>!\n",
       "</pre>\n"
      ],
      "text/plain": [
       "\u001b[1;38;2;207;98;117mOPSTOOL\u001b[0m \u001b[1;38;2;18;225;147m::\u001b[0m  All responses data with _odb_tag = FSI saved in \u001b[1;38;2;255;76;76m.opstool.output/RespStepData-FSI.nc\u001b[0m!\n"
      ]
     },
     "metadata": {},
     "output_type": "display_data"
    },
    {
     "name": "stdout",
     "output_type": "stream",
     "text": [
      "Dynamic analysi done...\n"
     ]
    }
   ],
   "source": [
    "ODB = opst.post.CreateODB(odb_tag=\"FSI\", project_gauss_to_nodes=\"copy\")\n",
    "\n",
    "N = 1600\n",
    "for i in range(N):\n",
    "    ops.analyze(1, 0.01)\n",
    "    ODB.fetch_response_step()\n",
    "ODB.save_response()\n",
    "ops.wipeAnalysis()\n",
    "print(\"Dynamic analysi done...\")"
   ]
  },
  {
   "cell_type": "code",
   "execution_count": 10,
   "id": "b236f387",
   "metadata": {},
   "outputs": [
    {
     "data": {
      "text/html": [
       "<pre style=\"white-space:pre;overflow-x:auto;line-height:normal;font-family:Menlo,'DejaVu Sans Mono',consolas,'Courier New',monospace\"><span style=\"color: #cf6275; text-decoration-color: #cf6275; font-weight: bold\">OPSTOOL</span> <span style=\"color: #12e193; text-decoration-color: #12e193; font-weight: bold\">::</span>  Loading all response data from <span style=\"color: #34bf49; text-decoration-color: #34bf49; font-weight: bold\">.opstool.output/RespStepData-FSI.nc</span> <span style=\"color: #808000; text-decoration-color: #808000\">...</span>\n",
       "</pre>\n"
      ],
      "text/plain": [
       "\u001b[1;38;2;207;98;117mOPSTOOL\u001b[0m \u001b[1;38;2;18;225;147m::\u001b[0m  Loading all response data from \u001b[1;38;2;52;191;73m.opstool.output/RespStepData-FSI.nc\u001b[0m \u001b[33m...\u001b[0m\n"
      ]
     },
     "metadata": {},
     "output_type": "display_data"
    }
   ],
   "source": [
    "node_resp = opst.post.get_nodal_responses(odb_tag=\"FSI\")"
   ]
  },
  {
   "cell_type": "code",
   "execution_count": 11,
   "id": "b86bf653",
   "metadata": {},
   "outputs": [],
   "source": [
    "node5_resp = node_resp.sel(nodeTags=5)\n",
    "node6_resp = node_resp.sel(nodeTags=6)"
   ]
  },
  {
   "cell_type": "code",
   "execution_count": 12,
   "id": "24604904",
   "metadata": {},
   "outputs": [
    {
     "data": {
      "image/png": "[encoded data removed]",
      "text/plain": [
       "<Figure size 640x480 with 1 Axes>"
      ]
     },
     "metadata": {},
     "output_type": "display_data"
    }
   ],
   "source": [
    "plt.plot(node5_resp.time, node5_resp[\"disp\"].sel(DOFs=\"UX\"), \"b-\", label=\"Node 5 - Disp X\")\n",
    "plt.plot(node6_resp.time, node6_resp[\"disp\"].sel(DOFs=\"UX\"), \"r--\", label=\"Node 6 - Disp X\")\n",
    "plt.legend()\n",
    "plt.show()"
   ]
  },
  {
   "cell_type": "code",
   "execution_count": 13,
   "id": "42feaf59",
   "metadata": {},
   "outputs": [
    {
     "data": {
      "image/png": "[encoded data removed]",
      "text/plain": [
       "<Figure size 640x480 with 1 Axes>"
      ]
     },
     "metadata": {},
     "output_type": "display_data"
    }
   ],
   "source": [
    "plt.plot(node5_resp.time, node5_resp[\"accel\"].sel(DOFs=\"UX\"), \"b-\", label=\"Node 5 - Accel X\")\n",
    "plt.plot(node6_resp.time, node6_resp[\"accel\"].sel(DOFs=\"UX\"), \"r--\", label=\"Node 6 - Accel X\")\n",
    "plt.legend()\n",
    "plt.show()"
   ]
  },
  {
   "cell_type": "code",
   "execution_count": 14,
   "id": "7988cd27",
   "metadata": {},
   "outputs": [
    {
     "data": {
      "text/html": [
       "<pre style=\"white-space:pre;overflow-x:auto;line-height:normal;font-family:Menlo,'DejaVu Sans Mono',consolas,'Courier New',monospace\"><span style=\"color: #cf6275; text-decoration-color: #cf6275; font-weight: bold\">OPSTOOL</span> <span style=\"color: #12e193; text-decoration-color: #12e193; font-weight: bold\">::</span>  Loading Brick response data from <span style=\"color: #8e43e7; text-decoration-color: #8e43e7; font-weight: bold\">.opstool.output/RespStepData-FSI.nc</span> <span style=\"color: #808000; text-decoration-color: #808000\">...</span>\n",
       "</pre>\n"
      ],
      "text/plain": [
       "\u001b[1;38;2;207;98;117mOPSTOOL\u001b[0m \u001b[1;38;2;18;225;147m::\u001b[0m  Loading Brick response data from \u001b[1;38;2;142;67;231m.opstool.output/RespStepData-FSI.nc\u001b[0m \u001b[33m...\u001b[0m\n"
      ]
     },
     "metadata": {},
     "output_type": "display_data"
    },
    {
     "data": {
      "text/html": [
       "<div><svg style=\"position: absolute; width: 0; height: 0; overflow: hidden\">\n",
       "<defs>\n",
       "<symbol id=\"icon-database\" viewBox=\"0 0 32 32\">\n",
       "<path d=\"M16 0c-8.837 0-16 2.239-16 5v4c0 2.761 7.163 5 16 5s16-2.239 16-5v-4c0-2.761-7.163-5-16-5z\"></path>\n",
       "<path d=\"M16 17c-8.837 0-16-2.239-16-5v6c0 2.761 7.163 5 16 5s16-2.239 16-5v-6c0 2.761-7.163 5-16 5z\"></path>\n",
       "<path d=\"M16 26c-8.837 0-16-2.239-16-5v6c0 2.761 7.163 5 16 5s16-2.239 16-5v-6c0 2.761-7.163 5-16 5z\"></path>\n",
       "</symbol>\n",
       "<symbol id=\"icon-file-text2\" viewBox=\"0 0 32 32\">\n",
       "<path d=\"M28.681 7.159c-0.694-0.947-1.662-2.053-2.724-3.116s-2.169-2.030-3.116-2.724c-1.612-1.182-2.393-1.319-2.841-1.319h-15.5c-1.378 0-2.5 1.121-2.5 2.5v27c0 1.378 1.122 2.5 2.5 2.5h23c1.378 0 2.5-1.122 2.5-2.5v-19.5c0-0.448-0.137-1.23-1.319-2.841zM24.543 5.457c0.959 0.959 1.712 1.825 2.268 2.543h-4.811v-4.811c0.718 0.556 1.584 1.309 2.543 2.268zM28 29.5c0 0.271-0.229 0.5-0.5 0.5h-23c-0.271 0-0.5-0.229-0.5-0.5v-27c0-0.271 0.229-0.5 0.5-0.5 0 0 15.499-0 15.5 0v7c0 0.552 0.448 1 1 1h7v19.5z\"></path>\n",
       "<path d=\"M23 26h-14c-0.552 0-1-0.448-1-1s0.448-1 1-1h14c0.552 0 1 0.448 1 1s-0.448 1-1 1z\"></path>\n",
       "<path d=\"M23 22h-14c-0.552 0-1-0.448-1-1s0.448-1 1-1h14c0.552 0 1 0.448 1 1s-0.448 1-1 1z\"></path>\n",
       "<path d=\"M23 18h-14c-0.552 0-1-0.448-1-1s0.448-1 1-1h14c0.552 0 1 0.448 1 1s-0.448 1-1 1z\"></path>\n",
       "</symbol>\n",
       "</defs>\n",
       "</svg>\n",
       "<style>/* CSS stylesheet for displaying xarray objects in jupyterlab.\n",
       " *\n",
       " */\n",
       "\n",
       ":root {\n",
       "  --xr-font-color0: var(--jp-content-font-color0, rgba(0, 0, 0, 1));\n",
       "  --xr-font-color2: var(--jp-content-font-color2, rgba(0, 0, 0, 0.54));\n",
       "  --xr-font-color3: var(--jp-content-font-color3, rgba(0, 0, 0, 0.38));\n",
       "  --xr-border-color: var(--jp-border-color2, #e0e0e0);\n",
       "  --xr-disabled-color: var(--jp-layout-color3, #bdbdbd);\n",
       "  --xr-background-color: var(--jp-layout-color0, white);\n",
       "  --xr-background-color-row-even: var(--jp-layout-color1, white);\n",
       "  --xr-background-color-row-odd: var(--jp-layout-color2, #eeeeee);\n",
       "}\n",
       "\n",
       "html[theme=dark],\n",
       "html[data-theme=dark],\n",
       "body[data-theme=dark],\n",
       "body.vscode-dark {\n",
       "  --xr-font-color0: rgba(255, 255, 255, 1);\n",
       "  --xr-font-color2: rgba(255, 255, 255, 0.54);\n",
       "  --xr-font-color3: rgba(255, 255, 255, 0.38);\n",
       "  --xr-border-color: #1F1F1F;\n",
       "  --xr-disabled-color: #515151;\n",
       "  --xr-background-color: #111111;\n",
       "  --xr-background-color-row-even: #111111;\n",
       "  --xr-background-color-row-odd: #313131;\n",
       "}\n",
       "\n",
       ".xr-wrap {\n",
       "  display: block !important;\n",
       "  min-width: 300px;\n",
       "  max-width: 700px;\n",
       "}\n",
       "\n",
       ".xr-text-repr-fallback {\n",
       "  /* fallback to plain text repr when CSS is not injected (untrusted notebook) */\n",
       "  display: none;\n",
       "}\n",
       "\n",
       ".xr-header {\n",
       "  padding-top: 6px;\n",
       "  padding-bottom: 6px;\n",
       "  margin-bottom: 4px;\n",
       "  border-bottom: solid 1px var(--xr-border-color);\n",
       "}\n",
       "\n",
       ".xr-header > div,\n",
       ".xr-header > ul {\n",
       "  display: inline;\n",
       "  margin-top: 0;\n",
       "  margin-bottom: 0;\n",
       "}\n",
       "\n",
       ".xr-obj-type,\n",
       ".xr-array-name {\n",
       "  margin-left: 2px;\n",
       "  margin-right: 10px;\n",
       "}\n",
       "\n",
       ".xr-obj-type {\n",
       "  color: var(--xr-font-color2);\n",
       "}\n",
       "\n",
       ".xr-sections {\n",
       "  padding-left: 0 !important;\n",
       "  display: grid;\n",
       "  grid-template-columns: 150px auto auto 1fr 0 20px 0 20px;\n",
       "}\n",
       "\n",
       ".xr-section-item {\n",
       "  display: contents;\n",
       "}\n",
       "\n",
       ".xr-section-item input {\n",
       "  display: inline-block;\n",
       "  opacity: 0;\n",
       "}\n",
       "\n",
       ".xr-section-item input + label {\n",
       "  color: var(--xr-disabled-color);\n",
       "}\n",
       "\n",
       ".xr-section-item input:enabled + label {\n",
       "  cursor: pointer;\n",
       "  color: var(--xr-font-color2);\n",
       "}\n",
       "\n",
       ".xr-section-item input:focus + label {\n",
       "  border: 2px solid var(--xr-font-color0);\n",
       "}\n",
       "\n",
       ".xr-section-item input:enabled + label:hover {\n",
       "  color: var(--xr-font-color0);\n",
       "}\n",
       "\n",
       ".xr-section-summary {\n",
       "  grid-column: 1;\n",
       "  color: var(--xr-font-color2);\n",
       "  font-weight: 500;\n",
       "}\n",
       "\n",
       ".xr-section-summary > span {\n",
       "  display: inline-block;\n",
       "  padding-left: 0.5em;\n",
       "}\n",
       "\n",
       ".xr-section-summary-in:disabled + label {\n",
       "  color: var(--xr-font-color2);\n",
       "}\n",
       "\n",
       ".xr-section-summary-in + label:before {\n",
       "  display: inline-block;\n",
       "  content: '►';\n",
       "  font-size: 11px;\n",
       "  width: 15px;\n",
       "  text-align: center;\n",
       "}\n",
       "\n",
       ".xr-section-summary-in:disabled + label:before {\n",
       "  color: var(--xr-disabled-color);\n",
       "}\n",
       "\n",
       ".xr-section-summary-in:checked + label:before {\n",
       "  content: '▼';\n",
       "}\n",
       "\n",
       ".xr-section-summary-in:checked + label > span {\n",
       "  display: none;\n",
       "}\n",
       "\n",
       ".xr-section-summary,\n",
       ".xr-section-inline-details {\n",
       "  padding-top: 4px;\n",
       "  padding-bottom: 4px;\n",
       "}\n",
       "\n",
       ".xr-section-inline-details {\n",
       "  grid-column: 2 / -1;\n",
       "}\n",
       "\n",
       ".xr-section-details {\n",
       "  display: none;\n",
       "  grid-column: 1 / -1;\n",
       "  margin-bottom: 5px;\n",
       "}\n",
       "\n",
       ".xr-section-summary-in:checked ~ .xr-section-details {\n",
       "  display: contents;\n",
       "}\n",
       "\n",
       ".xr-array-wrap {\n",
       "  grid-column: 1 / -1;\n",
       "  display: grid;\n",
       "  grid-template-columns: 20px auto;\n",
       "}\n",
       "\n",
       ".xr-array-wrap > label {\n",
       "  grid-column: 1;\n",
       "  vertical-align: top;\n",
       "}\n",
       "\n",
       ".xr-preview {\n",
       "  color: var(--xr-font-color3);\n",
       "}\n",
       "\n",
       ".xr-array-preview,\n",
       ".xr-array-data {\n",
       "  padding: 0 5px !important;\n",
       "  grid-column: 2;\n",
       "}\n",
       "\n",
       ".xr-array-data,\n",
       ".xr-array-in:checked ~ .xr-array-preview {\n",
       "  display: none;\n",
       "}\n",
       "\n",
       ".xr-array-in:checked ~ .xr-array-data,\n",
       ".xr-array-preview {\n",
       "  display: inline-block;\n",
       "}\n",
       "\n",
       ".xr-dim-list {\n",
       "  display: inline-block !important;\n",
       "  list-style: none;\n",
       "  padding: 0 !important;\n",
       "  margin: 0;\n",
       "}\n",
       "\n",
       ".xr-dim-list li {\n",
       "  display: inline-block;\n",
       "  padding: 0;\n",
       "  margin: 0;\n",
       "}\n",
       "\n",
       ".xr-dim-list:before {\n",
       "  content: '(';\n",
       "}\n",
       "\n",
       ".xr-dim-list:after {\n",
       "  content: ')';\n",
       "}\n",
       "\n",
       ".xr-dim-list li:not(:last-child):after {\n",
       "  content: ',';\n",
       "  padding-right: 5px;\n",
       "}\n",
       "\n",
       ".xr-has-index {\n",
       "  font-weight: bold;\n",
       "}\n",
       "\n",
       ".xr-var-list,\n",
       ".xr-var-item {\n",
       "  display: contents;\n",
       "}\n",
       "\n",
       ".xr-var-item > div,\n",
       ".xr-var-item label,\n",
       ".xr-var-item > .xr-var-name span {\n",
       "  background-color: var(--xr-background-color-row-even);\n",
       "  margin-bottom: 0;\n",
       "}\n",
       "\n",
       ".xr-var-item > .xr-var-name:hover span {\n",
       "  padding-right: 5px;\n",
       "}\n",
       "\n",
       ".xr-var-list > li:nth-child(odd) > div,\n",
       ".xr-var-list > li:nth-child(odd) > label,\n",
       ".xr-var-list > li:nth-child(odd) > .xr-var-name span {\n",
       "  background-color: var(--xr-background-color-row-odd);\n",
       "}\n",
       "\n",
       ".xr-var-name {\n",
       "  grid-column: 1;\n",
       "}\n",
       "\n",
       ".xr-var-dims {\n",
       "  grid-column: 2;\n",
       "}\n",
       "\n",
       ".xr-var-dtype {\n",
       "  grid-column: 3;\n",
       "  text-align: right;\n",
       "  color: var(--xr-font-color2);\n",
       "}\n",
       "\n",
       ".xr-var-preview {\n",
       "  grid-column: 4;\n",
       "}\n",
       "\n",
       ".xr-index-preview {\n",
       "  grid-column: 2 / 5;\n",
       "  color: var(--xr-font-color2);\n",
       "}\n",
       "\n",
       ".xr-var-name,\n",
       ".xr-var-dims,\n",
       ".xr-var-dtype,\n",
       ".xr-preview,\n",
       ".xr-attrs dt {\n",
       "  white-space: nowrap;\n",
       "  overflow: hidden;\n",
       "  text-overflow: ellipsis;\n",
       "  padding-right: 10px;\n",
       "}\n",
       "\n",
       ".xr-var-name:hover,\n",
       ".xr-var-dims:hover,\n",
       ".xr-var-dtype:hover,\n",
       ".xr-attrs dt:hover {\n",
       "  overflow: visible;\n",
       "  width: auto;\n",
       "  z-index: 1;\n",
       "}\n",
       "\n",
       ".xr-var-attrs,\n",
       ".xr-var-data,\n",
       ".xr-index-data {\n",
       "  display: none;\n",
       "  background-color: var(--xr-background-color) !important;\n",
       "  padding-bottom: 5px !important;\n",
       "}\n",
       "\n",
       ".xr-var-attrs-in:checked ~ .xr-var-attrs,\n",
       ".xr-var-data-in:checked ~ .xr-var-data,\n",
       ".xr-index-data-in:checked ~ .xr-index-data {\n",
       "  display: block;\n",
       "}\n",
       "\n",
       ".xr-var-data > table {\n",
       "  float: right;\n",
       "}\n",
       "\n",
       ".xr-var-name span,\n",
       ".xr-var-data,\n",
       ".xr-index-name div,\n",
       ".xr-index-data,\n",
       ".xr-attrs {\n",
       "  padding-left: 25px !important;\n",
       "}\n",
       "\n",
       ".xr-attrs,\n",
       ".xr-var-attrs,\n",
       ".xr-var-data,\n",
       ".xr-index-data {\n",
       "  grid-column: 1 / -1;\n",
       "}\n",
       "\n",
       "dl.xr-attrs {\n",
       "  padding: 0;\n",
       "  margin: 0;\n",
       "  display: grid;\n",
       "  grid-template-columns: 125px auto;\n",
       "}\n",
       "\n",
       ".xr-attrs dt,\n",
       ".xr-attrs dd {\n",
       "  padding: 0;\n",
       "  margin: 0;\n",
       "  float: left;\n",
       "  padding-right: 10px;\n",
       "  width: auto;\n",
       "}\n",
       "\n",
       ".xr-attrs dt {\n",
       "  font-weight: normal;\n",
       "  grid-column: 1;\n",
       "}\n",
       "\n",
       ".xr-attrs dt:hover span {\n",
       "  display: inline-block;\n",
       "  background: var(--xr-background-color);\n",
       "  padding-right: 10px;\n",
       "}\n",
       "\n",
       ".xr-attrs dd {\n",
       "  grid-column: 2;\n",
       "  white-space: pre-wrap;\n",
       "  word-break: break-all;\n",
       "}\n",
       "\n",
       ".xr-icon-database,\n",
       ".xr-icon-file-text2,\n",
       ".xr-no-icon {\n",
       "  display: inline-block;\n",
       "  vertical-align: middle;\n",
       "  width: 1em;\n",
       "  height: 1.5em !important;\n",
       "  stroke-width: 0;\n",
       "  stroke: currentColor;\n",
       "  fill: currentColor;\n",
       "}\n",
       "</style><pre class='xr-text-repr-fallback'>&lt;xarray.Dataset&gt; Size: 5MB\n",
       "Dimensions:                (time: 1601, eleTags: 2, GaussPoints: 8,\n",
       "                            stressDOFs: 6, strainDOFs: 6, nodeTags: 8,\n",
       "                            measures: 7)\n",
       "Coordinates:\n",
       "  * time                   (time) float32 6kB 0.0 0.01 0.02 ... 15.98 15.99 16.0\n",
       "  * eleTags                (eleTags) int32 8B 1 3\n",
       "  * GaussPoints            (GaussPoints) int32 32B 1 2 3 4 5 6 7 8\n",
       "  * stressDOFs             (stressDOFs) &lt;U7 168B &#x27;sigma11&#x27; ... &#x27;sigma13&#x27;\n",
       "  * strainDOFs             (strainDOFs) &lt;U5 120B &#x27;eps11&#x27; &#x27;eps22&#x27; ... &#x27;eps13&#x27;\n",
       "  * nodeTags               (nodeTags) int32 32B 1 2 3 4 5 6 7 8\n",
       "  * measures               (measures) &lt;U9 252B &#x27;p1&#x27; &#x27;p2&#x27; ... &#x27;tau_oct&#x27;\n",
       "Data variables:\n",
       "    Stresses               (time, eleTags, GaussPoints, stressDOFs) float32 615kB ...\n",
       "    Strains                (time, eleTags, GaussPoints, strainDOFs) float32 615kB ...\n",
       "    StressesAtNodes        (time, nodeTags, stressDOFs) float32 307kB 0.0 ......\n",
       "    StrainsAtNodes         (time, nodeTags, strainDOFs) float32 307kB 0.0 ......\n",
       "    StressAtNodesErr       (time, nodeTags, stressDOFs) float32 307kB 0.0 ......\n",
       "    StrainsAtNodesErr      (time, nodeTags, strainDOFs) float32 307kB 0.0 ......\n",
       "    StressMeasures         (time, eleTags, GaussPoints, measures) float32 717kB ...\n",
       "    StrainMeasures         (time, eleTags, GaussPoints, measures) float32 717kB ...\n",
       "    StressMeasuresAtNodes  (time, nodeTags, measures) float32 359kB 0.0 ... 3...\n",
       "    StrainMeasuresAtNodes  (time, nodeTags, measures) float32 359kB 0.0 ... 0...\n",
       "Attributes:\n",
       "    sigma11, sigma22, sigma33:  Normal stress (strain) along x, y, z.\n",
       "    sigma12, sigma23, sigma13:  Shear stress (strain).\n",
       "    p1, p2, p3:                 Principal stresses (strains).\n",
       "    eta_r:                      Ratio between the shear (deviatoric) stress a...\n",
       "    sigma_vm:                   Von Mises stress.\n",
       "    tau_max:                    Maximum shear stress (strains).\n",
       "    sigma_oct:                  Octahedral normal stress (strains).\n",
       "    tau_oct:                    Octahedral shear stress (strains).</pre><div class='xr-wrap' style='display:none'><div class='xr-header'><div class='xr-obj-type'>xarray.Dataset</div></div><ul class='xr-sections'><li class='xr-section-item'><input id='section-ffb86913-8836-47ff-a7cc-0b7c244a3799' class='xr-section-summary-in' type='checkbox' disabled ><label for='section-ffb86913-8836-47ff-a7cc-0b7c244a3799' class='xr-section-summary'  title='Expand/collapse section'>Dimensions:</label><div class='xr-section-inline-details'><ul class='xr-dim-list'><li><span class='xr-has-index'>time</span>: 1601</li><li><span class='xr-has-index'>eleTags</span>: 2</li><li><span class='xr-has-index'>GaussPoints</span>: 8</li><li><span class='xr-has-index'>stressDOFs</span>: 6</li><li><span class='xr-has-index'>strainDOFs</span>: 6</li><li><span class='xr-has-index'>nodeTags</span>: 8</li><li><span class='xr-has-index'>measures</span>: 7</li></ul></div><div class='xr-section-details'></div></li><li class='xr-section-item'><input id='section-27b18057-0713-448f-b88c-44a2c1411e04' class='xr-section-summary-in' type='checkbox'  checked><label for='section-27b18057-0713-448f-b88c-44a2c1411e04' class='xr-section-summary' >Coordinates: <span>(7)</span></label><div class='xr-section-inline-details'></div><div class='xr-section-details'><ul class='xr-var-list'><li class='xr-var-item'><div class='xr-var-name'><span class='xr-has-index'>time</span></div><div class='xr-var-dims'>(time)</div><div class='xr-var-dtype'>float32</div><div class='xr-var-preview xr-preview'>0.0 0.01 0.02 ... 15.98 15.99 16.0</div><input id='attrs-0e8cb77b-533e-4c80-ae25-2eb58dabc14a' class='xr-var-attrs-in' type='checkbox' disabled><label for='attrs-0e8cb77b-533e-4c80-ae25-2eb58dabc14a' title='Show/Hide attributes'><svg class='icon xr-icon-file-text2'><use xlink:href='#icon-file-text2'></use></svg></label><input id='data-5cb87c62-87b5-4780-bcb6-660116db4368' class='xr-var-data-in' type='checkbox'><label for='data-5cb87c62-87b5-4780-bcb6-660116db4368' title='Show/Hide data repr'><svg class='icon xr-icon-database'><use xlink:href='#icon-database'></use></svg></label><div class='xr-var-attrs'><dl class='xr-attrs'></dl></div><div class='xr-var-data'><pre>array([0.000e+00, 1.000e-02, 2.000e-02, ..., 1.598e+01, 1.599e+01, 1.600e+01],\n",
       "      dtype=float32)</pre></div></li><li class='xr-var-item'><div class='xr-var-name'><span class='xr-has-index'>eleTags</span></div><div class='xr-var-dims'>(eleTags)</div><div class='xr-var-dtype'>int32</div><div class='xr-var-preview xr-preview'>1 3</div><input id='attrs-262d0e43-7801-4c42-be02-b6c5f7aa22d9' class='xr-var-attrs-in' type='checkbox' disabled><label for='attrs-262d0e43-7801-4c42-be02-b6c5f7aa22d9' title='Show/Hide attributes'><svg class='icon xr-icon-file-text2'><use xlink:href='#icon-file-text2'></use></svg></label><input id='data-a0be24b0-ba5f-4750-ac2a-6a4a68a07d3e' class='xr-var-data-in' type='checkbox'><label for='data-a0be24b0-ba5f-4750-ac2a-6a4a68a07d3e' title='Show/Hide data repr'><svg class='icon xr-icon-database'><use xlink:href='#icon-database'></use></svg></label><div class='xr-var-attrs'><dl class='xr-attrs'></dl></div><div class='xr-var-data'><pre>array([1, 3])</pre></div></li><li class='xr-var-item'><div class='xr-var-name'><span class='xr-has-index'>GaussPoints</span></div><div class='xr-var-dims'>(GaussPoints)</div><div class='xr-var-dtype'>int32</div><div class='xr-var-preview xr-preview'>1 2 3 4 5 6 7 8</div><input id='attrs-e291bf3a-4c43-493c-9ac4-f28cb5c76eca' class='xr-var-attrs-in' type='checkbox' disabled><label for='attrs-e291bf3a-4c43-493c-9ac4-f28cb5c76eca' title='Show/Hide attributes'><svg class='icon xr-icon-file-text2'><use xlink:href='#icon-file-text2'></use></svg></label><input id='data-e2019a4a-84aa-4348-83ed-941a20ee538d' class='xr-var-data-in' type='checkbox'><label for='data-e2019a4a-84aa-4348-83ed-941a20ee538d' title='Show/Hide data repr'><svg class='icon xr-icon-database'><use xlink:href='#icon-database'></use></svg></label><div class='xr-var-attrs'><dl class='xr-attrs'></dl></div><div class='xr-var-data'><pre>array([1, 2, 3, 4, 5, 6, 7, 8])</pre></div></li><li class='xr-var-item'><div class='xr-var-name'><span class='xr-has-index'>stressDOFs</span></div><div class='xr-var-dims'>(stressDOFs)</div><div class='xr-var-dtype'>&lt;U7</div><div class='xr-var-preview xr-preview'>&#x27;sigma11&#x27; &#x27;sigma22&#x27; ... &#x27;sigma13&#x27;</div><input id='attrs-33f1154e-29fa-46ef-b7ff-63c13ed3548f' class='xr-var-attrs-in' type='checkbox' disabled><label for='attrs-33f1154e-29fa-46ef-b7ff-63c13ed3548f' title='Show/Hide attributes'><svg class='icon xr-icon-file-text2'><use xlink:href='#icon-file-text2'></use></svg></label><input id='data-93f0032e-d6b0-4718-8e41-6d77a54b6e37' class='xr-var-data-in' type='checkbox'><label for='data-93f0032e-d6b0-4718-8e41-6d77a54b6e37' title='Show/Hide data repr'><svg class='icon xr-icon-database'><use xlink:href='#icon-database'></use></svg></label><div class='xr-var-attrs'><dl class='xr-attrs'></dl></div><div class='xr-var-data'><pre>array([&#x27;sigma11&#x27;, &#x27;sigma22&#x27;, &#x27;sigma33&#x27;, &#x27;sigma12&#x27;, &#x27;sigma23&#x27;, &#x27;sigma13&#x27;],\n",
       "      dtype=&#x27;&lt;U7&#x27;)</pre></div></li><li class='xr-var-item'><div class='xr-var-name'><span class='xr-has-index'>strainDOFs</span></div><div class='xr-var-dims'>(strainDOFs)</div><div class='xr-var-dtype'>&lt;U5</div><div class='xr-var-preview xr-preview'>&#x27;eps11&#x27; &#x27;eps22&#x27; ... &#x27;eps23&#x27; &#x27;eps13&#x27;</div><input id='attrs-0c62b9f5-c9aa-4dd9-b83d-28a58c45a8b9' class='xr-var-attrs-in' type='checkbox' disabled><label for='attrs-0c62b9f5-c9aa-4dd9-b83d-28a58c45a8b9' title='Show/Hide attributes'><svg class='icon xr-icon-file-text2'><use xlink:href='#icon-file-text2'></use></svg></label><input id='data-92d0b43b-dc87-4d91-b345-54354097f384' class='xr-var-data-in' type='checkbox'><label for='data-92d0b43b-dc87-4d91-b345-54354097f384' title='Show/Hide data repr'><svg class='icon xr-icon-database'><use xlink:href='#icon-database'></use></svg></label><div class='xr-var-attrs'><dl class='xr-attrs'></dl></div><div class='xr-var-data'><pre>array([&#x27;eps11&#x27;, &#x27;eps22&#x27;, &#x27;eps33&#x27;, &#x27;eps12&#x27;, &#x27;eps23&#x27;, &#x27;eps13&#x27;], dtype=&#x27;&lt;U5&#x27;)</pre></div></li><li class='xr-var-item'><div class='xr-var-name'><span class='xr-has-index'>nodeTags</span></div><div class='xr-var-dims'>(nodeTags)</div><div class='xr-var-dtype'>int32</div><div class='xr-var-preview xr-preview'>1 2 3 4 5 6 7 8</div><input id='attrs-decaa90f-d73a-4fb6-b66e-afda87d6bf24' class='xr-var-attrs-in' type='checkbox' disabled><label for='attrs-decaa90f-d73a-4fb6-b66e-afda87d6bf24' title='Show/Hide attributes'><svg class='icon xr-icon-file-text2'><use xlink:href='#icon-file-text2'></use></svg></label><input id='data-b3aed087-920e-45b2-8933-120dc8c8477d' class='xr-var-data-in' type='checkbox'><label for='data-b3aed087-920e-45b2-8933-120dc8c8477d' title='Show/Hide data repr'><svg class='icon xr-icon-database'><use xlink:href='#icon-database'></use></svg></label><div class='xr-var-attrs'><dl class='xr-attrs'></dl></div><div class='xr-var-data'><pre>array([1, 2, 3, 4, 5, 6, 7, 8])</pre></div></li><li class='xr-var-item'><div class='xr-var-name'><span class='xr-has-index'>measures</span></div><div class='xr-var-dims'>(measures)</div><div class='xr-var-dtype'>&lt;U9</div><div class='xr-var-preview xr-preview'>&#x27;p1&#x27; &#x27;p2&#x27; ... &#x27;sigma_oct&#x27; &#x27;tau_oct&#x27;</div><input id='attrs-010f5c08-f810-4d8c-9587-94d45dc74530' class='xr-var-attrs-in' type='checkbox' disabled><label for='attrs-010f5c08-f810-4d8c-9587-94d45dc74530' title='Show/Hide attributes'><svg class='icon xr-icon-file-text2'><use xlink:href='#icon-file-text2'></use></svg></label><input id='data-3ba9cbe5-4544-4b87-9211-4c193c03cd41' class='xr-var-data-in' type='checkbox'><label for='data-3ba9cbe5-4544-4b87-9211-4c193c03cd41' title='Show/Hide data repr'><svg class='icon xr-icon-database'><use xlink:href='#icon-database'></use></svg></label><div class='xr-var-attrs'><dl class='xr-attrs'></dl></div><div class='xr-var-data'><pre>array([&#x27;p1&#x27;, &#x27;p2&#x27;, &#x27;p3&#x27;, &#x27;sigma_vm&#x27;, &#x27;tau_max&#x27;, &#x27;sigma_oct&#x27;, &#x27;tau_oct&#x27;],\n",
       "      dtype=&#x27;&lt;U9&#x27;)</pre></div></li></ul></div></li><li class='xr-section-item'><input id='section-646c9ead-86d6-41ac-a9ab-93c06679c8ac' class='xr-section-summary-in' type='checkbox'  checked><label for='section-646c9ead-86d6-41ac-a9ab-93c06679c8ac' class='xr-section-summary' >Data variables: <span>(10)</span></label><div class='xr-section-inline-details'></div><div class='xr-section-details'><ul class='xr-var-list'><li class='xr-var-item'><div class='xr-var-name'><span>Stresses</span></div><div class='xr-var-dims'>(time, eleTags, GaussPoints, stressDOFs)</div><div class='xr-var-dtype'>float32</div><div class='xr-var-preview xr-preview'>-0.0 -0.0 -0.0 -0.0 ... nan nan nan</div><input id='attrs-5fa67bf7-ec19-44e5-b612-f35667c2a8ca' class='xr-var-attrs-in' type='checkbox' disabled><label for='attrs-5fa67bf7-ec19-44e5-b612-f35667c2a8ca' title='Show/Hide attributes'><svg class='icon xr-icon-file-text2'><use xlink:href='#icon-file-text2'></use></svg></label><input id='data-00ffcf3d-d392-41d8-bb72-91c64c4f04c0' class='xr-var-data-in' type='checkbox'><label for='data-00ffcf3d-d392-41d8-bb72-91c64c4f04c0' title='Show/Hide data repr'><svg class='icon xr-icon-database'><use xlink:href='#icon-database'></use></svg></label><div class='xr-var-attrs'><dl class='xr-attrs'></dl></div><div class='xr-var-data'><pre>array([[[[-0.00000000e+00, -0.00000000e+00, -0.00000000e+00,\n",
       "          -0.00000000e+00, -0.00000000e+00, -0.00000000e+00],\n",
       "         [-0.00000000e+00, -0.00000000e+00, -0.00000000e+00,\n",
       "          -0.00000000e+00, -0.00000000e+00, -0.00000000e+00],\n",
       "         [-0.00000000e+00, -0.00000000e+00, -0.00000000e+00,\n",
       "          -0.00000000e+00, -0.00000000e+00, -0.00000000e+00],\n",
       "         ...,\n",
       "         [-0.00000000e+00, -0.00000000e+00, -0.00000000e+00,\n",
       "          -0.00000000e+00, -0.00000000e+00, -0.00000000e+00],\n",
       "         [-0.00000000e+00, -0.00000000e+00, -0.00000000e+00,\n",
       "          -0.00000000e+00, -0.00000000e+00, -0.00000000e+00],\n",
       "         [-0.00000000e+00, -0.00000000e+00, -0.00000000e+00,\n",
       "          -0.00000000e+00, -0.00000000e+00, -0.00000000e+00]],\n",
       "\n",
       "        [[            nan,             nan,             nan,\n",
       "                      nan,             nan,             nan],\n",
       "         [            nan,             nan,             nan,\n",
       "                      nan,             nan,             nan],\n",
       "         [            nan,             nan,             nan,\n",
       "                      nan,             nan,             nan],\n",
       "...\n",
       "          -4.55218875e+05, -1.43160266e+05, -8.09450625e+05],\n",
       "         [ 1.87708375e+06,  2.03890438e+06,  6.69098650e+06,\n",
       "          -5.82299750e+05, -9.19865469e+04,  2.99986000e+05],\n",
       "         [ 1.61137425e+06,  8.27538562e+05,  8.16806150e+06,\n",
       "           4.82064062e+04, -1.41490844e+05,  6.19416992e+04]],\n",
       "\n",
       "        [[            nan,             nan,             nan,\n",
       "                      nan,             nan,             nan],\n",
       "         [            nan,             nan,             nan,\n",
       "                      nan,             nan,             nan],\n",
       "         [            nan,             nan,             nan,\n",
       "                      nan,             nan,             nan],\n",
       "         ...,\n",
       "         [            nan,             nan,             nan,\n",
       "                      nan,             nan,             nan],\n",
       "         [            nan,             nan,             nan,\n",
       "                      nan,             nan,             nan],\n",
       "         [            nan,             nan,             nan,\n",
       "                      nan,             nan,             nan]]]],\n",
       "      dtype=float32)</pre></div></li><li class='xr-var-item'><div class='xr-var-name'><span>Strains</span></div><div class='xr-var-dims'>(time, eleTags, GaussPoints, strainDOFs)</div><div class='xr-var-dtype'>float32</div><div class='xr-var-preview xr-preview'>-0.0 -0.0 -0.0 -0.0 ... nan nan nan</div><input id='attrs-54ff4f49-7a00-4517-a7d3-1a91f5b216f7' class='xr-var-attrs-in' type='checkbox' disabled><label for='attrs-54ff4f49-7a00-4517-a7d3-1a91f5b216f7' title='Show/Hide attributes'><svg class='icon xr-icon-file-text2'><use xlink:href='#icon-file-text2'></use></svg></label><input id='data-3dafb7bd-8650-4999-8ded-8e39ed8dc049' class='xr-var-data-in' type='checkbox'><label for='data-3dafb7bd-8650-4999-8ded-8e39ed8dc049' title='Show/Hide data repr'><svg class='icon xr-icon-database'><use xlink:href='#icon-database'></use></svg></label><div class='xr-var-attrs'><dl class='xr-attrs'></dl></div><div class='xr-var-data'><pre>array([[[[-0.00000000e+00, -0.00000000e+00, -0.00000000e+00,\n",
       "          -0.00000000e+00, -0.00000000e+00, -0.00000000e+00],\n",
       "         [-0.00000000e+00, -0.00000000e+00, -0.00000000e+00,\n",
       "          -0.00000000e+00, -0.00000000e+00, -0.00000000e+00],\n",
       "         [-0.00000000e+00, -0.00000000e+00, -0.00000000e+00,\n",
       "          -0.00000000e+00, -0.00000000e+00, -0.00000000e+00],\n",
       "         ...,\n",
       "         [-0.00000000e+00, -0.00000000e+00, -0.00000000e+00,\n",
       "          -0.00000000e+00, -0.00000000e+00, -0.00000000e+00],\n",
       "         [-0.00000000e+00, -0.00000000e+00, -0.00000000e+00,\n",
       "          -0.00000000e+00, -0.00000000e+00, -0.00000000e+00],\n",
       "         [-0.00000000e+00, -0.00000000e+00, -0.00000000e+00,\n",
       "          -0.00000000e+00, -0.00000000e+00, -0.00000000e+00]],\n",
       "\n",
       "        [[            nan,             nan,             nan,\n",
       "                      nan,             nan,             nan],\n",
       "         [            nan,             nan,             nan,\n",
       "                      nan,             nan,             nan],\n",
       "         [            nan,             nan,             nan,\n",
       "                      nan,             nan,             nan],\n",
       "...\n",
       "          -1.52175862e-05, -4.78572792e-06, -2.70592573e-05],\n",
       "         [-9.68738925e-03, -9.68197919e-03, -9.52646416e-03,\n",
       "          -1.94657950e-05, -3.07503319e-06,  1.00282805e-05],\n",
       "         [-9.69627127e-03, -9.72247403e-03, -9.47708637e-03,\n",
       "           1.61149990e-06, -4.72992042e-06,  2.07065909e-06]],\n",
       "\n",
       "        [[            nan,             nan,             nan,\n",
       "                      nan,             nan,             nan],\n",
       "         [            nan,             nan,             nan,\n",
       "                      nan,             nan,             nan],\n",
       "         [            nan,             nan,             nan,\n",
       "                      nan,             nan,             nan],\n",
       "         ...,\n",
       "         [            nan,             nan,             nan,\n",
       "                      nan,             nan,             nan],\n",
       "         [            nan,             nan,             nan,\n",
       "                      nan,             nan,             nan],\n",
       "         [            nan,             nan,             nan,\n",
       "                      nan,             nan,             nan]]]],\n",
       "      dtype=float32)</pre></div></li><li class='xr-var-item'><div class='xr-var-name'><span>StressesAtNodes</span></div><div class='xr-var-dims'>(time, nodeTags, stressDOFs)</div><div class='xr-var-dtype'>float32</div><div class='xr-var-preview xr-preview'>0.0 0.0 ... -1.415e+05 6.194e+04</div><input id='attrs-64e0c673-8681-4809-b377-8b0fc4c2d82b' class='xr-var-attrs-in' type='checkbox' disabled><label for='attrs-64e0c673-8681-4809-b377-8b0fc4c2d82b' title='Show/Hide attributes'><svg class='icon xr-icon-file-text2'><use xlink:href='#icon-file-text2'></use></svg></label><input id='data-f84eb3d9-8dc1-40bd-9736-d362f0284c99' class='xr-var-data-in' type='checkbox'><label for='data-f84eb3d9-8dc1-40bd-9736-d362f0284c99' title='Show/Hide data repr'><svg class='icon xr-icon-database'><use xlink:href='#icon-database'></use></svg></label><div class='xr-var-attrs'><dl class='xr-attrs'></dl></div><div class='xr-var-data'><pre>array([[[ 0.00000000e+00,  0.00000000e+00,  0.00000000e+00,\n",
       "          0.00000000e+00,  0.00000000e+00,  0.00000000e+00],\n",
       "        [ 0.00000000e+00,  0.00000000e+00,  0.00000000e+00,\n",
       "          0.00000000e+00,  0.00000000e+00,  0.00000000e+00],\n",
       "        [ 0.00000000e+00,  0.00000000e+00,  0.00000000e+00,\n",
       "          0.00000000e+00,  0.00000000e+00,  0.00000000e+00],\n",
       "        ...,\n",
       "        [ 0.00000000e+00,  0.00000000e+00,  0.00000000e+00,\n",
       "          0.00000000e+00,  0.00000000e+00,  0.00000000e+00],\n",
       "        [ 0.00000000e+00,  0.00000000e+00,  0.00000000e+00,\n",
       "          0.00000000e+00,  0.00000000e+00,  0.00000000e+00],\n",
       "        [ 0.00000000e+00,  0.00000000e+00,  0.00000000e+00,\n",
       "          0.00000000e+00,  0.00000000e+00,  0.00000000e+00]],\n",
       "\n",
       "       [[ 8.77010156e+03,  1.56077764e+04,  1.46577281e+05,\n",
       "          1.12081860e+03,  1.30416766e+05, -9.26548523e+02],\n",
       "        [ 1.07346660e+04,  7.97245264e+03,  1.52248047e+05,\n",
       "          1.14416321e+03,  1.44619547e+05, -9.26548523e+02],\n",
       "        [ 8.77010156e+03,  1.56077764e+04,  1.46577281e+05,\n",
       "         -1.12081860e+03,  1.30416766e+05,  9.26548523e+02],\n",
       "...\n",
       "         -3.07791156e+05, -3.64772594e+05, -5.20162781e+05],\n",
       "        [ 1.70271862e+06,  1.93730788e+06,  7.36726250e+06,\n",
       "         -8.31284250e+05,  5.13065312e+04,  6.85090438e+05],\n",
       "        [ 1.43600912e+06,  6.71876938e+05,  8.89940300e+06,\n",
       "          1.95044375e+05,  4.64989336e+04,  3.79262188e+05]],\n",
       "\n",
       "       [[ 2.60332825e+06,  1.98056388e+06,  6.02308250e+06,\n",
       "         -1.18509800e+06,  1.22642938e+06,  6.67638047e+04],\n",
       "        [ 2.33669450e+06,  7.82806500e+05,  7.48747350e+06,\n",
       "         -5.73618000e+05,  1.18791400e+06, -1.82269391e+05],\n",
       "        [ 2.50747475e+06,  1.67420462e+06,  6.42529550e+06,\n",
       "         -6.87552625e+05,  1.25223400e+06,  9.32276188e+05],\n",
       "        ...,\n",
       "        [ 1.69113775e+06,  1.14410038e+06,  7.77173650e+06,\n",
       "         -4.55218875e+05, -1.43160266e+05, -8.09450625e+05],\n",
       "        [ 1.87708375e+06,  2.03890438e+06,  6.69098650e+06,\n",
       "         -5.82299750e+05, -9.19865469e+04,  2.99986000e+05],\n",
       "        [ 1.61137425e+06,  8.27538562e+05,  8.16806150e+06,\n",
       "          4.82064062e+04, -1.41490844e+05,  6.19416992e+04]]],\n",
       "      dtype=float32)</pre></div></li><li class='xr-var-item'><div class='xr-var-name'><span>StrainsAtNodes</span></div><div class='xr-var-dims'>(time, nodeTags, strainDOFs)</div><div class='xr-var-dtype'>float32</div><div class='xr-var-preview xr-preview'>0.0 0.0 0.0 ... -4.73e-06 2.071e-06</div><input id='attrs-0c5ad281-1db8-4067-a404-3a5d51a35ee0' class='xr-var-attrs-in' type='checkbox' disabled><label for='attrs-0c5ad281-1db8-4067-a404-3a5d51a35ee0' title='Show/Hide attributes'><svg class='icon xr-icon-file-text2'><use xlink:href='#icon-file-text2'></use></svg></label><input id='data-03c5501b-814e-43ec-b4b8-5e563f47a995' class='xr-var-data-in' type='checkbox'><label for='data-03c5501b-814e-43ec-b4b8-5e563f47a995' title='Show/Hide data repr'><svg class='icon xr-icon-database'><use xlink:href='#icon-database'></use></svg></label><div class='xr-var-attrs'><dl class='xr-attrs'></dl></div><div class='xr-var-data'><pre>array([[[ 0.00000000e+00,  0.00000000e+00,  0.00000000e+00,\n",
       "          0.00000000e+00,  0.00000000e+00,  0.00000000e+00],\n",
       "        [ 0.00000000e+00,  0.00000000e+00,  0.00000000e+00,\n",
       "          0.00000000e+00,  0.00000000e+00,  0.00000000e+00],\n",
       "        [ 0.00000000e+00,  0.00000000e+00,  0.00000000e+00,\n",
       "          0.00000000e+00,  0.00000000e+00,  0.00000000e+00],\n",
       "        ...,\n",
       "        [ 0.00000000e+00,  0.00000000e+00,  0.00000000e+00,\n",
       "          0.00000000e+00,  0.00000000e+00,  0.00000000e+00],\n",
       "        [ 0.00000000e+00,  0.00000000e+00,  0.00000000e+00,\n",
       "          0.00000000e+00,  0.00000000e+00,  0.00000000e+00],\n",
       "        [ 0.00000000e+00,  0.00000000e+00,  0.00000000e+00,\n",
       "          0.00000000e+00,  0.00000000e+00,  0.00000000e+00]],\n",
       "\n",
       "       [[-5.37224366e-07, -3.08646605e-07,  4.06955451e-06,\n",
       "          3.74680305e-08,  4.35972333e-06, -3.09737409e-08],\n",
       "        [-4.71550607e-07, -5.63889103e-07,  4.25912322e-06,\n",
       "          3.82484195e-08,  4.83451049e-06, -3.09737409e-08],\n",
       "        [-5.37224366e-07, -3.08646605e-07,  4.06955451e-06,\n",
       "         -3.74680305e-08,  4.35972333e-06,  3.09737409e-08],\n",
       "...\n",
       "         -1.02892018e-05, -1.21940420e-05, -1.73886074e-05],\n",
       "        [-9.69516207e-03, -9.68732033e-03, -9.50580090e-03,\n",
       "         -2.77891359e-05,  1.71513432e-06,  2.29020006e-05],\n",
       "        [-9.70407762e-03, -9.72962193e-03, -9.45458282e-03,\n",
       "          6.52017025e-06,  1.55442046e-06,  1.26784180e-05]],\n",
       "\n",
       "       [[-9.66311060e-03, -9.68392938e-03, -9.54879168e-03,\n",
       "         -3.96168325e-05,  4.09985078e-05,  2.23185816e-06],\n",
       "        [-9.67202429e-03, -9.72396974e-03, -9.49983858e-03,\n",
       "         -1.91755717e-05,  3.97109725e-05, -6.09311292e-06],\n",
       "        [-9.66631528e-03, -9.69417114e-03, -9.53534618e-03,\n",
       "         -2.29843099e-05,  4.18611344e-05,  3.11652148e-05],\n",
       "        ...,\n",
       "        [-9.69360489e-03, -9.71189141e-03, -9.49033536e-03,\n",
       "         -1.52175862e-05, -4.78572792e-06, -2.70592573e-05],\n",
       "        [-9.68738925e-03, -9.68197919e-03, -9.52646416e-03,\n",
       "         -1.94657950e-05, -3.07503319e-06,  1.00282805e-05],\n",
       "        [-9.69627127e-03, -9.72247403e-03, -9.47708637e-03,\n",
       "          1.61149990e-06, -4.72992042e-06,  2.07065909e-06]]],\n",
       "      dtype=float32)</pre></div></li><li class='xr-var-item'><div class='xr-var-name'><span>StressAtNodesErr</span></div><div class='xr-var-dims'>(time, nodeTags, stressDOFs)</div><div class='xr-var-dtype'>float32</div><div class='xr-var-preview xr-preview'>0.0 0.0 0.0 0.0 ... 0.0 0.0 0.0 0.0</div><input id='attrs-f4b8ee4c-8606-405e-ad93-346dae2e047c' class='xr-var-attrs-in' type='checkbox' disabled><label for='attrs-f4b8ee4c-8606-405e-ad93-346dae2e047c' title='Show/Hide attributes'><svg class='icon xr-icon-file-text2'><use xlink:href='#icon-file-text2'></use></svg></label><input id='data-1dc5c60a-42a5-43dc-8708-c64bd768f2e2' class='xr-var-data-in' type='checkbox'><label for='data-1dc5c60a-42a5-43dc-8708-c64bd768f2e2' title='Show/Hide data repr'><svg class='icon xr-icon-database'><use xlink:href='#icon-database'></use></svg></label><div class='xr-var-attrs'><dl class='xr-attrs'></dl></div><div class='xr-var-data'><pre>array([[[0., 0., 0., 0., 0., 0.],\n",
       "        [0., 0., 0., 0., 0., 0.],\n",
       "        [0., 0., 0., 0., 0., 0.],\n",
       "        ...,\n",
       "        [0., 0., 0., 0., 0., 0.],\n",
       "        [0., 0., 0., 0., 0., 0.],\n",
       "        [0., 0., 0., 0., 0., 0.]],\n",
       "\n",
       "       [[0., 0., 0., 0., 0., 0.],\n",
       "        [0., 0., 0., 0., 0., 0.],\n",
       "        [0., 0., 0., 0., 0., 0.],\n",
       "        ...,\n",
       "        [0., 0., 0., 0., 0., 0.],\n",
       "        [0., 0., 0., 0., 0., 0.],\n",
       "        [0., 0., 0., 0., 0., 0.]],\n",
       "\n",
       "       [[0., 0., 0., 0., 0., 0.],\n",
       "        [0., 0., 0., 0., 0., 0.],\n",
       "        [0., 0., 0., 0., 0., 0.],\n",
       "        ...,\n",
       "...\n",
       "        ...,\n",
       "        [0., 0., 0., 0., 0., 0.],\n",
       "        [0., 0., 0., 0., 0., 0.],\n",
       "        [0., 0., 0., 0., 0., 0.]],\n",
       "\n",
       "       [[0., 0., 0., 0., 0., 0.],\n",
       "        [0., 0., 0., 0., 0., 0.],\n",
       "        [0., 0., 0., 0., 0., 0.],\n",
       "        ...,\n",
       "        [0., 0., 0., 0., 0., 0.],\n",
       "        [0., 0., 0., 0., 0., 0.],\n",
       "        [0., 0., 0., 0., 0., 0.]],\n",
       "\n",
       "       [[0., 0., 0., 0., 0., 0.],\n",
       "        [0., 0., 0., 0., 0., 0.],\n",
       "        [0., 0., 0., 0., 0., 0.],\n",
       "        ...,\n",
       "        [0., 0., 0., 0., 0., 0.],\n",
       "        [0., 0., 0., 0., 0., 0.],\n",
       "        [0., 0., 0., 0., 0., 0.]]], dtype=float32)</pre></div></li><li class='xr-var-item'><div class='xr-var-name'><span>StrainsAtNodesErr</span></div><div class='xr-var-dims'>(time, nodeTags, strainDOFs)</div><div class='xr-var-dtype'>float32</div><div class='xr-var-preview xr-preview'>0.0 0.0 0.0 0.0 ... 0.0 0.0 0.0 0.0</div><input id='attrs-0d6bbc0f-8715-4beb-a0a9-c170f234b03e' class='xr-var-attrs-in' type='checkbox' disabled><label for='attrs-0d6bbc0f-8715-4beb-a0a9-c170f234b03e' title='Show/Hide attributes'><svg class='icon xr-icon-file-text2'><use xlink:href='#icon-file-text2'></use></svg></label><input id='data-ec713177-1481-4f45-9d52-6b06d3e6ba3b' class='xr-var-data-in' type='checkbox'><label for='data-ec713177-1481-4f45-9d52-6b06d3e6ba3b' title='Show/Hide data repr'><svg class='icon xr-icon-database'><use xlink:href='#icon-database'></use></svg></label><div class='xr-var-attrs'><dl class='xr-attrs'></dl></div><div class='xr-var-data'><pre>array([[[0., 0., 0., 0., 0., 0.],\n",
       "        [0., 0., 0., 0., 0., 0.],\n",
       "        [0., 0., 0., 0., 0., 0.],\n",
       "        ...,\n",
       "        [0., 0., 0., 0., 0., 0.],\n",
       "        [0., 0., 0., 0., 0., 0.],\n",
       "        [0., 0., 0., 0., 0., 0.]],\n",
       "\n",
       "       [[0., 0., 0., 0., 0., 0.],\n",
       "        [0., 0., 0., 0., 0., 0.],\n",
       "        [0., 0., 0., 0., 0., 0.],\n",
       "        ...,\n",
       "        [0., 0., 0., 0., 0., 0.],\n",
       "        [0., 0., 0., 0., 0., 0.],\n",
       "        [0., 0., 0., 0., 0., 0.]],\n",
       "\n",
       "       [[0., 0., 0., 0., 0., 0.],\n",
       "        [0., 0., 0., 0., 0., 0.],\n",
       "        [0., 0., 0., 0., 0., 0.],\n",
       "        ...,\n",
       "...\n",
       "        ...,\n",
       "        [0., 0., 0., 0., 0., 0.],\n",
       "        [0., 0., 0., 0., 0., 0.],\n",
       "        [0., 0., 0., 0., 0., 0.]],\n",
       "\n",
       "       [[0., 0., 0., 0., 0., 0.],\n",
       "        [0., 0., 0., 0., 0., 0.],\n",
       "        [0., 0., 0., 0., 0., 0.],\n",
       "        ...,\n",
       "        [0., 0., 0., 0., 0., 0.],\n",
       "        [0., 0., 0., 0., 0., 0.],\n",
       "        [0., 0., 0., 0., 0., 0.]],\n",
       "\n",
       "       [[0., 0., 0., 0., 0., 0.],\n",
       "        [0., 0., 0., 0., 0., 0.],\n",
       "        [0., 0., 0., 0., 0., 0.],\n",
       "        ...,\n",
       "        [0., 0., 0., 0., 0., 0.],\n",
       "        [0., 0., 0., 0., 0., 0.],\n",
       "        [0., 0., 0., 0., 0., 0.]]], dtype=float32)</pre></div></li><li class='xr-var-item'><div class='xr-var-name'><span>StressMeasures</span></div><div class='xr-var-dims'>(time, eleTags, GaussPoints, measures)</div><div class='xr-var-dtype'>float32</div><div class='xr-var-preview xr-preview'>-0.0 -0.0 -0.0 0.0 ... 0.0 0.0 0.0</div><input id='attrs-8bed9d67-c335-465e-bc3e-96448f885234' class='xr-var-attrs-in' type='checkbox' disabled><label for='attrs-8bed9d67-c335-465e-bc3e-96448f885234' title='Show/Hide attributes'><svg class='icon xr-icon-file-text2'><use xlink:href='#icon-file-text2'></use></svg></label><input id='data-d9ec3981-9c4b-4bac-b17a-df539ad087af' class='xr-var-data-in' type='checkbox'><label for='data-d9ec3981-9c4b-4bac-b17a-df539ad087af' title='Show/Hide data repr'><svg class='icon xr-icon-database'><use xlink:href='#icon-database'></use></svg></label><div class='xr-var-attrs'><dl class='xr-attrs'></dl></div><div class='xr-var-data'><pre>array([[[[-0.0000000e+00, -0.0000000e+00, -0.0000000e+00, ...,\n",
       "           0.0000000e+00, -0.0000000e+00,  0.0000000e+00],\n",
       "         [-0.0000000e+00, -0.0000000e+00, -0.0000000e+00, ...,\n",
       "           0.0000000e+00, -0.0000000e+00,  0.0000000e+00],\n",
       "         [-0.0000000e+00, -0.0000000e+00, -0.0000000e+00, ...,\n",
       "           0.0000000e+00, -0.0000000e+00,  0.0000000e+00],\n",
       "         ...,\n",
       "         [-0.0000000e+00, -0.0000000e+00, -0.0000000e+00, ...,\n",
       "           0.0000000e+00, -0.0000000e+00,  0.0000000e+00],\n",
       "         [-0.0000000e+00, -0.0000000e+00, -0.0000000e+00, ...,\n",
       "           0.0000000e+00, -0.0000000e+00,  0.0000000e+00],\n",
       "         [-0.0000000e+00, -0.0000000e+00, -0.0000000e+00, ...,\n",
       "           0.0000000e+00, -0.0000000e+00,  0.0000000e+00]],\n",
       "\n",
       "        [[ 0.0000000e+00,  0.0000000e+00,  0.0000000e+00, ...,\n",
       "           0.0000000e+00,  0.0000000e+00,  0.0000000e+00],\n",
       "         [ 0.0000000e+00,  0.0000000e+00,  0.0000000e+00, ...,\n",
       "           0.0000000e+00,  0.0000000e+00,  0.0000000e+00],\n",
       "         [ 0.0000000e+00,  0.0000000e+00,  0.0000000e+00, ...,\n",
       "           0.0000000e+00,  0.0000000e+00,  0.0000000e+00],\n",
       "...\n",
       "           3.5169170e+06,  3.5356582e+06,  3.1001088e+06],\n",
       "         [ 6.7131595e+06,  2.5289382e+06,  1.3648769e+06, ...,\n",
       "           2.6741412e+06,  3.5356582e+06,  2.2965402e+06],\n",
       "         [ 8.1713550e+06,  1.6138982e+06,  8.2172106e+05, ...,\n",
       "           3.6748170e+06,  3.5356580e+06,  3.2938480e+06]],\n",
       "\n",
       "        [[ 0.0000000e+00,  0.0000000e+00,  0.0000000e+00, ...,\n",
       "           0.0000000e+00,  0.0000000e+00,  0.0000000e+00],\n",
       "         [ 0.0000000e+00,  0.0000000e+00,  0.0000000e+00, ...,\n",
       "           0.0000000e+00,  0.0000000e+00,  0.0000000e+00],\n",
       "         [ 0.0000000e+00,  0.0000000e+00,  0.0000000e+00, ...,\n",
       "           0.0000000e+00,  0.0000000e+00,  0.0000000e+00],\n",
       "         ...,\n",
       "         [ 0.0000000e+00,  0.0000000e+00,  0.0000000e+00, ...,\n",
       "           0.0000000e+00,  0.0000000e+00,  0.0000000e+00],\n",
       "         [ 0.0000000e+00,  0.0000000e+00,  0.0000000e+00, ...,\n",
       "           0.0000000e+00,  0.0000000e+00,  0.0000000e+00],\n",
       "         [ 0.0000000e+00,  0.0000000e+00,  0.0000000e+00, ...,\n",
       "           0.0000000e+00,  0.0000000e+00,  0.0000000e+00]]]],\n",
       "      dtype=float32)</pre></div></li><li class='xr-var-item'><div class='xr-var-name'><span>StrainMeasures</span></div><div class='xr-var-dims'>(time, eleTags, GaussPoints, measures)</div><div class='xr-var-dtype'>float32</div><div class='xr-var-preview xr-preview'>-0.0 -0.0 -0.0 0.0 ... 0.0 0.0 0.0</div><input id='attrs-80b555f8-7a7c-4284-95c1-bfa03a218cb7' class='xr-var-attrs-in' type='checkbox' disabled><label for='attrs-80b555f8-7a7c-4284-95c1-bfa03a218cb7' title='Show/Hide attributes'><svg class='icon xr-icon-file-text2'><use xlink:href='#icon-file-text2'></use></svg></label><input id='data-f7004611-461a-4c8a-bb2e-fc00e0237074' class='xr-var-data-in' type='checkbox'><label for='data-f7004611-461a-4c8a-bb2e-fc00e0237074' title='Show/Hide data repr'><svg class='icon xr-icon-database'><use xlink:href='#icon-database'></use></svg></label><div class='xr-var-attrs'><dl class='xr-attrs'></dl></div><div class='xr-var-data'><pre>array([[[[-0.00000000e+00, -0.00000000e+00, -0.00000000e+00, ...,\n",
       "           0.00000000e+00, -0.00000000e+00,  0.00000000e+00],\n",
       "         [-0.00000000e+00, -0.00000000e+00, -0.00000000e+00, ...,\n",
       "           0.00000000e+00, -0.00000000e+00,  0.00000000e+00],\n",
       "         [-0.00000000e+00, -0.00000000e+00, -0.00000000e+00, ...,\n",
       "           0.00000000e+00, -0.00000000e+00,  0.00000000e+00],\n",
       "         ...,\n",
       "         [-0.00000000e+00, -0.00000000e+00, -0.00000000e+00, ...,\n",
       "           0.00000000e+00, -0.00000000e+00,  0.00000000e+00],\n",
       "         [-0.00000000e+00, -0.00000000e+00, -0.00000000e+00, ...,\n",
       "           0.00000000e+00, -0.00000000e+00,  0.00000000e+00],\n",
       "         [-0.00000000e+00, -0.00000000e+00, -0.00000000e+00, ...,\n",
       "           0.00000000e+00, -0.00000000e+00,  0.00000000e+00]],\n",
       "\n",
       "        [[ 0.00000000e+00,  0.00000000e+00,  0.00000000e+00, ...,\n",
       "           0.00000000e+00,  0.00000000e+00,  0.00000000e+00],\n",
       "         [ 0.00000000e+00,  0.00000000e+00,  0.00000000e+00, ...,\n",
       "           0.00000000e+00,  0.00000000e+00,  0.00000000e+00],\n",
       "         [ 0.00000000e+00,  0.00000000e+00,  0.00000000e+00, ...,\n",
       "           0.00000000e+00,  0.00000000e+00,  0.00000000e+00],\n",
       "...\n",
       "           1.17567521e-04, -9.63194389e-03,  1.03634011e-04],\n",
       "         [-9.52572282e-03, -9.66559816e-03, -9.70451161e-03, ...,\n",
       "           8.93943652e-05, -9.63194389e-03,  7.67714591e-05],\n",
       "         [-9.47697647e-03, -9.69618652e-03, -9.72266868e-03, ...,\n",
       "           1.22846119e-04, -9.63194389e-03,  1.10110675e-04]],\n",
       "\n",
       "        [[ 0.00000000e+00,  0.00000000e+00,  0.00000000e+00, ...,\n",
       "           0.00000000e+00,  0.00000000e+00,  0.00000000e+00],\n",
       "         [ 0.00000000e+00,  0.00000000e+00,  0.00000000e+00, ...,\n",
       "           0.00000000e+00,  0.00000000e+00,  0.00000000e+00],\n",
       "         [ 0.00000000e+00,  0.00000000e+00,  0.00000000e+00, ...,\n",
       "           0.00000000e+00,  0.00000000e+00,  0.00000000e+00],\n",
       "         ...,\n",
       "         [ 0.00000000e+00,  0.00000000e+00,  0.00000000e+00, ...,\n",
       "           0.00000000e+00,  0.00000000e+00,  0.00000000e+00],\n",
       "         [ 0.00000000e+00,  0.00000000e+00,  0.00000000e+00, ...,\n",
       "           0.00000000e+00,  0.00000000e+00,  0.00000000e+00],\n",
       "         [ 0.00000000e+00,  0.00000000e+00,  0.00000000e+00, ...,\n",
       "           0.00000000e+00,  0.00000000e+00,  0.00000000e+00]]]],\n",
       "      dtype=float32)</pre></div></li><li class='xr-var-item'><div class='xr-var-name'><span>StressMeasuresAtNodes</span></div><div class='xr-var-dims'>(time, nodeTags, measures)</div><div class='xr-var-dtype'>float32</div><div class='xr-var-preview xr-preview'>0.0 0.0 0.0 ... 3.536e+06 3.294e+06</div><input id='attrs-07d2b834-0c54-4263-adca-b11dc829361e' class='xr-var-attrs-in' type='checkbox' disabled><label for='attrs-07d2b834-0c54-4263-adca-b11dc829361e' title='Show/Hide attributes'><svg class='icon xr-icon-file-text2'><use xlink:href='#icon-file-text2'></use></svg></label><input id='data-f18d2545-a412-43fd-bfe7-46a75034eacb' class='xr-var-data-in' type='checkbox'><label for='data-f18d2545-a412-43fd-bfe7-46a75034eacb' title='Show/Hide data repr'><svg class='icon xr-icon-database'><use xlink:href='#icon-database'></use></svg></label><div class='xr-var-attrs'><dl class='xr-attrs'></dl></div><div class='xr-var-data'><pre>array([[[ 0.0000000e+00,  0.0000000e+00,  0.0000000e+00, ...,\n",
       "          0.0000000e+00,  0.0000000e+00,  0.0000000e+00],\n",
       "        [ 0.0000000e+00,  0.0000000e+00,  0.0000000e+00, ...,\n",
       "          0.0000000e+00,  0.0000000e+00,  0.0000000e+00],\n",
       "        [ 0.0000000e+00,  0.0000000e+00,  0.0000000e+00, ...,\n",
       "          0.0000000e+00,  0.0000000e+00,  0.0000000e+00],\n",
       "        ...,\n",
       "        [ 0.0000000e+00,  0.0000000e+00,  0.0000000e+00, ...,\n",
       "          0.0000000e+00,  0.0000000e+00,  0.0000000e+00],\n",
       "        [ 0.0000000e+00,  0.0000000e+00,  0.0000000e+00, ...,\n",
       "          0.0000000e+00,  0.0000000e+00,  0.0000000e+00],\n",
       "        [ 0.0000000e+00,  0.0000000e+00,  0.0000000e+00, ...,\n",
       "          0.0000000e+00,  0.0000000e+00,  0.0000000e+00]],\n",
       "\n",
       "       [[ 2.2702689e+05,  8.7980908e+03, -6.4869828e+04, ...,\n",
       "          1.4594836e+05,  5.6985055e+04,  1.2394195e+05],\n",
       "        [ 2.4172312e+05,  1.0757636e+04, -8.1525602e+04, ...,\n",
       "          1.6162436e+05,  5.6985055e+04,  1.3595383e+05],\n",
       "        [ 2.2702689e+05,  8.7980908e+03, -6.4869828e+04, ...,\n",
       "          1.4594836e+05,  5.6985055e+04,  1.2394195e+05],\n",
       "...\n",
       "        [ 8.5000750e+06,  1.7030732e+06,  8.0414131e+05, ...,\n",
       "          3.8479668e+06,  3.6690965e+06,  3.4356740e+06],\n",
       "        [ 7.4493600e+06,  2.6253118e+06,  9.3261731e+05, ...,\n",
       "          3.2583712e+06,  3.6690962e+06,  2.7609295e+06],\n",
       "        [ 8.9190110e+06,  1.4635400e+06,  6.2473812e+05, ...,\n",
       "          4.1471365e+06,  3.6690962e+06,  3.7280110e+06]],\n",
       "\n",
       "       [[ 6.3846305e+06,  3.3613635e+06,  8.6098038e+05, ...,\n",
       "          2.7618252e+06,  3.5356582e+06,  2.2583862e+06],\n",
       "        [ 7.7061030e+06,  2.4727948e+06,  4.2807678e+05, ...,\n",
       "          3.6390130e+06,  3.5356582e+06,  3.0648192e+06],\n",
       "        [ 6.8650565e+06,  2.8870178e+06,  8.5490062e+05, ...,\n",
       "          3.0050780e+06,  3.5356582e+06,  2.4961362e+06],\n",
       "        ...,\n",
       "        [ 7.8786715e+06,  1.8834654e+06,  8.4483762e+05, ...,\n",
       "          3.5169170e+06,  3.5356582e+06,  3.1001088e+06],\n",
       "        [ 6.7131595e+06,  2.5289382e+06,  1.3648769e+06, ...,\n",
       "          2.6741412e+06,  3.5356582e+06,  2.2965402e+06],\n",
       "        [ 8.1713550e+06,  1.6138982e+06,  8.2172106e+05, ...,\n",
       "          3.6748170e+06,  3.5356580e+06,  3.2938480e+06]]], dtype=float32)</pre></div></li><li class='xr-var-item'><div class='xr-var-name'><span>StrainMeasuresAtNodes</span></div><div class='xr-var-dims'>(time, nodeTags, measures)</div><div class='xr-var-dtype'>float32</div><div class='xr-var-preview xr-preview'>0.0 0.0 0.0 ... -0.009632 0.0001101</div><input id='attrs-2abadca7-a561-4bf4-abe4-64bccdd25516' class='xr-var-attrs-in' type='checkbox' disabled><label for='attrs-2abadca7-a561-4bf4-abe4-64bccdd25516' title='Show/Hide attributes'><svg class='icon xr-icon-file-text2'><use xlink:href='#icon-file-text2'></use></svg></label><input id='data-f0d55950-1d25-4886-91dd-90b05beaba51' class='xr-var-data-in' type='checkbox'><label for='data-f0d55950-1d25-4886-91dd-90b05beaba51' title='Show/Hide data repr'><svg class='icon xr-icon-database'><use xlink:href='#icon-database'></use></svg></label><div class='xr-var-attrs'><dl class='xr-attrs'></dl></div><div class='xr-var-data'><pre>array([[[ 0.00000000e+00,  0.00000000e+00,  0.00000000e+00, ...,\n",
       "          0.00000000e+00,  0.00000000e+00,  0.00000000e+00],\n",
       "        [ 0.00000000e+00,  0.00000000e+00,  0.00000000e+00, ...,\n",
       "          0.00000000e+00,  0.00000000e+00,  0.00000000e+00],\n",
       "        [ 0.00000000e+00,  0.00000000e+00,  0.00000000e+00, ...,\n",
       "          0.00000000e+00,  0.00000000e+00,  0.00000000e+00],\n",
       "        ...,\n",
       "        [ 0.00000000e+00,  0.00000000e+00,  0.00000000e+00, ...,\n",
       "          0.00000000e+00,  0.00000000e+00,  0.00000000e+00],\n",
       "        [ 0.00000000e+00,  0.00000000e+00,  0.00000000e+00, ...,\n",
       "          0.00000000e+00,  0.00000000e+00,  0.00000000e+00],\n",
       "        [ 0.00000000e+00,  0.00000000e+00,  0.00000000e+00, ...,\n",
       "          0.00000000e+00,  0.00000000e+00,  0.00000000e+00]],\n",
       "\n",
       "       [[ 6.75891761e-06, -5.36288667e-07, -2.99894555e-06, ...,\n",
       "          4.87893158e-06,  1.07456117e-06,  4.14327587e-06],\n",
       "        [ 7.25020027e-06, -4.70782737e-07, -3.55573434e-06, ...,\n",
       "          5.40296742e-06,  1.07456117e-06,  4.54482279e-06],\n",
       "        [ 6.75891761e-06, -5.36288667e-07, -2.99894555e-06, ...,\n",
       "          4.87893158e-06,  1.07456117e-06,  4.14327587e-06],\n",
       "...\n",
       "          1.28634507e-04, -9.62942746e-03,  1.14851791e-04],\n",
       "        [-9.50305630e-03, -9.66432039e-03, -9.72090568e-03, ...,\n",
       "          1.08924796e-04, -9.62942746e-03,  9.22957333e-05],\n",
       "        [-9.45392717e-03, -9.70315747e-03, -9.73119773e-03, ...,\n",
       "          1.38635194e-04, -9.62942746e-03,  1.24624188e-04]],\n",
       "\n",
       "       [[-9.53670498e-03, -9.63777024e-03, -9.72135644e-03, ...,\n",
       "          9.23253247e-05, -9.63194389e-03,  7.54958019e-05],\n",
       "        [-9.49252956e-03, -9.66747478e-03, -9.73582827e-03, ...,\n",
       "          1.21649035e-04, -9.63194389e-03,  1.02454200e-04],\n",
       "        [-9.52064525e-03, -9.65362787e-03, -9.72155947e-03, ...,\n",
       "          1.00457190e-04, -9.63194389e-03,  8.34436869e-05],\n",
       "        ...,\n",
       "        [-9.48676094e-03, -9.68717504e-03, -9.72189568e-03, ...,\n",
       "          1.17567521e-04, -9.63194389e-03,  1.03634011e-04],\n",
       "        [-9.52572282e-03, -9.66559816e-03, -9.70451161e-03, ...,\n",
       "          8.93943652e-05, -9.63194389e-03,  7.67714591e-05],\n",
       "        [-9.47697647e-03, -9.69618652e-03, -9.72266868e-03, ...,\n",
       "          1.22846119e-04, -9.63194389e-03,  1.10110675e-04]]],\n",
       "      dtype=float32)</pre></div></li></ul></div></li><li class='xr-section-item'><input id='section-21641277-db8d-4d43-964a-05b66552b044' class='xr-section-summary-in' type='checkbox'  ><label for='section-21641277-db8d-4d43-964a-05b66552b044' class='xr-section-summary' >Indexes: <span>(7)</span></label><div class='xr-section-inline-details'></div><div class='xr-section-details'><ul class='xr-var-list'><li class='xr-var-item'><div class='xr-index-name'><div>time</div></div><div class='xr-index-preview'>PandasIndex</div><div></div><input id='index-751af094-b94d-4ea7-a6bb-5ce0eed970da' class='xr-index-data-in' type='checkbox'/><label for='index-751af094-b94d-4ea7-a6bb-5ce0eed970da' title='Show/Hide index repr'><svg class='icon xr-icon-database'><use xlink:href='#icon-database'></use></svg></label><div class='xr-index-data'><pre>PandasIndex(Index([                 0.0, 0.009999999776482582, 0.019999999552965164,\n",
       "       0.029999999329447746,  0.03999999910593033,  0.05000000074505806,\n",
       "        0.05999999865889549,  0.07000000029802322,  0.07999999821186066,\n",
       "        0.09000000357627869,\n",
       "       ...\n",
       "          15.90999984741211,   15.920000076293945,   15.930000305175781,\n",
       "           15.9399995803833,   15.949999809265137,   15.960000038146973,\n",
       "         15.970000267028809,   15.979999542236328,   15.989999771118164,\n",
       "                       16.0],\n",
       "      dtype=&#x27;float32&#x27;, name=&#x27;time&#x27;, length=1601))</pre></div></li><li class='xr-var-item'><div class='xr-index-name'><div>eleTags</div></div><div class='xr-index-preview'>PandasIndex</div><div></div><input id='index-4174d0a8-83ea-4528-a7e3-3e394cdf68a7' class='xr-index-data-in' type='checkbox'/><label for='index-4174d0a8-83ea-4528-a7e3-3e394cdf68a7' title='Show/Hide index repr'><svg class='icon xr-icon-database'><use xlink:href='#icon-database'></use></svg></label><div class='xr-index-data'><pre>PandasIndex(Index([1, 3], dtype=&#x27;int32&#x27;, name=&#x27;eleTags&#x27;))</pre></div></li><li class='xr-var-item'><div class='xr-index-name'><div>GaussPoints</div></div><div class='xr-index-preview'>PandasIndex</div><div></div><input id='index-1803463a-379e-448a-93db-8a7cb0238fe0' class='xr-index-data-in' type='checkbox'/><label for='index-1803463a-379e-448a-93db-8a7cb0238fe0' title='Show/Hide index repr'><svg class='icon xr-icon-database'><use xlink:href='#icon-database'></use></svg></label><div class='xr-index-data'><pre>PandasIndex(Index([1, 2, 3, 4, 5, 6, 7, 8], dtype=&#x27;int32&#x27;, name=&#x27;GaussPoints&#x27;))</pre></div></li><li class='xr-var-item'><div class='xr-index-name'><div>stressDOFs</div></div><div class='xr-index-preview'>PandasIndex</div><div></div><input id='index-18d2a2c7-267d-4266-bc19-a8ad06a24748' class='xr-index-data-in' type='checkbox'/><label for='index-18d2a2c7-267d-4266-bc19-a8ad06a24748' title='Show/Hide index repr'><svg class='icon xr-icon-database'><use xlink:href='#icon-database'></use></svg></label><div class='xr-index-data'><pre>PandasIndex(Index([&#x27;sigma11&#x27;, &#x27;sigma22&#x27;, &#x27;sigma33&#x27;, &#x27;sigma12&#x27;, &#x27;sigma23&#x27;, &#x27;sigma13&#x27;], dtype=&#x27;object&#x27;, name=&#x27;stressDOFs&#x27;))</pre></div></li><li class='xr-var-item'><div class='xr-index-name'><div>strainDOFs</div></div><div class='xr-index-preview'>PandasIndex</div><div></div><input id='index-57524ef5-6edb-4c3d-a707-9d6a72b863be' class='xr-index-data-in' type='checkbox'/><label for='index-57524ef5-6edb-4c3d-a707-9d6a72b863be' title='Show/Hide index repr'><svg class='icon xr-icon-database'><use xlink:href='#icon-database'></use></svg></label><div class='xr-index-data'><pre>PandasIndex(Index([&#x27;eps11&#x27;, &#x27;eps22&#x27;, &#x27;eps33&#x27;, &#x27;eps12&#x27;, &#x27;eps23&#x27;, &#x27;eps13&#x27;], dtype=&#x27;object&#x27;, name=&#x27;strainDOFs&#x27;))</pre></div></li><li class='xr-var-item'><div class='xr-index-name'><div>nodeTags</div></div><div class='xr-index-preview'>PandasIndex</div><div></div><input id='index-b109c2dc-47c2-4c8d-9303-62f7ca39a92a' class='xr-index-data-in' type='checkbox'/><label for='index-b109c2dc-47c2-4c8d-9303-62f7ca39a92a' title='Show/Hide index repr'><svg class='icon xr-icon-database'><use xlink:href='#icon-database'></use></svg></label><div class='xr-index-data'><pre>PandasIndex(Index([1, 2, 3, 4, 5, 6, 7, 8], dtype=&#x27;int32&#x27;, name=&#x27;nodeTags&#x27;))</pre></div></li><li class='xr-var-item'><div class='xr-index-name'><div>measures</div></div><div class='xr-index-preview'>PandasIndex</div><div></div><input id='index-bbac8c5c-4e7d-43e7-bd19-0fcced0ca8c8' class='xr-index-data-in' type='checkbox'/><label for='index-bbac8c5c-4e7d-43e7-bd19-0fcced0ca8c8' title='Show/Hide index repr'><svg class='icon xr-icon-database'><use xlink:href='#icon-database'></use></svg></label><div class='xr-index-data'><pre>PandasIndex(Index([&#x27;p1&#x27;, &#x27;p2&#x27;, &#x27;p3&#x27;, &#x27;sigma_vm&#x27;, &#x27;tau_max&#x27;, &#x27;sigma_oct&#x27;, &#x27;tau_oct&#x27;], dtype=&#x27;object&#x27;, name=&#x27;measures&#x27;))</pre></div></li></ul></div></li><li class='xr-section-item'><input id='section-5b9cac21-19fe-4ef5-9fee-2d7a529e0183' class='xr-section-summary-in' type='checkbox'  checked><label for='section-5b9cac21-19fe-4ef5-9fee-2d7a529e0183' class='xr-section-summary' >Attributes: <span>(8)</span></label><div class='xr-section-inline-details'></div><div class='xr-section-details'><dl class='xr-attrs'><dt><span>sigma11, sigma22, sigma33 :</span></dt><dd>Normal stress (strain) along x, y, z.</dd><dt><span>sigma12, sigma23, sigma13 :</span></dt><dd>Shear stress (strain).</dd><dt><span>p1, p2, p3 :</span></dt><dd>Principal stresses (strains).</dd><dt><span>eta_r :</span></dt><dd>Ratio between the shear (deviatoric) stress and peak shear strength at the current confinement</dd><dt><span>sigma_vm :</span></dt><dd>Von Mises stress.</dd><dt><span>tau_max :</span></dt><dd>Maximum shear stress (strains).</dd><dt><span>sigma_oct :</span></dt><dd>Octahedral normal stress (strains).</dd><dt><span>tau_oct :</span></dt><dd>Octahedral shear stress (strains).</dd></dl></div></li></ul></div></div>"
      ],
      "text/plain": [
       "<xarray.Dataset> Size: 5MB\n",
       "Dimensions:                (time: 1601, eleTags: 2, GaussPoints: 8,\n",
       "                            stressDOFs: 6, strainDOFs: 6, nodeTags: 8,\n",
       "                            measures: 7)\n",
       "Coordinates:\n",
       "  * time                   (time) float32 6kB 0.0 0.01 0.02 ... 15.98 15.99 16.0\n",
       "  * eleTags                (eleTags) int32 8B 1 3\n",
       "  * GaussPoints            (GaussPoints) int32 32B 1 2 3 4 5 6 7 8\n",
       "  * stressDOFs             (stressDOFs) <U7 168B 'sigma11' ... 'sigma13'\n",
       "  * strainDOFs             (strainDOFs) <U5 120B 'eps11' 'eps22' ... 'eps13'\n",
       "  * nodeTags               (nodeTags) int32 32B 1 2 3 4 5 6 7 8\n",
       "  * measures               (measures) <U9 252B 'p1' 'p2' ... 'tau_oct'\n",
       "Data variables:\n",
       "    Stresses               (time, eleTags, GaussPoints, stressDOFs) float32 615kB ...\n",
       "    Strains                (time, eleTags, GaussPoints, strainDOFs) float32 615kB ...\n",
       "    StressesAtNodes        (time, nodeTags, stressDOFs) float32 307kB 0.0 ......\n",
       "    StrainsAtNodes         (time, nodeTags, strainDOFs) float32 307kB 0.0 ......\n",
       "    StressAtNodesErr       (time, nodeTags, stressDOFs) float32 307kB 0.0 ......\n",
       "    StrainsAtNodesErr      (time, nodeTags, strainDOFs) float32 307kB 0.0 ......\n",
       "    StressMeasures         (time, eleTags, GaussPoints, measures) float32 717kB ...\n",
       "    StrainMeasures         (time, eleTags, GaussPoints, measures) float32 717kB ...\n",
       "    StressMeasuresAtNodes  (time, nodeTags, measures) float32 359kB 0.0 ... 3...\n",
       "    StrainMeasuresAtNodes  (time, nodeTags, measures) float32 359kB 0.0 ... 0...\n",
       "Attributes:\n",
       "    sigma11, sigma22, sigma33:  Normal stress (strain) along x, y, z.\n",
       "    sigma12, sigma23, sigma13:  Shear stress (strain).\n",
       "    p1, p2, p3:                 Principal stresses (strains).\n",
       "    eta_r:                      Ratio between the shear (deviatoric) stress a...\n",
       "    sigma_vm:                   Von Mises stress.\n",
       "    tau_max:                    Maximum shear stress (strains).\n",
       "    sigma_oct:                  Octahedral normal stress (strains).\n",
       "    tau_oct:                    Octahedral shear stress (strains)."
      ]
     },
     "execution_count": 14,
     "metadata": {},
     "output_type": "execute_result"
    }
   ],
   "source": [
    "opst.post.get_element_responses(odb_tag=\"FSI\", ele_type=\"Brick\")"
   ]
  }
 ],
 "metadata": {
  "kernelspec": {
   "display_name": "opstool-dev",
   "language": "python",
   "name": "python3"
  },
  "language_info": {
   "codemirror_mode": {
    "name": "ipython",
    "version": 3
   },
   "file_extension": ".py",
   "mimetype": "text/x-python",
   "name": "python",
   "nbconvert_exporter": "python",
   "pygments_lexer": "ipython3",
   "version": "3.12.9"
  }
 },
 "nbformat": 4,
 "nbformat_minor": 5
}
