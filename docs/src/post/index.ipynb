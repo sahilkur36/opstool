{
 "cells": [
  {
   "cell_type": "markdown",
   "metadata": {
    "editable": true,
    "slideshow": {
     "slide_type": ""
    },
    "tags": [],
    "vscode": {
     "languageId": "plaintext"
    }
   },
   "source": [
    "# Post-Processing"
   ]
  },
  {
   "cell_type": "raw",
   "metadata": {
    "editable": true,
    "raw_mimetype": "text/restructuredtext",
    "slideshow": {
     "slide_type": ""
    },
    "tags": []
   },
   "source": [
    "The ``opstool`` framework adopts `xarray <https://xarray.pydata.org/en/stable/>`_ as its core data structure, leveraging its powerful capabilities for handling labeled multi-dimensional data.\n",
    "This choice provides a flexible and intuitive way to manage and process structural analysis results.\n",
    "\n",
    "**Key Features of xarray**\n",
    "\n",
    "1. **Labeled Dimensions**  \n",
    "   xarray allows you to associate meaningful labels with dimensions, making the data self-descriptive and easier to interpret. For example:\n",
    "   - Node-based results can have dimensions like ``nodeTags`` and ``time``.\n",
    "   - Element-based results can have dimensions like ``eleTags`` and ``GaussPoints``.\n",
    "\n",
    "2. **Coordinate Metadata**  \n",
    "   Coordinates provide additional metadata for dimensions, such as the physical meaning of ``nodeTags`` or timestamps in ``time``.\n",
    "\n",
    "3. **Multi-Dimensional Data**  \n",
    "   xarray efficiently handles multi-dimensional arrays, enabling simultaneous storage of results like displacements, reaction forces, and internal forces.\n",
    "\n",
    "4. **Built-in Operations**  \n",
    "   xarray supports advanced operations such as:\n",
    "   - Data selection (e.g., ``sel`` for slicing specific nodes or times).\n",
    "   - Aggregation (e.g., summing over nodes or elements).\n",
    "   - Mathematical operations applied across dimensions.\n",
    "\n",
    "5. **NetCDF Compatibility**  \n",
    "   xarray integrates seamlessly with `NetCDF`, a widely used format for scientific data, allowing easy storage and sharing of results.\n",
    "\n",
    "**Benefits in Structural Analysis**\n",
    "\n",
    "1. **Clarity and Ease of Use**  \n",
    "   Labeled dimensions and coordinates make structural analysis results easier to understand and manipulate.\n",
    "\n",
    "2. **Efficient Processing**  \n",
    "   Built-in operations eliminate the need for complex indexing, improving code clarity and efficiency.\n",
    "\n",
    "3. **Scalable Storage**  \n",
    "   Large-scale analysis results can be easily managed, stored, and retrieved using xarray’s `NetCDF` support.\n",
    "\n",
    "xarray’s integration into ``opstool`` enables streamlined workflows for analyzing and visualizing structural response data, enhancing productivity and precision."
   ]
  },
  {
   "cell_type": "markdown",
   "metadata": {
    "vscode": {
     "languageId": "raw"
    }
   },
   "source": [
    "You can learn ``xarray`` through the following resources:\n",
    "\n",
    "[Xarray in 45 minutes](https://tutorial.xarray.dev/overview/xarray-in-45-min.html)\n",
    "\n",
    "[Project Pythia](https://foundations.projectpythia.org/core/xarray.html)\n",
    "\n"
   ]
  },
  {
   "cell_type": "markdown",
   "metadata": {
    "vscode": {
     "languageId": "raw"
    }
   },
   "source": [
    "## In a nutshell"
   ]
  },
  {
   "cell_type": "raw",
   "metadata": {
    "editable": true,
    "raw_mimetype": "text/restructuredtext",
    "slideshow": {
     "slide_type": ""
    },
    "tags": [],
    "vscode": {
     "languageId": "raw"
    }
   },
   "source": [
    "In ``opstool``, saving responses is very simple. \n",
    "You only need to run the analysis ``iteratively`` and use the following concise code:\n",
    "\n",
    ".. image:: ../../_static/save_resp_demo.png\n",
    "   :alt: Alternative text for the image\n",
    "   :width: 400px\n",
    "   :align: center\n",
    "\n",
    ":class:`opstool.post.CreateODB` is used to create a database object, where ``odb_tag`` specifies the label. \n",
    "Then, the method :meth:`opstool.post.CreateODB.fetch_response_step` is called to iteratively save the data at each step. \n",
    "Once the analysis is complete, all responses are saved by the method :meth:`opstool.post.CreateODB.save_response`. \n",
    "That's it."
   ]
  },
  {
   "cell_type": "markdown",
   "metadata": {
    "vscode": {
     "languageId": "raw"
    }
   },
   "source": [
    "The above code will automatically retrieve and save most of the commonly used output quantities of OpenSees."
   ]
  },
  {
   "cell_type": "markdown",
   "metadata": {
    "vscode": {
     "languageId": "raw"
    }
   },
   "source": [
    "## Supported response types"
   ]
  },
  {
   "cell_type": "markdown",
   "metadata": {
    "vscode": {
     "languageId": "raw"
    }
   },
   "source": [
    "The following is a non-exhaustive list of response types supported by opstool:"
   ]
  },
  {
   "cell_type": "raw",
   "metadata": {
    "raw_mimetype": "text/restructuredtext",
    "vscode": {
     "languageId": "raw"
    }
   },
   "source": [
    ".. tab-set::\n",
    "    :sync-group: category\n",
    "\n",
    "    .. tab-item:: Nodal\n",
    "        :sync: key1\n",
    "\n",
    "        ✅ \"disp\"\n",
    "        ✅ \"vel\"\n",
    "        ✅ \"accel\"\n",
    "        ✅ \"reaction\"\n",
    "        ✅ \"reactionIncInertia\"\n",
    "        ✅ \"rayleighForces\"\n",
    "        ✅ \"pressure\"\n",
    "\n",
    "    .. tab-item:: Frame\n",
    "        :sync: key2\n",
    "\n",
    "        ✅ \"localForces\"\n",
    "        ✅ \"basicForces\"\n",
    "        ✅ \"basicDeformations\"\n",
    "        ✅ \"plasticDeformation\"\n",
    "        ✅ \"sectionForces\"\n",
    "        ✅ \"sectionDeformations\"\n",
    "        ✅ \"sectionLocs\"\n",
    "    \n",
    "    .. tab-item:: Truss\n",
    "        :sync: key3\n",
    "\n",
    "        ✅ \"axialForce\" ✅ \"axialDefo\" ✅ \"Stress\" ✅ \"Strain\"\n",
    "    \n",
    "    .. tab-item:: Link\n",
    "        :sync: key4\n",
    "\n",
    "        ✅ \"basicDeformation\" ✅ \"basicForce\"\n",
    "    \n",
    "    .. tab-item:: Fiber Section\n",
    "        :sync: key5\n",
    "\n",
    "        ✅ \"Stresses\" ✅ \"Strains\" ✅ \"secForce\" ✅ \"secDefo\"\n",
    "    \n",
    "    .. tab-item:: Shell\n",
    "        :sync: key6\n",
    "\n",
    "        ✅ \"sectionForces\"\n",
    "        ✅ \"sectionDeformations\"\n",
    "        ✅ \"Stresses\"\n",
    "        ✅ \"Strains\"\n",
    "        ✅ \"sectionForcesAtNodes\"\n",
    "        ✅ \"sectionDeformationsAtNodes\"\n",
    "        ✅ \"StressesAtNodes\"\n",
    "        ✅ \"StrainsAtNodes\"\n",
    "    \n",
    "    .. tab-item:: Plane\n",
    "        :sync: key7\n",
    "\n",
    "        ✅ \"Stresses\"\n",
    "        ✅ \"Strains\"\n",
    "        ✅ \"StressesAtNodes\"\n",
    "        ✅ \"StressAtNodesErr\"\n",
    "        ✅ \"StrainsAtNodes\"\n",
    "        ✅ \"StrainsAtNodesErr\"\n",
    "        ✅ \"StressMeasures\"\n",
    "        ✅ \"StrainMeasures\"\n",
    "        ✅ \"StressMeasuresAtNodes\"\n",
    "        ✅ \"StrainMeasuresAtNodes\"\n",
    "    \n",
    "    .. tab-item:: Solid\n",
    "        :sync: key8\n",
    "\n",
    "        ✅ \"Stresses\"\n",
    "        ✅ \"Strains\"\n",
    "        ✅ \"StressesAtNodes\"\n",
    "        ✅ \"StressAtNodesErr\"\n",
    "        ✅ \"StrainsAtNodes\"\n",
    "        ✅ \"StrainsAtNodesErr\"\n",
    "        ✅ \"StressMeasures\"\n",
    "        ✅ \"StrainMeasures\"\n",
    "        ✅ \"StressMeasuresAtNodes\"\n",
    "        ✅ \"StrainMeasuresAtNodes\"\n",
    "    \n",
    "    .. tab-item:: Contact\n",
    "        :sync: key9\n",
    "\n",
    "        ✅ \"globalForces\" ✅ \"localForces\" ✅ \"localDisp\" ✅ \"slips\"\n",
    "    \n",
    "    .. tab-item:: Sensitivity Analysis\n",
    "        :sync: key10\n",
    "\n",
    "        ✅ \"disp\"\n",
    "        ✅ \"vel\"\n",
    "        ✅ \"accel\"\n",
    "        ✅ \"pressure\"\n",
    "        ✅ \"lambdas\""
   ]
  },
  {
   "cell_type": "markdown",
   "metadata": {
    "vscode": {
     "languageId": "raw"
    }
   },
   "source": [
    "## Gallery"
   ]
  },
  {
   "cell_type": "markdown",
   "metadata": {
    "editable": true,
    "slideshow": {
     "slide_type": ""
    },
    "tags": [
     "nbsphinx-gallery"
    ],
    "vscode": {
     "languageId": "plaintext"
    }
   },
   "source": [
    "* [Eigenvalue Analysis](eigen.ipynb)\n",
    "* [Node Responses](nodal_resp.ipynb)\n",
    "* [Frame Responses](frame_resp.ipynb)\n",
    "* [Fiber Section Responses](fiber_sec_resp.ipynb)\n",
    "* [Truss Responses](truss_resp.ipynb)\n",
    "* [Shell Responses](shell_resp.ipynb)\n",
    "* [Plane response](plane_up_resp.ipynb)\n",
    "* [Brick Responses](brick_resp.ipynb)\n",
    "* [Sensitivity Analysis Responses](sensitivity_resp.ipynb)\n",
    "* [Unit conversion in post-processing](unit_transform.ipynb)"
   ]
  }
 ],
 "metadata": {
  "kernelspec": {
   "display_name": "Python 3 (ipykernel)",
   "language": "python",
   "name": "python3"
  },
  "language_info": {
   "codemirror_mode": {
    "name": "ipython",
    "version": 3
   },
   "file_extension": ".py",
   "mimetype": "text/x-python",
   "name": "python",
   "nbconvert_exporter": "python",
   "pygments_lexer": "ipython3",
   "version": "3.12.7"
  }
 },
 "nbformat": 4,
 "nbformat_minor": 4
}
