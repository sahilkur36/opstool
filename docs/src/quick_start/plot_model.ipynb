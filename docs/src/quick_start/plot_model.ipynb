{
 "cells": [
  {
   "cell_type": "markdown",
   "metadata": {
    "editable": true,
    "slideshow": {
     "slide_type": ""
    },
    "tags": []
   },
   "source": [
    "# Quick Model and Eigen Visualization"
   ]
  },
  {
   "cell_type": "raw",
   "metadata": {
    "raw_mimetype": "text/restructuredtext",
    "vscode": {
     "languageId": "raw"
    }
   },
   "source": [
    "At any point during model creation, you can run the :func:`opstool.vis.plotly.plot_model` or :func:`opstool.vis.pyvista.plot_model` to visualize the current model's geometric details. \n",
    "\n",
    "Although both are based on different engines, ``PyVista`` and ``Plotly``, \n",
    "they provide almost identical APIs. \n",
    "Therefore, you can choose either for visualization."
   ]
  },
  {
   "cell_type": "markdown",
   "metadata": {
    "vscode": {
     "languageId": "raw"
    }
   },
   "source": [
    "## Plotly-based Visualization"
   ]
  },
  {
   "cell_type": "markdown",
   "metadata": {},
   "source": [
    "### Model Geometry"
   ]
  },
  {
   "cell_type": "code",
   "execution_count": 1,
   "metadata": {
    "editable": true,
    "execution": {
     "iopub.execute_input": "2024-11-24T05:24:46.183230Z",
     "iopub.status.busy": "2024-11-24T05:24:46.182229Z",
     "iopub.status.idle": "2024-11-24T05:24:47.883869Z",
     "shell.execute_reply": "2024-11-24T05:24:47.883869Z",
     "shell.execute_reply.started": "2024-11-24T05:24:46.183230Z"
    },
    "slideshow": {
     "slide_type": ""
    },
    "tags": []
   },
   "outputs": [],
   "source": [
    "import opstool as opst\n",
    "import opstool.vis.plotly as opsvis"
   ]
  },
  {
   "cell_type": "code",
   "execution_count": 2,
   "metadata": {
    "editable": true,
    "execution": {
     "iopub.execute_input": "2024-11-24T05:24:47.885877Z",
     "iopub.status.busy": "2024-11-24T05:24:47.884877Z",
     "iopub.status.idle": "2024-11-24T05:24:47.893943Z",
     "shell.execute_reply": "2024-11-24T05:24:47.893428Z",
     "shell.execute_reply.started": "2024-11-24T05:24:47.885877Z"
    },
    "slideshow": {
     "slide_type": ""
    },
    "tags": []
   },
   "outputs": [],
   "source": [
    "opst.load_ops_examples(\"ArchBridge2\")  # Built-in example model in opstool\n",
    "# or your model code here"
   ]
  },
  {
   "cell_type": "raw",
   "metadata": {
    "editable": true,
    "raw_mimetype": "text/restructuredtext",
    "slideshow": {
     "slide_type": ""
    },
    "tags": []
   },
   "source": [
    "Here, we use a built-in example from ``opstool``, which is an example of a deck arch bridge model primarily composed of frame elements and shell elements.\n",
    "For your own model script, simply place the :func:`opstool.vis.plotly.plot_model` function anywhere you need visualization."
   ]
  },
  {
   "cell_type": "raw",
   "metadata": {
    "editable": true,
    "raw_mimetype": "text/restructuredtext",
    "slideshow": {
     "slide_type": ""
    },
    "tags": []
   },
   "source": [
    "We use the :func:`opstool.vis.plotly.set_plot_props` function to predefine some common visualization properties, which will affect all subsequent visualizations of models, eigenvalues, and responses."
   ]
  },
  {
   "cell_type": "code",
   "execution_count": 3,
   "metadata": {
    "editable": true,
    "execution": {
     "iopub.execute_input": "2024-11-24T05:24:47.894948Z",
     "iopub.status.busy": "2024-11-24T05:24:47.894948Z",
     "iopub.status.idle": "2024-11-24T05:24:47.909545Z",
     "shell.execute_reply": "2024-11-24T05:24:47.909545Z",
     "shell.execute_reply.started": "2024-11-24T05:24:47.894948Z"
    },
    "slideshow": {
     "slide_type": ""
    },
    "tags": []
   },
   "outputs": [],
   "source": [
    "opsvis.set_plot_props(point_size=0, line_width=3)"
   ]
  },
  {
   "cell_type": "raw",
   "metadata": {
    "editable": true,
    "raw_mimetype": "text/restructuredtext",
    "slideshow": {
     "slide_type": ""
    },
    "tags": [],
    "vscode": {
     "languageId": "raw"
    }
   },
   "source": [
    "Visualization is straightforward; simply call the :func:`opstool.vis.plotly.plot_model` function. \n",
    "For details on various parameters, refer to the :func:`opstool.vis.plotly.plot_model`."
   ]
  },
  {
   "cell_type": "code",
   "execution_count": 4,
   "metadata": {
    "editable": true,
    "execution": {
     "iopub.execute_input": "2024-11-24T05:24:47.912555Z",
     "iopub.status.busy": "2024-11-24T05:24:47.911555Z",
     "iopub.status.idle": "2024-11-24T05:24:48.626498Z",
     "shell.execute_reply": "2024-11-24T05:24:48.625955Z",
     "shell.execute_reply.started": "2024-11-24T05:24:47.912555Z"
    },
    "slideshow": {
     "slide_type": ""
    },
    "tags": []
   },
   "outputs": [],
   "source": [
    "fig = opsvis.plot_model(show_outline=True)\n",
    "# fig.show()  # for auto\n",
    "# fig.write_html(\"**.html\")"
   ]
  },
  {
   "cell_type": "code",
   "execution_count": 5,
   "metadata": {
    "editable": true,
    "execution": {
     "iopub.execute_input": "2024-11-24T05:24:48.627501Z",
     "iopub.status.busy": "2024-11-24T05:24:48.627501Z",
     "iopub.status.idle": "2024-11-24T05:24:48.643004Z",
     "shell.execute_reply": "2024-11-24T05:24:48.643004Z",
     "shell.execute_reply.started": "2024-11-24T05:24:48.627501Z"
    },
    "nbsphinx": "hidden",
    "slideshow": {
     "slide_type": ""
    },
    "tags": []
   },
   "outputs": [],
   "source": [
    "fig.write_html(\"images/model_plotly.html\", full_html=False, include_plotlyjs=\"cdn\")"
   ]
  },
  {
   "cell_type": "raw",
   "metadata": {
    "editable": true,
    "raw_mimetype": "text/restructuredtext",
    "slideshow": {
     "slide_type": ""
    },
    "tags": []
   },
   "source": [
    ".. raw:: html\n",
    "   :file: images/model_plotly.html"
   ]
  },
  {
   "cell_type": "raw",
   "metadata": {
    "editable": true,
    "raw_mimetype": "text/restructuredtext",
    "slideshow": {
     "slide_type": ""
    },
    "tags": []
   },
   "source": [
    "The function :func:`opstool.vis.plotly.plot_model` returns a `Plotly Figure <https://plotly.com/python-api-reference/generated/plotly.graph_objects.Figure.html>`_ object, which you can visualize using the `show` method.\n",
    "In this example, the rendering mode is set to `notebook`, allowing the figure to be embedded directly within a Jupyter Notebook. \n",
    "If you want it to automatically choose the rendering mode, simply call `show` without providing any arguments.\n",
    "For more details on the available `renderer`, please refer to `Displaying Figures in Python <https://plotly.com/python/renderers/>`_"
   ]
  },
  {
   "cell_type": "markdown",
   "metadata": {
    "vscode": {
     "languageId": "raw"
    }
   },
   "source": [
    "### Eigen"
   ]
  },
  {
   "cell_type": "markdown",
   "metadata": {},
   "source": [
    "#### Subplots"
   ]
  },
  {
   "cell_type": "code",
   "execution_count": 6,
   "metadata": {
    "execution": {
     "iopub.execute_input": "2024-11-24T05:24:48.645010Z",
     "iopub.status.busy": "2024-11-24T05:24:48.645010Z",
     "iopub.status.idle": "2024-11-24T05:24:49.254821Z",
     "shell.execute_reply": "2024-11-24T05:24:49.253817Z",
     "shell.execute_reply.started": "2024-11-24T05:24:48.645010Z"
    }
   },
   "outputs": [
    {
     "name": "stderr",
     "output_type": "stream",
     "text": [
      "Using DomainModalProperties - Developed by: Massimo Petracca, Guido Camata, ASDEA Software Technology\n"
     ]
    },
    {
     "data": {
      "text/html": [
       "<pre style=\"white-space:pre;overflow-x:auto;line-height:normal;font-family:Menlo,'DejaVu Sans Mono',consolas,'Courier New',monospace\"><span style=\"color: #cf6275; text-decoration-color: #cf6275; font-weight: bold\">OPSTOOL</span> <span style=\"color: #12e193; text-decoration-color: #12e193; font-weight: bold\">::</span>  Eigen data has been saved to <span style=\"color: #ce181e; text-decoration-color: #ce181e; font-weight: bold\">.opstool.output/EigenData-Auto.nc</span>!\n",
       "</pre>\n"
      ],
      "text/plain": [
       "\u001b[1;38;2;207;98;117mOPSTOOL\u001b[0m \u001b[1;38;2;18;225;147m::\u001b[0m  Eigen data has been saved to \u001b[1;38;2;206;24;30m.opstool.output/EigenData-Auto.nc\u001b[0m!\n"
      ]
     },
     "metadata": {},
     "output_type": "display_data"
    }
   ],
   "source": [
    "fig = opsvis.plot_eigen(mode_tags=5, subplots=True, show_outline=False)\n",
    "# fig.show()  # for auto\n",
    "# fig.write_html(\"**.html\")"
   ]
  },
  {
   "cell_type": "code",
   "execution_count": 7,
   "metadata": {
    "execution": {
     "iopub.execute_input": "2024-11-24T05:24:49.256821Z",
     "iopub.status.busy": "2024-11-24T05:24:49.255821Z",
     "iopub.status.idle": "2024-11-24T05:24:49.343370Z",
     "shell.execute_reply": "2024-11-24T05:24:49.342362Z",
     "shell.execute_reply.started": "2024-11-24T05:24:49.256821Z"
    },
    "nbsphinx": "hidden"
   },
   "outputs": [],
   "source": [
    "fig.write_html(\"images/eigen_subplots_plotly.html\", full_html=False, include_plotlyjs=\"cdn\")"
   ]
  },
  {
   "cell_type": "raw",
   "metadata": {
    "raw_mimetype": "text/restructuredtext",
    "vscode": {
     "languageId": "raw"
    }
   },
   "source": [
    ".. raw:: html\n",
    "   :file: images/eigen_subplots_plotly.html"
   ]
  },
  {
   "cell_type": "markdown",
   "metadata": {},
   "source": [
    "#### Slider"
   ]
  },
  {
   "cell_type": "code",
   "execution_count": 8,
   "metadata": {
    "execution": {
     "iopub.execute_input": "2024-11-24T05:24:49.345369Z",
     "iopub.status.busy": "2024-11-24T05:24:49.344369Z",
     "iopub.status.idle": "2024-11-24T05:24:49.773055Z",
     "shell.execute_reply": "2024-11-24T05:24:49.772546Z",
     "shell.execute_reply.started": "2024-11-24T05:24:49.345369Z"
    }
   },
   "outputs": [
    {
     "data": {
      "text/html": [
       "<pre style=\"white-space:pre;overflow-x:auto;line-height:normal;font-family:Menlo,'DejaVu Sans Mono',consolas,'Courier New',monospace\"><span style=\"color: #cf6275; text-decoration-color: #cf6275; font-weight: bold\">OPSTOOL</span> <span style=\"color: #12e193; text-decoration-color: #12e193; font-weight: bold\">::</span>  Eigen data has been saved to <span style=\"color: #b84592; text-decoration-color: #b84592; font-weight: bold\">.opstool.output/EigenData-Auto.nc</span>!\n",
       "</pre>\n"
      ],
      "text/plain": [
       "\u001b[1;38;2;207;98;117mOPSTOOL\u001b[0m \u001b[1;38;2;18;225;147m::\u001b[0m  Eigen data has been saved to \u001b[1;38;2;184;69;146m.opstool.output/EigenData-Auto.nc\u001b[0m!\n"
      ]
     },
     "metadata": {},
     "output_type": "display_data"
    }
   ],
   "source": [
    "fig = opsvis.plot_eigen(mode_tags=5, subplots=False, show_outline=False)\n",
    "# fig.show()  # for auto"
   ]
  },
  {
   "cell_type": "code",
   "execution_count": 9,
   "metadata": {
    "execution": {
     "iopub.execute_input": "2024-11-24T05:24:49.774060Z",
     "iopub.status.busy": "2024-11-24T05:24:49.774060Z",
     "iopub.status.idle": "2024-11-24T05:24:49.840541Z",
     "shell.execute_reply": "2024-11-24T05:24:49.839533Z",
     "shell.execute_reply.started": "2024-11-24T05:24:49.774060Z"
    },
    "nbsphinx": "hidden"
   },
   "outputs": [],
   "source": [
    "fig.write_html(\"images/eigen_slides_plotly.html\", full_html=False, include_plotlyjs=\"cdn\")"
   ]
  },
  {
   "cell_type": "raw",
   "metadata": {
    "raw_mimetype": "text/restructuredtext"
   },
   "source": [
    ".. raw:: html\n",
    "   :file: images/eigen_slides_plotly.html"
   ]
  },
  {
   "cell_type": "markdown",
   "metadata": {
    "vscode": {
     "languageId": "raw"
    }
   },
   "source": [
    "## Pyvista-based Visualization"
   ]
  },
  {
   "cell_type": "code",
   "execution_count": 10,
   "metadata": {
    "execution": {
     "iopub.execute_input": "2024-11-24T05:24:49.841538Z",
     "iopub.status.busy": "2024-11-24T05:24:49.841538Z",
     "iopub.status.idle": "2024-11-24T05:24:49.845415Z",
     "shell.execute_reply": "2024-11-24T05:24:49.845415Z",
     "shell.execute_reply.started": "2024-11-24T05:24:49.841538Z"
    }
   },
   "outputs": [],
   "source": [
    "import opstool as opst\n",
    "import opstool.vis.pyvista as opsvis"
   ]
  },
  {
   "cell_type": "code",
   "execution_count": 11,
   "metadata": {
    "execution": {
     "iopub.execute_input": "2024-11-24T05:24:49.847418Z",
     "iopub.status.busy": "2024-11-24T05:24:49.846418Z",
     "iopub.status.idle": "2024-11-24T05:24:49.861868Z",
     "shell.execute_reply": "2024-11-24T05:24:49.861868Z",
     "shell.execute_reply.started": "2024-11-24T05:24:49.847418Z"
    }
   },
   "outputs": [],
   "source": [
    "opst.load_ops_examples(\"Frame3D\")\n",
    "# or your model code here"
   ]
  },
  {
   "cell_type": "markdown",
   "metadata": {},
   "source": [
    "### Model Geometry"
   ]
  },
  {
   "cell_type": "code",
   "execution_count": 12,
   "metadata": {
    "editable": true,
    "execution": {
     "iopub.execute_input": "2024-11-24T05:24:49.863874Z",
     "iopub.status.busy": "2024-11-24T05:24:49.862874Z",
     "iopub.status.idle": "2024-11-24T05:24:51.627287Z",
     "shell.execute_reply": "2024-11-24T05:24:51.626277Z",
     "shell.execute_reply.started": "2024-11-24T05:24:49.863874Z"
    },
    "slideshow": {
     "slide_type": ""
    },
    "tags": []
   },
   "outputs": [],
   "source": [
    "opsvis.set_plot_props(point_size=0, line_width=3)\n",
    "\n",
    "plotter = opsvis.plot_model()\n",
    "# plotter.show()  # for interactive use"
   ]
  },
  {
   "cell_type": "code",
   "execution_count": 13,
   "metadata": {
    "nbsphinx": "hidden"
   },
   "outputs": [],
   "source": [
    "plotter.off_screen = True  # for screenshot, you should set this to True for interactive use\n",
    "_ = plotter.screenshot(\"images/model_pyvista.png\")\n",
    "plotter.close()"
   ]
  },
  {
   "cell_type": "markdown",
   "metadata": {},
   "source": [
    "![images/model_pyvista.png](images/model_pyvista.png)"
   ]
  },
  {
   "cell_type": "markdown",
   "metadata": {
    "editable": true,
    "slideshow": {
     "slide_type": ""
    },
    "tags": [],
    "vscode": {
     "languageId": "raw"
    }
   },
   "source": [
    "### Eigen "
   ]
  },
  {
   "cell_type": "code",
   "execution_count": 14,
   "metadata": {
    "editable": true,
    "execution": {
     "iopub.execute_input": "2024-11-24T05:24:51.629287Z",
     "iopub.status.busy": "2024-11-24T05:24:51.627287Z",
     "iopub.status.idle": "2024-11-24T05:24:52.248596Z",
     "shell.execute_reply": "2024-11-24T05:24:52.248596Z",
     "shell.execute_reply.started": "2024-11-24T05:24:51.628288Z"
    },
    "slideshow": {
     "slide_type": ""
    },
    "tags": []
   },
   "outputs": [
    {
     "data": {
      "text/html": [
       "<pre style=\"white-space:pre;overflow-x:auto;line-height:normal;font-family:Menlo,'DejaVu Sans Mono',consolas,'Courier New',monospace\"><span style=\"color: #cf6275; text-decoration-color: #cf6275; font-weight: bold\">OPSTOOL</span> <span style=\"color: #12e193; text-decoration-color: #12e193; font-weight: bold\">::</span>  Eigen data has been saved to <span style=\"color: #007cc0; text-decoration-color: #007cc0; font-weight: bold\">.opstool.output/EigenData-Auto.nc</span>!\n",
       "</pre>\n"
      ],
      "text/plain": [
       "\u001b[1;38;2;207;98;117mOPSTOOL\u001b[0m \u001b[1;38;2;18;225;147m::\u001b[0m  Eigen data has been saved to \u001b[1;38;2;0;124;192m.opstool.output/EigenData-Auto.nc\u001b[0m!\n"
      ]
     },
     "metadata": {},
     "output_type": "display_data"
    }
   ],
   "source": [
    "plotter = opsvis.plot_eigen(mode_tags=6, subplots=True)\n",
    "# plotter.show()  # for interactive use"
   ]
  },
  {
   "cell_type": "code",
   "execution_count": 15,
   "metadata": {
    "nbsphinx": "hidden"
   },
   "outputs": [],
   "source": [
    "plotter.off_screen = True  # for screenshot, you should set this to True for interactive use\n",
    "_ = plotter.screenshot(\"images/eigen_pyvista.png\")\n",
    "plotter.close()"
   ]
  },
  {
   "cell_type": "markdown",
   "metadata": {},
   "source": [
    "![images/eigen_pyvista.png](images/eigen_pyvista.png)"
   ]
  }
 ],
 "metadata": {
  "kernelspec": {
   "display_name": "opstool-dev",
   "language": "python",
   "name": "python3"
  },
  "language_info": {
   "codemirror_mode": {
    "name": "ipython",
    "version": 3
   },
   "file_extension": ".py",
   "mimetype": "text/x-python",
   "name": "python",
   "nbconvert_exporter": "python",
   "pygments_lexer": "ipython3",
   "version": "3.12.9"
  }
 },
 "nbformat": 4,
 "nbformat_minor": 4
}
