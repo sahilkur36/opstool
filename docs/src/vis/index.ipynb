{
 "cells": [
  {
   "cell_type": "markdown",
   "metadata": {
    "editable": true,
    "slideshow": {
     "slide_type": ""
    },
    "tags": [],
    "vscode": {
     "languageId": "plaintext"
    }
   },
   "source": [
    "# Visualization"
   ]
  },
  {
   "cell_type": "markdown",
   "metadata": {
    "editable": true,
    "slideshow": {
     "slide_type": ""
    },
    "tags": [],
    "vscode": {
     "languageId": "plaintext"
    }
   },
   "source": [
    "The ``opstool`` currently offers two engines for visualizing models and responses, \n",
    "each with its own strengths and weaknesses.\n",
    "Both engines are custom-tailored to provide nearly identical visualization functionalities for ``OpenSeesPy``.\n",
    "\n",
    "**Supports all response types available in the post-processing modules.**"
   ]
  },
  {
   "cell_type": "markdown",
   "metadata": {
    "editable": true,
    "slideshow": {
     "slide_type": ""
    },
    "tags": []
   },
   "source": [
    "## Visualization Based on Plotly"
   ]
  },
  {
   "cell_type": "markdown",
   "metadata": {
    "vscode": {
     "languageId": "plaintext"
    }
   },
   "source": [
    "Refer to the module ``opstool.vis.plotly`` module for details."
   ]
  },
  {
   "cell_type": "markdown",
   "metadata": {
    "editable": true,
    "slideshow": {
     "slide_type": ""
    },
    "tags": [
     "nbsphinx-gallery"
    ]
   },
   "source": [
    "* [Model Geometry (Plotly)](plot_model_plotly.ipynb)\n",
    "* [Eigen (Plotly)](plot_eigen_plotly.ipynb)\n",
    "* [Nodal Responses (Plotly)](plot_nodal_resp_plotly.ipynb)\n",
    "* [Frame Responses (Plotly)](plot_frame_resp_plotly.ipynb)\n",
    "* [Truss Responses (Plotly)](plot_truss_resp_plotly.ipynb)\n",
    "* [Shell Responses (Plotly)](plot_shell_resp_plotly.ipynb)\n",
    "* [Plane Responses (Plotly)](plot_plane_resp_plotly.ipynb)\n",
    "* [Brick Responses (Plotly)](plot_brick_resp_plotly.ipynb)"
   ]
  },
  {
   "cell_type": "markdown",
   "metadata": {
    "editable": true,
    "slideshow": {
     "slide_type": ""
    },
    "tags": [],
    "vscode": {
     "languageId": "plaintext"
    }
   },
   "source": [
    "## Visualization Based on PyVista"
   ]
  },
  {
   "cell_type": "markdown",
   "metadata": {
    "vscode": {
     "languageId": "plaintext"
    }
   },
   "source": [
    "Refer to the module ``opstool.vis.pyvista`` module for details."
   ]
  },
  {
   "cell_type": "markdown",
   "metadata": {
    "editable": true,
    "slideshow": {
     "slide_type": ""
    },
    "tags": [
     "nbsphinx-gallery"
    ],
    "vscode": {
     "languageId": "plaintext"
    }
   },
   "source": [
    "* [Model Geometry (Pyvista)](plot_model_pyvista.ipynb)\n",
    "* [Eigen (Pyvista)](plot_eigen_pyvista.ipynb)\n",
    "* [Nodal Responses (Pyvista)](plot_nodal_resp_pyvista.ipynb)\n",
    "* [Frame Responses (Pyvista)](plot_frame_resp_pyvista.ipynb)\n",
    "* [Truss Responses (Pyvista)](plot_truss_resp_pyvista.ipynb)\n",
    "* [Shell Responses (Pyvista)](plot_shell_resp_pyvista.ipynb)\n",
    "* [Plane Responses (Pyvista)](plot_plane_resp_pyvista.ipynb)\n",
    "* [Brick Responses (Pyvista)](plot_brick_resp_pyvista.ipynb)"
   ]
  },
  {
   "cell_type": "raw",
   "metadata": {
    "editable": true,
    "raw_mimetype": "text/restructuredtext",
    "slideshow": {
     "slide_type": ""
    },
    "tags": [],
    "vscode": {
     "languageId": "raw"
    }
   },
   "source": [
    ".. tip::\n",
    "   In Plotly, only surface rendering is supported. \n",
    "   As a result, solid elements like tetrahedra and hexahedra are visualized using triangulated meshes, \n",
    "   meaning that Plotly does not natively support solid meshes as PyVista does.\n",
    "\n",
    ".. important::\n",
    "    If your model is large or you are demonstrating a dynamic analysis with a very large number of steps, \n",
    "    do not use Plotly's ``slide`` module or attempt to create animations, as it will be extremely slow.\n",
    "    Ensure that ``slides=False``.\n",
    "\n",
    "With these two engines, ``opstool`` ensures flexibility and robust visualization options \n",
    "tailored for ``OpenSeesPy`` users, enabling effective analysis and presentation of structural models and \n",
    "simulation results."
   ]
  }
 ],
 "metadata": {
  "kernelspec": {
   "display_name": "opstool-dev",
   "language": "python",
   "name": "python3"
  },
  "language_info": {
   "codemirror_mode": {
    "name": "ipython",
    "version": 3
   },
   "file_extension": ".py",
   "mimetype": "text/x-python",
   "name": "python",
   "nbconvert_exporter": "python",
   "pygments_lexer": "ipython3",
   "version": "3.12.9"
  }
 },
 "nbformat": 4,
 "nbformat_minor": 4
}
