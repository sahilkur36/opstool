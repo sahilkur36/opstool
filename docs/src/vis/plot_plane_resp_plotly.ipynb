{
 "cells": [
  {
   "cell_type": "markdown",
   "id": "3668f9b3",
   "metadata": {},
   "source": [
    "#  Plane stress quad model visualization"
   ]
  },
  {
   "cell_type": "markdown",
   "id": "ee881e69",
   "metadata": {
    "vscode": {
     "languageId": "plaintext"
    }
   },
   "source": [
    "This model code  from [Plot stress distribution of a plane stress quad model](https://opsvis.readthedocs.io/en/latest/ex_quads_4x4.html)"
   ]
  },
  {
   "cell_type": "code",
   "execution_count": 1,
   "id": "4685c283",
   "metadata": {},
   "outputs": [],
   "source": [
    "import opstool\n",
    "import openseespy.opensees as ops\n",
    "import opstool.vis.plotly as opsvis"
   ]
  },
  {
   "cell_type": "markdown",
   "id": "831b346b",
   "metadata": {},
   "source": [
    "## Model"
   ]
  },
  {
   "cell_type": "code",
   "execution_count": 2,
   "id": "d7c5eee6",
   "metadata": {},
   "outputs": [],
   "source": [
    "ops.wipe()\n",
    "ops.model(\"basic\", \"-ndm\", 2, \"-ndf\", 2)\n",
    "ops.node(1, 0.0, 0.0)\n",
    "ops.node(2, 0.0, 1.0)\n",
    "ops.node(3, 0.0, 2.0)\n",
    "ops.node(4, 0.0, 3.0)\n",
    "ops.node(5, 0.0, 4.0)\n",
    "ops.node(6, 1.0, 0.0)\n",
    "ops.node(7, 1.0, 1.0)\n",
    "ops.node(8, 1.0, 2.0)\n",
    "ops.node(9, 1.0, 3.0)\n",
    "ops.node(10, 1.0, 4.0)\n",
    "ops.node(11, 2.0, 0.0)\n",
    "ops.node(12, 2.0, 1.0)\n",
    "ops.node(13, 2.0, 2.0)\n",
    "ops.node(14, 2.0, 3.0)\n",
    "ops.node(15, 2.0, 4.0)\n",
    "ops.node(16, 3.0, 0.0)\n",
    "ops.node(17, 3.0, 1.0)\n",
    "ops.node(18, 3.0, 2.0)\n",
    "ops.node(19, 3.0, 3.0)\n",
    "ops.node(20, 3.0, 4.0)\n",
    "ops.node(21, 4.0, 0.0)\n",
    "ops.node(22, 4.0, 1.0)\n",
    "ops.node(23, 4.0, 2.0)\n",
    "ops.node(24, 4.0, 3.0)\n",
    "ops.node(25, 4.0, 4.0)\n",
    "\n",
    "ops.nDMaterial(\"ElasticIsotropic\", 1, 1000, 0.3)\n",
    "\n",
    "ops.element(\"quad\", 1, 1, 6, 7, 2, 1, \"PlaneStress\", 1)\n",
    "ops.element(\"quad\", 2, 2, 7, 8, 3, 1, \"PlaneStress\", 1)\n",
    "ops.element(\"quad\", 3, 3, 8, 9, 4, 1, \"PlaneStress\", 1)\n",
    "ops.element(\"quad\", 4, 4, 9, 10, 5, 1, \"PlaneStress\", 1)\n",
    "ops.element(\"quad\", 5, 6, 11, 12, 7, 1, \"PlaneStress\", 1)\n",
    "ops.element(\"quad\", 6, 7, 12, 13, 8, 1, \"PlaneStress\", 1)\n",
    "ops.element(\"quad\", 7, 8, 13, 14, 9, 1, \"PlaneStress\", 1)\n",
    "ops.element(\"quad\", 8, 9, 14, 15, 10, 1, \"PlaneStress\", 1)\n",
    "ops.element(\"quad\", 9, 11, 16, 17, 12, 1, \"PlaneStress\", 1)\n",
    "ops.element(\"quad\", 10, 12, 17, 18, 13, 1, \"PlaneStress\", 1)\n",
    "ops.element(\"quad\", 11, 13, 18, 19, 14, 1, \"PlaneStress\", 1)\n",
    "ops.element(\"quad\", 12, 14, 19, 20, 15, 1, \"PlaneStress\", 1)\n",
    "ops.element(\"quad\", 13, 16, 21, 22, 17, 1, \"PlaneStress\", 1)\n",
    "ops.element(\"quad\", 14, 17, 22, 23, 18, 1, \"PlaneStress\", 1)\n",
    "ops.element(\"quad\", 15, 18, 23, 24, 19, 1, \"PlaneStress\", 1)\n",
    "ops.element(\"quad\", 16, 19, 24, 25, 20, 1, \"PlaneStress\", 1)\n",
    "\n",
    "ops.fix(1, 1, 1)\n",
    "ops.fix(6, 1, 1)\n",
    "ops.fix(11, 1, 1)\n",
    "ops.fix(16, 1, 1)\n",
    "ops.fix(21, 1, 1)\n",
    "\n",
    "ops.equalDOF(2, 22, 1, 2)\n",
    "ops.equalDOF(3, 23, 1, 2)\n",
    "ops.equalDOF(4, 24, 1, 2)\n",
    "ops.equalDOF(5, 25, 1, 2)"
   ]
  },
  {
   "cell_type": "code",
   "execution_count": 3,
   "id": "d70501da",
   "metadata": {},
   "outputs": [],
   "source": [
    "ops.timeSeries(\"Linear\", 1)\n",
    "ops.pattern(\"Plain\", 1, 1)\n",
    "ops.load(15, 0.0, -1.0)"
   ]
  },
  {
   "cell_type": "code",
   "execution_count": 4,
   "id": "1605254c",
   "metadata": {},
   "outputs": [
    {
     "data": {
      "application/vnd.plotly.v1+json": {
       "config": {
        "plotlyServerURL": "https://plot.ly"
       },
       "data": [
        {
         "color": "#00FFFF",
         "hoverinfo": "skip",
         "i": {
          "bdata": "AAAAAAAAAAAEAAAABAAAAAgAAAAIAAAADAAAAAwAAAAQAAAAEAAAABQAAAAUAAAAGAAAABgAAAAcAAAAHAAAACAAAAAgAAAAJAAAACQAAAAoAAAAKAAAACwAAAAsAAAAMAAAADAAAAA0AAAANAAAADgAAAA4AAAAPAAAADwAAAA=",
          "dtype": "i4"
         },
         "j": {
          "bdata": "AQAAAAIAAAAFAAAABgAAAAkAAAAKAAAADQAAAA4AAAARAAAAEgAAABUAAAAWAAAAGQAAABoAAAAdAAAAHgAAACEAAAAiAAAAJQAAACYAAAApAAAAKgAAAC0AAAAuAAAAMQAAADIAAAA1AAAANgAAADkAAAA6AAAAPQAAAD4AAAA=",
          "dtype": "i4"
         },
         "k": {
          "bdata": "AgAAAAMAAAAGAAAABwAAAAoAAAALAAAADgAAAA8AAAASAAAAEwAAABYAAAAXAAAAGgAAABsAAAAeAAAAHwAAACIAAAAjAAAAJgAAACcAAAAqAAAAKwAAAC4AAAAvAAAAMgAAADMAAAA2AAAANwAAADoAAAA7AAAAPgAAAD8AAAA=",
          "dtype": "i4"
         },
         "name": "FourNodeQuad",
         "opacity": 1,
         "type": "mesh3d",
         "x": {
          "bdata": "AAAAAAAAgD8AAIA/AAAAAAAAAAAAAIA/AACAPwAAAAAAAAAAAACAPwAAgD8AAAAAAAAAAAAAgD8AAIA/AAAAAAAAgD8AAABAAAAAQAAAgD8AAIA/AAAAQAAAAEAAAIA/AACAPwAAAEAAAABAAACAPwAAgD8AAABAAAAAQAAAgD8AAABAAABAQAAAQEAAAABAAAAAQAAAQEAAAEBAAAAAQAAAAEAAAEBAAABAQAAAAEAAAABAAABAQAAAQEAAAABAAABAQAAAgEAAAIBAAABAQAAAQEAAAIBAAACAQAAAQEAAAEBAAACAQAAAgEAAAEBAAABAQAAAgEAAAIBAAABAQA==",
          "dtype": "f4"
         },
         "y": {
          "bdata": "AAAAAAAAAAAAAIA/AACAPwAAgD8AAIA/AAAAQAAAAEAAAABAAAAAQAAAQEAAAEBAAABAQAAAQEAAAIBAAACAQAAAAAAAAAAAAACAPwAAgD8AAIA/AACAPwAAAEAAAABAAAAAQAAAAEAAAEBAAABAQAAAQEAAAEBAAACAQAAAgEAAAAAAAAAAAAAAgD8AAIA/AACAPwAAgD8AAABAAAAAQAAAAEAAAABAAABAQAAAQEAAAEBAAABAQAAAgEAAAIBAAAAAAAAAAAAAAIA/AACAPwAAgD8AAIA/AAAAQAAAAEAAAABAAAAAQAAAQEAAAEBAAABAQAAAQEAAAIBAAACAQA==",
          "dtype": "f4"
         },
         "z": {
          "bdata": "AAAAAAAAAAAAAAAAAAAAAAAAAAAAAAAAAAAAAAAAAAAAAAAAAAAAAAAAAAAAAAAAAAAAAAAAAAAAAAAAAAAAAAAAAAAAAAAAAAAAAAAAAAAAAAAAAAAAAAAAAAAAAAAAAAAAAAAAAAAAAAAAAAAAAAAAAAAAAAAAAAAAAAAAAAAAAAAAAAAAAAAAAAAAAAAAAAAAAAAAAAAAAAAAAAAAAAAAAAAAAAAAAAAAAAAAAAAAAAAAAAAAAAAAAAAAAAAAAAAAAAAAAAAAAAAAAAAAAAAAAAAAAAAAAAAAAAAAAAAAAAAAAAAAAAAAAAAAAAAAAAAAAAAAAAAAAAAAAAAAAA==",
          "dtype": "f4"
         }
        },
        {
         "connectgaps": false,
         "hoverinfo": "skip",
         "line": {
          "color": "black",
          "width": 1
         },
         "mode": "lines",
         "name": "Edge",
         "type": "scatter3d",
         "x": {
          "bdata": "AAAAAAAAAAAAAAAAAADwPwAAAAAAAPA/AAAAAAAAAAAAAAAAAAAAAAAAAAAAAPh/AAAAAAAAAAAAAAAAAADwPwAAAAAAAPA/AAAAAAAAAAAAAAAAAAAAAAAAAAAAAPh/AAAAAAAAAAAAAAAAAADwPwAAAAAAAPA/AAAAAAAAAAAAAAAAAAAAAAAAAAAAAPh/AAAAAAAAAAAAAAAAAADwPwAAAAAAAPA/AAAAAAAAAAAAAAAAAAAAAAAAAAAAAPh/AAAAAAAA8D8AAAAAAAAAQAAAAAAAAABAAAAAAAAA8D8AAAAAAADwPwAAAAAAAPh/AAAAAAAA8D8AAAAAAAAAQAAAAAAAAABAAAAAAAAA8D8AAAAAAADwPwAAAAAAAPh/AAAAAAAA8D8AAAAAAAAAQAAAAAAAAABAAAAAAAAA8D8AAAAAAADwPwAAAAAAAPh/AAAAAAAA8D8AAAAAAAAAQAAAAAAAAABAAAAAAAAA8D8AAAAAAADwPwAAAAAAAPh/AAAAAAAAAEAAAAAAAAAIQAAAAAAAAAhAAAAAAAAAAEAAAAAAAAAAQAAAAAAAAPh/AAAAAAAAAEAAAAAAAAAIQAAAAAAAAAhAAAAAAAAAAEAAAAAAAAAAQAAAAAAAAPh/AAAAAAAAAEAAAAAAAAAIQAAAAAAAAAhAAAAAAAAAAEAAAAAAAAAAQAAAAAAAAPh/AAAAAAAAAEAAAAAAAAAIQAAAAAAAAAhAAAAAAAAAAEAAAAAAAAAAQAAAAAAAAPh/AAAAAAAACEAAAAAAAAAQQAAAAAAAABBAAAAAAAAACEAAAAAAAAAIQAAAAAAAAPh/AAAAAAAACEAAAAAAAAAQQAAAAAAAABBAAAAAAAAACEAAAAAAAAAIQAAAAAAAAPh/AAAAAAAACEAAAAAAAAAQQAAAAAAAABBAAAAAAAAACEAAAAAAAAAIQAAAAAAAAPh/AAAAAAAACEAAAAAAAAAQQAAAAAAAABBAAAAAAAAACEAAAAAAAAAIQAAAAAAAAPh/",
          "dtype": "f8"
         },
         "y": {
          "bdata": "AAAAAAAAAAAAAAAAAAAAAAAAAAAAAPA/AAAAAAAA8D8AAAAAAAAAAAAAAAAAAPh/AAAAAAAA8D8AAAAAAADwPwAAAAAAAABAAAAAAAAAAEAAAAAAAADwPwAAAAAAAPh/AAAAAAAAAEAAAAAAAAAAQAAAAAAAAAhAAAAAAAAACEAAAAAAAAAAQAAAAAAAAPh/AAAAAAAACEAAAAAAAAAIQAAAAAAAABBAAAAAAAAAEEAAAAAAAAAIQAAAAAAAAPh/AAAAAAAAAAAAAAAAAAAAAAAAAAAAAPA/AAAAAAAA8D8AAAAAAAAAAAAAAAAAAPh/AAAAAAAA8D8AAAAAAADwPwAAAAAAAABAAAAAAAAAAEAAAAAAAADwPwAAAAAAAPh/AAAAAAAAAEAAAAAAAAAAQAAAAAAAAAhAAAAAAAAACEAAAAAAAAAAQAAAAAAAAPh/AAAAAAAACEAAAAAAAAAIQAAAAAAAABBAAAAAAAAAEEAAAAAAAAAIQAAAAAAAAPh/AAAAAAAAAAAAAAAAAAAAAAAAAAAAAPA/AAAAAAAA8D8AAAAAAAAAAAAAAAAAAPh/AAAAAAAA8D8AAAAAAADwPwAAAAAAAABAAAAAAAAAAEAAAAAAAADwPwAAAAAAAPh/AAAAAAAAAEAAAAAAAAAAQAAAAAAAAAhAAAAAAAAACEAAAAAAAAAAQAAAAAAAAPh/AAAAAAAACEAAAAAAAAAIQAAAAAAAABBAAAAAAAAAEEAAAAAAAAAIQAAAAAAAAPh/AAAAAAAAAAAAAAAAAAAAAAAAAAAAAPA/AAAAAAAA8D8AAAAAAAAAAAAAAAAAAPh/AAAAAAAA8D8AAAAAAADwPwAAAAAAAABAAAAAAAAAAEAAAAAAAADwPwAAAAAAAPh/AAAAAAAAAEAAAAAAAAAAQAAAAAAAAAhAAAAAAAAACEAAAAAAAAAAQAAAAAAAAPh/AAAAAAAACEAAAAAAAAAIQAAAAAAAABBAAAAAAAAAEEAAAAAAAAAIQAAAAAAAAPh/",
          "dtype": "f8"
         },
         "z": {
          "bdata": "AAAAAAAAAAAAAAAAAAAAAAAAAAAAAAAAAAAAAAAAAAAAAAAAAAAAAAAAAAAAAPh/AAAAAAAAAAAAAAAAAAAAAAAAAAAAAAAAAAAAAAAAAAAAAAAAAAAAAAAAAAAAAPh/AAAAAAAAAAAAAAAAAAAAAAAAAAAAAAAAAAAAAAAAAAAAAAAAAAAAAAAAAAAAAPh/AAAAAAAAAAAAAAAAAAAAAAAAAAAAAAAAAAAAAAAAAAAAAAAAAAAAAAAAAAAAAPh/AAAAAAAAAAAAAAAAAAAAAAAAAAAAAAAAAAAAAAAAAAAAAAAAAAAAAAAAAAAAAPh/AAAAAAAAAAAAAAAAAAAAAAAAAAAAAAAAAAAAAAAAAAAAAAAAAAAAAAAAAAAAAPh/AAAAAAAAAAAAAAAAAAAAAAAAAAAAAAAAAAAAAAAAAAAAAAAAAAAAAAAAAAAAAPh/AAAAAAAAAAAAAAAAAAAAAAAAAAAAAAAAAAAAAAAAAAAAAAAAAAAAAAAAAAAAAPh/AAAAAAAAAAAAAAAAAAAAAAAAAAAAAAAAAAAAAAAAAAAAAAAAAAAAAAAAAAAAAPh/AAAAAAAAAAAAAAAAAAAAAAAAAAAAAAAAAAAAAAAAAAAAAAAAAAAAAAAAAAAAAPh/AAAAAAAAAAAAAAAAAAAAAAAAAAAAAAAAAAAAAAAAAAAAAAAAAAAAAAAAAAAAAPh/AAAAAAAAAAAAAAAAAAAAAAAAAAAAAAAAAAAAAAAAAAAAAAAAAAAAAAAAAAAAAPh/AAAAAAAAAAAAAAAAAAAAAAAAAAAAAAAAAAAAAAAAAAAAAAAAAAAAAAAAAAAAAPh/AAAAAAAAAAAAAAAAAAAAAAAAAAAAAAAAAAAAAAAAAAAAAAAAAAAAAAAAAAAAAPh/AAAAAAAAAAAAAAAAAAAAAAAAAAAAAAAAAAAAAAAAAAAAAAAAAAAAAAAAAAAAAPh/AAAAAAAAAAAAAAAAAAAAAAAAAAAAAAAAAAAAAAAAAAAAAAAAAAAAAAAAAAAAAPh/",
          "dtype": "f8"
         }
        },
        {
         "customdata": [
          "eleTag: 1<br>connectedNodes:<br> [1 6 7 2]",
          "eleTag: 2<br>connectedNodes:<br> [2 7 8 3]",
          "eleTag: 3<br>connectedNodes:<br> [3 8 9 4]",
          "eleTag: 4<br>connectedNodes:<br> [ 4  9 10  5]",
          "eleTag: 5<br>connectedNodes:<br> [ 6 11 12  7]",
          "eleTag: 6<br>connectedNodes:<br> [ 7 12 13  8]",
          "eleTag: 7<br>connectedNodes:<br> [ 8 13 14  9]",
          "eleTag: 8<br>connectedNodes:<br> [ 9 14 15 10]",
          "eleTag: 9<br>connectedNodes:<br> [11 16 17 12]",
          "eleTag: 10<br>connectedNodes:<br> [12 17 18 13]",
          "eleTag: 11<br>connectedNodes:<br> [13 18 19 14]",
          "eleTag: 12<br>connectedNodes:<br> [14 19 20 15]",
          "eleTag: 13<br>connectedNodes:<br> [16 21 22 17]",
          "eleTag: 14<br>connectedNodes:<br> [17 22 23 18]",
          "eleTag: 15<br>connectedNodes:<br> [18 23 24 19]",
          "eleTag: 16<br>connectedNodes:<br> [19 24 25 20]"
         ],
         "hovertemplate": "%{customdata}",
         "marker": {
          "color": "#00FFFF",
          "size": 3,
          "symbol": "diamond-open"
         },
         "mode": "markers",
         "name": "FourNodeQuad",
         "type": "scatter3d",
         "x": {
          "bdata": "AAAAPwAAAD8AAAA/AAAAPwAAwD8AAMA/AADAPwAAwD8AACBAAAAgQAAAIEAAACBAAABgQAAAYEAAAGBAAABgQA==",
          "dtype": "f4"
         },
         "y": {
          "bdata": "AAAAPwAAwD8AACBAAABgQAAAAD8AAMA/AAAgQAAAYEAAAAA/AADAPwAAIEAAAGBAAAAAPwAAwD8AACBAAABgQA==",
          "dtype": "f4"
         },
         "z": {
          "bdata": "AAAAAAAAAAAAAAAAAAAAAAAAAAAAAAAAAAAAAAAAAAAAAAAAAAAAAAAAAAAAAAAAAAAAAAAAAAAAAAAAAAAAAA==",
          "dtype": "f4"
         }
        },
        {
         "customdata": [
          "1",
          "2",
          "3",
          "4",
          "5",
          "6",
          "7",
          "8",
          "9",
          "10",
          "11",
          "12",
          "13",
          "14",
          "15",
          "16",
          "17",
          "18",
          "19",
          "20",
          "21",
          "22",
          "23",
          "24",
          "25"
         ],
         "hovertemplate": "x: %{x}<br>y: %{y}<br>z: %{z} <br>nodeTag: %{customdata}",
         "marker": {
          "color": "#580f41",
          "size": 3,
          "symbol": "circle"
         },
         "mode": "markers",
         "name": "Nodes",
         "type": "scatter3d",
         "x": {
          "bdata": "AAAAAAAAAAAAAAAAAAAAAAAAAAAAAIA/AACAPwAAgD8AAIA/AACAPwAAAEAAAABAAAAAQAAAAEAAAABAAABAQAAAQEAAAEBAAABAQAAAQEAAAIBAAACAQAAAgEAAAIBAAACAQA==",
          "dtype": "f4"
         },
         "y": {
          "bdata": "AAAAAAAAgD8AAABAAABAQAAAgEAAAAAAAACAPwAAAEAAAEBAAACAQAAAAAAAAIA/AAAAQAAAQEAAAIBAAAAAAAAAgD8AAABAAABAQAAAgEAAAAAAAACAPwAAAEAAAEBAAACAQA==",
          "dtype": "f4"
         },
         "z": {
          "bdata": "AAAAAAAAAAAAAAAAAAAAAAAAAAAAAAAAAAAAAAAAAAAAAAAAAAAAAAAAAAAAAAAAAAAAAAAAAAAAAAAAAAAAAAAAAAAAAAAAAAAAAAAAAAAAAAAAAAAAAAAAAAAAAAAAAAAAAA==",
          "dtype": "f4"
         }
        },
        {
         "connectgaps": false,
         "hoverinfo": "skip",
         "line": {
          "color": "#15b01a",
          "width": 1
         },
         "mode": "lines",
         "name": "BC",
         "type": "scatter3d",
         "x": {
          "bdata": "exSuR+F6lL97FK5H4XqUPwAAAAAAAAAAexSuR+F6lL8AAAAAAAD4f1yPwvUoXO8/UrgehetR8D8AAAAAAADwP1yPwvUoXO8/AAAAAAAA+H+uR+F6FK7/Pylcj8L1KABAAAAAAAAAAECuR+F6FK7/PwAAAAAAAPh/16NwPQrXB0ApXI/C9SgIQAAAAAAAAAhA16NwPQrXB0AAAAAAAAD4f9ejcD0K1w9AFK5H4XoUEEAAAAAAAAAQQNejcD0K1w9AAAAAAAAA+H8=",
          "dtype": "f8"
         },
         "y": {
          "bdata": "exSuR+F6pL97FK5H4XqkvwAAAAAAAAAAexSuR+F6pL8AAAAAAAD4f3sUrkfheqS/exSuR+F6pL8AAAAAAAAAAHsUrkfheqS/AAAAAAAA+H97FK5H4Xqkv3sUrkfheqS/AAAAAAAAAAB7FK5H4XqkvwAAAAAAAPh/exSuR+F6pL97FK5H4XqkvwAAAAAAAAAAexSuR+F6pL8AAAAAAAD4f3sUrkfheqS/exSuR+F6pL8AAAAAAAAAAHsUrkfheqS/AAAAAAAA+H8=",
          "dtype": "f8"
         },
         "z": {
          "bdata": "AAAAAAAAAAAAAAAAAAAAAAAAAAAAAAAAAAAAAAAAAAAAAAAAAAD4fwAAAAAAAAAAAAAAAAAAAAAAAAAAAAAAAAAAAAAAAAAAAAAAAAAA+H8AAAAAAAAAAAAAAAAAAAAAAAAAAAAAAAAAAAAAAAAAAAAAAAAAAPh/AAAAAAAAAAAAAAAAAAAAAAAAAAAAAAAAAAAAAAAAAAAAAAAAAAD4fwAAAAAAAAAAAAAAAAAAAAAAAAAAAAAAAAAAAAAAAAAAAAAAAAAA+H8=",
          "dtype": "f8"
         }
        },
        {
         "connectgaps": false,
         "hoverinfo": "skip",
         "line": {
          "color": "#FF1493",
          "width": 2.5
         },
         "mode": "lines",
         "name": "mp constraint",
         "type": "scatter3d",
         "x": {
          "bdata": "AAAAAAAAAAAAAAAAAAAQQAAAAAAAAPh/AAAAAAAAAAAAAAAAAAAQQAAAAAAAAPh/AAAAAAAAAAAAAAAAAAAQQAAAAAAAAPh/AAAAAAAAAAAAAAAAAAAQQAAAAAAAAPh/",
          "dtype": "f8"
         },
         "y": {
          "bdata": "AAAAAAAA8D8AAAAAAADwPwAAAAAAAPh/AAAAAAAAAEAAAAAAAAAAQAAAAAAAAPh/AAAAAAAACEAAAAAAAAAIQAAAAAAAAPh/AAAAAAAAEEAAAAAAAAAQQAAAAAAAAPh/",
          "dtype": "f8"
         },
         "z": {
          "bdata": "AAAAAAAAAAAAAAAAAAAAAAAAAAAAAPh/AAAAAAAAAAAAAAAAAAAAAAAAAAAAAPh/AAAAAAAAAAAAAAAAAAAAAAAAAAAAAPh/AAAAAAAAAAAAAAAAAAAAAAAAAAAAAPh/",
          "dtype": "f8"
         }
        },
        {
         "connectgaps": false,
         "hovertemplate": "<b>%{text}</b>",
         "line": {
          "color": "#0000ff",
          "width": 5
         },
         "mode": "lines",
         "name": "<b>Pattern 1</b><br>Nodal Load",
         "text": [
          "0.00e+00",
          "0.00e+00",
          "0.00e+00"
         ],
         "type": "scatter3d",
         "x": {
          "bdata": "AAAAAAAAAEAAAAAAAAAAQAAAAAAAAPh/",
          "dtype": "f8"
         },
         "y": {
          "bdata": "AAAAAAAAEEAAAAAAAAAQQAAAAAAAAPh/",
          "dtype": "f8"
         },
         "z": {
          "bdata": "AAAAAAAAAAAAAAAAAAAAAAAAAAAAAPh/",
          "dtype": "f8"
         }
        },
        {
         "color": "#0000ff",
         "hovertemplate": "<b>%{text}",
         "i": {
          "bdata": "AAAAAAAAAAABAAAAAQAAAAIAAAACAAAAAwAAAAMAAAAEAAAABAAAAAUAAAAFAAAABgAAAAYAAAAHAAAABwAAAAgAAAAIAAAACQAAAAkAAAAKAAAACgAAAAsAAAALAAAADAAAAAwAAAANAAAADQAAAA4AAAAOAAAADwAAAA8AAAA=",
          "dtype": "i4"
         },
         "j": {
          "bdata": "AQAAAAEAAAACAAAAAgAAAAMAAAADAAAABAAAAAQAAAAFAAAABQAAAAYAAAAGAAAABwAAAAcAAAAIAAAACAAAAAkAAAAJAAAACgAAAAoAAAALAAAACwAAAAwAAAAMAAAADQAAAA0AAAAOAAAADgAAAA8AAAAPAAAAAAAAAAAAAAA=",
          "dtype": "i4"
         },
         "k": {
          "bdata": "EAAAABEAAAAQAAAAEQAAABAAAAARAAAAEAAAABEAAAAQAAAAEQAAABAAAAARAAAAEAAAABEAAAAQAAAAEQAAABAAAAARAAAAEAAAABEAAAAQAAAAEQAAABAAAAARAAAAEAAAABEAAAAQAAAAEQAAABAAAAARAAAAEAAAABEAAAA=",
          "dtype": "i4"
         },
         "name": "<b>Pattern 1</b><br>Nodal Load",
         "text": [
          "0.00e+00",
          "0.00e+00",
          "0.00e+00",
          "0.00e+00",
          "0.00e+00",
          "0.00e+00",
          "0.00e+00",
          "0.00e+00",
          "0.00e+00",
          "0.00e+00",
          "0.00e+00",
          "0.00e+00",
          "0.00e+00",
          "0.00e+00",
          "0.00e+00",
          "0.00e+00",
          "0.00e+00",
          "0.00e+00"
         ],
         "type": "mesh3d",
         "x": {
          "bdata": "AAAAAAAAAEAAAAAAAAAAQAAAAAAAAABAAAAAAAAAAEAAAAAAAAAAQAAAAAAAAABAAAAAAAAAAEAAAAAAAAAAQAAAAAAAAABAAAAAAAAAAEAAAAAAAAAAQAAAAAAAAABAAAAAAAAAAEAAAAAAAAAAQAAAAAAAAABAAAAAAAAAAEAAAAAAAAAAQAAAAAAAAABA",
          "dtype": "f8"
         },
         "y": {
          "bdata": "AAAAAAAAEEAAAAAAAAAQQAAAAAAAABBAAAAAAAAAEEAAAAAAAAAQQAAAAAAAABBAAAAAAAAAEEAAAAAAAAAQQAAAAAAAABBAAAAAAAAAEEAAAAAAAAAQQAAAAAAAABBAAAAAAAAAEEAAAAAAAAAQQAAAAAAAABBAAAAAAAAAEEAAAAAAAAAQQAAAAAAAABBA",
          "dtype": "f8"
         },
         "z": {
          "bdata": "AAAAAAAAAAAAAAAAAAAAAAAAAAAAAAAAAAAAAAAAAAAAAAAAAAAAAAAAAAAAAAAAAAAAAAAAAAAAAAAAAAAAAAAAAAAAAAAAAAAAAAAAAAAAAAAAAAAAAAAAAAAAAAAAAAAAAAAAAAAAAAAAAAAAAAAAAAAAAAAAAAAAAAAAAAAAAAAAAAAAAAAAAAAAAAAA",
          "dtype": "f8"
         }
        },
        {
         "connectgaps": false,
         "hovertemplate": "<b>%{text}</b>",
         "line": {
          "color": "#0000ff",
          "width": 5
         },
         "mode": "lines",
         "name": "<b>Pattern 1</b><br>Nodal Load",
         "text": [
          "-1.00e+00",
          "-1.00e+00",
          "-1.00e+00"
         ],
         "type": "scatter3d",
         "x": {
          "bdata": "AAAAAAAAAEAAAAAAAAAAQAAAAAAAAPh/",
          "dtype": "f8"
         },
         "y": {
          "bdata": "AAAAYLgeEUAAAACg61EQQAAAAAAAAPh/",
          "dtype": "f8"
         },
         "z": {
          "bdata": "AAAAAAAAAAAAAAAAAAAAAAAAAAAAAPh/",
          "dtype": "f8"
         }
        },
        {
         "color": "#0000ff",
         "hovertemplate": "<b>%{text}",
         "i": {
          "bdata": "AAAAAAAAAAABAAAAAQAAAAIAAAACAAAAAwAAAAMAAAAEAAAABAAAAAUAAAAFAAAABgAAAAYAAAAHAAAABwAAAAgAAAAIAAAACQAAAAkAAAAKAAAACgAAAAsAAAALAAAADAAAAAwAAAANAAAADQAAAA4AAAAOAAAADwAAAA8AAAA=",
          "dtype": "i4"
         },
         "j": {
          "bdata": "AQAAAAEAAAACAAAAAgAAAAMAAAADAAAABAAAAAQAAAAFAAAABQAAAAYAAAAGAAAABwAAAAcAAAAIAAAACAAAAAkAAAAJAAAACgAAAAoAAAALAAAACwAAAAwAAAAMAAAADQAAAA0AAAAOAAAADgAAAA8AAAAPAAAAAAAAAAAAAAA=",
          "dtype": "i4"
         },
         "k": {
          "bdata": "EAAAABEAAAAQAAAAEQAAABAAAAARAAAAEAAAABEAAAAQAAAAEQAAABAAAAARAAAAEAAAABEAAAAQAAAAEQAAABAAAAARAAAAEAAAABEAAAAQAAAAEQAAABAAAAARAAAAEAAAABEAAAAQAAAAEQAAABAAAAARAAAAEAAAABEAAAA=",
          "dtype": "i4"
         },
         "name": "<b>Pattern 1</b><br>Nodal Load",
         "text": [
          "-1.00e+00",
          "-1.00e+00",
          "-1.00e+00",
          "-1.00e+00",
          "-1.00e+00",
          "-1.00e+00",
          "-1.00e+00",
          "-1.00e+00",
          "-1.00e+00",
          "-1.00e+00",
          "-1.00e+00",
          "-1.00e+00",
          "-1.00e+00",
          "-1.00e+00",
          "-1.00e+00",
          "-1.00e+00",
          "-1.00e+00",
          "-1.00e+00"
         ],
         "type": "mesh3d",
         "x": {
          "bdata": "UrgehetRAECZedRv1koAQI+9lq/QNgBAmx5bjlAZAEBXAizC3+7/P65H4XoUrv8/eAorXnN7/z+sRxyEvV//P6xHHIS9X/8/eAorXnN7/z+uR+F6FK7/P1cCLMLf7v8/mx5bjlAZAECPvZav0DYAQJl51G/WSgBAUrgehetRAEAAAAAAAAAAQAAAAAAAAABA",
          "dtype": "f8"
         },
         "y": {
          "bdata": "AAAAoOtREEAAAACg61EQQAAAAKDrURBAAAAAoOtREEAAAACg61EQQAAAAKDrURBAAAAAoOtREEAAAACg61EQQAAAAKDrURBAAAAAoOtREEAAAACg61EQQAAAAKDrURBAAAAAoOtREEAAAACg61EQQAAAAKDrURBAAAAAoOtREEAAAACg61EQQDMzM3MK1w9A",
          "dtype": "f8"
         },
         "z": {
          "bdata": "AAAAAAAAAAABtdBc8aiQPw1vdTNwcJ4/rxe7ckZ6oz/I0UKxKF6kP+nU8J53vKE/j+60BWATmD+ngAFkOQiBP5iAAWQ5CIG/je60BWATmL/o1PCed7yhv8jRQrEoXqS/rxe7ckZ6o78Sb3UzcHCevwq10FzxqJC/j2upIjuXZrwAAAAAAAAAAAAAAAAAAAAA",
          "dtype": "f8"
         }
        },
        {
         "connectgaps": false,
         "hovertemplate": "<b>%{text}</b>",
         "line": {
          "color": "#0000ff",
          "width": 5
         },
         "mode": "lines",
         "name": "<b>Pattern 1</b><br>Nodal Load",
         "text": [
          "0.00e+00",
          "0.00e+00",
          "0.00e+00"
         ],
         "type": "scatter3d",
         "x": {
          "bdata": "AAAAAAAAAEAAAAAAAAAAQAAAAAAAAPh/",
          "dtype": "f8"
         },
         "y": {
          "bdata": "AAAAAAAAEEAAAAAAAAAQQAAAAAAAAPh/",
          "dtype": "f8"
         },
         "z": {
          "bdata": "AAAAAAAAAAAAAAAAAAAAAAAAAAAAAPh/",
          "dtype": "f8"
         }
        },
        {
         "color": "#0000ff",
         "hovertemplate": "<b>%{text}",
         "i": {
          "bdata": "AAAAAAAAAAABAAAAAQAAAAIAAAACAAAAAwAAAAMAAAAEAAAABAAAAAUAAAAFAAAABgAAAAYAAAAHAAAABwAAAAgAAAAIAAAACQAAAAkAAAAKAAAACgAAAAsAAAALAAAADAAAAAwAAAANAAAADQAAAA4AAAAOAAAADwAAAA8AAAA=",
          "dtype": "i4"
         },
         "j": {
          "bdata": "AQAAAAEAAAACAAAAAgAAAAMAAAADAAAABAAAAAQAAAAFAAAABQAAAAYAAAAGAAAABwAAAAcAAAAIAAAACAAAAAkAAAAJAAAACgAAAAoAAAALAAAACwAAAAwAAAAMAAAADQAAAA0AAAAOAAAADgAAAA8AAAAPAAAAAAAAAAAAAAA=",
          "dtype": "i4"
         },
         "k": {
          "bdata": "EAAAABEAAAAQAAAAEQAAABAAAAARAAAAEAAAABEAAAAQAAAAEQAAABAAAAARAAAAEAAAABEAAAAQAAAAEQAAABAAAAARAAAAEAAAABEAAAAQAAAAEQAAABAAAAARAAAAEAAAABEAAAAQAAAAEQAAABAAAAARAAAAEAAAABEAAAA=",
          "dtype": "i4"
         },
         "name": "<b>Pattern 1</b><br>Nodal Load",
         "text": [
          "0.00e+00",
          "0.00e+00",
          "0.00e+00",
          "0.00e+00",
          "0.00e+00",
          "0.00e+00",
          "0.00e+00",
          "0.00e+00",
          "0.00e+00",
          "0.00e+00",
          "0.00e+00",
          "0.00e+00",
          "0.00e+00",
          "0.00e+00",
          "0.00e+00",
          "0.00e+00",
          "0.00e+00",
          "0.00e+00"
         ],
         "type": "mesh3d",
         "x": {
          "bdata": "AAAAAAAAAEAAAAAAAAAAQAAAAAAAAABAAAAAAAAAAEAAAAAAAAAAQAAAAAAAAABAAAAAAAAAAEAAAAAAAAAAQAAAAAAAAABAAAAAAAAAAEAAAAAAAAAAQAAAAAAAAABAAAAAAAAAAEAAAAAAAAAAQAAAAAAAAABAAAAAAAAAAEAAAAAAAAAAQAAAAAAAAABA",
          "dtype": "f8"
         },
         "y": {
          "bdata": "AAAAAAAAEEAAAAAAAAAQQAAAAAAAABBAAAAAAAAAEEAAAAAAAAAQQAAAAAAAABBAAAAAAAAAEEAAAAAAAAAQQAAAAAAAABBAAAAAAAAAEEAAAAAAAAAQQAAAAAAAABBAAAAAAAAAEEAAAAAAAAAQQAAAAAAAABBAAAAAAAAAEEAAAAAAAAAQQAAAAAAAABBA",
          "dtype": "f8"
         },
         "z": {
          "bdata": "AAAAAAAAAAAAAAAAAAAAAAAAAAAAAAAAAAAAAAAAAAAAAAAAAAAAAAAAAAAAAAAAAAAAAAAAAAAAAAAAAAAAAAAAAAAAAAAAAAAAAAAAAAAAAAAAAAAAAAAAAAAAAAAAAAAAAAAAAAAAAAAAAAAAAAAAAAAAAAAAAAAAAAAAAAAAAAAAAAAAAAAAAAAAAAAA",
          "dtype": "f8"
         }
        }
       ],
       "layout": {
        "autosize": true,
        "font": {
         "family": "Arial, sans-serif"
        },
        "scene": {
         "aspectmode": "data",
         "camera": {
          "eye": {
           "x": 0,
           "y": -0.1,
           "z": 4
          }
         },
         "dragmode": "pan",
         "xaxis": {
          "showbackground": false
         },
         "yaxis": {
          "showbackground": false
         },
         "zaxis": {
          "showbackground": true,
          "showgrid": true,
          "showticklabels": false,
          "ticks": "",
          "title": {
           "text": ""
          },
          "visible": true
         }
        },
        "showlegend": false,
        "template": {
         "data": {
          "bar": [
           {
            "error_x": {
             "color": "#2a3f5f"
            },
            "error_y": {
             "color": "#2a3f5f"
            },
            "marker": {
             "line": {
              "color": "#E5ECF6",
              "width": 0.5
             },
             "pattern": {
              "fillmode": "overlay",
              "size": 10,
              "solidity": 0.2
             }
            },
            "type": "bar"
           }
          ],
          "barpolar": [
           {
            "marker": {
             "line": {
              "color": "#E5ECF6",
              "width": 0.5
             },
             "pattern": {
              "fillmode": "overlay",
              "size": 10,
              "solidity": 0.2
             }
            },
            "type": "barpolar"
           }
          ],
          "carpet": [
           {
            "aaxis": {
             "endlinecolor": "#2a3f5f",
             "gridcolor": "white",
             "linecolor": "white",
             "minorgridcolor": "white",
             "startlinecolor": "#2a3f5f"
            },
            "baxis": {
             "endlinecolor": "#2a3f5f",
             "gridcolor": "white",
             "linecolor": "white",
             "minorgridcolor": "white",
             "startlinecolor": "#2a3f5f"
            },
            "type": "carpet"
           }
          ],
          "choropleth": [
           {
            "colorbar": {
             "outlinewidth": 0,
             "ticks": ""
            },
            "type": "choropleth"
           }
          ],
          "contour": [
           {
            "colorbar": {
             "outlinewidth": 0,
             "ticks": ""
            },
            "colorscale": [
             [
              0,
              "#0d0887"
             ],
             [
              0.1111111111111111,
              "#46039f"
             ],
             [
              0.2222222222222222,
              "#7201a8"
             ],
             [
              0.3333333333333333,
              "#9c179e"
             ],
             [
              0.4444444444444444,
              "#bd3786"
             ],
             [
              0.5555555555555556,
              "#d8576b"
             ],
             [
              0.6666666666666666,
              "#ed7953"
             ],
             [
              0.7777777777777778,
              "#fb9f3a"
             ],
             [
              0.8888888888888888,
              "#fdca26"
             ],
             [
              1,
              "#f0f921"
             ]
            ],
            "type": "contour"
           }
          ],
          "contourcarpet": [
           {
            "colorbar": {
             "outlinewidth": 0,
             "ticks": ""
            },
            "type": "contourcarpet"
           }
          ],
          "heatmap": [
           {
            "colorbar": {
             "outlinewidth": 0,
             "ticks": ""
            },
            "colorscale": [
             [
              0,
              "#0d0887"
             ],
             [
              0.1111111111111111,
              "#46039f"
             ],
             [
              0.2222222222222222,
              "#7201a8"
             ],
             [
              0.3333333333333333,
              "#9c179e"
             ],
             [
              0.4444444444444444,
              "#bd3786"
             ],
             [
              0.5555555555555556,
              "#d8576b"
             ],
             [
              0.6666666666666666,
              "#ed7953"
             ],
             [
              0.7777777777777778,
              "#fb9f3a"
             ],
             [
              0.8888888888888888,
              "#fdca26"
             ],
             [
              1,
              "#f0f921"
             ]
            ],
            "type": "heatmap"
           }
          ],
          "histogram": [
           {
            "marker": {
             "pattern": {
              "fillmode": "overlay",
              "size": 10,
              "solidity": 0.2
             }
            },
            "type": "histogram"
           }
          ],
          "histogram2d": [
           {
            "colorbar": {
             "outlinewidth": 0,
             "ticks": ""
            },
            "colorscale": [
             [
              0,
              "#0d0887"
             ],
             [
              0.1111111111111111,
              "#46039f"
             ],
             [
              0.2222222222222222,
              "#7201a8"
             ],
             [
              0.3333333333333333,
              "#9c179e"
             ],
             [
              0.4444444444444444,
              "#bd3786"
             ],
             [
              0.5555555555555556,
              "#d8576b"
             ],
             [
              0.6666666666666666,
              "#ed7953"
             ],
             [
              0.7777777777777778,
              "#fb9f3a"
             ],
             [
              0.8888888888888888,
              "#fdca26"
             ],
             [
              1,
              "#f0f921"
             ]
            ],
            "type": "histogram2d"
           }
          ],
          "histogram2dcontour": [
           {
            "colorbar": {
             "outlinewidth": 0,
             "ticks": ""
            },
            "colorscale": [
             [
              0,
              "#0d0887"
             ],
             [
              0.1111111111111111,
              "#46039f"
             ],
             [
              0.2222222222222222,
              "#7201a8"
             ],
             [
              0.3333333333333333,
              "#9c179e"
             ],
             [
              0.4444444444444444,
              "#bd3786"
             ],
             [
              0.5555555555555556,
              "#d8576b"
             ],
             [
              0.6666666666666666,
              "#ed7953"
             ],
             [
              0.7777777777777778,
              "#fb9f3a"
             ],
             [
              0.8888888888888888,
              "#fdca26"
             ],
             [
              1,
              "#f0f921"
             ]
            ],
            "type": "histogram2dcontour"
           }
          ],
          "mesh3d": [
           {
            "colorbar": {
             "outlinewidth": 0,
             "ticks": ""
            },
            "type": "mesh3d"
           }
          ],
          "parcoords": [
           {
            "line": {
             "colorbar": {
              "outlinewidth": 0,
              "ticks": ""
             }
            },
            "type": "parcoords"
           }
          ],
          "pie": [
           {
            "automargin": true,
            "type": "pie"
           }
          ],
          "scatter": [
           {
            "fillpattern": {
             "fillmode": "overlay",
             "size": 10,
             "solidity": 0.2
            },
            "type": "scatter"
           }
          ],
          "scatter3d": [
           {
            "line": {
             "colorbar": {
              "outlinewidth": 0,
              "ticks": ""
             }
            },
            "marker": {
             "colorbar": {
              "outlinewidth": 0,
              "ticks": ""
             }
            },
            "type": "scatter3d"
           }
          ],
          "scattercarpet": [
           {
            "marker": {
             "colorbar": {
              "outlinewidth": 0,
              "ticks": ""
             }
            },
            "type": "scattercarpet"
           }
          ],
          "scattergeo": [
           {
            "marker": {
             "colorbar": {
              "outlinewidth": 0,
              "ticks": ""
             }
            },
            "type": "scattergeo"
           }
          ],
          "scattergl": [
           {
            "marker": {
             "colorbar": {
              "outlinewidth": 0,
              "ticks": ""
             }
            },
            "type": "scattergl"
           }
          ],
          "scattermap": [
           {
            "marker": {
             "colorbar": {
              "outlinewidth": 0,
              "ticks": ""
             }
            },
            "type": "scattermap"
           }
          ],
          "scattermapbox": [
           {
            "marker": {
             "colorbar": {
              "outlinewidth": 0,
              "ticks": ""
             }
            },
            "type": "scattermapbox"
           }
          ],
          "scatterpolar": [
           {
            "marker": {
             "colorbar": {
              "outlinewidth": 0,
              "ticks": ""
             }
            },
            "type": "scatterpolar"
           }
          ],
          "scatterpolargl": [
           {
            "marker": {
             "colorbar": {
              "outlinewidth": 0,
              "ticks": ""
             }
            },
            "type": "scatterpolargl"
           }
          ],
          "scatterternary": [
           {
            "marker": {
             "colorbar": {
              "outlinewidth": 0,
              "ticks": ""
             }
            },
            "type": "scatterternary"
           }
          ],
          "surface": [
           {
            "colorbar": {
             "outlinewidth": 0,
             "ticks": ""
            },
            "colorscale": [
             [
              0,
              "#0d0887"
             ],
             [
              0.1111111111111111,
              "#46039f"
             ],
             [
              0.2222222222222222,
              "#7201a8"
             ],
             [
              0.3333333333333333,
              "#9c179e"
             ],
             [
              0.4444444444444444,
              "#bd3786"
             ],
             [
              0.5555555555555556,
              "#d8576b"
             ],
             [
              0.6666666666666666,
              "#ed7953"
             ],
             [
              0.7777777777777778,
              "#fb9f3a"
             ],
             [
              0.8888888888888888,
              "#fdca26"
             ],
             [
              1,
              "#f0f921"
             ]
            ],
            "type": "surface"
           }
          ],
          "table": [
           {
            "cells": {
             "fill": {
              "color": "#EBF0F8"
             },
             "line": {
              "color": "white"
             }
            },
            "header": {
             "fill": {
              "color": "#C8D4E3"
             },
             "line": {
              "color": "white"
             }
            },
            "type": "table"
           }
          ]
         },
         "layout": {
          "annotationdefaults": {
           "arrowcolor": "#2a3f5f",
           "arrowhead": 0,
           "arrowwidth": 1
          },
          "autotypenumbers": "strict",
          "coloraxis": {
           "colorbar": {
            "outlinewidth": 0,
            "ticks": ""
           }
          },
          "colorscale": {
           "diverging": [
            [
             0,
             "#8e0152"
            ],
            [
             0.1,
             "#c51b7d"
            ],
            [
             0.2,
             "#de77ae"
            ],
            [
             0.3,
             "#f1b6da"
            ],
            [
             0.4,
             "#fde0ef"
            ],
            [
             0.5,
             "#f7f7f7"
            ],
            [
             0.6,
             "#e6f5d0"
            ],
            [
             0.7,
             "#b8e186"
            ],
            [
             0.8,
             "#7fbc41"
            ],
            [
             0.9,
             "#4d9221"
            ],
            [
             1,
             "#276419"
            ]
           ],
           "sequential": [
            [
             0,
             "#0d0887"
            ],
            [
             0.1111111111111111,
             "#46039f"
            ],
            [
             0.2222222222222222,
             "#7201a8"
            ],
            [
             0.3333333333333333,
             "#9c179e"
            ],
            [
             0.4444444444444444,
             "#bd3786"
            ],
            [
             0.5555555555555556,
             "#d8576b"
            ],
            [
             0.6666666666666666,
             "#ed7953"
            ],
            [
             0.7777777777777778,
             "#fb9f3a"
            ],
            [
             0.8888888888888888,
             "#fdca26"
            ],
            [
             1,
             "#f0f921"
            ]
           ],
           "sequentialminus": [
            [
             0,
             "#0d0887"
            ],
            [
             0.1111111111111111,
             "#46039f"
            ],
            [
             0.2222222222222222,
             "#7201a8"
            ],
            [
             0.3333333333333333,
             "#9c179e"
            ],
            [
             0.4444444444444444,
             "#bd3786"
            ],
            [
             0.5555555555555556,
             "#d8576b"
            ],
            [
             0.6666666666666666,
             "#ed7953"
            ],
            [
             0.7777777777777778,
             "#fb9f3a"
            ],
            [
             0.8888888888888888,
             "#fdca26"
            ],
            [
             1,
             "#f0f921"
            ]
           ]
          },
          "colorway": [
           "#636efa",
           "#EF553B",
           "#00cc96",
           "#ab63fa",
           "#FFA15A",
           "#19d3f3",
           "#FF6692",
           "#B6E880",
           "#FF97FF",
           "#FECB52"
          ],
          "font": {
           "color": "#2a3f5f"
          },
          "geo": {
           "bgcolor": "white",
           "lakecolor": "white",
           "landcolor": "#E5ECF6",
           "showlakes": true,
           "showland": true,
           "subunitcolor": "white"
          },
          "hoverlabel": {
           "align": "left"
          },
          "hovermode": "closest",
          "mapbox": {
           "style": "light"
          },
          "paper_bgcolor": "white",
          "plot_bgcolor": "#E5ECF6",
          "polar": {
           "angularaxis": {
            "gridcolor": "white",
            "linecolor": "white",
            "ticks": ""
           },
           "bgcolor": "#E5ECF6",
           "radialaxis": {
            "gridcolor": "white",
            "linecolor": "white",
            "ticks": ""
           }
          },
          "scene": {
           "xaxis": {
            "backgroundcolor": "#E5ECF6",
            "gridcolor": "white",
            "gridwidth": 2,
            "linecolor": "white",
            "showbackground": true,
            "ticks": "",
            "zerolinecolor": "white"
           },
           "yaxis": {
            "backgroundcolor": "#E5ECF6",
            "gridcolor": "white",
            "gridwidth": 2,
            "linecolor": "white",
            "showbackground": true,
            "ticks": "",
            "zerolinecolor": "white"
           },
           "zaxis": {
            "backgroundcolor": "#E5ECF6",
            "gridcolor": "white",
            "gridwidth": 2,
            "linecolor": "white",
            "showbackground": true,
            "ticks": "",
            "zerolinecolor": "white"
           }
          },
          "shapedefaults": {
           "line": {
            "color": "#2a3f5f"
           }
          },
          "ternary": {
           "aaxis": {
            "gridcolor": "white",
            "linecolor": "white",
            "ticks": ""
           },
           "baxis": {
            "gridcolor": "white",
            "linecolor": "white",
            "ticks": ""
           },
           "bgcolor": "#E5ECF6",
           "caxis": {
            "gridcolor": "white",
            "linecolor": "white",
            "ticks": ""
           }
          },
          "title": {
           "x": 0.05
          },
          "xaxis": {
           "automargin": true,
           "gridcolor": "white",
           "linecolor": "white",
           "ticks": "",
           "title": {
            "standoff": 15
           },
           "zerolinecolor": "white",
           "zerolinewidth": 2
          },
          "yaxis": {
           "automargin": true,
           "gridcolor": "white",
           "linecolor": "white",
           "ticks": "",
           "title": {
            "standoff": 15
           },
           "zerolinecolor": "white",
           "zerolinewidth": 2
          }
         }
        },
        "title": {
         "font": {
          "family": "courier",
          "size": 18
         },
         "text": "<b>OPSTOOL</b>:: Num. Node: <b>25</b> Num. Ele: <b>16</b>"
        }
       }
      }
     },
     "metadata": {},
     "output_type": "display_data"
    }
   ],
   "source": [
    "opsvis.set_plot_props(point_size=3)\n",
    "fig = opsvis.plot_model(show_nodal_loads=True, show_ele_loads=True, show_outline=True)\n",
    "fig.write_html(\"images/plane_plotly.html\", full_html=False, include_plotlyjs=\"cdn\")\n",
    "fig.show()"
   ]
  },
  {
   "cell_type": "raw",
   "id": "16afad4d",
   "metadata": {
    "raw_mimetype": "text/restructuredtext",
    "vscode": {
     "languageId": "raw"
    }
   },
   "source": [
    ".. raw:: html\n",
    "   :file: images/plane_plotly.html"
   ]
  },
  {
   "cell_type": "markdown",
   "id": "b1da9b72",
   "metadata": {},
   "source": [
    "## Results visualization"
   ]
  },
  {
   "cell_type": "code",
   "execution_count": 5,
   "id": "166f0352",
   "metadata": {},
   "outputs": [],
   "source": [
    "ops.constraints(\"Transformation\")\n",
    "ops.numberer(\"RCM\")\n",
    "ops.system(\"BandGeneral\")\n",
    "ops.test(\"NormDispIncr\", 1.0e-8, 6, 2)\n",
    "ops.algorithm(\"Linear\")\n",
    "ops.integrator(\"LoadControl\", 0.1)\n",
    "ops.analysis(\"Static\")"
   ]
  },
  {
   "cell_type": "code",
   "execution_count": 6,
   "id": "6f2f5d8a",
   "metadata": {},
   "outputs": [
    {
     "data": {
      "text/html": [
       "<pre style=\"white-space:pre;overflow-x:auto;line-height:normal;font-family:Menlo,'DejaVu Sans Mono',consolas,'Courier New',monospace\"><span style=\"color: #cf6275; text-decoration-color: #cf6275; font-weight: bold\">OPSTOOL</span> <span style=\"color: #12e193; text-decoration-color: #12e193; font-weight: bold\">::</span>  All responses data with _odb_tag = <span style=\"color: #008080; text-decoration-color: #008080; font-weight: bold\">1</span> saved in <span style=\"color: #b84592; text-decoration-color: #b84592; font-weight: bold\">.opstool.output/RespStepData-</span><span style=\"color: #b84592; text-decoration-color: #b84592; font-weight: bold\">1.</span><span style=\"color: #b84592; text-decoration-color: #b84592; font-weight: bold\">nc</span>!\n",
       "</pre>\n"
      ],
      "text/plain": [
       "\u001b[1;38;2;207;98;117mOPSTOOL\u001b[0m \u001b[1;38;2;18;225;147m::\u001b[0m  All responses data with _odb_tag = \u001b[1;36m1\u001b[0m saved in \u001b[1;38;2;184;69;146m.opstool.output/RespStepData-\u001b[0m\u001b[1;38;2;184;69;146m1.\u001b[0m\u001b[1;38;2;184;69;146mnc\u001b[0m!\n"
      ]
     },
     "metadata": {},
     "output_type": "display_data"
    }
   ],
   "source": [
    "ODB = opstool.post.CreateODB(\n",
    "    odb_tag=1,\n",
    "    compute_mechanical_measures=True,  # compute stress measures, strain measures, etc.\n",
    "    project_gauss_to_nodes=\"copy\",  # project gauss point responses to nodes, optional [\"copy\", \"average\", \"extrapolate\"]\n",
    ")\n",
    "for _ in range(10):\n",
    "    ops.analyze(1)\n",
    "    ODB.fetch_response_step()\n",
    "ODB.save_response()"
   ]
  },
  {
   "cell_type": "code",
   "execution_count": 7,
   "id": "29755b59",
   "metadata": {},
   "outputs": [
    {
     "data": {
      "text/html": [
       "<pre style=\"white-space:pre;overflow-x:auto;line-height:normal;font-family:Menlo,'DejaVu Sans Mono',consolas,'Courier New',monospace\"><span style=\"color: #cf6275; text-decoration-color: #cf6275; font-weight: bold\">OPSTOOL</span> <span style=\"color: #12e193; text-decoration-color: #12e193; font-weight: bold\">::</span>  Loading response data from <span style=\"color: #3369e7; text-decoration-color: #3369e7; font-weight: bold\">.opstool.output/RespStepData-</span><span style=\"color: #3369e7; text-decoration-color: #3369e7; font-weight: bold\">1.</span><span style=\"color: #3369e7; text-decoration-color: #3369e7; font-weight: bold\">nc</span> <span style=\"color: #808000; text-decoration-color: #808000\">...</span>\n",
       "</pre>\n"
      ],
      "text/plain": [
       "\u001b[1;38;2;207;98;117mOPSTOOL\u001b[0m \u001b[1;38;2;18;225;147m::\u001b[0m  Loading response data from \u001b[1;38;2;51;105;231m.opstool.output/RespStepData-\u001b[0m\u001b[1;38;2;51;105;231m1.\u001b[0m\u001b[1;38;2;51;105;231mnc\u001b[0m \u001b[33m...\u001b[0m\n"
      ]
     },
     "metadata": {},
     "output_type": "display_data"
    },
    {
     "data": {
      "application/vnd.plotly.v1+json": {
       "config": {
        "plotlyServerURL": "https://plot.ly"
       },
       "data": [
        {
         "connectgaps": false,
         "hoverinfo": "skip",
         "line": {
          "color": "#738595",
          "width": 1.5
         },
         "mode": "lines",
         "name": "",
         "type": "scatter3d",
         "x": {
          "bdata": "AAAAAAAAAAAAAAAAAADwPwAAAAAAAPA/AAAAAAAAAAAAAAAAAAAAAAAAAAAAAPh/AAAAAAAAAAAAAAAAAADwPwAAAAAAAPA/AAAAAAAAAAAAAAAAAAAAAAAAAAAAAPh/AAAAAAAAAAAAAAAAAADwPwAAAAAAAPA/AAAAAAAAAAAAAAAAAAAAAAAAAAAAAPh/AAAAAAAAAAAAAAAAAADwPwAAAAAAAPA/AAAAAAAAAAAAAAAAAAAAAAAAAAAAAPh/AAAAAAAA8D8AAAAAAAAAQAAAAAAAAABAAAAAAAAA8D8AAAAAAADwPwAAAAAAAPh/AAAAAAAA8D8AAAAAAAAAQAAAAAAAAABAAAAAAAAA8D8AAAAAAADwPwAAAAAAAPh/AAAAAAAA8D8AAAAAAAAAQAAAAAAAAABAAAAAAAAA8D8AAAAAAADwPwAAAAAAAPh/AAAAAAAA8D8AAAAAAAAAQAAAAAAAAABAAAAAAAAA8D8AAAAAAADwPwAAAAAAAPh/AAAAAAAAAEAAAAAAAAAIQAAAAAAAAAhAAAAAAAAAAEAAAAAAAAAAQAAAAAAAAPh/AAAAAAAAAEAAAAAAAAAIQAAAAAAAAAhAAAAAAAAAAEAAAAAAAAAAQAAAAAAAAPh/AAAAAAAAAEAAAAAAAAAIQAAAAAAAAAhAAAAAAAAAAEAAAAAAAAAAQAAAAAAAAPh/AAAAAAAAAEAAAAAAAAAIQAAAAAAAAAhAAAAAAAAAAEAAAAAAAAAAQAAAAAAAAPh/AAAAAAAACEAAAAAAAAAQQAAAAAAAABBAAAAAAAAACEAAAAAAAAAIQAAAAAAAAPh/AAAAAAAACEAAAAAAAAAQQAAAAAAAABBAAAAAAAAACEAAAAAAAAAIQAAAAAAAAPh/AAAAAAAACEAAAAAAAAAQQAAAAAAAABBAAAAAAAAACEAAAAAAAAAIQAAAAAAAAPh/AAAAAAAACEAAAAAAAAAQQAAAAAAAABBAAAAAAAAACEAAAAAAAAAIQAAAAAAAAPh/",
          "dtype": "f8"
         },
         "y": {
          "bdata": "AAAAAAAAAAAAAAAAAAAAAAAAAAAAAPA/AAAAAAAA8D8AAAAAAAAAAAAAAAAAAPh/AAAAAAAA8D8AAAAAAADwPwAAAAAAAABAAAAAAAAAAEAAAAAAAADwPwAAAAAAAPh/AAAAAAAAAEAAAAAAAAAAQAAAAAAAAAhAAAAAAAAACEAAAAAAAAAAQAAAAAAAAPh/AAAAAAAACEAAAAAAAAAIQAAAAAAAABBAAAAAAAAAEEAAAAAAAAAIQAAAAAAAAPh/AAAAAAAAAAAAAAAAAAAAAAAAAAAAAPA/AAAAAAAA8D8AAAAAAAAAAAAAAAAAAPh/AAAAAAAA8D8AAAAAAADwPwAAAAAAAABAAAAAAAAAAEAAAAAAAADwPwAAAAAAAPh/AAAAAAAAAEAAAAAAAAAAQAAAAAAAAAhAAAAAAAAACEAAAAAAAAAAQAAAAAAAAPh/AAAAAAAACEAAAAAAAAAIQAAAAAAAABBAAAAAAAAAEEAAAAAAAAAIQAAAAAAAAPh/AAAAAAAAAAAAAAAAAAAAAAAAAAAAAPA/AAAAAAAA8D8AAAAAAAAAAAAAAAAAAPh/AAAAAAAA8D8AAAAAAADwPwAAAAAAAABAAAAAAAAAAEAAAAAAAADwPwAAAAAAAPh/AAAAAAAAAEAAAAAAAAAAQAAAAAAAAAhAAAAAAAAACEAAAAAAAAAAQAAAAAAAAPh/AAAAAAAACEAAAAAAAAAIQAAAAAAAABBAAAAAAAAAEEAAAAAAAAAIQAAAAAAAAPh/AAAAAAAAAAAAAAAAAAAAAAAAAAAAAPA/AAAAAAAA8D8AAAAAAAAAAAAAAAAAAPh/AAAAAAAA8D8AAAAAAADwPwAAAAAAAABAAAAAAAAAAEAAAAAAAADwPwAAAAAAAPh/AAAAAAAAAEAAAAAAAAAAQAAAAAAAAAhAAAAAAAAACEAAAAAAAAAAQAAAAAAAAPh/AAAAAAAACEAAAAAAAAAIQAAAAAAAABBAAAAAAAAAEEAAAAAAAAAIQAAAAAAAAPh/",
          "dtype": "f8"
         },
         "z": {
          "bdata": "AAAAAAAAAAAAAAAAAAAAAAAAAAAAAAAAAAAAAAAAAAAAAAAAAAAAAAAAAAAAAPh/AAAAAAAAAAAAAAAAAAAAAAAAAAAAAAAAAAAAAAAAAAAAAAAAAAAAAAAAAAAAAPh/AAAAAAAAAAAAAAAAAAAAAAAAAAAAAAAAAAAAAAAAAAAAAAAAAAAAAAAAAAAAAPh/AAAAAAAAAAAAAAAAAAAAAAAAAAAAAAAAAAAAAAAAAAAAAAAAAAAAAAAAAAAAAPh/AAAAAAAAAAAAAAAAAAAAAAAAAAAAAAAAAAAAAAAAAAAAAAAAAAAAAAAAAAAAAPh/AAAAAAAAAAAAAAAAAAAAAAAAAAAAAAAAAAAAAAAAAAAAAAAAAAAAAAAAAAAAAPh/AAAAAAAAAAAAAAAAAAAAAAAAAAAAAAAAAAAAAAAAAAAAAAAAAAAAAAAAAAAAAPh/AAAAAAAAAAAAAAAAAAAAAAAAAAAAAAAAAAAAAAAAAAAAAAAAAAAAAAAAAAAAAPh/AAAAAAAAAAAAAAAAAAAAAAAAAAAAAAAAAAAAAAAAAAAAAAAAAAAAAAAAAAAAAPh/AAAAAAAAAAAAAAAAAAAAAAAAAAAAAAAAAAAAAAAAAAAAAAAAAAAAAAAAAAAAAPh/AAAAAAAAAAAAAAAAAAAAAAAAAAAAAAAAAAAAAAAAAAAAAAAAAAAAAAAAAAAAAPh/AAAAAAAAAAAAAAAAAAAAAAAAAAAAAAAAAAAAAAAAAAAAAAAAAAAAAAAAAAAAAPh/AAAAAAAAAAAAAAAAAAAAAAAAAAAAAAAAAAAAAAAAAAAAAAAAAAAAAAAAAAAAAPh/AAAAAAAAAAAAAAAAAAAAAAAAAAAAAAAAAAAAAAAAAAAAAAAAAAAAAAAAAAAAAPh/AAAAAAAAAAAAAAAAAAAAAAAAAAAAAAAAAAAAAAAAAAAAAAAAAAAAAAAAAAAAAPh/AAAAAAAAAAAAAAAAAAAAAAAAAAAAAAAAAAAAAAAAAAAAAAAAAAAAAAAAAAAAAPh/",
          "dtype": "f8"
         }
        },
        {
         "cmax": 0.7282582521438599,
         "cmin": 0,
         "coloraxis": "coloraxis",
         "hoverinfo": "skip",
         "i": {
          "bdata": "AAAAAAAAAAAEAAAABAAAAAgAAAAIAAAADAAAAAwAAAAQAAAAEAAAABQAAAAUAAAAGAAAABgAAAAcAAAAHAAAACAAAAAgAAAAJAAAACQAAAAoAAAAKAAAACwAAAAsAAAAMAAAADAAAAA0AAAANAAAADgAAAA4AAAAPAAAADwAAAA=",
          "dtype": "i4"
         },
         "intensity": {
          "bdata": "TVdZPjucYz6SUGQ+yGJLPshiSz6SUGQ+/6JuPtToGT7U6Bk+/6JuPgtdVT7oayY+6GsmPgtdVT6p/JQ+W6zdPTucYz4c3G0+pnp9PpJQZD6SUGQ+pnp9PpMYpz7/om4+/6JuPpMYpz5PAw4/C11VPgtdVT5PAw4/Im86P6n8lD4c3G0+O5xjPpJQZD6men0+pnp9PpJQZD7/om4+kxinPpMYpz7/om4+C11VPk8DDj9PAw4/C11VPqn8lD4ibzo/O5xjPk1XWT7IYks+klBkPpJQZD7IYks+1OgZPv+ibj7/om4+1OgZPuhrJj4LXVU+C11VPuhrJj5brN09qfyUPg==",
          "dtype": "f4"
         },
         "j": {
          "bdata": "AQAAAAIAAAAFAAAABgAAAAkAAAAKAAAADQAAAA4AAAARAAAAEgAAABUAAAAWAAAAGQAAABoAAAAdAAAAHgAAACEAAAAiAAAAJQAAACYAAAApAAAAKgAAAC0AAAAuAAAAMQAAADIAAAA1AAAANgAAADkAAAA6AAAAPQAAAD4AAAA=",
          "dtype": "i4"
         },
         "k": {
          "bdata": "AgAAAAMAAAAGAAAABwAAAAoAAAALAAAADgAAAA8AAAASAAAAEwAAABYAAAAXAAAAGgAAABsAAAAeAAAAHwAAACIAAAAjAAAAJgAAACcAAAAqAAAAKwAAAC4AAAAvAAAAMgAAADMAAAA2AAAANwAAADoAAAA7AAAAPgAAAD8AAAA=",
          "dtype": "i4"
         },
         "opacity": 1,
         "text": {
          "bdata": "AAAAoOkqyz8AAABgh3PMPwAAAEASisw/AAAAAFlsyT8AAAAAWWzJPwAAAEASisw/AAAA4F/UzT8AAACAGj3DPwAAAIAaPcM/AAAA4F/UzT8AAABgoavKPwAAAAB9zcQ/AAAAAH3NxD8AAABgoavKPwAAACCVn9I/AAAAYIu1uz8AAABgh3PMPwAAAICDu80/AAAAwFSvzz8AAABAEorMPwAAAEASisw/AAAAwFSvzz8AAABgEuPUPwAAAOBf1M0/AAAA4F/UzT8AAABgEuPUPwAAAOBpwOE/AAAAYKGryj8AAABgoavKPwAAAOBpwOE/AAAAQORN5z8AAAAglZ/SPwAAAICDu80/AAAAYIdzzD8AAABAEorMPwAAAMBUr88/AAAAwFSvzz8AAABAEorMPwAAAOBf1M0/AAAAYBLj1D8AAABgEuPUPwAAAOBf1M0/AAAAYKGryj8AAADgacDhPwAAAOBpwOE/AAAAYKGryj8AAAAglZ/SPwAAAEDkTec/AAAAYIdzzD8AAACg6SrLPwAAAABZbMk/AAAAQBKKzD8AAABAEorMPwAAAABZbMk/AAAAgBo9wz8AAADgX9TNPwAAAOBf1M0/AAAAgBo9wz8AAAAAfc3EPwAAAGChq8o/AAAAYKGryj8AAAAAfc3EPwAAAGCLtbs/AAAAIJWf0j8=",
          "dtype": "f8"
         },
         "type": "mesh3d",
         "x": {
          "bdata": "AAAAAAAAgD+Ppn8/XzyzIl88syKPpn8/Bpt+P8akIyPGpCMjBpt+Pwyeez+6NJQjujSUIwyeez94V4I/HxioIwAAgD8AAABAAAAAQI+mfz+Ppn8/AAAAQAAAAEAGm34/Bpt+PwAAAEAAAABADJ57Pwyeez8AAABAAAAAQHhXgj8AAABAAABAQFwWQEAAAABAAAAAQFwWQEA/WUBAAAAAQAAAAEA/WUBAfRhBQAAAAEAAAABAfRhBQETUPkAAAABAAABAQAAAgEAAAIBAXBZAQFwWQEAAAIBAAACAQD9ZQEA/WUBAAACAQAAAgEB9GEFAfRhBQAAAgEAAAIBARNQ+QA==",
          "dtype": "f4"
         },
         "y": {
          "bdata": "AAAAAAAAAABE5Xc/c1x4P3NceD9E5Xc/xen3PxMO+T8TDvk/xen3P3wUOkAHLDxAByw8QHwUOkBOcnpA8757QAAAAAAAAAAAg2t3P0Tldz9E5Xc/g2t3P+Cw9j/F6fc/xen3P+Cw9j/gWDdAfBQ6QHwUOkDgWDdA7+5uQE5yekAAAAAAAAAAAETldz+Da3c/g2t3P0Tldz/F6fc/4LD2P+Cw9j/F6fc/fBQ6QOBYN0DgWDdAfBQ6QE5yekDv7m5AAAAAAAAAAABzXHg/ROV3P0Tldz9zXHg/Ew75P8Xp9z/F6fc/Ew75PwcsPEB8FDpAfBQ6QAcsPEDzvntATnJ6QA==",
          "dtype": "f4"
         },
         "z": {
          "bdata": "AAAAAAAAAAAAAAAAAAAAAAAAAAAAAAAAAAAAAAAAAAAAAAAAAAAAAAAAAAAAAAAAAAAAAAAAAAAAAAAAAAAAAAAAAAAAAAAAAAAAAAAAAAAAAAAAAAAAAAAAAAAAAAAAAAAAAAAAAAAAAAAAAAAAAAAAAAAAAAAAAAAAAAAAAAAAAAAAAAAAAAAAAAAAAAAAAAAAAAAAAAAAAAAAAAAAAAAAAAAAAAAAAAAAAAAAAAAAAAAAAAAAAAAAAAAAAAAAAAAAAAAAAAAAAAAAAAAAAAAAAAAAAAAAAAAAAAAAAAAAAAAAAAAAAAAAAAAAAAAAAAAAAAAAAAAAAAAAAAAAAA==",
          "dtype": "f4"
         }
        },
        {
         "connectgaps": false,
         "hoverinfo": "skip",
         "line": {
          "color": "black",
          "width": 1
         },
         "mode": "lines",
         "name": "Edge",
         "type": "scatter3d",
         "x": {
          "bdata": "AAAAAAAAAAAAAAAAAADwPwAAAODR9O8/AAAA4ItnVjwAAAAAAAAAAAAAAAAAAPh/AAAA4ItnVjwAAADg0fTvPwAAAMBg0+8/AAAAwJh0ZDwAAADgi2dWPAAAAAAAAPh/AAAAwJh0ZDwAAADAYNPvPwAAAIDBc+8/AAAAQJeGcjwAAADAmHRkPAAAAAAAAPh/AAAAQJeGcjwAAACAwXPvPwAAAADvSvA/AAAA4AMDdTwAAABAl4ZyPAAAAAAAAPh/AAAAAAAA8D8AAAAAAAAAQAAAAAAAAABAAAAA4NH07z8AAAAAAADwPwAAAAAAAPh/AAAA4NH07z8AAAAAAAAAQAAAAAAAAABAAAAAwGDT7z8AAADg0fTvPwAAAAAAAPh/AAAAwGDT7z8AAAAAAAAAQAAAAAAAAABAAAAAgMFz7z8AAADAYNPvPwAAAAAAAPh/AAAAgMFz7z8AAAAAAAAAQAAAAAAAAABAAAAAAO9K8D8AAACAwXPvPwAAAAAAAPh/AAAAAAAAAEAAAAAAAAAIQAAAAIDLAghAAAAAAAAAAEAAAAAAAAAAQAAAAAAAAPh/AAAAAAAAAEAAAACAywIIQAAAAOAnCwhAAAAAAAAAAEAAAAAAAAAAQAAAAAAAAPh/AAAAAAAAAEAAAADgJwsIQAAAAKAPIwhAAAAAAAAAAEAAAAAAAAAAQAAAAAAAAPh/AAAAAAAAAEAAAACgDyMIQAAAAICI2gdAAAAAAAAAAEAAAAAAAAAAQAAAAAAAAPh/AAAAAAAACEAAAAAAAAAQQAAAAAAAABBAAAAAgMsCCEAAAAAAAAAIQAAAAAAAAPh/AAAAgMsCCEAAAAAAAAAQQAAAAAAAABBAAAAA4CcLCEAAAACAywIIQAAAAAAAAPh/AAAA4CcLCEAAAAAAAAAQQAAAAAAAABBAAAAAoA8jCEAAAADgJwsIQAAAAAAAAPh/AAAAoA8jCEAAAAAAAAAQQAAAAAAAABBAAAAAgIjaB0AAAACgDyMIQAAAAAAAAPh/",
          "dtype": "f8"
         },
         "y": {
          "bdata": "AAAAAAAAAAAAAAAAAAAAAAAAAICo/O4/AAAAYI4L7z8AAAAAAAAAAAAAAAAAAPh/AAAAYI4L7z8AAACAqPzuPwAAAKA4/f4/AAAAYMIh/z8AAABgjgvvPwAAAAAAAPh/AAAAYMIh/z8AAACgOP3+PwAAAICPQgdAAAAA4ICFB0AAAABgwiH/PwAAAAAAAPh/AAAA4ICFB0AAAACAj0IHQAAAAMBJTg9AAAAAYN53D0AAAADggIUHQAAAAAAAAPh/AAAAAAAAAAAAAAAAAAAAAAAAAGBw7e4/AAAAgKj87j8AAAAAAAAAAAAAAAAAAPh/AAAAgKj87j8AAABgcO3uPwAAAAAc1v4/AAAAoDj9/j8AAACAqPzuPwAAAAAAAPh/AAAAoDj9/j8AAAAAHNb+PwAAAAAc6wZAAAAAgI9CB0AAAACgOP3+PwAAAAAAAPh/AAAAgI9CB0AAAAAAHOsGQAAAAODd3Q1AAAAAwElOD0AAAACAj0IHQAAAAAAAAPh/AAAAAAAAAAAAAAAAAAAAAAAAAICo/O4/AAAAYHDt7j8AAAAAAAAAAAAAAAAAAPh/AAAAYHDt7j8AAACAqPzuPwAAAKA4/f4/AAAAABzW/j8AAABgcO3uPwAAAAAAAPh/AAAAABzW/j8AAACgOP3+PwAAAICPQgdAAAAAABzrBkAAAAAAHNb+PwAAAAAAAPh/AAAAABzrBkAAAACAj0IHQAAAAMBJTg9AAAAA4N3dDUAAAAAAHOsGQAAAAAAAAPh/AAAAAAAAAAAAAAAAAAAAAAAAAGCOC+8/AAAAgKj87j8AAAAAAAAAAAAAAAAAAPh/AAAAgKj87j8AAABgjgvvPwAAAGDCIf8/AAAAoDj9/j8AAACAqPzuPwAAAAAAAPh/AAAAoDj9/j8AAABgwiH/PwAAAOCAhQdAAAAAgI9CB0AAAACgOP3+PwAAAAAAAPh/AAAAgI9CB0AAAADggIUHQAAAAGDedw9AAAAAwElOD0AAAACAj0IHQAAAAAAAAPh/",
          "dtype": "f8"
         },
         "z": {
          "bdata": "AAAAAAAAAAAAAAAAAAAAAAAAAAAAAAAAAAAAAAAAAAAAAAAAAAAAAAAAAAAAAPh/AAAAAAAAAAAAAAAAAAAAAAAAAAAAAAAAAAAAAAAAAAAAAAAAAAAAAAAAAAAAAPh/AAAAAAAAAAAAAAAAAAAAAAAAAAAAAAAAAAAAAAAAAAAAAAAAAAAAAAAAAAAAAPh/AAAAAAAAAAAAAAAAAAAAAAAAAAAAAAAAAAAAAAAAAAAAAAAAAAAAAAAAAAAAAPh/AAAAAAAAAAAAAAAAAAAAAAAAAAAAAAAAAAAAAAAAAAAAAAAAAAAAAAAAAAAAAPh/AAAAAAAAAAAAAAAAAAAAAAAAAAAAAAAAAAAAAAAAAAAAAAAAAAAAAAAAAAAAAPh/AAAAAAAAAAAAAAAAAAAAAAAAAAAAAAAAAAAAAAAAAAAAAAAAAAAAAAAAAAAAAPh/AAAAAAAAAAAAAAAAAAAAAAAAAAAAAAAAAAAAAAAAAAAAAAAAAAAAAAAAAAAAAPh/AAAAAAAAAAAAAAAAAAAAAAAAAAAAAAAAAAAAAAAAAAAAAAAAAAAAAAAAAAAAAPh/AAAAAAAAAAAAAAAAAAAAAAAAAAAAAAAAAAAAAAAAAAAAAAAAAAAAAAAAAAAAAPh/AAAAAAAAAAAAAAAAAAAAAAAAAAAAAAAAAAAAAAAAAAAAAAAAAAAAAAAAAAAAAPh/AAAAAAAAAAAAAAAAAAAAAAAAAAAAAAAAAAAAAAAAAAAAAAAAAAAAAAAAAAAAAPh/AAAAAAAAAAAAAAAAAAAAAAAAAAAAAAAAAAAAAAAAAAAAAAAAAAAAAAAAAAAAAPh/AAAAAAAAAAAAAAAAAAAAAAAAAAAAAAAAAAAAAAAAAAAAAAAAAAAAAAAAAAAAAPh/AAAAAAAAAAAAAAAAAAAAAAAAAAAAAAAAAAAAAAAAAAAAAAAAAAAAAAAAAAAAAPh/AAAAAAAAAAAAAAAAAAAAAAAAAAAAAAAAAAAAAAAAAAAAAAAAAAAAAAAAAAAAAPh/",
          "dtype": "f8"
         }
        },
        {
         "hoverinfo": "skip",
         "marker": {
          "cmax": 0.7282582521438599,
          "cmin": 0,
          "color": {
           "bdata": "TVdZPjucYz6SUGQ+yGJLPshiSz6SUGQ+/6JuPtToGT7U6Bk+/6JuPgtdVT7oayY+6GsmPgtdVT6p/JQ+W6zdPTucYz4c3G0+pnp9PpJQZD6SUGQ+pnp9PpMYpz7/om4+/6JuPpMYpz5PAw4/C11VPgtdVT5PAw4/Im86P6n8lD4c3G0+O5xjPpJQZD6men0+pnp9PpJQZD7/om4+kxinPpMYpz7/om4+C11VPk8DDj9PAw4/C11VPqn8lD4ibzo/O5xjPk1XWT7IYks+klBkPpJQZD7IYks+1OgZPv+ibj7/om4+1OgZPuhrJj4LXVU+C11VPuhrJj5brN09qfyUPg==",
           "dtype": "f4"
          },
          "coloraxis": "coloraxis",
          "size": 3
         },
         "mode": "markers",
         "name": "StressMeasuresAtNodes",
         "type": "scatter3d",
         "x": {
          "bdata": "AAAAAAAAgD+Ppn8/XzyzIl88syKPpn8/Bpt+P8akIyPGpCMjBpt+Pwyeez+6NJQjujSUIwyeez94V4I/HxioIwAAgD8AAABAAAAAQI+mfz+Ppn8/AAAAQAAAAEAGm34/Bpt+PwAAAEAAAABADJ57Pwyeez8AAABAAAAAQHhXgj8AAABAAABAQFwWQEAAAABAAAAAQFwWQEA/WUBAAAAAQAAAAEA/WUBAfRhBQAAAAEAAAABAfRhBQETUPkAAAABAAABAQAAAgEAAAIBAXBZAQFwWQEAAAIBAAACAQD9ZQEA/WUBAAACAQAAAgEB9GEFAfRhBQAAAgEAAAIBARNQ+QA==",
          "dtype": "f4"
         },
         "y": {
          "bdata": "AAAAAAAAAABE5Xc/c1x4P3NceD9E5Xc/xen3PxMO+T8TDvk/xen3P3wUOkAHLDxAByw8QHwUOkBOcnpA8757QAAAAAAAAAAAg2t3P0Tldz9E5Xc/g2t3P+Cw9j/F6fc/xen3P+Cw9j/gWDdAfBQ6QHwUOkDgWDdA7+5uQE5yekAAAAAAAAAAAETldz+Da3c/g2t3P0Tldz/F6fc/4LD2P+Cw9j/F6fc/fBQ6QOBYN0DgWDdAfBQ6QE5yekDv7m5AAAAAAAAAAABzXHg/ROV3P0Tldz9zXHg/Ew75P8Xp9z/F6fc/Ew75PwcsPEB8FDpAfBQ6QAcsPEDzvntATnJ6QA==",
          "dtype": "f4"
         },
         "z": {
          "bdata": "AAAAAAAAAAAAAAAAAAAAAAAAAAAAAAAAAAAAAAAAAAAAAAAAAAAAAAAAAAAAAAAAAAAAAAAAAAAAAAAAAAAAAAAAAAAAAAAAAAAAAAAAAAAAAAAAAAAAAAAAAAAAAAAAAAAAAAAAAAAAAAAAAAAAAAAAAAAAAAAAAAAAAAAAAAAAAAAAAAAAAAAAAAAAAAAAAAAAAAAAAAAAAAAAAAAAAAAAAAAAAAAAAAAAAAAAAAAAAAAAAAAAAAAAAAAAAAAAAAAAAAAAAAAAAAAAAAAAAAAAAAAAAAAAAAAAAAAAAAAAAAAAAAAAAAAAAAAAAAAAAAAAAAAAAAAAAAAAAAAAAA==",
          "dtype": "f4"
         }
        }
       ],
       "layout": {
        "autosize": true,
        "coloraxis": {
         "cmax": 0.7282582521438599,
         "cmin": 0,
         "colorbar": {
          "tickfont": {
           "size": 13
          },
          "title": {
           "font": {
            "size": 15
           },
           "text": "<b><span style=\"color:blue; font-weight:bold\">Stress Measures</span> *</b><br><b>(DOF) <span style=\"color:blue; font-weight:bold\">sigma_vm</span></b><br><b>Max.:</b> <span style=\"color:blue; font-weight:bold\">7.283E-01</span><br><b>Min.:</b> <span style=\"color:blue; font-weight:bold\">1.082E-01</span><br><b>step:</b> <span style=\"color:blue; font-weight:bold\">10</span>; <b>time</b>: <span style=\"color:blue; font-weight:bold\">1.000</span><br> <br>"
          }
         },
         "colorscale": [
          [
           0,
           "rgb(49,54,149)"
          ],
          [
           0.11111111111111116,
           "rgb(69,117,180)"
          ],
          [
           0.2222222222222222,
           "rgb(116,173,209)"
          ],
          [
           0.33333333333333337,
           "rgb(171,217,233)"
          ],
          [
           0.4444444444444444,
           "rgb(224,243,248)"
          ],
          [
           0.5555555555555556,
           "rgb(254,224,144)"
          ],
          [
           0.6666666666666667,
           "rgb(253,174,97)"
          ],
          [
           0.7777777777777778,
           "rgb(244,109,67)"
          ],
          [
           0.8888888888888888,
           "rgb(215,48,39)"
          ],
          [
           1,
           "rgb(165,0,38)"
          ]
         ]
        },
        "font": {
         "family": "Arial, sans-serif"
        },
        "scene": {
         "aspectmode": "data",
         "camera": {
          "eye": {
           "x": 0,
           "y": -0.1,
           "z": 4
          }
         },
         "dragmode": "pan",
         "xaxis": {
          "showgrid": false,
          "visible": false,
          "zeroline": false
         },
         "yaxis": {
          "showgrid": false,
          "visible": false,
          "zeroline": false
         },
         "zaxis": {
          "showgrid": false,
          "visible": false,
          "zeroline": false
         }
        },
        "showlegend": false,
        "template": {
         "data": {
          "bar": [
           {
            "error_x": {
             "color": "#2a3f5f"
            },
            "error_y": {
             "color": "#2a3f5f"
            },
            "marker": {
             "line": {
              "color": "#E5ECF6",
              "width": 0.5
             },
             "pattern": {
              "fillmode": "overlay",
              "size": 10,
              "solidity": 0.2
             }
            },
            "type": "bar"
           }
          ],
          "barpolar": [
           {
            "marker": {
             "line": {
              "color": "#E5ECF6",
              "width": 0.5
             },
             "pattern": {
              "fillmode": "overlay",
              "size": 10,
              "solidity": 0.2
             }
            },
            "type": "barpolar"
           }
          ],
          "carpet": [
           {
            "aaxis": {
             "endlinecolor": "#2a3f5f",
             "gridcolor": "white",
             "linecolor": "white",
             "minorgridcolor": "white",
             "startlinecolor": "#2a3f5f"
            },
            "baxis": {
             "endlinecolor": "#2a3f5f",
             "gridcolor": "white",
             "linecolor": "white",
             "minorgridcolor": "white",
             "startlinecolor": "#2a3f5f"
            },
            "type": "carpet"
           }
          ],
          "choropleth": [
           {
            "colorbar": {
             "outlinewidth": 0,
             "ticks": ""
            },
            "type": "choropleth"
           }
          ],
          "contour": [
           {
            "colorbar": {
             "outlinewidth": 0,
             "ticks": ""
            },
            "colorscale": [
             [
              0,
              "#0d0887"
             ],
             [
              0.1111111111111111,
              "#46039f"
             ],
             [
              0.2222222222222222,
              "#7201a8"
             ],
             [
              0.3333333333333333,
              "#9c179e"
             ],
             [
              0.4444444444444444,
              "#bd3786"
             ],
             [
              0.5555555555555556,
              "#d8576b"
             ],
             [
              0.6666666666666666,
              "#ed7953"
             ],
             [
              0.7777777777777778,
              "#fb9f3a"
             ],
             [
              0.8888888888888888,
              "#fdca26"
             ],
             [
              1,
              "#f0f921"
             ]
            ],
            "type": "contour"
           }
          ],
          "contourcarpet": [
           {
            "colorbar": {
             "outlinewidth": 0,
             "ticks": ""
            },
            "type": "contourcarpet"
           }
          ],
          "heatmap": [
           {
            "colorbar": {
             "outlinewidth": 0,
             "ticks": ""
            },
            "colorscale": [
             [
              0,
              "#0d0887"
             ],
             [
              0.1111111111111111,
              "#46039f"
             ],
             [
              0.2222222222222222,
              "#7201a8"
             ],
             [
              0.3333333333333333,
              "#9c179e"
             ],
             [
              0.4444444444444444,
              "#bd3786"
             ],
             [
              0.5555555555555556,
              "#d8576b"
             ],
             [
              0.6666666666666666,
              "#ed7953"
             ],
             [
              0.7777777777777778,
              "#fb9f3a"
             ],
             [
              0.8888888888888888,
              "#fdca26"
             ],
             [
              1,
              "#f0f921"
             ]
            ],
            "type": "heatmap"
           }
          ],
          "histogram": [
           {
            "marker": {
             "pattern": {
              "fillmode": "overlay",
              "size": 10,
              "solidity": 0.2
             }
            },
            "type": "histogram"
           }
          ],
          "histogram2d": [
           {
            "colorbar": {
             "outlinewidth": 0,
             "ticks": ""
            },
            "colorscale": [
             [
              0,
              "#0d0887"
             ],
             [
              0.1111111111111111,
              "#46039f"
             ],
             [
              0.2222222222222222,
              "#7201a8"
             ],
             [
              0.3333333333333333,
              "#9c179e"
             ],
             [
              0.4444444444444444,
              "#bd3786"
             ],
             [
              0.5555555555555556,
              "#d8576b"
             ],
             [
              0.6666666666666666,
              "#ed7953"
             ],
             [
              0.7777777777777778,
              "#fb9f3a"
             ],
             [
              0.8888888888888888,
              "#fdca26"
             ],
             [
              1,
              "#f0f921"
             ]
            ],
            "type": "histogram2d"
           }
          ],
          "histogram2dcontour": [
           {
            "colorbar": {
             "outlinewidth": 0,
             "ticks": ""
            },
            "colorscale": [
             [
              0,
              "#0d0887"
             ],
             [
              0.1111111111111111,
              "#46039f"
             ],
             [
              0.2222222222222222,
              "#7201a8"
             ],
             [
              0.3333333333333333,
              "#9c179e"
             ],
             [
              0.4444444444444444,
              "#bd3786"
             ],
             [
              0.5555555555555556,
              "#d8576b"
             ],
             [
              0.6666666666666666,
              "#ed7953"
             ],
             [
              0.7777777777777778,
              "#fb9f3a"
             ],
             [
              0.8888888888888888,
              "#fdca26"
             ],
             [
              1,
              "#f0f921"
             ]
            ],
            "type": "histogram2dcontour"
           }
          ],
          "mesh3d": [
           {
            "colorbar": {
             "outlinewidth": 0,
             "ticks": ""
            },
            "type": "mesh3d"
           }
          ],
          "parcoords": [
           {
            "line": {
             "colorbar": {
              "outlinewidth": 0,
              "ticks": ""
             }
            },
            "type": "parcoords"
           }
          ],
          "pie": [
           {
            "automargin": true,
            "type": "pie"
           }
          ],
          "scatter": [
           {
            "fillpattern": {
             "fillmode": "overlay",
             "size": 10,
             "solidity": 0.2
            },
            "type": "scatter"
           }
          ],
          "scatter3d": [
           {
            "line": {
             "colorbar": {
              "outlinewidth": 0,
              "ticks": ""
             }
            },
            "marker": {
             "colorbar": {
              "outlinewidth": 0,
              "ticks": ""
             }
            },
            "type": "scatter3d"
           }
          ],
          "scattercarpet": [
           {
            "marker": {
             "colorbar": {
              "outlinewidth": 0,
              "ticks": ""
             }
            },
            "type": "scattercarpet"
           }
          ],
          "scattergeo": [
           {
            "marker": {
             "colorbar": {
              "outlinewidth": 0,
              "ticks": ""
             }
            },
            "type": "scattergeo"
           }
          ],
          "scattergl": [
           {
            "marker": {
             "colorbar": {
              "outlinewidth": 0,
              "ticks": ""
             }
            },
            "type": "scattergl"
           }
          ],
          "scattermap": [
           {
            "marker": {
             "colorbar": {
              "outlinewidth": 0,
              "ticks": ""
             }
            },
            "type": "scattermap"
           }
          ],
          "scattermapbox": [
           {
            "marker": {
             "colorbar": {
              "outlinewidth": 0,
              "ticks": ""
             }
            },
            "type": "scattermapbox"
           }
          ],
          "scatterpolar": [
           {
            "marker": {
             "colorbar": {
              "outlinewidth": 0,
              "ticks": ""
             }
            },
            "type": "scatterpolar"
           }
          ],
          "scatterpolargl": [
           {
            "marker": {
             "colorbar": {
              "outlinewidth": 0,
              "ticks": ""
             }
            },
            "type": "scatterpolargl"
           }
          ],
          "scatterternary": [
           {
            "marker": {
             "colorbar": {
              "outlinewidth": 0,
              "ticks": ""
             }
            },
            "type": "scatterternary"
           }
          ],
          "surface": [
           {
            "colorbar": {
             "outlinewidth": 0,
             "ticks": ""
            },
            "colorscale": [
             [
              0,
              "#0d0887"
             ],
             [
              0.1111111111111111,
              "#46039f"
             ],
             [
              0.2222222222222222,
              "#7201a8"
             ],
             [
              0.3333333333333333,
              "#9c179e"
             ],
             [
              0.4444444444444444,
              "#bd3786"
             ],
             [
              0.5555555555555556,
              "#d8576b"
             ],
             [
              0.6666666666666666,
              "#ed7953"
             ],
             [
              0.7777777777777778,
              "#fb9f3a"
             ],
             [
              0.8888888888888888,
              "#fdca26"
             ],
             [
              1,
              "#f0f921"
             ]
            ],
            "type": "surface"
           }
          ],
          "table": [
           {
            "cells": {
             "fill": {
              "color": "#EBF0F8"
             },
             "line": {
              "color": "white"
             }
            },
            "header": {
             "fill": {
              "color": "#C8D4E3"
             },
             "line": {
              "color": "white"
             }
            },
            "type": "table"
           }
          ]
         },
         "layout": {
          "annotationdefaults": {
           "arrowcolor": "#2a3f5f",
           "arrowhead": 0,
           "arrowwidth": 1
          },
          "autotypenumbers": "strict",
          "coloraxis": {
           "colorbar": {
            "outlinewidth": 0,
            "ticks": ""
           }
          },
          "colorscale": {
           "diverging": [
            [
             0,
             "#8e0152"
            ],
            [
             0.1,
             "#c51b7d"
            ],
            [
             0.2,
             "#de77ae"
            ],
            [
             0.3,
             "#f1b6da"
            ],
            [
             0.4,
             "#fde0ef"
            ],
            [
             0.5,
             "#f7f7f7"
            ],
            [
             0.6,
             "#e6f5d0"
            ],
            [
             0.7,
             "#b8e186"
            ],
            [
             0.8,
             "#7fbc41"
            ],
            [
             0.9,
             "#4d9221"
            ],
            [
             1,
             "#276419"
            ]
           ],
           "sequential": [
            [
             0,
             "#0d0887"
            ],
            [
             0.1111111111111111,
             "#46039f"
            ],
            [
             0.2222222222222222,
             "#7201a8"
            ],
            [
             0.3333333333333333,
             "#9c179e"
            ],
            [
             0.4444444444444444,
             "#bd3786"
            ],
            [
             0.5555555555555556,
             "#d8576b"
            ],
            [
             0.6666666666666666,
             "#ed7953"
            ],
            [
             0.7777777777777778,
             "#fb9f3a"
            ],
            [
             0.8888888888888888,
             "#fdca26"
            ],
            [
             1,
             "#f0f921"
            ]
           ],
           "sequentialminus": [
            [
             0,
             "#0d0887"
            ],
            [
             0.1111111111111111,
             "#46039f"
            ],
            [
             0.2222222222222222,
             "#7201a8"
            ],
            [
             0.3333333333333333,
             "#9c179e"
            ],
            [
             0.4444444444444444,
             "#bd3786"
            ],
            [
             0.5555555555555556,
             "#d8576b"
            ],
            [
             0.6666666666666666,
             "#ed7953"
            ],
            [
             0.7777777777777778,
             "#fb9f3a"
            ],
            [
             0.8888888888888888,
             "#fdca26"
            ],
            [
             1,
             "#f0f921"
            ]
           ]
          },
          "colorway": [
           "#636efa",
           "#EF553B",
           "#00cc96",
           "#ab63fa",
           "#FFA15A",
           "#19d3f3",
           "#FF6692",
           "#B6E880",
           "#FF97FF",
           "#FECB52"
          ],
          "font": {
           "color": "#2a3f5f"
          },
          "geo": {
           "bgcolor": "white",
           "lakecolor": "white",
           "landcolor": "#E5ECF6",
           "showlakes": true,
           "showland": true,
           "subunitcolor": "white"
          },
          "hoverlabel": {
           "align": "left"
          },
          "hovermode": "closest",
          "mapbox": {
           "style": "light"
          },
          "paper_bgcolor": "white",
          "plot_bgcolor": "#E5ECF6",
          "polar": {
           "angularaxis": {
            "gridcolor": "white",
            "linecolor": "white",
            "ticks": ""
           },
           "bgcolor": "#E5ECF6",
           "radialaxis": {
            "gridcolor": "white",
            "linecolor": "white",
            "ticks": ""
           }
          },
          "scene": {
           "xaxis": {
            "backgroundcolor": "#E5ECF6",
            "gridcolor": "white",
            "gridwidth": 2,
            "linecolor": "white",
            "showbackground": true,
            "ticks": "",
            "zerolinecolor": "white"
           },
           "yaxis": {
            "backgroundcolor": "#E5ECF6",
            "gridcolor": "white",
            "gridwidth": 2,
            "linecolor": "white",
            "showbackground": true,
            "ticks": "",
            "zerolinecolor": "white"
           },
           "zaxis": {
            "backgroundcolor": "#E5ECF6",
            "gridcolor": "white",
            "gridwidth": 2,
            "linecolor": "white",
            "showbackground": true,
            "ticks": "",
            "zerolinecolor": "white"
           }
          },
          "shapedefaults": {
           "line": {
            "color": "#2a3f5f"
           }
          },
          "ternary": {
           "aaxis": {
            "gridcolor": "white",
            "linecolor": "white",
            "ticks": ""
           },
           "baxis": {
            "gridcolor": "white",
            "linecolor": "white",
            "ticks": ""
           },
           "bgcolor": "#E5ECF6",
           "caxis": {
            "gridcolor": "white",
            "linecolor": "white",
            "ticks": ""
           }
          },
          "title": {
           "x": 0.05
          },
          "xaxis": {
           "automargin": true,
           "gridcolor": "white",
           "linecolor": "white",
           "ticks": "",
           "title": {
            "standoff": 15
           },
           "zerolinecolor": "white",
           "zerolinewidth": 2
          },
          "yaxis": {
           "automargin": true,
           "gridcolor": "white",
           "linecolor": "white",
           "ticks": "",
           "title": {
            "standoff": 15
           },
           "zerolinecolor": "white",
           "zerolinewidth": 2
          }
         }
        },
        "title": {
         "font": {
          "size": 18
         },
         "text": "<b>OPSTOOL:: Plane Responses 3D Viewer</b><br><br>"
        }
       }
      }
     },
     "metadata": {},
     "output_type": "display_data"
    }
   ],
   "source": [
    "fig = opsvis.plot_unstruct_responses(\n",
    "    odb_tag=1,\n",
    "    slides=False,\n",
    "    step=\"absMax\",\n",
    "    ele_type=\"Plane\",\n",
    "    resp_type=\"StressesAtNodes\",  # or \"stressesAtGauss\", \"strainsAtNodes\", project_gauss_to_nodes needs to be set prior\n",
    "    resp_dof=\"sigma_vm\",\n",
    "    show_defo=True,\n",
    "    defo_scale=\"auto\",\n",
    "    show_model=True,\n",
    ")\n",
    "fig.write_html(\"images/plane_resp_plotly.html\", full_html=False, include_plotlyjs=\"cdn\")\n",
    "fig.show()"
   ]
  },
  {
   "cell_type": "raw",
   "id": "2931cd4e",
   "metadata": {
    "raw_mimetype": "text/restructuredtext",
    "vscode": {
     "languageId": "raw"
    }
   },
   "source": [
    ".. raw:: html\n",
    "   :file: images/plane_resp_plotly.html"
   ]
  },
  {
   "cell_type": "code",
   "execution_count": 8,
   "id": "c0db6a8d",
   "metadata": {},
   "outputs": [
    {
     "data": {
      "text/html": [
       "<pre style=\"white-space:pre;overflow-x:auto;line-height:normal;font-family:Menlo,'DejaVu Sans Mono',consolas,'Courier New',monospace\"><span style=\"color: #cf6275; text-decoration-color: #cf6275; font-weight: bold\">OPSTOOL</span> <span style=\"color: #12e193; text-decoration-color: #12e193; font-weight: bold\">::</span>  Loading response data from <span style=\"color: #3369e7; text-decoration-color: #3369e7; font-weight: bold\">.opstool.output/RespStepData-</span><span style=\"color: #3369e7; text-decoration-color: #3369e7; font-weight: bold\">1.</span><span style=\"color: #3369e7; text-decoration-color: #3369e7; font-weight: bold\">nc</span> <span style=\"color: #808000; text-decoration-color: #808000\">...</span>\n",
       "</pre>\n"
      ],
      "text/plain": [
       "\u001b[1;38;2;207;98;117mOPSTOOL\u001b[0m \u001b[1;38;2;18;225;147m::\u001b[0m  Loading response data from \u001b[1;38;2;51;105;231m.opstool.output/RespStepData-\u001b[0m\u001b[1;38;2;51;105;231m1.\u001b[0m\u001b[1;38;2;51;105;231mnc\u001b[0m \u001b[33m...\u001b[0m\n"
      ]
     },
     "metadata": {},
     "output_type": "display_data"
    },
    {
     "data": {
      "application/vnd.plotly.v1+json": {
       "config": {
        "plotlyServerURL": "https://plot.ly"
       },
       "data": [
        {
         "cmax": 0.6673227548599243,
         "cmin": 0,
         "coloraxis": "coloraxis",
         "hoverinfo": "skip",
         "i": {
          "bdata": "AAAAAAAAAAAEAAAABAAAAAgAAAAIAAAADAAAAAwAAAAQAAAAEAAAABQAAAAUAAAAGAAAABgAAAAcAAAAHAAAACAAAAAgAAAAJAAAACQAAAAoAAAAKAAAACwAAAAsAAAAMAAAADAAAAA0AAAANAAAADgAAAA4AAAAPAAAADwAAAA=",
          "dtype": "i4"
         },
         "intensity": {
          "bdata": "AAAAAAAAAAAAAAAAAAAAAAAAAAAAAAAAAAAAAAAAAAAAAAAAAAAAAAAAAAAAAAAAAAAAAAAAAAAAAAAAAAAAAAAAAAAAAAAAAAAAAAAAAAAAAAAAAAAAAAAAAAAAAAAAAAAAAAAAAAAAAAAAAAAAAAAAAAAAAAAAAAAAAAAAAAAAAAAAAAAAAAAAAAAAAAAAAAAAAAAAAAAAAAAAAAAAAAAAAAAAAAAAAAAAAAAAAAAAAAAAAAAAAAAAAAAAAAAAAAAAAAAAAAAAAAAAAAAAAAAAAAAAAAAAAAAAAAAAAAAAAAAAAAAAAAAAAAAAAAAAAAAAAAAAAAAAAAAAAAAAAA==",
          "dtype": "f4"
         },
         "j": {
          "bdata": "AQAAAAIAAAAFAAAABgAAAAkAAAAKAAAADQAAAA4AAAARAAAAEgAAABUAAAAWAAAAGQAAABoAAAAdAAAAHgAAACEAAAAiAAAAJQAAACYAAAApAAAAKgAAAC0AAAAuAAAAMQAAADIAAAA1AAAANgAAADkAAAA6AAAAPQAAAD4AAAA=",
          "dtype": "i4"
         },
         "k": {
          "bdata": "AgAAAAMAAAAGAAAABwAAAAoAAAALAAAADgAAAA8AAAASAAAAEwAAABYAAAAXAAAAGgAAABsAAAAeAAAAHwAAACIAAAAjAAAAJgAAACcAAAAqAAAAKwAAAC4AAAAvAAAAMgAAADMAAAA2AAAANwAAADoAAAA7AAAAPgAAAD8AAAA=",
          "dtype": "i4"
         },
         "opacity": 1,
         "text": {
          "bdata": "AAAAAAAAAAAAAAAAAAAAAAAAAAAAAAAAAAAAAAAAAAAAAAAAAAAAAAAAAAAAAAAAAAAAAAAAAAAAAAAAAAAAAAAAAAAAAAAAAAAAAAAAAAAAAAAAAAAAAAAAAAAAAAAAAAAAAAAAAAAAAAAAAAAAAAAAAAAAAAAAAAAAAAAAAAAAAAAAAAAAAAAAAAAAAAAAAAAAAAAAAAAAAAAAAAAAAAAAAAAAAAAAAAAAAAAAAAAAAAAAAAAAAAAAAAAAAAAAAAAAAAAAAAAAAAAAAAAAAAAAAAAAAAAAAAAAAAAAAAAAAAAAAAAAAAAAAAAAAAAAAAAAAAAAAAAAAAAAAAAAAAAAAAAAAAAAAAAAAAAAAAAAAAAAAAAAAAAAAAAAAAAAAAAAAAAAAAAAAAAAAAAAAAAAAAAAAAAAAAAAAAAAAAAAAAAAAAAAAAAAAAAAAAAAAAAAAAAAAAAAAAAAAAAAAAAAAAAAAAAAAAAAAAAAAAAAAAAAAAAAAAAAAAAAAAAAAAAAAAAAAAAAAAAAAAAAAAAAAAAAAAAAAAAAAAAAAAAAAAAAAAAAAAAAAAAAAAAAAAAAAAAAAAAAAAAAAAAAAAAAAAAAAAAAAAAAAAAAAAAAAAAAAAAAAAAAAAAAAAAAAAAAAAAAAAAAAAAAAAAAAAAAAAAAAAAAAAAAAAAAAAA=",
          "dtype": "f8"
         },
         "type": "mesh3d",
         "visible": false,
         "x": {
          "bdata": "AAAAAAAAgD8AAIA/AAAAAAAAAAAAAIA/AACAPwAAAAAAAAAAAACAPwAAgD8AAAAAAAAAAAAAgD8AAIA/AAAAAAAAgD8AAABAAAAAQAAAgD8AAIA/AAAAQAAAAEAAAIA/AACAPwAAAEAAAABAAACAPwAAgD8AAABAAAAAQAAAgD8AAABAAABAQAAAQEAAAABAAAAAQAAAQEAAAEBAAAAAQAAAAEAAAEBAAABAQAAAAEAAAABAAABAQAAAQEAAAABAAABAQAAAgEAAAIBAAABAQAAAQEAAAIBAAACAQAAAQEAAAEBAAACAQAAAgEAAAEBAAABAQAAAgEAAAIBAAABAQA==",
          "dtype": "f4"
         },
         "y": {
          "bdata": "AAAAAAAAAAAAAIA/AACAPwAAgD8AAIA/AAAAQAAAAEAAAABAAAAAQAAAQEAAAEBAAABAQAAAQEAAAIBAAACAQAAAAAAAAAAAAACAPwAAgD8AAIA/AACAPwAAAEAAAABAAAAAQAAAAEAAAEBAAABAQAAAQEAAAEBAAACAQAAAgEAAAAAAAAAAAAAAgD8AAIA/AACAPwAAgD8AAABAAAAAQAAAAEAAAABAAABAQAAAQEAAAEBAAABAQAAAgEAAAIBAAAAAAAAAAAAAAIA/AACAPwAAgD8AAIA/AAAAQAAAAEAAAABAAAAAQAAAQEAAAEBAAABAQAAAQEAAAIBAAACAQA==",
          "dtype": "f4"
         },
         "z": {
          "bdata": "AAAAAAAAAAAAAAAAAAAAAAAAAAAAAAAAAAAAAAAAAAAAAAAAAAAAAAAAAAAAAAAAAAAAAAAAAAAAAAAAAAAAAAAAAAAAAAAAAAAAAAAAAAAAAAAAAAAAAAAAAAAAAAAAAAAAAAAAAAAAAAAAAAAAAAAAAAAAAAAAAAAAAAAAAAAAAAAAAAAAAAAAAAAAAAAAAAAAAAAAAAAAAAAAAAAAAAAAAAAAAAAAAAAAAAAAAAAAAAAAAAAAAAAAAAAAAAAAAAAAAAAAAAAAAAAAAAAAAAAAAAAAAAAAAAAAAAAAAAAAAAAAAAAAAAAAAAAAAAAAAAAAAAAAAAAAAAAAAAAAAA==",
          "dtype": "f4"
         }
        },
        {
         "connectgaps": false,
         "hoverinfo": "skip",
         "line": {
          "color": "black",
          "width": 1
         },
         "mode": "lines",
         "name": "Edge",
         "type": "scatter3d",
         "visible": false,
         "x": {
          "bdata": "AAAAAAAAAAAAAAAAAADwPwAAAAAAAPA/AAAAAAAAAAAAAAAAAAAAAAAAAAAAAPh/AAAAAAAAAAAAAAAAAADwPwAAAAAAAPA/AAAAAAAAAAAAAAAAAAAAAAAAAAAAAPh/AAAAAAAAAAAAAAAAAADwPwAAAAAAAPA/AAAAAAAAAAAAAAAAAAAAAAAAAAAAAPh/AAAAAAAAAAAAAAAAAADwPwAAAAAAAPA/AAAAAAAAAAAAAAAAAAAAAAAAAAAAAPh/AAAAAAAA8D8AAAAAAAAAQAAAAAAAAABAAAAAAAAA8D8AAAAAAADwPwAAAAAAAPh/AAAAAAAA8D8AAAAAAAAAQAAAAAAAAABAAAAAAAAA8D8AAAAAAADwPwAAAAAAAPh/AAAAAAAA8D8AAAAAAAAAQAAAAAAAAABAAAAAAAAA8D8AAAAAAADwPwAAAAAAAPh/AAAAAAAA8D8AAAAAAAAAQAAAAAAAAABAAAAAAAAA8D8AAAAAAADwPwAAAAAAAPh/AAAAAAAAAEAAAAAAAAAIQAAAAAAAAAhAAAAAAAAAAEAAAAAAAAAAQAAAAAAAAPh/AAAAAAAAAEAAAAAAAAAIQAAAAAAAAAhAAAAAAAAAAEAAAAAAAAAAQAAAAAAAAPh/AAAAAAAAAEAAAAAAAAAIQAAAAAAAAAhAAAAAAAAAAEAAAAAAAAAAQAAAAAAAAPh/AAAAAAAAAEAAAAAAAAAIQAAAAAAAAAhAAAAAAAAAAEAAAAAAAAAAQAAAAAAAAPh/AAAAAAAACEAAAAAAAAAQQAAAAAAAABBAAAAAAAAACEAAAAAAAAAIQAAAAAAAAPh/AAAAAAAACEAAAAAAAAAQQAAAAAAAABBAAAAAAAAACEAAAAAAAAAIQAAAAAAAAPh/AAAAAAAACEAAAAAAAAAQQAAAAAAAABBAAAAAAAAACEAAAAAAAAAIQAAAAAAAAPh/AAAAAAAACEAAAAAAAAAQQAAAAAAAABBAAAAAAAAACEAAAAAAAAAIQAAAAAAAAPh/",
          "dtype": "f8"
         },
         "y": {
          "bdata": "AAAAAAAAAAAAAAAAAAAAAAAAAAAAAPA/AAAAAAAA8D8AAAAAAAAAAAAAAAAAAPh/AAAAAAAA8D8AAAAAAADwPwAAAAAAAABAAAAAAAAAAEAAAAAAAADwPwAAAAAAAPh/AAAAAAAAAEAAAAAAAAAAQAAAAAAAAAhAAAAAAAAACEAAAAAAAAAAQAAAAAAAAPh/AAAAAAAACEAAAAAAAAAIQAAAAAAAABBAAAAAAAAAEEAAAAAAAAAIQAAAAAAAAPh/AAAAAAAAAAAAAAAAAAAAAAAAAAAAAPA/AAAAAAAA8D8AAAAAAAAAAAAAAAAAAPh/AAAAAAAA8D8AAAAAAADwPwAAAAAAAABAAAAAAAAAAEAAAAAAAADwPwAAAAAAAPh/AAAAAAAAAEAAAAAAAAAAQAAAAAAAAAhAAAAAAAAACEAAAAAAAAAAQAAAAAAAAPh/AAAAAAAACEAAAAAAAAAIQAAAAAAAABBAAAAAAAAAEEAAAAAAAAAIQAAAAAAAAPh/AAAAAAAAAAAAAAAAAAAAAAAAAAAAAPA/AAAAAAAA8D8AAAAAAAAAAAAAAAAAAPh/AAAAAAAA8D8AAAAAAADwPwAAAAAAAABAAAAAAAAAAEAAAAAAAADwPwAAAAAAAPh/AAAAAAAAAEAAAAAAAAAAQAAAAAAAAAhAAAAAAAAACEAAAAAAAAAAQAAAAAAAAPh/AAAAAAAACEAAAAAAAAAIQAAAAAAAABBAAAAAAAAAEEAAAAAAAAAIQAAAAAAAAPh/AAAAAAAAAAAAAAAAAAAAAAAAAAAAAPA/AAAAAAAA8D8AAAAAAAAAAAAAAAAAAPh/AAAAAAAA8D8AAAAAAADwPwAAAAAAAABAAAAAAAAAAEAAAAAAAADwPwAAAAAAAPh/AAAAAAAAAEAAAAAAAAAAQAAAAAAAAAhAAAAAAAAACEAAAAAAAAAAQAAAAAAAAPh/AAAAAAAACEAAAAAAAAAIQAAAAAAAABBAAAAAAAAAEEAAAAAAAAAIQAAAAAAAAPh/",
          "dtype": "f8"
         },
         "z": {
          "bdata": "AAAAAAAAAAAAAAAAAAAAAAAAAAAAAAAAAAAAAAAAAAAAAAAAAAAAAAAAAAAAAPh/AAAAAAAAAAAAAAAAAAAAAAAAAAAAAAAAAAAAAAAAAAAAAAAAAAAAAAAAAAAAAPh/AAAAAAAAAAAAAAAAAAAAAAAAAAAAAAAAAAAAAAAAAAAAAAAAAAAAAAAAAAAAAPh/AAAAAAAAAAAAAAAAAAAAAAAAAAAAAAAAAAAAAAAAAAAAAAAAAAAAAAAAAAAAAPh/AAAAAAAAAAAAAAAAAAAAAAAAAAAAAAAAAAAAAAAAAAAAAAAAAAAAAAAAAAAAAPh/AAAAAAAAAAAAAAAAAAAAAAAAAAAAAAAAAAAAAAAAAAAAAAAAAAAAAAAAAAAAAPh/AAAAAAAAAAAAAAAAAAAAAAAAAAAAAAAAAAAAAAAAAAAAAAAAAAAAAAAAAAAAAPh/AAAAAAAAAAAAAAAAAAAAAAAAAAAAAAAAAAAAAAAAAAAAAAAAAAAAAAAAAAAAAPh/AAAAAAAAAAAAAAAAAAAAAAAAAAAAAAAAAAAAAAAAAAAAAAAAAAAAAAAAAAAAAPh/AAAAAAAAAAAAAAAAAAAAAAAAAAAAAAAAAAAAAAAAAAAAAAAAAAAAAAAAAAAAAPh/AAAAAAAAAAAAAAAAAAAAAAAAAAAAAAAAAAAAAAAAAAAAAAAAAAAAAAAAAAAAAPh/AAAAAAAAAAAAAAAAAAAAAAAAAAAAAAAAAAAAAAAAAAAAAAAAAAAAAAAAAAAAAPh/AAAAAAAAAAAAAAAAAAAAAAAAAAAAAAAAAAAAAAAAAAAAAAAAAAAAAAAAAAAAAPh/AAAAAAAAAAAAAAAAAAAAAAAAAAAAAAAAAAAAAAAAAAAAAAAAAAAAAAAAAAAAAPh/AAAAAAAAAAAAAAAAAAAAAAAAAAAAAAAAAAAAAAAAAAAAAAAAAAAAAAAAAAAAAPh/AAAAAAAAAAAAAAAAAAAAAAAAAAAAAAAAAAAAAAAAAAAAAAAAAAAAAAAAAAAAAPh/",
          "dtype": "f8"
         }
        },
        {
         "hoverinfo": "skip",
         "marker": {
          "cmax": 0.6673227548599243,
          "cmin": 0,
          "color": {
           "bdata": "AAAAAAAAAAAAAAAAAAAAAAAAAAAAAAAAAAAAAAAAAAAAAAAAAAAAAAAAAAAAAAAAAAAAAAAAAAAAAAAAAAAAAAAAAAAAAAAAAAAAAAAAAAAAAAAAAAAAAAAAAAAAAAAAAAAAAAAAAAAAAAAAAAAAAAAAAAAAAAAAAAAAAAAAAAAAAAAAAAAAAAAAAAAAAAAAAAAAAAAAAAAAAAAAAAAAAAAAAAAAAAAAAAAAAAAAAAAAAAAAAAAAAAAAAAAAAAAAAAAAAAAAAAAAAAAAAAAAAAAAAAAAAAAAAAAAAAAAAAAAAAAAAAAAAAAAAAAAAAAAAAAAAAAAAAAAAAAAAAAAAA==",
           "dtype": "f4"
          },
          "coloraxis": "coloraxis",
          "size": 3
         },
         "mode": "markers",
         "name": "StressMeasures",
         "type": "scatter3d",
         "visible": false,
         "x": {
          "bdata": "AAAAAAAAgD8AAIA/AAAAAAAAAAAAAIA/AACAPwAAAAAAAAAAAACAPwAAgD8AAAAAAAAAAAAAgD8AAIA/AAAAAAAAgD8AAABAAAAAQAAAgD8AAIA/AAAAQAAAAEAAAIA/AACAPwAAAEAAAABAAACAPwAAgD8AAABAAAAAQAAAgD8AAABAAABAQAAAQEAAAABAAAAAQAAAQEAAAEBAAAAAQAAAAEAAAEBAAABAQAAAAEAAAABAAABAQAAAQEAAAABAAABAQAAAgEAAAIBAAABAQAAAQEAAAIBAAACAQAAAQEAAAEBAAACAQAAAgEAAAEBAAABAQAAAgEAAAIBAAABAQA==",
          "dtype": "f4"
         },
         "y": {
          "bdata": "AAAAAAAAAAAAAIA/AACAPwAAgD8AAIA/AAAAQAAAAEAAAABAAAAAQAAAQEAAAEBAAABAQAAAQEAAAIBAAACAQAAAAAAAAAAAAACAPwAAgD8AAIA/AACAPwAAAEAAAABAAAAAQAAAAEAAAEBAAABAQAAAQEAAAEBAAACAQAAAgEAAAAAAAAAAAAAAgD8AAIA/AACAPwAAgD8AAABAAAAAQAAAAEAAAABAAABAQAAAQEAAAEBAAABAQAAAgEAAAIBAAAAAAAAAAAAAAIA/AACAPwAAgD8AAIA/AAAAQAAAAEAAAABAAAAAQAAAQEAAAEBAAABAQAAAQEAAAIBAAACAQA==",
          "dtype": "f4"
         },
         "z": {
          "bdata": "AAAAAAAAAAAAAAAAAAAAAAAAAAAAAAAAAAAAAAAAAAAAAAAAAAAAAAAAAAAAAAAAAAAAAAAAAAAAAAAAAAAAAAAAAAAAAAAAAAAAAAAAAAAAAAAAAAAAAAAAAAAAAAAAAAAAAAAAAAAAAAAAAAAAAAAAAAAAAAAAAAAAAAAAAAAAAAAAAAAAAAAAAAAAAAAAAAAAAAAAAAAAAAAAAAAAAAAAAAAAAAAAAAAAAAAAAAAAAAAAAAAAAAAAAAAAAAAAAAAAAAAAAAAAAAAAAAAAAAAAAAAAAAAAAAAAAAAAAAAAAAAAAAAAAAAAAAAAAAAAAAAAAAAAAAAAAAAAAAAAAA==",
          "dtype": "f4"
         }
        },
        {
         "cmax": 0.6673227548599243,
         "cmin": 0,
         "coloraxis": "coloraxis2",
         "hoverinfo": "skip",
         "i": {
          "bdata": "AAAAAAAAAAAEAAAABAAAAAgAAAAIAAAADAAAAAwAAAAQAAAAEAAAABQAAAAUAAAAGAAAABgAAAAcAAAAHAAAACAAAAAgAAAAJAAAACQAAAAoAAAAKAAAACwAAAAsAAAAMAAAADAAAAA0AAAANAAAADgAAAA4AAAAPAAAADwAAAA=",
          "dtype": "i4"
         },
         "intensity": {
          "bdata": "ljSxPJY0sTyWNLE8ljSxPL01pjy9NaY8vTWmPL01pjzld6Q85XekPOV3pDzld6Q8D2ohPA9qITwPaiE8D2ohPHc4uzx3OLs8dzi7PHc4uzwIhs08CIbNPAiGzTwIhs08ku8VPZLvFT2S7xU9ku8VPe6qiD3uqog97qqIPe6qiD13OLs8dzi7PHc4uzx3OLs8CIbNPAiGzTwIhs08CIbNPJLvFT2S7xU9ku8VPZLvFT3uqog97qqIPe6qiD3uqog9ljSxPJY0sTyWNLE8ljSxPL01pjy9NaY8vTWmPL01pjzld6Q85XekPOV3pDzld6Q8D2ohPA9qITwPaiE8D2ohPA==",
          "dtype": "f4"
         },
         "j": {
          "bdata": "AQAAAAIAAAAFAAAABgAAAAkAAAAKAAAADQAAAA4AAAARAAAAEgAAABUAAAAWAAAAGQAAABoAAAAdAAAAHgAAACEAAAAiAAAAJQAAACYAAAApAAAAKgAAAC0AAAAuAAAAMQAAADIAAAA1AAAANgAAADkAAAA6AAAAPQAAAD4AAAA=",
          "dtype": "i4"
         },
         "k": {
          "bdata": "AgAAAAMAAAAGAAAABwAAAAoAAAALAAAADgAAAA8AAAASAAAAEwAAABYAAAAXAAAAGgAAABsAAAAeAAAAHwAAACIAAAAjAAAAJgAAACcAAAAqAAAAKwAAAC4AAAAvAAAAMgAAADMAAAA2AAAANwAAADoAAAA7AAAAPgAAAD8AAAA=",
          "dtype": "i4"
         },
         "opacity": 1,
         "text": {
          "bdata": "AAAAwJImlj8AAADAkiaWPwAAAMCSJpY/AAAAwJImlj8AAACgt8aUPwAAAKC3xpQ/AAAAoLfGlD8AAACgt8aUPwAAAKD8jpQ/AAAAoPyOlD8AAACg/I6UPwAAAKD8jpQ/AAAA4EEthD8AAADgQS2EPwAAAOBBLYQ/AAAA4EEthD8AAADgDmeXPwAAAOAOZ5c/AAAA4A5nlz8AAADgDmeXPwAAAADBsJk/AAAAAMGwmT8AAAAAwbCZPwAAAADBsJk/AAAAQPK9oj8AAABA8r2iPwAAAEDyvaI/AAAAQPK9oj8AAADAXRWxPwAAAMBdFbE/AAAAwF0VsT8AAADAXRWxPwAAAOAOZ5c/AAAA4A5nlz8AAADgDmeXPwAAAOAOZ5c/AAAAAMGwmT8AAAAAwbCZPwAAAADBsJk/AAAAAMGwmT8AAABA8r2iPwAAAEDyvaI/AAAAQPK9oj8AAABA8r2iPwAAAMBdFbE/AAAAwF0VsT8AAADAXRWxPwAAAMBdFbE/AAAAwJImlj8AAADAkiaWPwAAAMCSJpY/AAAAwJImlj8AAACgt8aUPwAAAKC3xpQ/AAAAoLfGlD8AAACgt8aUPwAAAKD8jpQ/AAAAoPyOlD8AAACg/I6UPwAAAKD8jpQ/AAAA4EEthD8AAADgQS2EPwAAAOBBLYQ/AAAA4EEthD8=",
          "dtype": "f8"
         },
         "type": "mesh3d",
         "visible": false,
         "x": {
          "bdata": "AAAAAAAAgD8O938/oXE4oKFxOKAO938/Tdx/P2zb2yBs29sgTdx/P86Pfz/Rmm0h0ZptIc6Pfz/yO4A/+qKOIQAAgD8AAABAAAAAQA73fz8O938/AAAAQAAAAEBN3H8/Tdx/PwAAAEAAAABAzo9/P86Pfz8AAABAAAAAQPI7gD8AAABAAABAQDwCQEAAAABAAAAAQDwCQEDtCEBAAAAAQAAAAEDtCEBADRxAQAAAAEAAAABADRxAQAfiP0AAAABAAABAQAAAgEAAAIBAPAJAQDwCQEAAAIBAAACAQO0IQEDtCEBAAACAQAAAgEANHEBADRxAQAAAgEAAAIBAB+I/QA==",
          "dtype": "f4"
         },
         "y": {
          "bdata": "AAAAAAAAAACHMH8/cjx/P3I8fz+HMH8/+jD/PzVO/z81Tv8/+jD/P3NoP0ABnj9AAZ4/QHNoP0DVcX9AGJN/QAAAAAAAAAAAWiR/P4cwfz+HMH8/WiR/P7AR/z/6MP8/+jD/P7AR/z99Ij9Ac2g/QHNoP0B9Ij9AGEt+QNVxf0AAAAAAAAAAAIcwfz9aJH8/WiR/P4cwfz/6MP8/sBH/P7AR/z/6MP8/c2g/QH0iP0B9Ij9Ac2g/QNVxf0AYS35AAAAAAAAAAAByPH8/hzB/P4cwfz9yPH8/NU7/P/ow/z/6MP8/NU7/PwGeP0BzaD9Ac2g/QAGeP0AYk39A1XF/QA==",
          "dtype": "f4"
         },
         "z": {
          "bdata": "AAAAAAAAAAAAAAAAAAAAAAAAAAAAAAAAAAAAAAAAAAAAAAAAAAAAAAAAAAAAAAAAAAAAAAAAAAAAAAAAAAAAAAAAAAAAAAAAAAAAAAAAAAAAAAAAAAAAAAAAAAAAAAAAAAAAAAAAAAAAAAAAAAAAAAAAAAAAAAAAAAAAAAAAAAAAAAAAAAAAAAAAAAAAAAAAAAAAAAAAAAAAAAAAAAAAAAAAAAAAAAAAAAAAAAAAAAAAAAAAAAAAAAAAAAAAAAAAAAAAAAAAAAAAAAAAAAAAAAAAAAAAAAAAAAAAAAAAAAAAAAAAAAAAAAAAAAAAAAAAAAAAAAAAAAAAAAAAAAAAAA==",
          "dtype": "f4"
         }
        },
        {
         "connectgaps": false,
         "hoverinfo": "skip",
         "line": {
          "color": "black",
          "width": 1
         },
         "mode": "lines",
         "name": "Edge",
         "type": "scatter3d",
         "visible": false,
         "x": {
          "bdata": "AAAAAAAAAAAAAAAAAADwPwAAAMDh/u8/AAAAIDQOB7wAAAAAAAAAAAAAAAAAAPh/AAAAIDQOB7wAAADA4f7vPwAAAKCJ++8/AAAAgG17GzwAAAAgNA4HvAAAAAAAAPh/AAAAgG17GzwAAACgifvvPwAAAMD58e8/AAAAIFqzLTwAAACAbXsbPAAAAAAAAPh/AAAAIFqzLTwAAADA+fHvPwAAAEB+B/A/AAAAQF/UMTwAAAAgWrMtPAAAAAAAAPh/AAAAAAAA8D8AAAAAAAAAQAAAAAAAAABAAAAAwOH+7z8AAAAAAADwPwAAAAAAAPh/AAAAwOH+7z8AAAAAAAAAQAAAAAAAAABAAAAAoIn77z8AAADA4f7vPwAAAAAAAPh/AAAAoIn77z8AAAAAAAAAQAAAAAAAAABAAAAAwPnx7z8AAACgifvvPwAAAAAAAPh/AAAAwPnx7z8AAAAAAAAAQAAAAAAAAABAAAAAQH4H8D8AAADA+fHvPwAAAAAAAPh/AAAAAAAAAEAAAAAAAAAIQAAAAIBHAAhAAAAAAAAAAEAAAAAAAAAAQAAAAAAAAPh/AAAAAAAAAEAAAACARwAIQAAAAKAdAQhAAAAAAAAAAEAAAAAAAAAAQAAAAAAAAPh/AAAAAAAAAEAAAACgHQEIQAAAAKCBAwhAAAAAAAAAAEAAAAAAAAAAQAAAAAAAAPh/AAAAAAAAAEAAAACggQMIQAAAAOBA/AdAAAAAAAAAAEAAAAAAAAAAQAAAAAAAAPh/AAAAAAAACEAAAAAAAAAQQAAAAAAAABBAAAAAgEcACEAAAAAAAAAIQAAAAAAAAPh/AAAAgEcACEAAAAAAAAAQQAAAAAAAABBAAAAAoB0BCEAAAACARwAIQAAAAAAAAPh/AAAAoB0BCEAAAAAAAAAQQAAAAAAAABBAAAAAoIEDCEAAAACgHQEIQAAAAAAAAPh/AAAAoIEDCEAAAAAAAAAQQAAAAAAAABBAAAAA4ED8B0AAAACggQMIQAAAAAAAAPh/",
          "dtype": "f8"
         },
         "y": {
          "bdata": "AAAAAAAAAAAAAAAAAAAAAAAAAOAQ5u8/AAAAQI7n7z8AAAAAAAAAAAAAAAAAAPh/AAAAQI7n7z8AAADgEObvPwAAAEAf5v8/AAAAoMbp/z8AAABAjufvPwAAAAAAAPh/AAAAoMbp/z8AAABAH+b/PwAAAGAO7QdAAAAAIMDzB0AAAACgxun/PwAAAAAAAPh/AAAAIMDzB0AAAABgDu0HQAAAAKA67g9AAAAAAGPyD0AAAAAgwPMHQAAAAAAAAPh/AAAAAAAAAAAAAAAAAAAAAAAAAECL5O8/AAAA4BDm7z8AAAAAAAAAAAAAAAAAAPh/AAAA4BDm7z8AAABAi+TvPwAAAAA24v8/AAAAQB/m/z8AAADgEObvPwAAAAAAAPh/AAAAQB/m/z8AAAAANuL/PwAAAKBP5AdAAAAAYA7tB0AAAABAH+b/PwAAAAAAAPh/AAAAYA7tB0AAAACgT+QHQAAAAABjyQ9AAAAAoDruD0AAAABgDu0HQAAAAAAAAPh/AAAAAAAAAAAAAAAAAAAAAAAAAOAQ5u8/AAAAQIvk7z8AAAAAAAAAAAAAAAAAAPh/AAAAQIvk7z8AAADgEObvPwAAAEAf5v8/AAAAADbi/z8AAABAi+TvPwAAAAAAAPh/AAAAADbi/z8AAABAH+b/PwAAAGAO7QdAAAAAoE/kB0AAAAAANuL/PwAAAAAAAPh/AAAAoE/kB0AAAABgDu0HQAAAAKA67g9AAAAAAGPJD0AAAACgT+QHQAAAAAAAAPh/AAAAAAAAAAAAAAAAAAAAAAAAAECO5+8/AAAA4BDm7z8AAAAAAAAAAAAAAAAAAPh/AAAA4BDm7z8AAABAjufvPwAAAKDG6f8/AAAAQB/m/z8AAADgEObvPwAAAAAAAPh/AAAAQB/m/z8AAACgxun/PwAAACDA8wdAAAAAYA7tB0AAAABAH+b/PwAAAAAAAPh/AAAAYA7tB0AAAAAgwPMHQAAAAABj8g9AAAAAoDruD0AAAABgDu0HQAAAAAAAAPh/",
          "dtype": "f8"
         },
         "z": {
          "bdata": "AAAAAAAAAAAAAAAAAAAAAAAAAAAAAAAAAAAAAAAAAAAAAAAAAAAAAAAAAAAAAPh/AAAAAAAAAAAAAAAAAAAAAAAAAAAAAAAAAAAAAAAAAAAAAAAAAAAAAAAAAAAAAPh/AAAAAAAAAAAAAAAAAAAAAAAAAAAAAAAAAAAAAAAAAAAAAAAAAAAAAAAAAAAAAPh/AAAAAAAAAAAAAAAAAAAAAAAAAAAAAAAAAAAAAAAAAAAAAAAAAAAAAAAAAAAAAPh/AAAAAAAAAAAAAAAAAAAAAAAAAAAAAAAAAAAAAAAAAAAAAAAAAAAAAAAAAAAAAPh/AAAAAAAAAAAAAAAAAAAAAAAAAAAAAAAAAAAAAAAAAAAAAAAAAAAAAAAAAAAAAPh/AAAAAAAAAAAAAAAAAAAAAAAAAAAAAAAAAAAAAAAAAAAAAAAAAAAAAAAAAAAAAPh/AAAAAAAAAAAAAAAAAAAAAAAAAAAAAAAAAAAAAAAAAAAAAAAAAAAAAAAAAAAAAPh/AAAAAAAAAAAAAAAAAAAAAAAAAAAAAAAAAAAAAAAAAAAAAAAAAAAAAAAAAAAAAPh/AAAAAAAAAAAAAAAAAAAAAAAAAAAAAAAAAAAAAAAAAAAAAAAAAAAAAAAAAAAAAPh/AAAAAAAAAAAAAAAAAAAAAAAAAAAAAAAAAAAAAAAAAAAAAAAAAAAAAAAAAAAAAPh/AAAAAAAAAAAAAAAAAAAAAAAAAAAAAAAAAAAAAAAAAAAAAAAAAAAAAAAAAAAAAPh/AAAAAAAAAAAAAAAAAAAAAAAAAAAAAAAAAAAAAAAAAAAAAAAAAAAAAAAAAAAAAPh/AAAAAAAAAAAAAAAAAAAAAAAAAAAAAAAAAAAAAAAAAAAAAAAAAAAAAAAAAAAAAPh/AAAAAAAAAAAAAAAAAAAAAAAAAAAAAAAAAAAAAAAAAAAAAAAAAAAAAAAAAAAAAPh/AAAAAAAAAAAAAAAAAAAAAAAAAAAAAAAAAAAAAAAAAAAAAAAAAAAAAAAAAAAAAPh/",
          "dtype": "f8"
         }
        },
        {
         "hoverinfo": "skip",
         "marker": {
          "cmax": 0.6673227548599243,
          "cmin": 0,
          "color": {
           "bdata": "ljSxPJY0sTyWNLE8ljSxPL01pjy9NaY8vTWmPL01pjzld6Q85XekPOV3pDzld6Q8D2ohPA9qITwPaiE8D2ohPHc4uzx3OLs8dzi7PHc4uzwIhs08CIbNPAiGzTwIhs08ku8VPZLvFT2S7xU9ku8VPe6qiD3uqog97qqIPe6qiD13OLs8dzi7PHc4uzx3OLs8CIbNPAiGzTwIhs08CIbNPJLvFT2S7xU9ku8VPZLvFT3uqog97qqIPe6qiD3uqog9ljSxPJY0sTyWNLE8ljSxPL01pjy9NaY8vTWmPL01pjzld6Q85XekPOV3pDzld6Q8D2ohPA9qITwPaiE8D2ohPA==",
           "dtype": "f4"
          },
          "coloraxis": "coloraxis2",
          "size": 3
         },
         "mode": "markers",
         "name": "StressMeasures",
         "type": "scatter3d",
         "visible": false,
         "x": {
          "bdata": "AAAAAAAAgD8O938/oXE4oKFxOKAO938/Tdx/P2zb2yBs29sgTdx/P86Pfz/Rmm0h0ZptIc6Pfz/yO4A/+qKOIQAAgD8AAABAAAAAQA73fz8O938/AAAAQAAAAEBN3H8/Tdx/PwAAAEAAAABAzo9/P86Pfz8AAABAAAAAQPI7gD8AAABAAABAQDwCQEAAAABAAAAAQDwCQEDtCEBAAAAAQAAAAEDtCEBADRxAQAAAAEAAAABADRxAQAfiP0AAAABAAABAQAAAgEAAAIBAPAJAQDwCQEAAAIBAAACAQO0IQEDtCEBAAACAQAAAgEANHEBADRxAQAAAgEAAAIBAB+I/QA==",
          "dtype": "f4"
         },
         "y": {
          "bdata": "AAAAAAAAAACHMH8/cjx/P3I8fz+HMH8/+jD/PzVO/z81Tv8/+jD/P3NoP0ABnj9AAZ4/QHNoP0DVcX9AGJN/QAAAAAAAAAAAWiR/P4cwfz+HMH8/WiR/P7AR/z/6MP8/+jD/P7AR/z99Ij9Ac2g/QHNoP0B9Ij9AGEt+QNVxf0AAAAAAAAAAAIcwfz9aJH8/WiR/P4cwfz/6MP8/sBH/P7AR/z/6MP8/c2g/QH0iP0B9Ij9Ac2g/QNVxf0AYS35AAAAAAAAAAAByPH8/hzB/P4cwfz9yPH8/NU7/P/ow/z/6MP8/NU7/PwGeP0BzaD9Ac2g/QAGeP0AYk39A1XF/QA==",
          "dtype": "f4"
         },
         "z": {
          "bdata": "AAAAAAAAAAAAAAAAAAAAAAAAAAAAAAAAAAAAAAAAAAAAAAAAAAAAAAAAAAAAAAAAAAAAAAAAAAAAAAAAAAAAAAAAAAAAAAAAAAAAAAAAAAAAAAAAAAAAAAAAAAAAAAAAAAAAAAAAAAAAAAAAAAAAAAAAAAAAAAAAAAAAAAAAAAAAAAAAAAAAAAAAAAAAAAAAAAAAAAAAAAAAAAAAAAAAAAAAAAAAAAAAAAAAAAAAAAAAAAAAAAAAAAAAAAAAAAAAAAAAAAAAAAAAAAAAAAAAAAAAAAAAAAAAAAAAAAAAAAAAAAAAAAAAAAAAAAAAAAAAAAAAAAAAAAAAAAAAAAAAAA==",
          "dtype": "f4"
         }
        },
        {
         "cmax": 0.6673227548599243,
         "cmin": 0,
         "coloraxis": "coloraxis3",
         "hoverinfo": "skip",
         "i": {
          "bdata": "AAAAAAAAAAAEAAAABAAAAAgAAAAIAAAADAAAAAwAAAAQAAAAEAAAABQAAAAUAAAAGAAAABgAAAAcAAAAHAAAACAAAAAgAAAAJAAAACQAAAAoAAAAKAAAACwAAAAsAAAAMAAAADAAAAA0AAAANAAAADgAAAA4AAAAPAAAADwAAAA=",
          "dtype": "i4"
         },
         "intensity": {
          "bdata": "ljQxPZY0MT2WNDE9ljQxPb01Jj29NSY9vTUmPb01Jj3ldyQ95XckPeV3JD3ldyQ9D2qhPA9qoTwPaqE8D2qhPHc4Oz13ODs9dzg7PXc4Oz0Ihk09CIZNPQiGTT0Ihk09ku+VPZLvlT2S75U9ku+VPe6qCD7uqgg+7qoIPu6qCD53ODs9dzg7PXc4Oz13ODs9CIZNPQiGTT0Ihk09CIZNPZLvlT2S75U9ku+VPZLvlT3uqgg+7qoIPu6qCD7uqgg+ljQxPZY0MT2WNDE9ljQxPb01Jj29NSY9vTUmPb01Jj3ldyQ95XckPeV3JD3ldyQ9D2qhPA9qoTwPaqE8D2qhPA==",
          "dtype": "f4"
         },
         "j": {
          "bdata": "AQAAAAIAAAAFAAAABgAAAAkAAAAKAAAADQAAAA4AAAARAAAAEgAAABUAAAAWAAAAGQAAABoAAAAdAAAAHgAAACEAAAAiAAAAJQAAACYAAAApAAAAKgAAAC0AAAAuAAAAMQAAADIAAAA1AAAANgAAADkAAAA6AAAAPQAAAD4AAAA=",
          "dtype": "i4"
         },
         "k": {
          "bdata": "AgAAAAMAAAAGAAAABwAAAAoAAAALAAAADgAAAA8AAAASAAAAEwAAABYAAAAXAAAAGgAAABsAAAAeAAAAHwAAACIAAAAjAAAAJgAAACcAAAAqAAAAKwAAAC4AAAAvAAAAMgAAADMAAAA2AAAANwAAADoAAAA7AAAAPgAAAD8AAAA=",
          "dtype": "i4"
         },
         "opacity": 1,
         "text": {
          "bdata": "AAAAwJImpj8AAADAkiamPwAAAMCSJqY/AAAAwJImpj8AAACgt8akPwAAAKC3xqQ/AAAAoLfGpD8AAACgt8akPwAAAKD8jqQ/AAAAoPyOpD8AAACg/I6kPwAAAKD8jqQ/AAAA4EEtlD8AAADgQS2UPwAAAOBBLZQ/AAAA4EEtlD8AAADgDmenPwAAAOAOZ6c/AAAA4A5npz8AAADgDmenPwAAAADBsKk/AAAAAMGwqT8AAAAAwbCpPwAAAADBsKk/AAAAQPK9sj8AAABA8r2yPwAAAEDyvbI/AAAAQPK9sj8AAADAXRXBPwAAAMBdFcE/AAAAwF0VwT8AAADAXRXBPwAAAOAOZ6c/AAAA4A5npz8AAADgDmenPwAAAOAOZ6c/AAAAAMGwqT8AAAAAwbCpPwAAAADBsKk/AAAAAMGwqT8AAABA8r2yPwAAAEDyvbI/AAAAQPK9sj8AAABA8r2yPwAAAMBdFcE/AAAAwF0VwT8AAADAXRXBPwAAAMBdFcE/AAAAwJImpj8AAADAkiamPwAAAMCSJqY/AAAAwJImpj8AAACgt8akPwAAAKC3xqQ/AAAAoLfGpD8AAACgt8akPwAAAKD8jqQ/AAAAoPyOpD8AAACg/I6kPwAAAKD8jqQ/AAAA4EEtlD8AAADgQS2UPwAAAOBBLZQ/AAAA4EEtlD8=",
          "dtype": "f8"
         },
         "type": "mesh3d",
         "visible": false,
         "x": {
          "bdata": "AAAAAAAAgD8d7n8/BPs0oQT7NKEd7n8/m7h/P2PqgaFj6oGhm7h/P5wffz9bW/KhW1vyoZwffz/ld4A/46TZoQAAgD8AAABAAAAAQB3ufz8d7n8/AAAAQAAAAECbuH8/m7h/PwAAAEAAAABAnB9/P5wffz8AAABAAAAAQOV3gD8AAABAAABAQHkEQEAAAABAAAAAQHkEQEDZEUBAAAAAQAAAAEDZEUBAGThAQAAAAEAAAABAGThAQA7EP0AAAABAAABAQAAAgEAAAIBAeQRAQHkEQEAAAIBAAACAQNkRQEDZEUBAAACAQAAAgEAZOEBAGThAQAAAgEAAAIBADsQ/QA==",
          "dtype": "f4"
         },
         "y": {
          "bdata": "AAAAAAAAAAAOYX4/5Hh+P+R4fj8OYX4/9GH+P2qc/j9qnP4/9GH+P+bQPkABPD9AATw/QObQPkCp435AMSZ/QAAAAAAAAAAAtEh+Pw5hfj8OYX4/tEh+P2Aj/j/0Yf4/9GH+P2Aj/j/6RD5A5tA+QObQPkD6RD5AMJZ8QKnjfkAAAAAAAAAAAA5hfj+0SH4/tEh+Pw5hfj/0Yf4/YCP+P2Aj/j/0Yf4/5tA+QPpEPkD6RD5A5tA+QKnjfkAwlnxAAAAAAAAAAADkeH4/DmF+Pw5hfj/keH4/apz+P/Rh/j/0Yf4/apz+PwE8P0Dm0D5A5tA+QAE8P0AxJn9AqeN+QA==",
          "dtype": "f4"
         },
         "z": {
          "bdata": "AAAAAAAAAAAAAAAAAAAAAAAAAAAAAAAAAAAAAAAAAAAAAAAAAAAAAAAAAAAAAAAAAAAAAAAAAAAAAAAAAAAAAAAAAAAAAAAAAAAAAAAAAAAAAAAAAAAAAAAAAAAAAAAAAAAAAAAAAAAAAAAAAAAAAAAAAAAAAAAAAAAAAAAAAAAAAAAAAAAAAAAAAAAAAAAAAAAAAAAAAAAAAAAAAAAAAAAAAAAAAAAAAAAAAAAAAAAAAAAAAAAAAAAAAAAAAAAAAAAAAAAAAAAAAAAAAAAAAAAAAAAAAAAAAAAAAAAAAAAAAAAAAAAAAAAAAAAAAAAAAAAAAAAAAAAAAAAAAAAAAA==",
          "dtype": "f4"
         }
        },
        {
         "connectgaps": false,
         "hoverinfo": "skip",
         "line": {
          "color": "black",
          "width": 1
         },
         "mode": "lines",
         "name": "Edge",
         "type": "scatter3d",
         "visible": false,
         "x": {
          "bdata": "AAAAAAAAAAAAAAAAAADwPwAAAKDD/e8/AAAAgGCfJrwAAAAAAAAAAAAAAAAAAPh/AAAAgGCfJrwAAACgw/3vPwAAAGAT9+8/AAAAYEw9MLwAAACAYJ8mvAAAAAAAAPh/AAAAYEw9MLwAAABgE/fvPwAAAIDz4+8/AAAAYGtLPrwAAABgTD0wvAAAAAAAAPh/AAAAYGtLPrwAAACA8+PvPwAAAKD8DvA/AAAAYJw0O7wAAABga0s+vAAAAAAAAPh/AAAAAAAA8D8AAAAAAAAAQAAAAAAAAABAAAAAoMP97z8AAAAAAADwPwAAAAAAAPh/AAAAoMP97z8AAAAAAAAAQAAAAAAAAABAAAAAYBP37z8AAACgw/3vPwAAAAAAAPh/AAAAYBP37z8AAAAAAAAAQAAAAAAAAABAAAAAgPPj7z8AAABgE/fvPwAAAAAAAPh/AAAAgPPj7z8AAAAAAAAAQAAAAAAAAABAAAAAoPwO8D8AAACA8+PvPwAAAAAAAPh/AAAAAAAAAEAAAAAAAAAIQAAAACCPAAhAAAAAAAAAAEAAAAAAAAAAQAAAAAAAAPh/AAAAAAAAAEAAAAAgjwAIQAAAACA7AghAAAAAAAAAAEAAAAAAAAAAQAAAAAAAAPh/AAAAAAAAAEAAAAAgOwIIQAAAACADBwhAAAAAAAAAAEAAAAAAAAAAQAAAAAAAAPh/AAAAAAAAAEAAAAAgAwcIQAAAAMCB+AdAAAAAAAAAAEAAAAAAAAAAQAAAAAAAAPh/AAAAAAAACEAAAAAAAAAQQAAAAAAAABBAAAAAII8ACEAAAAAAAAAIQAAAAAAAAPh/AAAAII8ACEAAAAAAAAAQQAAAAAAAABBAAAAAIDsCCEAAAAAgjwAIQAAAAAAAAPh/AAAAIDsCCEAAAAAAAAAQQAAAAAAAABBAAAAAIAMHCEAAAAAgOwIIQAAAAAAAAPh/AAAAIAMHCEAAAAAAAAAQQAAAAAAAABBAAAAAwIH4B0AAAAAgAwcIQAAAAAAAAPh/",
          "dtype": "f8"
         },
         "y": {
          "bdata": "AAAAAAAAAAAAAAAAAAAAAAAAAMAhzO8/AAAAgBzP7z8AAAAAAAAAAAAAAAAAAPh/AAAAgBzP7z8AAADAIczvPwAAAIA+zP8/AAAAQI3T/z8AAACAHM/vPwAAAAAAAPh/AAAAQI3T/z8AAACAPsz/PwAAAMAc2gdAAAAAIIDnB0AAAABAjdP/PwAAAAAAAPh/AAAAIIDnB0AAAADAHNoHQAAAACB13A9AAAAAIMbkD0AAAAAggOcHQAAAAAAAAPh/AAAAAAAAAAAAAAAAAAAAAAAAAIAWye8/AAAAwCHM7z8AAAAAAAAAAAAAAAAAAPh/AAAAwCHM7z8AAACAFsnvPwAAAABsxP8/AAAAgD7M/z8AAADAIczvPwAAAAAAAPh/AAAAgD7M/z8AAAAAbMT/PwAAAECfyAdAAAAAwBzaB0AAAACAPsz/PwAAAAAAAPh/AAAAwBzaB0AAAABAn8gHQAAAAADGkg9AAAAAIHXcD0AAAADAHNoHQAAAAAAAAPh/AAAAAAAAAAAAAAAAAAAAAAAAAMAhzO8/AAAAgBbJ7z8AAAAAAAAAAAAAAAAAAPh/AAAAgBbJ7z8AAADAIczvPwAAAIA+zP8/AAAAAGzE/z8AAACAFsnvPwAAAAAAAPh/AAAAAGzE/z8AAACAPsz/PwAAAMAc2gdAAAAAQJ/IB0AAAAAAbMT/PwAAAAAAAPh/AAAAQJ/IB0AAAADAHNoHQAAAACB13A9AAAAAAMaSD0AAAABAn8gHQAAAAAAAAPh/AAAAAAAAAAAAAAAAAAAAAAAAAIAcz+8/AAAAwCHM7z8AAAAAAAAAAAAAAAAAAPh/AAAAwCHM7z8AAACAHM/vPwAAAECN0/8/AAAAgD7M/z8AAADAIczvPwAAAAAAAPh/AAAAgD7M/z8AAABAjdP/PwAAACCA5wdAAAAAwBzaB0AAAACAPsz/PwAAAAAAAPh/AAAAwBzaB0AAAAAggOcHQAAAACDG5A9AAAAAIHXcD0AAAADAHNoHQAAAAAAAAPh/",
          "dtype": "f8"
         },
         "z": {
          "bdata": "AAAAAAAAAAAAAAAAAAAAAAAAAAAAAAAAAAAAAAAAAAAAAAAAAAAAAAAAAAAAAPh/AAAAAAAAAAAAAAAAAAAAAAAAAAAAAAAAAAAAAAAAAAAAAAAAAAAAAAAAAAAAAPh/AAAAAAAAAAAAAAAAAAAAAAAAAAAAAAAAAAAAAAAAAAAAAAAAAAAAAAAAAAAAAPh/AAAAAAAAAAAAAAAAAAAAAAAAAAAAAAAAAAAAAAAAAAAAAAAAAAAAAAAAAAAAAPh/AAAAAAAAAAAAAAAAAAAAAAAAAAAAAAAAAAAAAAAAAAAAAAAAAAAAAAAAAAAAAPh/AAAAAAAAAAAAAAAAAAAAAAAAAAAAAAAAAAAAAAAAAAAAAAAAAAAAAAAAAAAAAPh/AAAAAAAAAAAAAAAAAAAAAAAAAAAAAAAAAAAAAAAAAAAAAAAAAAAAAAAAAAAAAPh/AAAAAAAAAAAAAAAAAAAAAAAAAAAAAAAAAAAAAAAAAAAAAAAAAAAAAAAAAAAAAPh/AAAAAAAAAAAAAAAAAAAAAAAAAAAAAAAAAAAAAAAAAAAAAAAAAAAAAAAAAAAAAPh/AAAAAAAAAAAAAAAAAAAAAAAAAAAAAAAAAAAAAAAAAAAAAAAAAAAAAAAAAAAAAPh/AAAAAAAAAAAAAAAAAAAAAAAAAAAAAAAAAAAAAAAAAAAAAAAAAAAAAAAAAAAAAPh/AAAAAAAAAAAAAAAAAAAAAAAAAAAAAAAAAAAAAAAAAAAAAAAAAAAAAAAAAAAAAPh/AAAAAAAAAAAAAAAAAAAAAAAAAAAAAAAAAAAAAAAAAAAAAAAAAAAAAAAAAAAAAPh/AAAAAAAAAAAAAAAAAAAAAAAAAAAAAAAAAAAAAAAAAAAAAAAAAAAAAAAAAAAAAPh/AAAAAAAAAAAAAAAAAAAAAAAAAAAAAAAAAAAAAAAAAAAAAAAAAAAAAAAAAAAAAPh/AAAAAAAAAAAAAAAAAAAAAAAAAAAAAAAAAAAAAAAAAAAAAAAAAAAAAAAAAAAAAPh/",
          "dtype": "f8"
         }
        },
        {
         "hoverinfo": "skip",
         "marker": {
          "cmax": 0.6673227548599243,
          "cmin": 0,
          "color": {
           "bdata": "ljQxPZY0MT2WNDE9ljQxPb01Jj29NSY9vTUmPb01Jj3ldyQ95XckPeV3JD3ldyQ9D2qhPA9qoTwPaqE8D2qhPHc4Oz13ODs9dzg7PXc4Oz0Ihk09CIZNPQiGTT0Ihk09ku+VPZLvlT2S75U9ku+VPe6qCD7uqgg+7qoIPu6qCD53ODs9dzg7PXc4Oz13ODs9CIZNPQiGTT0Ihk09CIZNPZLvlT2S75U9ku+VPZLvlT3uqgg+7qoIPu6qCD7uqgg+ljQxPZY0MT2WNDE9ljQxPb01Jj29NSY9vTUmPb01Jj3ldyQ95XckPeV3JD3ldyQ9D2qhPA9qoTwPaqE8D2qhPA==",
           "dtype": "f4"
          },
          "coloraxis": "coloraxis3",
          "size": 3
         },
         "mode": "markers",
         "name": "StressMeasures",
         "type": "scatter3d",
         "visible": false,
         "x": {
          "bdata": "AAAAAAAAgD8d7n8/BPs0oQT7NKEd7n8/m7h/P2PqgaFj6oGhm7h/P5wffz9bW/KhW1vyoZwffz/ld4A/46TZoQAAgD8AAABAAAAAQB3ufz8d7n8/AAAAQAAAAECbuH8/m7h/PwAAAEAAAABAnB9/P5wffz8AAABAAAAAQOV3gD8AAABAAABAQHkEQEAAAABAAAAAQHkEQEDZEUBAAAAAQAAAAEDZEUBAGThAQAAAAEAAAABAGThAQA7EP0AAAABAAABAQAAAgEAAAIBAeQRAQHkEQEAAAIBAAACAQNkRQEDZEUBAAACAQAAAgEAZOEBAGThAQAAAgEAAAIBADsQ/QA==",
          "dtype": "f4"
         },
         "y": {
          "bdata": "AAAAAAAAAAAOYX4/5Hh+P+R4fj8OYX4/9GH+P2qc/j9qnP4/9GH+P+bQPkABPD9AATw/QObQPkCp435AMSZ/QAAAAAAAAAAAtEh+Pw5hfj8OYX4/tEh+P2Aj/j/0Yf4/9GH+P2Aj/j/6RD5A5tA+QObQPkD6RD5AMJZ8QKnjfkAAAAAAAAAAAA5hfj+0SH4/tEh+Pw5hfj/0Yf4/YCP+P2Aj/j/0Yf4/5tA+QPpEPkD6RD5A5tA+QKnjfkAwlnxAAAAAAAAAAADkeH4/DmF+Pw5hfj/keH4/apz+P/Rh/j/0Yf4/apz+PwE8P0Dm0D5A5tA+QAE8P0AxJn9AqeN+QA==",
          "dtype": "f4"
         },
         "z": {
          "bdata": "AAAAAAAAAAAAAAAAAAAAAAAAAAAAAAAAAAAAAAAAAAAAAAAAAAAAAAAAAAAAAAAAAAAAAAAAAAAAAAAAAAAAAAAAAAAAAAAAAAAAAAAAAAAAAAAAAAAAAAAAAAAAAAAAAAAAAAAAAAAAAAAAAAAAAAAAAAAAAAAAAAAAAAAAAAAAAAAAAAAAAAAAAAAAAAAAAAAAAAAAAAAAAAAAAAAAAAAAAAAAAAAAAAAAAAAAAAAAAAAAAAAAAAAAAAAAAAAAAAAAAAAAAAAAAAAAAAAAAAAAAAAAAAAAAAAAAAAAAAAAAAAAAAAAAAAAAAAAAAAAAAAAAAAAAAAAAAAAAAAAAA==",
          "dtype": "f4"
         }
        },
        {
         "cmax": 0.6673227548599243,
         "cmin": 0,
         "coloraxis": "coloraxis4",
         "hoverinfo": "skip",
         "i": {
          "bdata": "AAAAAAAAAAAEAAAABAAAAAgAAAAIAAAADAAAAAwAAAAQAAAAEAAAABQAAAAUAAAAGAAAABgAAAAcAAAAHAAAACAAAAAgAAAAJAAAACQAAAAoAAAAKAAAACwAAAAsAAAAMAAAADAAAAA0AAAANAAAADgAAAA4AAAAPAAAADwAAAA=",
          "dtype": "i4"
         },
         "intensity": {
          "bdata": "cueEPXLnhD1y54Q9cueEPZxQeT2cUHk9nFB5PZxQeT3Zs3Y92bN2Pdmzdj3Zs3Y9Fh/yPBYf8jwWH/I8Fh/yPFhqjD1Yaow9WGqMPVhqjD2GJJo9hiSaPYYkmj2GJJo9WufgPVrn4D1a5+A9WufgPWQATT5kAE0+ZABNPmQATT5Zaow9WWqMPVlqjD1Zaow9hiSaPYYkmj2GJJo9hiSaPVrn4D1a5+A9WufgPVrn4D1kAE0+ZABNPmQATT5kAE0+cueEPXLnhD1y54Q9cueEPZxQeT2cUHk9nFB5PZxQeT3Ys3Y92LN2Pdizdj3Ys3Y9Fh/yPBYf8jwWH/I8Fh/yPA==",
          "dtype": "f4"
         },
         "j": {
          "bdata": "AQAAAAIAAAAFAAAABgAAAAkAAAAKAAAADQAAAA4AAAARAAAAEgAAABUAAAAWAAAAGQAAABoAAAAdAAAAHgAAACEAAAAiAAAAJQAAACYAAAApAAAAKgAAAC0AAAAuAAAAMQAAADIAAAA1AAAANgAAADkAAAA6AAAAPQAAAD4AAAA=",
          "dtype": "i4"
         },
         "k": {
          "bdata": "AgAAAAMAAAAGAAAABwAAAAoAAAALAAAADgAAAA8AAAASAAAAEwAAABYAAAAXAAAAGgAAABsAAAAeAAAAHwAAACIAAAAjAAAAJgAAACcAAAAqAAAAKwAAAC4AAAAvAAAAMgAAADMAAAA2AAAANwAAADoAAAA7AAAAPgAAAD8AAAA=",
          "dtype": "i4"
         },
         "opacity": 1,
         "text": {
          "bdata": "AAAAQO6csD8AAABA7pywPwAAAEDunLA/AAAAQO6csD8AAACAEyqvPwAAAIATKq8/AAAAgBMqrz8AAACAEyqvPwAAACB71q4/AAAAIHvWrj8AAAAge9auPwAAACB71q4/AAAAwOJDnj8AAADA4kOePwAAAMDiQ54/AAAAwOJDnj8AAAAAS42xPwAAAABLjbE/AAAAAEuNsT8AAAAAS42xPwAAAMCQRLM/AAAAwJBEsz8AAADAkESzPwAAAMCQRLM/AAAAQOscvD8AAABA6xy8PwAAAEDrHLw/AAAAQOscvD8AAACADKDJPwAAAIAMoMk/AAAAgAygyT8AAACADKDJPwAAACBLjbE/AAAAIEuNsT8AAAAgS42xPwAAACBLjbE/AAAAwJBEsz8AAADAkESzPwAAAMCQRLM/AAAAwJBEsz8AAABA6xy8PwAAAEDrHLw/AAAAQOscvD8AAABA6xy8PwAAAIAMoMk/AAAAgAygyT8AAACADKDJPwAAAIAMoMk/AAAAQO6csD8AAABA7pywPwAAAEDunLA/AAAAQO6csD8AAACAEyqvPwAAAIATKq8/AAAAgBMqrz8AAACAEyqvPwAAAAB71q4/AAAAAHvWrj8AAAAAe9auPwAAAAB71q4/AAAAwOJDnj8AAADA4kOePwAAAMDiQ54/AAAAwOJDnj8=",
          "dtype": "f8"
         },
         "type": "mesh3d",
         "visible": false,
         "x": {
          "bdata": "AAAAAAAAgD8r5X8/v6XDob+lw6Er5X8/6JR/PzvmGqI75hqi6JR/P2qvfj/GUiaixlImomqvfj/Xs4A/CeB9ogAAgD8AAABAAAAAQCvlfz8r5X8/AAAAQAAAAEDolH8/6JR/PwAAAEAAAABAaq9+P2qvfj8AAABAAAAAQNezgD8AAABAAABAQLUGQEAAAABAAAAAQLUGQEDGGkBAAAAAQAAAAEDGGkBAJlRAQAAAAEAAAABAJlRAQBSmP0AAAABAAABAQAAAgEAAAIBAtQZAQLUGQEAAAIBAAACAQMYaQEDGGkBAAACAQAAAgEAmVEBAJlRAQAAAgEAAAIBAFKY/QA==",
          "dtype": "f4"
         },
         "y": {
          "bdata": "AAAAAAAAAACUkX0/VrV9P1a1fT+UkX0/7pL9P5/q/T+f6v0/7pL9P1g5PkAC2j5AAto+QFg5PkB+VX5ASbl+QAAAAAAAAAAADm19P5SRfT+UkX0/Dm19PxA1/T/ukv0/7pL9PxA1/T92Zz1AWDk+QFg5PkB2Zz1ASOF6QH5VfkAAAAAAAAAAAJSRfT8ObX0/Dm19P5SRfT/ukv0/EDX9PxA1/T/ukv0/WDk+QHZnPUB2Zz1AWDk+QH5VfkBI4XpAAAAAAAAAAABWtX0/lJF9P5SRfT9WtX0/n+r9P+6S/T/ukv0/n+r9PwLaPkBYOT5AWDk+QALaPkBJuX5AflV+QA==",
          "dtype": "f4"
         },
         "z": {
          "bdata": "AAAAAAAAAAAAAAAAAAAAAAAAAAAAAAAAAAAAAAAAAAAAAAAAAAAAAAAAAAAAAAAAAAAAAAAAAAAAAAAAAAAAAAAAAAAAAAAAAAAAAAAAAAAAAAAAAAAAAAAAAAAAAAAAAAAAAAAAAAAAAAAAAAAAAAAAAAAAAAAAAAAAAAAAAAAAAAAAAAAAAAAAAAAAAAAAAAAAAAAAAAAAAAAAAAAAAAAAAAAAAAAAAAAAAAAAAAAAAAAAAAAAAAAAAAAAAAAAAAAAAAAAAAAAAAAAAAAAAAAAAAAAAAAAAAAAAAAAAAAAAAAAAAAAAAAAAAAAAAAAAAAAAAAAAAAAAAAAAAAAAA==",
          "dtype": "f4"
         }
        },
        {
         "connectgaps": false,
         "hoverinfo": "skip",
         "line": {
          "color": "black",
          "width": 1
         },
         "mode": "lines",
         "name": "Edge",
         "type": "scatter3d",
         "visible": false,
         "x": {
          "bdata": "AAAAAAAAAAAAAAAAAADwPwAAAGCl/O8/AAAA4Ld0OLwAAAAAAAAAAAAAAAAAAPh/AAAA4Ld0OLwAAABgpfzvPwAAAACd8u8/AAAAYMdcQ7wAAADgt3Q4vAAAAAAAAPh/AAAAYMdcQ7wAAAAAnfLvPwAAAEDt1e8/AAAAwFjKRLwAAABgx1xDvAAAAAAAAPh/AAAAwFjKRLwAAABA7dXvPwAAAOB6FvA/AAAAIAG8T7wAAADAWMpEvAAAAAAAAPh/AAAAAAAA8D8AAAAAAAAAQAAAAAAAAABAAAAAYKX87z8AAAAAAADwPwAAAAAAAPh/AAAAYKX87z8AAAAAAAAAQAAAAAAAAABAAAAAAJ3y7z8AAABgpfzvPwAAAAAAAPh/AAAAAJ3y7z8AAAAAAAAAQAAAAAAAAABAAAAAQO3V7z8AAAAAnfLvPwAAAAAAAPh/AAAAQO3V7z8AAAAAAAAAQAAAAAAAAABAAAAA4HoW8D8AAABA7dXvPwAAAAAAAPh/AAAAAAAAAEAAAAAAAAAIQAAAAKDWAAhAAAAAAAAAAEAAAAAAAAAAQAAAAAAAAPh/AAAAAAAAAEAAAACg1gAIQAAAAMBYAwhAAAAAAAAAAEAAAAAAAAAAQAAAAAAAAPh/AAAAAAAAAEAAAADAWAMIQAAAAMCECghAAAAAAAAAAEAAAAAAAAAAQAAAAAAAAPh/AAAAAAAAAEAAAADAhAoIQAAAAIDC9AdAAAAAAAAAAEAAAAAAAAAAQAAAAAAAAPh/AAAAAAAACEAAAAAAAAAQQAAAAAAAABBAAAAAoNYACEAAAAAAAAAIQAAAAAAAAPh/AAAAoNYACEAAAAAAAAAQQAAAAAAAABBAAAAAwFgDCEAAAACg1gAIQAAAAAAAAPh/AAAAwFgDCEAAAAAAAAAQQAAAAAAAABBAAAAAwIQKCEAAAADAWAMIQAAAAAAAAPh/AAAAwIQKCEAAAAAAAAAQQAAAAAAAABBAAAAAgML0B0AAAADAhAoIQAAAAAAAAPh/",
          "dtype": "f8"
         },
         "y": {
          "bdata": "AAAAAAAAAAAAAAAAAAAAAAAAAIAysu8/AAAAwKq27z8AAAAAAAAAAAAAAAAAAPh/AAAAwKq27z8AAACAMrLvPwAAAMBdsv8/AAAA4FO9/z8AAADAqrbvPwAAAAAAAPh/AAAA4FO9/z8AAADAXbL/PwAAAAArxwdAAAAAQEDbB0AAAADgU73/PwAAAAAAAPh/AAAAQEDbB0AAAAAAK8cHQAAAAMCvyg9AAAAAICnXD0AAAABAQNsHQAAAAAAAAPh/AAAAAAAAAAAAAAAAAAAAAAAAAMChre8/AAAAgDKy7z8AAAAAAAAAAAAAAAAAAPh/AAAAgDKy7z8AAADAoa3vPwAAAACipv8/AAAAwF2y/z8AAACAMrLvPwAAAAAAAPh/AAAAwF2y/z8AAAAAoqb/PwAAAMDurAdAAAAAACvHB0AAAADAXbL/PwAAAAAAAPh/AAAAACvHB0AAAADA7qwHQAAAAAApXA9AAAAAwK/KD0AAAAAAK8cHQAAAAAAAAPh/AAAAAAAAAAAAAAAAAAAAAAAAAIAysu8/AAAAwKGt7z8AAAAAAAAAAAAAAAAAAPh/AAAAwKGt7z8AAACAMrLvPwAAAMBdsv8/AAAAAKKm/z8AAADAoa3vPwAAAAAAAPh/AAAAAKKm/z8AAADAXbL/PwAAAAArxwdAAAAAwO6sB0AAAAAAoqb/PwAAAAAAAPh/AAAAwO6sB0AAAAAAK8cHQAAAAMCvyg9AAAAAAClcD0AAAADA7qwHQAAAAAAAAPh/AAAAAAAAAAAAAAAAAAAAAAAAAMCqtu8/AAAAgDKy7z8AAAAAAAAAAAAAAAAAAPh/AAAAgDKy7z8AAADAqrbvPwAAAOBTvf8/AAAAwF2y/z8AAACAMrLvPwAAAAAAAPh/AAAAwF2y/z8AAADgU73/PwAAAEBA2wdAAAAAACvHB0AAAADAXbL/PwAAAAAAAPh/AAAAACvHB0AAAABAQNsHQAAAACAp1w9AAAAAwK/KD0AAAAAAK8cHQAAAAAAAAPh/",
          "dtype": "f8"
         },
         "z": {
          "bdata": "AAAAAAAAAAAAAAAAAAAAAAAAAAAAAAAAAAAAAAAAAAAAAAAAAAAAAAAAAAAAAPh/AAAAAAAAAAAAAAAAAAAAAAAAAAAAAAAAAAAAAAAAAAAAAAAAAAAAAAAAAAAAAPh/AAAAAAAAAAAAAAAAAAAAAAAAAAAAAAAAAAAAAAAAAAAAAAAAAAAAAAAAAAAAAPh/AAAAAAAAAAAAAAAAAAAAAAAAAAAAAAAAAAAAAAAAAAAAAAAAAAAAAAAAAAAAAPh/AAAAAAAAAAAAAAAAAAAAAAAAAAAAAAAAAAAAAAAAAAAAAAAAAAAAAAAAAAAAAPh/AAAAAAAAAAAAAAAAAAAAAAAAAAAAAAAAAAAAAAAAAAAAAAAAAAAAAAAAAAAAAPh/AAAAAAAAAAAAAAAAAAAAAAAAAAAAAAAAAAAAAAAAAAAAAAAAAAAAAAAAAAAAAPh/AAAAAAAAAAAAAAAAAAAAAAAAAAAAAAAAAAAAAAAAAAAAAAAAAAAAAAAAAAAAAPh/AAAAAAAAAAAAAAAAAAAAAAAAAAAAAAAAAAAAAAAAAAAAAAAAAAAAAAAAAAAAAPh/AAAAAAAAAAAAAAAAAAAAAAAAAAAAAAAAAAAAAAAAAAAAAAAAAAAAAAAAAAAAAPh/AAAAAAAAAAAAAAAAAAAAAAAAAAAAAAAAAAAAAAAAAAAAAAAAAAAAAAAAAAAAAPh/AAAAAAAAAAAAAAAAAAAAAAAAAAAAAAAAAAAAAAAAAAAAAAAAAAAAAAAAAAAAAPh/AAAAAAAAAAAAAAAAAAAAAAAAAAAAAAAAAAAAAAAAAAAAAAAAAAAAAAAAAAAAAPh/AAAAAAAAAAAAAAAAAAAAAAAAAAAAAAAAAAAAAAAAAAAAAAAAAAAAAAAAAAAAAPh/AAAAAAAAAAAAAAAAAAAAAAAAAAAAAAAAAAAAAAAAAAAAAAAAAAAAAAAAAAAAAPh/AAAAAAAAAAAAAAAAAAAAAAAAAAAAAAAAAAAAAAAAAAAAAAAAAAAAAAAAAAAAAPh/",
          "dtype": "f8"
         }
        },
        {
         "hoverinfo": "skip",
         "marker": {
          "cmax": 0.6673227548599243,
          "cmin": 0,
          "color": {
           "bdata": "cueEPXLnhD1y54Q9cueEPZxQeT2cUHk9nFB5PZxQeT3Zs3Y92bN2Pdmzdj3Zs3Y9Fh/yPBYf8jwWH/I8Fh/yPFhqjD1Yaow9WGqMPVhqjD2GJJo9hiSaPYYkmj2GJJo9WufgPVrn4D1a5+A9WufgPWQATT5kAE0+ZABNPmQATT5Zaow9WWqMPVlqjD1Zaow9hiSaPYYkmj2GJJo9hiSaPVrn4D1a5+A9WufgPVrn4D1kAE0+ZABNPmQATT5kAE0+cueEPXLnhD1y54Q9cueEPZxQeT2cUHk9nFB5PZxQeT3Ys3Y92LN2Pdizdj3Ys3Y9Fh/yPBYf8jwWH/I8Fh/yPA==",
           "dtype": "f4"
          },
          "coloraxis": "coloraxis4",
          "size": 3
         },
         "mode": "markers",
         "name": "StressMeasures",
         "type": "scatter3d",
         "visible": false,
         "x": {
          "bdata": "AAAAAAAAgD8r5X8/v6XDob+lw6Er5X8/6JR/PzvmGqI75hqi6JR/P2qvfj/GUiaixlImomqvfj/Xs4A/CeB9ogAAgD8AAABAAAAAQCvlfz8r5X8/AAAAQAAAAEDolH8/6JR/PwAAAEAAAABAaq9+P2qvfj8AAABAAAAAQNezgD8AAABAAABAQLUGQEAAAABAAAAAQLUGQEDGGkBAAAAAQAAAAEDGGkBAJlRAQAAAAEAAAABAJlRAQBSmP0AAAABAAABAQAAAgEAAAIBAtQZAQLUGQEAAAIBAAACAQMYaQEDGGkBAAACAQAAAgEAmVEBAJlRAQAAAgEAAAIBAFKY/QA==",
          "dtype": "f4"
         },
         "y": {
          "bdata": "AAAAAAAAAACUkX0/VrV9P1a1fT+UkX0/7pL9P5/q/T+f6v0/7pL9P1g5PkAC2j5AAto+QFg5PkB+VX5ASbl+QAAAAAAAAAAADm19P5SRfT+UkX0/Dm19PxA1/T/ukv0/7pL9PxA1/T92Zz1AWDk+QFg5PkB2Zz1ASOF6QH5VfkAAAAAAAAAAAJSRfT8ObX0/Dm19P5SRfT/ukv0/EDX9PxA1/T/ukv0/WDk+QHZnPUB2Zz1AWDk+QH5VfkBI4XpAAAAAAAAAAABWtX0/lJF9P5SRfT9WtX0/n+r9P+6S/T/ukv0/n+r9PwLaPkBYOT5AWDk+QALaPkBJuX5AflV+QA==",
          "dtype": "f4"
         },
         "z": {
          "bdata": "AAAAAAAAAAAAAAAAAAAAAAAAAAAAAAAAAAAAAAAAAAAAAAAAAAAAAAAAAAAAAAAAAAAAAAAAAAAAAAAAAAAAAAAAAAAAAAAAAAAAAAAAAAAAAAAAAAAAAAAAAAAAAAAAAAAAAAAAAAAAAAAAAAAAAAAAAAAAAAAAAAAAAAAAAAAAAAAAAAAAAAAAAAAAAAAAAAAAAAAAAAAAAAAAAAAAAAAAAAAAAAAAAAAAAAAAAAAAAAAAAAAAAAAAAAAAAAAAAAAAAAAAAAAAAAAAAAAAAAAAAAAAAAAAAAAAAAAAAAAAAAAAAAAAAAAAAAAAAAAAAAAAAAAAAAAAAAAAAAAAAA==",
          "dtype": "f4"
         }
        },
        {
         "cmax": 0.6673227548599243,
         "cmin": 0,
         "coloraxis": "coloraxis5",
         "hoverinfo": "skip",
         "i": {
          "bdata": "AAAAAAAAAAAEAAAABAAAAAgAAAAIAAAADAAAAAwAAAAQAAAAEAAAABQAAAAUAAAAGAAAABgAAAAcAAAAHAAAACAAAAAgAAAAJAAAACQAAAAoAAAAKAAAACwAAAAsAAAAMAAAADAAAAA0AAAANAAAADgAAAA4AAAAPAAAADwAAAA=",
          "dtype": "i4"
         },
         "intensity": {
          "bdata": "ljSxPZY0sT2WNLE9ljSxPb01pj29NaY9vTWmPb01pj3ld6Q95XekPeV3pD3ld6Q9D2ohPQ9qIT0PaiE9D2ohPXc4uz13OLs9dzi7PXc4uz0Ihs09CIbNPQiGzT0Ihs09ku8VPpLvFT6S7xU+ku8VPu6qiD7uqog+7qqIPu6qiD53OLs9dzi7PXc4uz13OLs9CIbNPQiGzT0Ihs09CIbNPZLvFT6S7xU+ku8VPpLvFT7uqog+7qqIPu6qiD7uqog+ljSxPZY0sT2WNLE9ljSxPb01pj29NaY9vTWmPb01pj3ld6Q95XekPeV3pD3ld6Q9D2ohPQ9qIT0PaiE9D2ohPQ==",
          "dtype": "f4"
         },
         "j": {
          "bdata": "AQAAAAIAAAAFAAAABgAAAAkAAAAKAAAADQAAAA4AAAARAAAAEgAAABUAAAAWAAAAGQAAABoAAAAdAAAAHgAAACEAAAAiAAAAJQAAACYAAAApAAAAKgAAAC0AAAAuAAAAMQAAADIAAAA1AAAANgAAADkAAAA6AAAAPQAAAD4AAAA=",
          "dtype": "i4"
         },
         "k": {
          "bdata": "AgAAAAMAAAAGAAAABwAAAAoAAAALAAAADgAAAA8AAAASAAAAEwAAABYAAAAXAAAAGgAAABsAAAAeAAAAHwAAACIAAAAjAAAAJgAAACcAAAAqAAAAKwAAAC4AAAAvAAAAMgAAADMAAAA2AAAANwAAADoAAAA7AAAAPgAAAD8AAAA=",
          "dtype": "i4"
         },
         "opacity": 1,
         "text": {
          "bdata": "AAAAwJImtj8AAADAkia2PwAAAMCSJrY/AAAAwJImtj8AAACgt8a0PwAAAKC3xrQ/AAAAoLfGtD8AAACgt8a0PwAAAKD8jrQ/AAAAoPyOtD8AAACg/I60PwAAAKD8jrQ/AAAA4EEtpD8AAADgQS2kPwAAAOBBLaQ/AAAA4EEtpD8AAADgDme3PwAAAOAOZ7c/AAAA4A5ntz8AAADgDme3PwAAAADBsLk/AAAAAMGwuT8AAAAAwbC5PwAAAADBsLk/AAAAQPK9wj8AAABA8r3CPwAAAEDyvcI/AAAAQPK9wj8AAADAXRXRPwAAAMBdFdE/AAAAwF0V0T8AAADAXRXRPwAAAOAOZ7c/AAAA4A5ntz8AAADgDme3PwAAAOAOZ7c/AAAAAMGwuT8AAAAAwbC5PwAAAADBsLk/AAAAAMGwuT8AAABA8r3CPwAAAEDyvcI/AAAAQPK9wj8AAABA8r3CPwAAAMBdFdE/AAAAwF0V0T8AAADAXRXRPwAAAMBdFdE/AAAAwJImtj8AAADAkia2PwAAAMCSJrY/AAAAwJImtj8AAACgt8a0PwAAAKC3xrQ/AAAAoLfGtD8AAACgt8a0PwAAAKD8jrQ/AAAAoPyOtD8AAACg/I60PwAAAKD8jrQ/AAAA4EEtpD8AAADgQS2kPwAAAOBBLaQ/AAAA4EEtpD8=",
          "dtype": "f8"
         },
         "type": "mesh3d",
         "visible": false,
         "x": {
          "bdata": "AAAAAAAAgD853H8/h+mRIIfpkSA53H8/NnF/P47phiGO6YYhNnF/Pzg/fj+/GeQhvxnkITg/fj/K74A/0rvfIAAAgD8AAABAAAAAQDncfz853H8/AAAAQAAAAEA2cX8/NnF/PwAAAEAAAABAOD9+Pzg/fj8AAABAAAAAQMrvgD8AAABAAABAQPIIQEAAAABAAAAAQPIIQECzI0BAAAAAQAAAAECzI0BAMnBAQAAAAEAAAABAMnBAQBuIP0AAAABAAABAQAAAgEAAAIBA8ghAQPIIQEAAAIBAAACAQLMjQECzI0BAAACAQAAAgEAycEBAMnBAQAAAgEAAAIBAG4g/QA==",
          "dtype": "f4"
         },
         "y": {
          "bdata": "AAAAAAAAAAAbwnw/x/F8P8fxfD8bwnw/6MP8P9U4/T/VOP0/6MP8P8uhPUADeD5AA3g+QMuhPUBSx31AYUx+QAAAAAAAAAAAaJF8PxvCfD8bwnw/aJF8P8BG/D/ow/w/6MP8P8BG/D/ziTxAy6E9QMuhPUDziTxAYCx5QFLHfUAAAAAAAAAAABvCfD9okXw/aJF8PxvCfD/ow/w/wEb8P8BG/D/ow/w/y6E9QPOJPEDziTxAy6E9QFLHfUBgLHlAAAAAAAAAAADH8Xw/G8J8PxvCfD/H8Xw/1Tj9P+jD/D/ow/w/1Tj9PwN4PkDLoT1Ay6E9QAN4PkBhTH5AUsd9QA==",
          "dtype": "f4"
         },
         "z": {
          "bdata": "AAAAAAAAAAAAAAAAAAAAAAAAAAAAAAAAAAAAAAAAAAAAAAAAAAAAAAAAAAAAAAAAAAAAAAAAAAAAAAAAAAAAAAAAAAAAAAAAAAAAAAAAAAAAAAAAAAAAAAAAAAAAAAAAAAAAAAAAAAAAAAAAAAAAAAAAAAAAAAAAAAAAAAAAAAAAAAAAAAAAAAAAAAAAAAAAAAAAAAAAAAAAAAAAAAAAAAAAAAAAAAAAAAAAAAAAAAAAAAAAAAAAAAAAAAAAAAAAAAAAAAAAAAAAAAAAAAAAAAAAAAAAAAAAAAAAAAAAAAAAAAAAAAAAAAAAAAAAAAAAAAAAAAAAAAAAAAAAAAAAAA==",
          "dtype": "f4"
         }
        },
        {
         "connectgaps": false,
         "hoverinfo": "skip",
         "line": {
          "color": "black",
          "width": 1
         },
         "mode": "lines",
         "name": "Edge",
         "type": "scatter3d",
         "visible": false,
         "x": {
          "bdata": "AAAAAAAAAAAAAAAAAADwPwAAACCH++8/AAAA4DA9EjwAAAAAAAAAAAAAAAAAAPh/AAAA4DA9EjwAAAAgh/vvPwAAAMAm7u8/AAAAwDHdMDwAAADgMD0SPAAAAAAAAPh/AAAAwDHdMDwAAADAJu7vPwAAAADnx+8/AAAA4DeDPDwAAADAMd0wPAAAAAAAAPh/AAAA4DeDPDwAAAAA58fvPwAAAED5HfA/AAAAQHr3GzwAAADgN4M8PAAAAAAAAPh/AAAAAAAA8D8AAAAAAAAAQAAAAAAAAABAAAAAIIf77z8AAAAAAADwPwAAAAAAAPh/AAAAIIf77z8AAAAAAAAAQAAAAAAAAABAAAAAwCbu7z8AAAAgh/vvPwAAAAAAAPh/AAAAwCbu7z8AAAAAAAAAQAAAAAAAAABAAAAAAOfH7z8AAADAJu7vPwAAAAAAAPh/AAAAAOfH7z8AAAAAAAAAQAAAAAAAAABAAAAAQPkd8D8AAAAA58fvPwAAAAAAAPh/AAAAAAAAAEAAAAAAAAAIQAAAAEAeAQhAAAAAAAAAAEAAAAAAAAAAQAAAAAAAAPh/AAAAAAAAAEAAAABAHgEIQAAAAGB2BAhAAAAAAAAAAEAAAAAAAAAAQAAAAAAAAPh/AAAAAAAAAEAAAABgdgQIQAAAAEAGDghAAAAAAAAAAEAAAAAAAAAAQAAAAAAAAPh/AAAAAAAAAEAAAABABg4IQAAAAGAD8QdAAAAAAAAAAEAAAAAAAAAAQAAAAAAAAPh/AAAAAAAACEAAAAAAAAAQQAAAAAAAABBAAAAAQB4BCEAAAAAAAAAIQAAAAAAAAPh/AAAAQB4BCEAAAAAAAAAQQAAAAAAAABBAAAAAYHYECEAAAABAHgEIQAAAAAAAAPh/AAAAYHYECEAAAAAAAAAQQAAAAAAAABBAAAAAQAYOCEAAAABgdgQIQAAAAAAAAPh/AAAAQAYOCEAAAAAAAAAQQAAAAAAAABBAAAAAYAPxB0AAAABABg4IQAAAAAAAAPh/",
          "dtype": "f8"
         },
         "y": {
          "bdata": "AAAAAAAAAAAAAAAAAAAAAAAAAGBDmO8/AAAA4Die7z8AAAAAAAAAAAAAAAAAAPh/AAAA4Die7z8AAABgQ5jvPwAAAAB9mP8/AAAAoBqn/z8AAADgOJ7vPwAAAAAAAPh/AAAAoBqn/z8AAAAAfZj/PwAAAGA5tAdAAAAAYADPB0AAAACgGqf/PwAAAAAAAPh/AAAAYADPB0AAAABgObQHQAAAAEDquA9AAAAAIIzJD0AAAABgAM8HQAAAAAAAAPh/AAAAAAAAAAAAAAAAAAAAAAAAAAAtku8/AAAAYEOY7z8AAAAAAAAAAAAAAAAAAPh/AAAAYEOY7z8AAAAALZLvPwAAAADYiP8/AAAAAH2Y/z8AAABgQ5jvPwAAAAAAAPh/AAAAAH2Y/z8AAAAA2Ij/PwAAAGA+kQdAAAAAYDm0B0AAAAAAfZj/PwAAAAAAAPh/AAAAYDm0B0AAAABgPpEHQAAAAACMJQ9AAAAAQOq4D0AAAABgObQHQAAAAAAAAPh/AAAAAAAAAAAAAAAAAAAAAAAAAGBDmO8/AAAAAC2S7z8AAAAAAAAAAAAAAAAAAPh/AAAAAC2S7z8AAABgQ5jvPwAAAAB9mP8/AAAAANiI/z8AAAAALZLvPwAAAAAAAPh/AAAAANiI/z8AAAAAfZj/PwAAAGA5tAdAAAAAYD6RB0AAAAAA2Ij/PwAAAAAAAPh/AAAAYD6RB0AAAABgObQHQAAAAEDquA9AAAAAAIwlD0AAAABgPpEHQAAAAAAAAPh/AAAAAAAAAAAAAAAAAAAAAAAAAOA4nu8/AAAAYEOY7z8AAAAAAAAAAAAAAAAAAPh/AAAAYEOY7z8AAADgOJ7vPwAAAKAap/8/AAAAAH2Y/z8AAABgQ5jvPwAAAAAAAPh/AAAAAH2Y/z8AAACgGqf/PwAAAGAAzwdAAAAAYDm0B0AAAAAAfZj/PwAAAAAAAPh/AAAAYDm0B0AAAABgAM8HQAAAACCMyQ9AAAAAQOq4D0AAAABgObQHQAAAAAAAAPh/",
          "dtype": "f8"
         },
         "z": {
          "bdata": "AAAAAAAAAAAAAAAAAAAAAAAAAAAAAAAAAAAAAAAAAAAAAAAAAAAAAAAAAAAAAPh/AAAAAAAAAAAAAAAAAAAAAAAAAAAAAAAAAAAAAAAAAAAAAAAAAAAAAAAAAAAAAPh/AAAAAAAAAAAAAAAAAAAAAAAAAAAAAAAAAAAAAAAAAAAAAAAAAAAAAAAAAAAAAPh/AAAAAAAAAAAAAAAAAAAAAAAAAAAAAAAAAAAAAAAAAAAAAAAAAAAAAAAAAAAAAPh/AAAAAAAAAAAAAAAAAAAAAAAAAAAAAAAAAAAAAAAAAAAAAAAAAAAAAAAAAAAAAPh/AAAAAAAAAAAAAAAAAAAAAAAAAAAAAAAAAAAAAAAAAAAAAAAAAAAAAAAAAAAAAPh/AAAAAAAAAAAAAAAAAAAAAAAAAAAAAAAAAAAAAAAAAAAAAAAAAAAAAAAAAAAAAPh/AAAAAAAAAAAAAAAAAAAAAAAAAAAAAAAAAAAAAAAAAAAAAAAAAAAAAAAAAAAAAPh/AAAAAAAAAAAAAAAAAAAAAAAAAAAAAAAAAAAAAAAAAAAAAAAAAAAAAAAAAAAAAPh/AAAAAAAAAAAAAAAAAAAAAAAAAAAAAAAAAAAAAAAAAAAAAAAAAAAAAAAAAAAAAPh/AAAAAAAAAAAAAAAAAAAAAAAAAAAAAAAAAAAAAAAAAAAAAAAAAAAAAAAAAAAAAPh/AAAAAAAAAAAAAAAAAAAAAAAAAAAAAAAAAAAAAAAAAAAAAAAAAAAAAAAAAAAAAPh/AAAAAAAAAAAAAAAAAAAAAAAAAAAAAAAAAAAAAAAAAAAAAAAAAAAAAAAAAAAAAPh/AAAAAAAAAAAAAAAAAAAAAAAAAAAAAAAAAAAAAAAAAAAAAAAAAAAAAAAAAAAAAPh/AAAAAAAAAAAAAAAAAAAAAAAAAAAAAAAAAAAAAAAAAAAAAAAAAAAAAAAAAAAAAPh/AAAAAAAAAAAAAAAAAAAAAAAAAAAAAAAAAAAAAAAAAAAAAAAAAAAAAAAAAAAAAPh/",
          "dtype": "f8"
         }
        },
        {
         "hoverinfo": "skip",
         "marker": {
          "cmax": 0.6673227548599243,
          "cmin": 0,
          "color": {
           "bdata": "ljSxPZY0sT2WNLE9ljSxPb01pj29NaY9vTWmPb01pj3ld6Q95XekPeV3pD3ld6Q9D2ohPQ9qIT0PaiE9D2ohPXc4uz13OLs9dzi7PXc4uz0Ihs09CIbNPQiGzT0Ihs09ku8VPpLvFT6S7xU+ku8VPu6qiD7uqog+7qqIPu6qiD53OLs9dzi7PXc4uz13OLs9CIbNPQiGzT0Ihs09CIbNPZLvFT6S7xU+ku8VPpLvFT7uqog+7qqIPu6qiD7uqog+ljSxPZY0sT2WNLE9ljSxPb01pj29NaY9vTWmPb01pj3ld6Q95XekPeV3pD3ld6Q9D2ohPQ9qIT0PaiE9D2ohPQ==",
           "dtype": "f4"
          },
          "coloraxis": "coloraxis5",
          "size": 3
         },
         "mode": "markers",
         "name": "StressMeasures",
         "type": "scatter3d",
         "visible": false,
         "x": {
          "bdata": "AAAAAAAAgD853H8/h+mRIIfpkSA53H8/NnF/P47phiGO6YYhNnF/Pzg/fj+/GeQhvxnkITg/fj/K74A/0rvfIAAAgD8AAABAAAAAQDncfz853H8/AAAAQAAAAEA2cX8/NnF/PwAAAEAAAABAOD9+Pzg/fj8AAABAAAAAQMrvgD8AAABAAABAQPIIQEAAAABAAAAAQPIIQECzI0BAAAAAQAAAAECzI0BAMnBAQAAAAEAAAABAMnBAQBuIP0AAAABAAABAQAAAgEAAAIBA8ghAQPIIQEAAAIBAAACAQLMjQECzI0BAAACAQAAAgEAycEBAMnBAQAAAgEAAAIBAG4g/QA==",
          "dtype": "f4"
         },
         "y": {
          "bdata": "AAAAAAAAAAAbwnw/x/F8P8fxfD8bwnw/6MP8P9U4/T/VOP0/6MP8P8uhPUADeD5AA3g+QMuhPUBSx31AYUx+QAAAAAAAAAAAaJF8PxvCfD8bwnw/aJF8P8BG/D/ow/w/6MP8P8BG/D/ziTxAy6E9QMuhPUDziTxAYCx5QFLHfUAAAAAAAAAAABvCfD9okXw/aJF8PxvCfD/ow/w/wEb8P8BG/D/ow/w/y6E9QPOJPEDziTxAy6E9QFLHfUBgLHlAAAAAAAAAAADH8Xw/G8J8PxvCfD/H8Xw/1Tj9P+jD/D/ow/w/1Tj9PwN4PkDLoT1Ay6E9QAN4PkBhTH5AUsd9QA==",
          "dtype": "f4"
         },
         "z": {
          "bdata": "AAAAAAAAAAAAAAAAAAAAAAAAAAAAAAAAAAAAAAAAAAAAAAAAAAAAAAAAAAAAAAAAAAAAAAAAAAAAAAAAAAAAAAAAAAAAAAAAAAAAAAAAAAAAAAAAAAAAAAAAAAAAAAAAAAAAAAAAAAAAAAAAAAAAAAAAAAAAAAAAAAAAAAAAAAAAAAAAAAAAAAAAAAAAAAAAAAAAAAAAAAAAAAAAAAAAAAAAAAAAAAAAAAAAAAAAAAAAAAAAAAAAAAAAAAAAAAAAAAAAAAAAAAAAAAAAAAAAAAAAAAAAAAAAAAAAAAAAAAAAAAAAAAAAAAAAAAAAAAAAAAAAAAAAAAAAAAAAAAAAAA==",
          "dtype": "f4"
         }
        },
        {
         "cmax": 0.6673227548599243,
         "cmin": 0,
         "coloraxis": "coloraxis6",
         "hoverinfo": "skip",
         "i": {
          "bdata": "AAAAAAAAAAAEAAAABAAAAAgAAAAIAAAADAAAAAwAAAAQAAAAEAAAABQAAAAUAAAAGAAAABgAAAAcAAAAHAAAACAAAAAgAAAAJAAAACQAAAAoAAAAKAAAACwAAAAsAAAAMAAAADAAAAA0AAAANAAAADgAAAA4AAAAPAAAADwAAAA=",
          "dtype": "i4"
         },
         "intensity": {
          "bdata": "vYHdPb2B3T29gd09vYHdPS7Dzz0uw889LsPPPS7Dzz3flc0935XNPd+VzT3flc09k8RJPZPEST2TxEk9k8RJPZIG6j2SBuo9kgbqPZIG6j3FcwA+xXMAPsVzAD7FcwA+dms7PnZrOz52azs+dms7PqrVqj6q1ao+qtWqPqrVqj6TBuo9kwbqPZMG6j2TBuo9xXMAPsVzAD7FcwA+xXMAPnZrOz52azs+dms7PnZrOz6p1ao+qdWqPqnVqj6p1ao+vYHdPb2B3T29gd09vYHdPS3Dzz0tw889LcPPPS3Dzz3flc0935XNPd+VzT3flc09ksRJPZLEST2SxEk9ksRJPQ==",
          "dtype": "f4"
         },
         "j": {
          "bdata": "AQAAAAIAAAAFAAAABgAAAAkAAAAKAAAADQAAAA4AAAARAAAAEgAAABUAAAAWAAAAGQAAABoAAAAdAAAAHgAAACEAAAAiAAAAJQAAACYAAAApAAAAKgAAAC0AAAAuAAAAMQAAADIAAAA1AAAANgAAADkAAAA6AAAAPQAAAD4AAAA=",
          "dtype": "i4"
         },
         "k": {
          "bdata": "AgAAAAMAAAAGAAAABwAAAAoAAAALAAAADgAAAA8AAAASAAAAEwAAABYAAAAXAAAAGgAAABsAAAAeAAAAHwAAACIAAAAjAAAAJgAAACcAAAAqAAAAKwAAAC4AAAAvAAAAMgAAADMAAAA2AAAANwAAADoAAAA7AAAAPgAAAD8AAAA=",
          "dtype": "i4"
         },
         "opacity": 1,
         "text": {
          "bdata": "AAAAoDewuz8AAACgN7C7PwAAAKA3sLs/AAAAoDewuz8AAADAZfi5PwAAAMBl+Lk/AAAAwGX4uT8AAADAZfi5PwAAAOC7srk/AAAA4LuyuT8AAADgu7K5PwAAAOC7srk/AAAAYJI4qT8AAABgkjipPwAAAGCSOKk/AAAAYJI4qT8AAABA0kC9PwAAAEDSQL0/AAAAQNJAvT8AAABA0kC9PwAAAKB4DsA/AAAAoHgOwD8AAACgeA7APwAAAKB4DsA/AAAAwG5txz8AAADAbm3HPwAAAMBubcc/AAAAwG5txz8AAABAtVrVPwAAAEC1WtU/AAAAQLVa1T8AAABAtVrVPwAAAGDSQL0/AAAAYNJAvT8AAABg0kC9PwAAAGDSQL0/AAAAoHgOwD8AAACgeA7APwAAAKB4DsA/AAAAoHgOwD8AAADAbm3HPwAAAMBubcc/AAAAwG5txz8AAADAbm3HPwAAACC1WtU/AAAAILVa1T8AAAAgtVrVPwAAACC1WtU/AAAAoDewuz8AAACgN7C7PwAAAKA3sLs/AAAAoDewuz8AAACgZfi5PwAAAKBl+Lk/AAAAoGX4uT8AAACgZfi5PwAAAOC7srk/AAAA4LuyuT8AAADgu7K5PwAAAOC7srk/AAAAQJI4qT8AAABAkjipPwAAAECSOKk/AAAAQJI4qT8=",
          "dtype": "f8"
         },
         "type": "mesh3d",
         "visible": false,
         "x": {
          "bdata": "AAAAAAAAgD9I038/63KOIOtyjiBI038/g01/P2blnx9m5Z8fg01/PwbPfT9PEyuiTxMrogbPfT+8K4E/SaEGogAAgD8AAABAAAAAQEjTfz9I038/AAAAQAAAAECDTX8/g01/PwAAAEAAAABABs99PwbPfT8AAABAAAAAQLwrgT8AAABAAABAQC4LQEAAAABAAAAAQC4LQECfLEBAAAAAQAAAAECfLEBAP4xAQAAAAEAAAABAP4xAQCJqP0AAAABAAABAQAAAgEAAAIBALgtAQC4LQEAAAIBAAACAQJ8sQECfLEBAAACAQAAAgEA/jEBAP4xAQAAAgEAAAIBAImo/QA==",
          "dtype": "f4"
         },
         "y": {
          "bdata": "AAAAAAAAAACi8ns/OS58PzkufD+i8ns/4/T7PwqH/D8Kh/w/4/T7Pz4KPUAEFj5ABBY+QD4KPUAnOX1Aet99QAAAAAAAAAAAwrV7P6Lyez+i8ns/wrV7P3BY+z/j9Ps/4/T7P3BY+z9wrDtAPgo9QD4KPUBwrDtAd3d3QCc5fUAAAAAAAAAAAKLyez/CtXs/wrV7P6Lyez/j9Ps/cFj7P3BY+z/j9Ps/Pgo9QHCsO0BwrDtAPgo9QCc5fUB3d3dAAAAAAAAAAAA5Lnw/ovJ7P6Lyez85Lnw/Cof8P+P0+z/j9Ps/Cof8PwQWPkA+Cj1APgo9QAQWPkB6331AJzl9QA==",
          "dtype": "f4"
         },
         "z": {
          "bdata": "AAAAAAAAAAAAAAAAAAAAAAAAAAAAAAAAAAAAAAAAAAAAAAAAAAAAAAAAAAAAAAAAAAAAAAAAAAAAAAAAAAAAAAAAAAAAAAAAAAAAAAAAAAAAAAAAAAAAAAAAAAAAAAAAAAAAAAAAAAAAAAAAAAAAAAAAAAAAAAAAAAAAAAAAAAAAAAAAAAAAAAAAAAAAAAAAAAAAAAAAAAAAAAAAAAAAAAAAAAAAAAAAAAAAAAAAAAAAAAAAAAAAAAAAAAAAAAAAAAAAAAAAAAAAAAAAAAAAAAAAAAAAAAAAAAAAAAAAAAAAAAAAAAAAAAAAAAAAAAAAAAAAAAAAAAAAAAAAAAAAAA==",
          "dtype": "f4"
         }
        },
        {
         "connectgaps": false,
         "hoverinfo": "skip",
         "line": {
          "color": "black",
          "width": 1
         },
         "mode": "lines",
         "name": "Edge",
         "type": "scatter3d",
         "visible": false,
         "x": {
          "bdata": "AAAAAAAAAAAAAAAAAADwPwAAAABp+u8/AAAAYF3OETwAAAAAAAAAAAAAAAAAAPh/AAAAYF3OETwAAAAAafrvPwAAAGCw6e8/AAAAwKz88zsAAABgXc4RPAAAAAAAAPh/AAAAwKz88zsAAABgsOnvPwAAAMDgue8/AAAA4GliRbwAAADArPzzOwAAAAAAAPh/AAAA4GliRbwAAADA4LnvPwAAAIB3JfA/AAAAICnUQLwAAADgaWJFvAAAAAAAAPh/AAAAAAAA8D8AAAAAAAAAQAAAAAAAAABAAAAAAGn67z8AAAAAAADwPwAAAAAAAPh/AAAAAGn67z8AAAAAAAAAQAAAAAAAAABAAAAAYLDp7z8AAAAAafrvPwAAAAAAAPh/AAAAYLDp7z8AAAAAAAAAQAAAAAAAAABAAAAAwOC57z8AAABgsOnvPwAAAAAAAPh/AAAAwOC57z8AAAAAAAAAQAAAAAAAAABAAAAAgHcl8D8AAADA4LnvPwAAAAAAAPh/AAAAAAAAAEAAAAAAAAAIQAAAAMBlAQhAAAAAAAAAAEAAAAAAAAAAQAAAAAAAAPh/AAAAAAAAAEAAAADAZQEIQAAAAOCTBQhAAAAAAAAAAEAAAAAAAAAAQAAAAAAAAPh/AAAAAAAAAEAAAADgkwUIQAAAAOCHEQhAAAAAAAAAAEAAAAAAAAAAQAAAAAAAAPh/AAAAAAAAAEAAAADghxEIQAAAAEBE7QdAAAAAAAAAAEAAAAAAAAAAQAAAAAAAAPh/AAAAAAAACEAAAAAAAAAQQAAAAAAAABBAAAAAwGUBCEAAAAAAAAAIQAAAAAAAAPh/AAAAwGUBCEAAAAAAAAAQQAAAAAAAABBAAAAA4JMFCEAAAADAZQEIQAAAAAAAAPh/AAAA4JMFCEAAAAAAAAAQQAAAAAAAABBAAAAA4IcRCEAAAADgkwUIQAAAAAAAAPh/AAAA4IcRCEAAAAAAAAAQQAAAAAAAABBAAAAAQETtB0AAAADghxEIQAAAAAAAAPh/",
          "dtype": "f8"
         },
         "y": {
          "bdata": "AAAAAAAAAAAAAAAAAAAAAAAAAEBUfu8/AAAAIMeF7z8AAAAAAAAAAAAAAAAAAPh/AAAAIMeF7z8AAABAVH7vPwAAAGCcfv8/AAAAQOGQ/z8AAAAgx4XvPwAAAAAAAPh/AAAAQOGQ/z8AAABgnH7/PwAAAMBHoQdAAAAAgMDCB0AAAABA4ZD/PwAAAAAAAPh/AAAAgMDCB0AAAADAR6EHQAAAAOAkpw9AAAAAQO+7D0AAAACAwMIHQAAAAAAAAPh/AAAAAAAAAAAAAAAAAAAAAAAAAEC4du8/AAAAQFR+7z8AAAAAAAAAAAAAAAAAAPh/AAAAQFR+7z8AAABAuHbvPwAAAAAOa/8/AAAAYJx+/z8AAABAVH7vPwAAAAAAAPh/AAAAYJx+/z8AAAAADmv/PwAAAACOdQdAAAAAwEehB0AAAABgnH7/PwAAAAAAAPh/AAAAwEehB0AAAAAAjnUHQAAAAODu7g5AAAAA4CSnD0AAAADAR6EHQAAAAAAAAPh/AAAAAAAAAAAAAAAAAAAAAAAAAEBUfu8/AAAAQLh27z8AAAAAAAAAAAAAAAAAAPh/AAAAQLh27z8AAABAVH7vPwAAAGCcfv8/AAAAAA5r/z8AAABAuHbvPwAAAAAAAPh/AAAAAA5r/z8AAABgnH7/PwAAAMBHoQdAAAAAAI51B0AAAAAADmv/PwAAAAAAAPh/AAAAAI51B0AAAADAR6EHQAAAAOAkpw9AAAAA4O7uDkAAAAAAjnUHQAAAAAAAAPh/AAAAAAAAAAAAAAAAAAAAAAAAACDHhe8/AAAAQFR+7z8AAAAAAAAAAAAAAAAAAPh/AAAAQFR+7z8AAAAgx4XvPwAAAEDhkP8/AAAAYJx+/z8AAABAVH7vPwAAAAAAAPh/AAAAYJx+/z8AAABA4ZD/PwAAAIDAwgdAAAAAwEehB0AAAABgnH7/PwAAAAAAAPh/AAAAwEehB0AAAACAwMIHQAAAAEDvuw9AAAAA4CSnD0AAAADAR6EHQAAAAAAAAPh/",
          "dtype": "f8"
         },
         "z": {
          "bdata": "AAAAAAAAAAAAAAAAAAAAAAAAAAAAAAAAAAAAAAAAAAAAAAAAAAAAAAAAAAAAAPh/AAAAAAAAAAAAAAAAAAAAAAAAAAAAAAAAAAAAAAAAAAAAAAAAAAAAAAAAAAAAAPh/AAAAAAAAAAAAAAAAAAAAAAAAAAAAAAAAAAAAAAAAAAAAAAAAAAAAAAAAAAAAAPh/AAAAAAAAAAAAAAAAAAAAAAAAAAAAAAAAAAAAAAAAAAAAAAAAAAAAAAAAAAAAAPh/AAAAAAAAAAAAAAAAAAAAAAAAAAAAAAAAAAAAAAAAAAAAAAAAAAAAAAAAAAAAAPh/AAAAAAAAAAAAAAAAAAAAAAAAAAAAAAAAAAAAAAAAAAAAAAAAAAAAAAAAAAAAAPh/AAAAAAAAAAAAAAAAAAAAAAAAAAAAAAAAAAAAAAAAAAAAAAAAAAAAAAAAAAAAAPh/AAAAAAAAAAAAAAAAAAAAAAAAAAAAAAAAAAAAAAAAAAAAAAAAAAAAAAAAAAAAAPh/AAAAAAAAAAAAAAAAAAAAAAAAAAAAAAAAAAAAAAAAAAAAAAAAAAAAAAAAAAAAAPh/AAAAAAAAAAAAAAAAAAAAAAAAAAAAAAAAAAAAAAAAAAAAAAAAAAAAAAAAAAAAAPh/AAAAAAAAAAAAAAAAAAAAAAAAAAAAAAAAAAAAAAAAAAAAAAAAAAAAAAAAAAAAAPh/AAAAAAAAAAAAAAAAAAAAAAAAAAAAAAAAAAAAAAAAAAAAAAAAAAAAAAAAAAAAAPh/AAAAAAAAAAAAAAAAAAAAAAAAAAAAAAAAAAAAAAAAAAAAAAAAAAAAAAAAAAAAAPh/AAAAAAAAAAAAAAAAAAAAAAAAAAAAAAAAAAAAAAAAAAAAAAAAAAAAAAAAAAAAAPh/AAAAAAAAAAAAAAAAAAAAAAAAAAAAAAAAAAAAAAAAAAAAAAAAAAAAAAAAAAAAAPh/AAAAAAAAAAAAAAAAAAAAAAAAAAAAAAAAAAAAAAAAAAAAAAAAAAAAAAAAAAAAAPh/",
          "dtype": "f8"
         }
        },
        {
         "hoverinfo": "skip",
         "marker": {
          "cmax": 0.6673227548599243,
          "cmin": 0,
          "color": {
           "bdata": "vYHdPb2B3T29gd09vYHdPS7Dzz0uw889LsPPPS7Dzz3flc0935XNPd+VzT3flc09k8RJPZPEST2TxEk9k8RJPZIG6j2SBuo9kgbqPZIG6j3FcwA+xXMAPsVzAD7FcwA+dms7PnZrOz52azs+dms7PqrVqj6q1ao+qtWqPqrVqj6TBuo9kwbqPZMG6j2TBuo9xXMAPsVzAD7FcwA+xXMAPnZrOz52azs+dms7PnZrOz6p1ao+qdWqPqnVqj6p1ao+vYHdPb2B3T29gd09vYHdPS3Dzz0tw889LcPPPS3Dzz3flc0935XNPd+VzT3flc09ksRJPZLEST2SxEk9ksRJPQ==",
           "dtype": "f4"
          },
          "coloraxis": "coloraxis6",
          "size": 3
         },
         "mode": "markers",
         "name": "StressMeasures",
         "type": "scatter3d",
         "visible": false,
         "x": {
          "bdata": "AAAAAAAAgD9I038/63KOIOtyjiBI038/g01/P2blnx9m5Z8fg01/PwbPfT9PEyuiTxMrogbPfT+8K4E/SaEGogAAgD8AAABAAAAAQEjTfz9I038/AAAAQAAAAECDTX8/g01/PwAAAEAAAABABs99PwbPfT8AAABAAAAAQLwrgT8AAABAAABAQC4LQEAAAABAAAAAQC4LQECfLEBAAAAAQAAAAECfLEBAP4xAQAAAAEAAAABAP4xAQCJqP0AAAABAAABAQAAAgEAAAIBALgtAQC4LQEAAAIBAAACAQJ8sQECfLEBAAACAQAAAgEA/jEBAP4xAQAAAgEAAAIBAImo/QA==",
          "dtype": "f4"
         },
         "y": {
          "bdata": "AAAAAAAAAACi8ns/OS58PzkufD+i8ns/4/T7PwqH/D8Kh/w/4/T7Pz4KPUAEFj5ABBY+QD4KPUAnOX1Aet99QAAAAAAAAAAAwrV7P6Lyez+i8ns/wrV7P3BY+z/j9Ps/4/T7P3BY+z9wrDtAPgo9QD4KPUBwrDtAd3d3QCc5fUAAAAAAAAAAAKLyez/CtXs/wrV7P6Lyez/j9Ps/cFj7P3BY+z/j9Ps/Pgo9QHCsO0BwrDtAPgo9QCc5fUB3d3dAAAAAAAAAAAA5Lnw/ovJ7P6Lyez85Lnw/Cof8P+P0+z/j9Ps/Cof8PwQWPkA+Cj1APgo9QAQWPkB6331AJzl9QA==",
          "dtype": "f4"
         },
         "z": {
          "bdata": "AAAAAAAAAAAAAAAAAAAAAAAAAAAAAAAAAAAAAAAAAAAAAAAAAAAAAAAAAAAAAAAAAAAAAAAAAAAAAAAAAAAAAAAAAAAAAAAAAAAAAAAAAAAAAAAAAAAAAAAAAAAAAAAAAAAAAAAAAAAAAAAAAAAAAAAAAAAAAAAAAAAAAAAAAAAAAAAAAAAAAAAAAAAAAAAAAAAAAAAAAAAAAAAAAAAAAAAAAAAAAAAAAAAAAAAAAAAAAAAAAAAAAAAAAAAAAAAAAAAAAAAAAAAAAAAAAAAAAAAAAAAAAAAAAAAAAAAAAAAAAAAAAAAAAAAAAAAAAAAAAAAAAAAAAAAAAAAAAAAAAA==",
          "dtype": "f4"
         }
        },
        {
         "cmax": 0.6673227548599243,
         "cmin": 0,
         "coloraxis": "coloraxis7",
         "hoverinfo": "skip",
         "i": {
          "bdata": "AAAAAAAAAAAEAAAABAAAAAgAAAAIAAAADAAAAAwAAAAQAAAAEAAAABQAAAAUAAAAGAAAABgAAAAcAAAAHAAAACAAAAAgAAAAJAAAACQAAAAoAAAAKAAAACwAAAAsAAAAMAAAADAAAAA0AAAANAAAADgAAAA4AAAAPAAAADwAAAA=",
          "dtype": "i4"
         },
         "intensity": {
          "bdata": "cucEPnLnBD5y5wQ+cucEPpxQ+T2cUPk9nFD5PZxQ+T3Zs/Y92bP2Pdmz9j3Zs/Y9Fh9yPRYfcj0WH3I9Fh9yPVhqDD5Yagw+WGoMPlhqDD6GJBo+hiQaPoYkGj6GJBo+WudgPlrnYD5a52A+WudgPmQAzT5kAM0+ZADNPmQAzT5Zagw+WWoMPllqDD5Zagw+hiQaPoYkGj6GJBo+hiQaPlrnYD5a52A+WudgPlrnYD5kAM0+ZADNPmQAzT5kAM0+cucEPnLnBD5y5wQ+cucEPpxQ+T2cUPk9nFD5PZxQ+T3Ys/Y92LP2Pdiz9j3Ys/Y9Fh9yPRYfcj0WH3I9Fh9yPQ==",
          "dtype": "f4"
         },
         "j": {
          "bdata": "AQAAAAIAAAAFAAAABgAAAAkAAAAKAAAADQAAAA4AAAARAAAAEgAAABUAAAAWAAAAGQAAABoAAAAdAAAAHgAAACEAAAAiAAAAJQAAACYAAAApAAAAKgAAAC0AAAAuAAAAMQAAADIAAAA1AAAANgAAADkAAAA6AAAAPQAAAD4AAAA=",
          "dtype": "i4"
         },
         "k": {
          "bdata": "AgAAAAMAAAAGAAAABwAAAAoAAAALAAAADgAAAA8AAAASAAAAEwAAABYAAAAXAAAAGgAAABsAAAAeAAAAHwAAACIAAAAjAAAAJgAAACcAAAAqAAAAKwAAAC4AAAAvAAAAMgAAADMAAAA2AAAANwAAADoAAAA7AAAAPgAAAD8AAAA=",
          "dtype": "i4"
         },
         "opacity": 1,
         "text": {
          "bdata": "AAAAQO6cwD8AAABA7pzAPwAAAEDunMA/AAAAQO6cwD8AAACAEyq/PwAAAIATKr8/AAAAgBMqvz8AAACAEyq/PwAAACB71r4/AAAAIHvWvj8AAAAge9a+PwAAACB71r4/AAAAwOJDrj8AAADA4kOuPwAAAMDiQ64/AAAAwOJDrj8AAAAAS43BPwAAAABLjcE/AAAAAEuNwT8AAAAAS43BPwAAAMCQRMM/AAAAwJBEwz8AAADAkETDPwAAAMCQRMM/AAAAQOsczD8AAABA6xzMPwAAAEDrHMw/AAAAQOsczD8AAACADKDZPwAAAIAMoNk/AAAAgAyg2T8AAACADKDZPwAAACBLjcE/AAAAIEuNwT8AAAAgS43BPwAAACBLjcE/AAAAwJBEwz8AAADAkETDPwAAAMCQRMM/AAAAwJBEwz8AAABA6xzMPwAAAEDrHMw/AAAAQOsczD8AAABA6xzMPwAAAIAMoNk/AAAAgAyg2T8AAACADKDZPwAAAIAMoNk/AAAAQO6cwD8AAABA7pzAPwAAAEDunMA/AAAAQO6cwD8AAACAEyq/PwAAAIATKr8/AAAAgBMqvz8AAACAEyq/PwAAAAB71r4/AAAAAHvWvj8AAAAAe9a+PwAAAAB71r4/AAAAwOJDrj8AAADA4kOuPwAAAMDiQ64/AAAAwOJDrj8=",
          "dtype": "f8"
         },
         "type": "mesh3d",
         "visible": false,
         "x": {
          "bdata": "AAAAAAAAgD9Wyn8/bgvSIW4L0iFWyn8/0Cl/P2PqASJj6gEi0Cl/P9RefT+aF9EimhfRItRefT+vZ4E/KmzqIgAAgD8AAABAAAAAQFbKfz9Wyn8/AAAAQAAAAEDQKX8/0Cl/PwAAAEAAAABA1F59P9RefT8AAABAAAAAQK9ngT8AAABAAABAQGoNQEAAAABAAAAAQGoNQECMNUBAAAAAQAAAAECMNUBAS6hAQAAAAEAAAABAS6hAQClMP0AAAABAAABAQAAAgEAAAIBAag1AQGoNQEAAAIBAAACAQIw1QECMNUBAAACAQAAAgEBLqEBAS6hAQAAAgEAAAIBAKUw/QA==",
          "dtype": "f4"
         },
         "y": {
          "bdata": "AAAAAAAAAAApI3s/q2p7P6tqez8pI3s/3SX7Pz/V+z8/1fs/3SX7P7FyPEAEtD1ABLQ9QLFyPED8qnxAknJ9QAAAAAAAAAAAG9p6Pykjez8pI3s/G9p6PyBq+j/dJfs/3SX7PyBq+j/tzjpAsXI8QLFyPEDtzjpAj8J1QPyqfEAAAAAAAAAAACkjez8b2no/G9p6Pykjez/dJfs/IGr6PyBq+j/dJfs/sXI8QO3OOkDtzjpAsXI8QPyqfECPwnVAAAAAAAAAAACrans/KSN7Pykjez+rans/P9X7P90l+z/dJfs/P9X7PwS0PUCxcjxAsXI8QAS0PUCScn1A/Kp8QA==",
          "dtype": "f4"
         },
         "z": {
          "bdata": "AAAAAAAAAAAAAAAAAAAAAAAAAAAAAAAAAAAAAAAAAAAAAAAAAAAAAAAAAAAAAAAAAAAAAAAAAAAAAAAAAAAAAAAAAAAAAAAAAAAAAAAAAAAAAAAAAAAAAAAAAAAAAAAAAAAAAAAAAAAAAAAAAAAAAAAAAAAAAAAAAAAAAAAAAAAAAAAAAAAAAAAAAAAAAAAAAAAAAAAAAAAAAAAAAAAAAAAAAAAAAAAAAAAAAAAAAAAAAAAAAAAAAAAAAAAAAAAAAAAAAAAAAAAAAAAAAAAAAAAAAAAAAAAAAAAAAAAAAAAAAAAAAAAAAAAAAAAAAAAAAAAAAAAAAAAAAAAAAAAAAA==",
          "dtype": "f4"
         }
        },
        {
         "connectgaps": false,
         "hoverinfo": "skip",
         "line": {
          "color": "black",
          "width": 1
         },
         "mode": "lines",
         "name": "Edge",
         "type": "scatter3d",
         "visible": false,
         "x": {
          "bdata": "AAAAAAAAAAAAAAAAAADwPwAAAMBK+e8/AAAAwG1BOjwAAAAAAAAAAAAAAAAAAPh/AAAAwG1BOjwAAADASvnvPwAAAAA65e8/AAAAYEw9QDwAAADAbUE6PAAAAAAAAPh/AAAAYEw9QDwAAAAAOuXvPwAAAIDaq+8/AAAAQPMiWjwAAABgTD1APAAAAAAAAPh/AAAAQPMiWjwAAACA2qvvPwAAAOD1LPA/AAAAQIVNXTwAAABA8yJaPAAAAAAAAPh/AAAAAAAA8D8AAAAAAAAAQAAAAAAAAABAAAAAwEr57z8AAAAAAADwPwAAAAAAAPh/AAAAwEr57z8AAAAAAAAAQAAAAAAAAABAAAAAADrl7z8AAADASvnvPwAAAAAAAPh/AAAAADrl7z8AAAAAAAAAQAAAAAAAAABAAAAAgNqr7z8AAAAAOuXvPwAAAAAAAPh/AAAAgNqr7z8AAAAAAAAAQAAAAAAAAABAAAAA4PUs8D8AAACA2qvvPwAAAAAAAPh/AAAAAAAAAEAAAAAAAAAIQAAAAECtAQhAAAAAAAAAAEAAAAAAAAAAQAAAAAAAAPh/AAAAAAAAAEAAAABArQEIQAAAAICxBghAAAAAAAAAAEAAAAAAAAAAQAAAAAAAAPh/AAAAAAAAAEAAAACAsQYIQAAAAGAJFQhAAAAAAAAAAEAAAAAAAAAAQAAAAAAAAPh/AAAAAAAAAEAAAABgCRUIQAAAACCF6QdAAAAAAAAAAEAAAAAAAAAAQAAAAAAAAPh/AAAAAAAACEAAAAAAAAAQQAAAAAAAABBAAAAAQK0BCEAAAAAAAAAIQAAAAAAAAPh/AAAAQK0BCEAAAAAAAAAQQAAAAAAAABBAAAAAgLEGCEAAAABArQEIQAAAAAAAAPh/AAAAgLEGCEAAAAAAAAAQQAAAAAAAABBAAAAAYAkVCEAAAACAsQYIQAAAAAAAAPh/AAAAYAkVCEAAAAAAAAAQQAAAAAAAABBAAAAAIIXpB0AAAABgCRUIQAAAAAAAAPh/",
          "dtype": "f8"
         },
         "y": {
          "bdata": "AAAAAAAAAAAAAAAAAAAAAAAAACBlZO8/AAAAYFVt7z8AAAAAAAAAAAAAAAAAAPh/AAAAYFVt7z8AAAAgZWTvPwAAAKC7ZP8/AAAA4Kd6/z8AAABgVW3vPwAAAAAAAPh/AAAA4Kd6/z8AAACgu2T/PwAAACBWjgdAAAAAgIC2B0AAAADgp3r/PwAAAAAAAPh/AAAAgIC2B0AAAAAgVo4HQAAAAIBflQ9AAAAAQFKuD0AAAACAgLYHQAAAAAAAAPh/AAAAAAAAAAAAAAAAAAAAAAAAAGBDW+8/AAAAIGVk7z8AAAAAAAAAAAAAAAAAAPh/AAAAIGVk7z8AAABgQ1vvPwAAAABETf8/AAAAoLtk/z8AAAAgZWTvPwAAAAAAAPh/AAAAoLtk/z8AAAAARE3/PwAAAKDdWQdAAAAAIFaOB0AAAACgu2T/PwAAAAAAAPh/AAAAIFaOB0AAAACg3VkHQAAAAOBRuA5AAAAAgF+VD0AAAAAgVo4HQAAAAAAAAPh/AAAAAAAAAAAAAAAAAAAAAAAAACBlZO8/AAAAYENb7z8AAAAAAAAAAAAAAAAAAPh/AAAAYENb7z8AAAAgZWTvPwAAAKC7ZP8/AAAAAERN/z8AAABgQ1vvPwAAAAAAAPh/AAAAAERN/z8AAACgu2T/PwAAACBWjgdAAAAAoN1ZB0AAAAAARE3/PwAAAAAAAPh/AAAAoN1ZB0AAAAAgVo4HQAAAAIBflQ9AAAAA4FG4DkAAAACg3VkHQAAAAAAAAPh/AAAAAAAAAAAAAAAAAAAAAAAAAGBVbe8/AAAAIGVk7z8AAAAAAAAAAAAAAAAAAPh/AAAAIGVk7z8AAABgVW3vPwAAAOCnev8/AAAAoLtk/z8AAAAgZWTvPwAAAAAAAPh/AAAAoLtk/z8AAADgp3r/PwAAAICAtgdAAAAAIFaOB0AAAACgu2T/PwAAAAAAAPh/AAAAIFaOB0AAAACAgLYHQAAAAEBSrg9AAAAAgF+VD0AAAAAgVo4HQAAAAAAAAPh/",
          "dtype": "f8"
         },
         "z": {
          "bdata": "AAAAAAAAAAAAAAAAAAAAAAAAAAAAAAAAAAAAAAAAAAAAAAAAAAAAAAAAAAAAAPh/AAAAAAAAAAAAAAAAAAAAAAAAAAAAAAAAAAAAAAAAAAAAAAAAAAAAAAAAAAAAAPh/AAAAAAAAAAAAAAAAAAAAAAAAAAAAAAAAAAAAAAAAAAAAAAAAAAAAAAAAAAAAAPh/AAAAAAAAAAAAAAAAAAAAAAAAAAAAAAAAAAAAAAAAAAAAAAAAAAAAAAAAAAAAAPh/AAAAAAAAAAAAAAAAAAAAAAAAAAAAAAAAAAAAAAAAAAAAAAAAAAAAAAAAAAAAAPh/AAAAAAAAAAAAAAAAAAAAAAAAAAAAAAAAAAAAAAAAAAAAAAAAAAAAAAAAAAAAAPh/AAAAAAAAAAAAAAAAAAAAAAAAAAAAAAAAAAAAAAAAAAAAAAAAAAAAAAAAAAAAAPh/AAAAAAAAAAAAAAAAAAAAAAAAAAAAAAAAAAAAAAAAAAAAAAAAAAAAAAAAAAAAAPh/AAAAAAAAAAAAAAAAAAAAAAAAAAAAAAAAAAAAAAAAAAAAAAAAAAAAAAAAAAAAAPh/AAAAAAAAAAAAAAAAAAAAAAAAAAAAAAAAAAAAAAAAAAAAAAAAAAAAAAAAAAAAAPh/AAAAAAAAAAAAAAAAAAAAAAAAAAAAAAAAAAAAAAAAAAAAAAAAAAAAAAAAAAAAAPh/AAAAAAAAAAAAAAAAAAAAAAAAAAAAAAAAAAAAAAAAAAAAAAAAAAAAAAAAAAAAAPh/AAAAAAAAAAAAAAAAAAAAAAAAAAAAAAAAAAAAAAAAAAAAAAAAAAAAAAAAAAAAAPh/AAAAAAAAAAAAAAAAAAAAAAAAAAAAAAAAAAAAAAAAAAAAAAAAAAAAAAAAAAAAAPh/AAAAAAAAAAAAAAAAAAAAAAAAAAAAAAAAAAAAAAAAAAAAAAAAAAAAAAAAAAAAAPh/AAAAAAAAAAAAAAAAAAAAAAAAAAAAAAAAAAAAAAAAAAAAAAAAAAAAAAAAAAAAAPh/",
          "dtype": "f8"
         }
        },
        {
         "hoverinfo": "skip",
         "marker": {
          "cmax": 0.6673227548599243,
          "cmin": 0,
          "color": {
           "bdata": "cucEPnLnBD5y5wQ+cucEPpxQ+T2cUPk9nFD5PZxQ+T3Zs/Y92bP2Pdmz9j3Zs/Y9Fh9yPRYfcj0WH3I9Fh9yPVhqDD5Yagw+WGoMPlhqDD6GJBo+hiQaPoYkGj6GJBo+WudgPlrnYD5a52A+WudgPmQAzT5kAM0+ZADNPmQAzT5Zagw+WWoMPllqDD5Zagw+hiQaPoYkGj6GJBo+hiQaPlrnYD5a52A+WudgPlrnYD5kAM0+ZADNPmQAzT5kAM0+cucEPnLnBD5y5wQ+cucEPpxQ+T2cUPk9nFD5PZxQ+T3Ys/Y92LP2Pdiz9j3Ys/Y9Fh9yPRYfcj0WH3I9Fh9yPQ==",
           "dtype": "f4"
          },
          "coloraxis": "coloraxis7",
          "size": 3
         },
         "mode": "markers",
         "name": "StressMeasures",
         "type": "scatter3d",
         "visible": false,
         "x": {
          "bdata": "AAAAAAAAgD9Wyn8/bgvSIW4L0iFWyn8/0Cl/P2PqASJj6gEi0Cl/P9RefT+aF9EimhfRItRefT+vZ4E/KmzqIgAAgD8AAABAAAAAQFbKfz9Wyn8/AAAAQAAAAEDQKX8/0Cl/PwAAAEAAAABA1F59P9RefT8AAABAAAAAQK9ngT8AAABAAABAQGoNQEAAAABAAAAAQGoNQECMNUBAAAAAQAAAAECMNUBAS6hAQAAAAEAAAABAS6hAQClMP0AAAABAAABAQAAAgEAAAIBAag1AQGoNQEAAAIBAAACAQIw1QECMNUBAAACAQAAAgEBLqEBAS6hAQAAAgEAAAIBAKUw/QA==",
          "dtype": "f4"
         },
         "y": {
          "bdata": "AAAAAAAAAAApI3s/q2p7P6tqez8pI3s/3SX7Pz/V+z8/1fs/3SX7P7FyPEAEtD1ABLQ9QLFyPED8qnxAknJ9QAAAAAAAAAAAG9p6Pykjez8pI3s/G9p6PyBq+j/dJfs/3SX7PyBq+j/tzjpAsXI8QLFyPEDtzjpAj8J1QPyqfEAAAAAAAAAAACkjez8b2no/G9p6Pykjez/dJfs/IGr6PyBq+j/dJfs/sXI8QO3OOkDtzjpAsXI8QPyqfECPwnVAAAAAAAAAAACrans/KSN7Pykjez+rans/P9X7P90l+z/dJfs/P9X7PwS0PUCxcjxAsXI8QAS0PUCScn1A/Kp8QA==",
          "dtype": "f4"
         },
         "z": {
          "bdata": "AAAAAAAAAAAAAAAAAAAAAAAAAAAAAAAAAAAAAAAAAAAAAAAAAAAAAAAAAAAAAAAAAAAAAAAAAAAAAAAAAAAAAAAAAAAAAAAAAAAAAAAAAAAAAAAAAAAAAAAAAAAAAAAAAAAAAAAAAAAAAAAAAAAAAAAAAAAAAAAAAAAAAAAAAAAAAAAAAAAAAAAAAAAAAAAAAAAAAAAAAAAAAAAAAAAAAAAAAAAAAAAAAAAAAAAAAAAAAAAAAAAAAAAAAAAAAAAAAAAAAAAAAAAAAAAAAAAAAAAAAAAAAAAAAAAAAAAAAAAAAAAAAAAAAAAAAAAAAAAAAAAAAAAAAAAAAAAAAAAAAA==",
          "dtype": "f4"
         }
        },
        {
         "cmax": 0.6673227548599243,
         "cmin": 0,
         "coloraxis": "coloraxis8",
         "hoverinfo": "skip",
         "i": {
          "bdata": "AAAAAAAAAAAEAAAABAAAAAgAAAAIAAAADAAAAAwAAAAQAAAAEAAAABQAAAAUAAAAGAAAABgAAAAcAAAAHAAAACAAAAAgAAAAJAAAACQAAAAoAAAAKAAAACwAAAAsAAAAMAAAADAAAAA0AAAANAAAADgAAAA4AAAAPAAAADwAAAA=",
          "dtype": "i4"
         },
         "intensity": {
          "bdata": "BA4bPgQOGz4EDhs+BA4bPgZvET4GbxE+Bm8RPgZvET7p6A8+6egPPunoDz7p6A8+zTyNPc08jT3NPI09zTyNPWfRIz5n0SM+Z9EjPmfRIz5H1TM+R9UzPkfVMz5H1TM+oDGDPqAxgz6gMYM+oDGDPh8r7z4fK+8+HyvvPh8r7z5n0SM+Z9EjPmfRIz5n0SM+R9UzPkfVMz5H1TM+R9UzPqAxgz6gMYM+oDGDPqAxgz4gK+8+ICvvPiAr7z4gK+8+BA4bPgQOGz4EDhs+BA4bPgZvET4GbxE+Bm8RPgZvET7p6A8+6egPPunoDz7p6A8+zTyNPc08jT3NPI09zTyNPQ==",
          "dtype": "f4"
         },
         "j": {
          "bdata": "AQAAAAIAAAAFAAAABgAAAAkAAAAKAAAADQAAAA4AAAARAAAAEgAAABUAAAAWAAAAGQAAABoAAAAdAAAAHgAAACEAAAAiAAAAJQAAACYAAAApAAAAKgAAAC0AAAAuAAAAMQAAADIAAAA1AAAANgAAADkAAAA6AAAAPQAAAD4AAAA=",
          "dtype": "i4"
         },
         "k": {
          "bdata": "AgAAAAMAAAAGAAAABwAAAAoAAAALAAAADgAAAA8AAAASAAAAEwAAABYAAAAXAAAAGgAAABsAAAAeAAAAHwAAACIAAAAjAAAAJgAAACcAAAAqAAAAKwAAAC4AAAAvAAAAMgAAADMAAAA2AAAANwAAADoAAAA7AAAAPgAAAD8AAAA=",
          "dtype": "i4"
         },
         "opacity": 1,
         "text": {
          "bdata": "AAAAgMBhwz8AAACAwGHDPwAAAIDAYcM/AAAAgMBhwz8AAADA4C3CPwAAAMDgLcI/AAAAwOAtwj8AAADA4C3CPwAAACAd/cE/AAAAIB39wT8AAAAgHf3BPwAAACAd/cE/AAAAoJmnsT8AAACgmaexPwAAAKCZp7E/AAAAoJmnsT8AAADgLHrEPwAAAOAsesQ/AAAA4Cx6xD8AAADgLHrEPwAAAOCoesY/AAAA4Kh6xj8AAADgqHrGPwAAAOCoesY/AAAAADRm0D8AAAAANGbQPwAAAAA0ZtA/AAAAADRm0D8AAADgY+XdPwAAAOBj5d0/AAAA4GPl3T8AAADgY+XdPwAAAOAsesQ/AAAA4Cx6xD8AAADgLHrEPwAAAOAsesQ/AAAA4Kh6xj8AAADgqHrGPwAAAOCoesY/AAAA4Kh6xj8AAAAANGbQPwAAAAA0ZtA/AAAAADRm0D8AAAAANGbQPwAAAABk5d0/AAAAAGTl3T8AAAAAZOXdPwAAAABk5d0/AAAAgMBhwz8AAACAwGHDPwAAAIDAYcM/AAAAgMBhwz8AAADA4C3CPwAAAMDgLcI/AAAAwOAtwj8AAADA4C3CPwAAACAd/cE/AAAAIB39wT8AAAAgHf3BPwAAACAd/cE/AAAAoJmnsT8AAACgmaexPwAAAKCZp7E/AAAAoJmnsT8=",
          "dtype": "f8"
         },
         "type": "mesh3d",
         "visible": false,
         "x": {
          "bdata": "AAAAAAAAgD9kwX8/TwsRok8LEaJkwX8/HgZ/P7noC6G56AuhHgZ/P6LufD90Fb6hdBW+oaLufD+ho4E/JfeWogAAgD8AAABAAAAAQGTBfz9kwX8/AAAAQAAAAEAeBn8/HgZ/PwAAAEAAAABAou58P6LufD8AAABAAAAAQKGjgT8AAABAAABAQKcPQEAAAABAAAAAQKcPQEB5PkBAAAAAQAAAAEB5PkBAWMRAQAAAAEAAAABAWMRAQDAuP0AAAABAAABAQAAAgEAAAIBApw9AQKcPQEAAAIBAAACAQHk+QEB5PkBAAACAQAAAgEBYxEBAWMRAQAAAgEAAAIBAMC4/QA==",
          "dtype": "f4"
         },
         "y": {
          "bdata": "AAAAAAAAAACwU3o/Had6Px2nej+wU3o/11b6P3Qj+z90I/s/11b6PyPbO0AFUj1ABVI9QCPbO0DQHHxAqgV9QAAAAAAAAAAAdf55P7BTej+wU3o/df55P9B7+T/XVvo/11b6P9B7+T9q8TlAI9s7QCPbO0Bq8TlApw10QNAcfEAAAAAAAAAAALBTej91/nk/df55P7BTej/XVvo/0Hv5P9B7+T/XVvo/I9s7QGrxOUBq8TlAI9s7QNAcfECnDXRAAAAAAAAAAAAdp3o/sFN6P7BTej8dp3o/dCP7P9dW+j/XVvo/dCP7PwVSPUAj2ztAI9s7QAVSPUCqBX1A0Bx8QA==",
          "dtype": "f4"
         },
         "z": {
          "bdata": "AAAAAAAAAAAAAAAAAAAAAAAAAAAAAAAAAAAAAAAAAAAAAAAAAAAAAAAAAAAAAAAAAAAAAAAAAAAAAAAAAAAAAAAAAAAAAAAAAAAAAAAAAAAAAAAAAAAAAAAAAAAAAAAAAAAAAAAAAAAAAAAAAAAAAAAAAAAAAAAAAAAAAAAAAAAAAAAAAAAAAAAAAAAAAAAAAAAAAAAAAAAAAAAAAAAAAAAAAAAAAAAAAAAAAAAAAAAAAAAAAAAAAAAAAAAAAAAAAAAAAAAAAAAAAAAAAAAAAAAAAAAAAAAAAAAAAAAAAAAAAAAAAAAAAAAAAAAAAAAAAAAAAAAAAAAAAAAAAAAAAA==",
          "dtype": "f4"
         }
        },
        {
         "connectgaps": false,
         "hoverinfo": "skip",
         "line": {
          "color": "black",
          "width": 1
         },
         "mode": "lines",
         "name": "Edge",
         "type": "scatter3d",
         "visible": false,
         "x": {
          "bdata": "AAAAAAAAAAAAAAAAAADwPwAAAIAs+O8/AAAA4GkhQrwAAAAAAAAAAAAAAAAAAPh/AAAA4GkhQrwAAACALPjvPwAAAMDD4O8/AAAAIBd9IbwAAADgaSFCvAAAAAAAAPh/AAAAIBd9IbwAAADAw+DvPwAAAEDUne8/AAAAgK7CN7wAAAAgF30hvAAAAAAAAPh/AAAAgK7CN7wAAABA1J3vPwAAACB0NPA/AAAAoOTeUrwAAACArsI3vAAAAAAAAPh/AAAAAAAA8D8AAAAAAAAAQAAAAAAAAABAAAAAgCz47z8AAAAAAADwPwAAAAAAAPh/AAAAgCz47z8AAAAAAAAAQAAAAAAAAABAAAAAwMPg7z8AAACALPjvPwAAAAAAAPh/AAAAwMPg7z8AAAAAAAAAQAAAAAAAAABAAAAAQNSd7z8AAADAw+DvPwAAAAAAAPh/AAAAQNSd7z8AAAAAAAAAQAAAAAAAAABAAAAAIHQ08D8AAABA1J3vPwAAAAAAAPh/AAAAAAAAAEAAAAAAAAAIQAAAAOD0AQhAAAAAAAAAAEAAAAAAAAAAQAAAAAAAAPh/AAAAAAAAAEAAAADg9AEIQAAAACDPBwhAAAAAAAAAAEAAAAAAAAAAQAAAAAAAAPh/AAAAAAAAAEAAAAAgzwcIQAAAAACLGAhAAAAAAAAAAEAAAAAAAAAAQAAAAAAAAPh/AAAAAAAAAEAAAAAAixgIQAAAAADG5QdAAAAAAAAAAEAAAAAAAAAAQAAAAAAAAPh/AAAAAAAACEAAAAAAAAAQQAAAAAAAABBAAAAA4PQBCEAAAAAAAAAIQAAAAAAAAPh/AAAA4PQBCEAAAAAAAAAQQAAAAAAAABBAAAAAIM8HCEAAAADg9AEIQAAAAAAAAPh/AAAAIM8HCEAAAAAAAAAQQAAAAAAAABBAAAAAAIsYCEAAAAAgzwcIQAAAAAAAAPh/AAAAAIsYCEAAAAAAAAAQQAAAAAAAABBAAAAAAMblB0AAAAAAixgIQAAAAAAAAPh/",
          "dtype": "f8"
         },
         "y": {
          "bdata": "AAAAAAAAAAAAAAAAAAAAAAAAAAB2Su8/AAAAoONU7z8AAAAAAAAAAAAAAAAAAPh/AAAAoONU7z8AAAAAdkrvPwAAAODaSv8/AAAAgG5k/z8AAACg41TvPwAAAAAAAPh/AAAAgG5k/z8AAADg2kr/PwAAAGBkewdAAAAAoECqB0AAAACAbmT/PwAAAAAAAPh/AAAAoECqB0AAAABgZHsHQAAAAACagw9AAAAAQLWgD0AAAACgQKoHQAAAAAAAAPh/AAAAAAAAAAAAAAAAAAAAAAAAAKDOP+8/AAAAAHZK7z8AAAAAAAAAAAAAAAAAAPh/AAAAAHZK7z8AAACgzj/vPwAAAAB6L/8/AAAA4NpK/z8AAAAAdkrvPwAAAAAAAPh/AAAA4NpK/z8AAAAAei//PwAAAEAtPgdAAAAAYGR7B0AAAADg2kr/PwAAAAAAAPh/AAAAYGR7B0AAAABALT4HQAAAAOC0gQ5AAAAAAJqDD0AAAABgZHsHQAAAAAAAAPh/AAAAAAAAAAAAAAAAAAAAAAAAAAB2Su8/AAAAoM4/7z8AAAAAAAAAAAAAAAAAAPh/AAAAoM4/7z8AAAAAdkrvPwAAAODaSv8/AAAAAHov/z8AAACgzj/vPwAAAAAAAPh/AAAAAHov/z8AAADg2kr/PwAAAGBkewdAAAAAQC0+B0AAAAAAei//PwAAAAAAAPh/AAAAQC0+B0AAAABgZHsHQAAAAACagw9AAAAA4LSBDkAAAABALT4HQAAAAAAAAPh/AAAAAAAAAAAAAAAAAAAAAAAAAKDjVO8/AAAAAHZK7z8AAAAAAAAAAAAAAAAAAPh/AAAAAHZK7z8AAACg41TvPwAAAIBuZP8/AAAA4NpK/z8AAAAAdkrvPwAAAAAAAPh/AAAA4NpK/z8AAACAbmT/PwAAAKBAqgdAAAAAYGR7B0AAAADg2kr/PwAAAAAAAPh/AAAAYGR7B0AAAACgQKoHQAAAAEC1oA9AAAAAAJqDD0AAAABgZHsHQAAAAAAAAPh/",
          "dtype": "f8"
         },
         "z": {
          "bdata": "AAAAAAAAAAAAAAAAAAAAAAAAAAAAAAAAAAAAAAAAAAAAAAAAAAAAAAAAAAAAAPh/AAAAAAAAAAAAAAAAAAAAAAAAAAAAAAAAAAAAAAAAAAAAAAAAAAAAAAAAAAAAAPh/AAAAAAAAAAAAAAAAAAAAAAAAAAAAAAAAAAAAAAAAAAAAAAAAAAAAAAAAAAAAAPh/AAAAAAAAAAAAAAAAAAAAAAAAAAAAAAAAAAAAAAAAAAAAAAAAAAAAAAAAAAAAAPh/AAAAAAAAAAAAAAAAAAAAAAAAAAAAAAAAAAAAAAAAAAAAAAAAAAAAAAAAAAAAAPh/AAAAAAAAAAAAAAAAAAAAAAAAAAAAAAAAAAAAAAAAAAAAAAAAAAAAAAAAAAAAAPh/AAAAAAAAAAAAAAAAAAAAAAAAAAAAAAAAAAAAAAAAAAAAAAAAAAAAAAAAAAAAAPh/AAAAAAAAAAAAAAAAAAAAAAAAAAAAAAAAAAAAAAAAAAAAAAAAAAAAAAAAAAAAAPh/AAAAAAAAAAAAAAAAAAAAAAAAAAAAAAAAAAAAAAAAAAAAAAAAAAAAAAAAAAAAAPh/AAAAAAAAAAAAAAAAAAAAAAAAAAAAAAAAAAAAAAAAAAAAAAAAAAAAAAAAAAAAAPh/AAAAAAAAAAAAAAAAAAAAAAAAAAAAAAAAAAAAAAAAAAAAAAAAAAAAAAAAAAAAAPh/AAAAAAAAAAAAAAAAAAAAAAAAAAAAAAAAAAAAAAAAAAAAAAAAAAAAAAAAAAAAAPh/AAAAAAAAAAAAAAAAAAAAAAAAAAAAAAAAAAAAAAAAAAAAAAAAAAAAAAAAAAAAAPh/AAAAAAAAAAAAAAAAAAAAAAAAAAAAAAAAAAAAAAAAAAAAAAAAAAAAAAAAAAAAAPh/AAAAAAAAAAAAAAAAAAAAAAAAAAAAAAAAAAAAAAAAAAAAAAAAAAAAAAAAAAAAAPh/AAAAAAAAAAAAAAAAAAAAAAAAAAAAAAAAAAAAAAAAAAAAAAAAAAAAAAAAAAAAAPh/",
          "dtype": "f8"
         }
        },
        {
         "hoverinfo": "skip",
         "marker": {
          "cmax": 0.6673227548599243,
          "cmin": 0,
          "color": {
           "bdata": "BA4bPgQOGz4EDhs+BA4bPgZvET4GbxE+Bm8RPgZvET7p6A8+6egPPunoDz7p6A8+zTyNPc08jT3NPI09zTyNPWfRIz5n0SM+Z9EjPmfRIz5H1TM+R9UzPkfVMz5H1TM+oDGDPqAxgz6gMYM+oDGDPh8r7z4fK+8+HyvvPh8r7z5n0SM+Z9EjPmfRIz5n0SM+R9UzPkfVMz5H1TM+R9UzPqAxgz6gMYM+oDGDPqAxgz4gK+8+ICvvPiAr7z4gK+8+BA4bPgQOGz4EDhs+BA4bPgZvET4GbxE+Bm8RPgZvET7p6A8+6egPPunoDz7p6A8+zTyNPc08jT3NPI09zTyNPQ==",
           "dtype": "f4"
          },
          "coloraxis": "coloraxis8",
          "size": 3
         },
         "mode": "markers",
         "name": "StressMeasures",
         "type": "scatter3d",
         "visible": false,
         "x": {
          "bdata": "AAAAAAAAgD9kwX8/TwsRok8LEaJkwX8/HgZ/P7noC6G56AuhHgZ/P6LufD90Fb6hdBW+oaLufD+ho4E/JfeWogAAgD8AAABAAAAAQGTBfz9kwX8/AAAAQAAAAEAeBn8/HgZ/PwAAAEAAAABAou58P6LufD8AAABAAAAAQKGjgT8AAABAAABAQKcPQEAAAABAAAAAQKcPQEB5PkBAAAAAQAAAAEB5PkBAWMRAQAAAAEAAAABAWMRAQDAuP0AAAABAAABAQAAAgEAAAIBApw9AQKcPQEAAAIBAAACAQHk+QEB5PkBAAACAQAAAgEBYxEBAWMRAQAAAgEAAAIBAMC4/QA==",
          "dtype": "f4"
         },
         "y": {
          "bdata": "AAAAAAAAAACwU3o/Had6Px2nej+wU3o/11b6P3Qj+z90I/s/11b6PyPbO0AFUj1ABVI9QCPbO0DQHHxAqgV9QAAAAAAAAAAAdf55P7BTej+wU3o/df55P9B7+T/XVvo/11b6P9B7+T9q8TlAI9s7QCPbO0Bq8TlApw10QNAcfEAAAAAAAAAAALBTej91/nk/df55P7BTej/XVvo/0Hv5P9B7+T/XVvo/I9s7QGrxOUBq8TlAI9s7QNAcfECnDXRAAAAAAAAAAAAdp3o/sFN6P7BTej8dp3o/dCP7P9dW+j/XVvo/dCP7PwVSPUAj2ztAI9s7QAVSPUCqBX1A0Bx8QA==",
          "dtype": "f4"
         },
         "z": {
          "bdata": "AAAAAAAAAAAAAAAAAAAAAAAAAAAAAAAAAAAAAAAAAAAAAAAAAAAAAAAAAAAAAAAAAAAAAAAAAAAAAAAAAAAAAAAAAAAAAAAAAAAAAAAAAAAAAAAAAAAAAAAAAAAAAAAAAAAAAAAAAAAAAAAAAAAAAAAAAAAAAAAAAAAAAAAAAAAAAAAAAAAAAAAAAAAAAAAAAAAAAAAAAAAAAAAAAAAAAAAAAAAAAAAAAAAAAAAAAAAAAAAAAAAAAAAAAAAAAAAAAAAAAAAAAAAAAAAAAAAAAAAAAAAAAAAAAAAAAAAAAAAAAAAAAAAAAAAAAAAAAAAAAAAAAAAAAAAAAAAAAAAAAA==",
          "dtype": "f4"
         }
        },
        {
         "cmax": 0.6673227548599243,
         "cmin": 0,
         "coloraxis": "coloraxis9",
         "hoverinfo": "skip",
         "i": {
          "bdata": "AAAAAAAAAAAEAAAABAAAAAgAAAAIAAAADAAAAAwAAAAQAAAAEAAAABQAAAAUAAAAGAAAABgAAAAcAAAAHAAAACAAAAAgAAAAJAAAACQAAAAoAAAAKAAAACwAAAAsAAAAMAAAADAAAAA0AAAANAAAADgAAAA4AAAAPAAAADwAAAA=",
          "dtype": "i4"
         },
         "intensity": {
          "bdata": "ljQxPpY0MT6WNDE+ljQxPr01Jj69NSY+vTUmPr01Jj7ldyQ+5XckPuV3JD7ldyQ+D2qhPQ9qoT0PaqE9D2qhPXc4Oz53ODs+dzg7Pnc4Oz4Ihk0+CIZNPgiGTT4Ihk0+ku+VPpLvlT6S75U+ku+VPu6qCD/uqgg/7qoIP+6qCD93ODs+dzg7Pnc4Oz53ODs+CIZNPgiGTT4Ihk0+CIZNPpLvlT6S75U+ku+VPpLvlT7uqgg/7qoIP+6qCD/uqgg/ljQxPpY0MT6WNDE+ljQxPr01Jj69NSY+vTUmPr01Jj7ldyQ+5XckPuV3JD7ldyQ+D2qhPQ9qoT0PaqE9D2qhPQ==",
          "dtype": "f4"
         },
         "j": {
          "bdata": "AQAAAAIAAAAFAAAABgAAAAkAAAAKAAAADQAAAA4AAAARAAAAEgAAABUAAAAWAAAAGQAAABoAAAAdAAAAHgAAACEAAAAiAAAAJQAAACYAAAApAAAAKgAAAC0AAAAuAAAAMQAAADIAAAA1AAAANgAAADkAAAA6AAAAPQAAAD4AAAA=",
          "dtype": "i4"
         },
         "k": {
          "bdata": "AgAAAAMAAAAGAAAABwAAAAoAAAALAAAADgAAAA8AAAASAAAAEwAAABYAAAAXAAAAGgAAABsAAAAeAAAAHwAAACIAAAAjAAAAJgAAACcAAAAqAAAAKwAAAC4AAAAvAAAAMgAAADMAAAA2AAAANwAAADoAAAA7AAAAPgAAAD8AAAA=",
          "dtype": "i4"
         },
         "opacity": 1,
         "text": {
          "bdata": "AAAAwJImxj8AAADAkibGPwAAAMCSJsY/AAAAwJImxj8AAACgt8bEPwAAAKC3xsQ/AAAAoLfGxD8AAACgt8bEPwAAAKD8jsQ/AAAAoPyOxD8AAACg/I7EPwAAAKD8jsQ/AAAA4EEttD8AAADgQS20PwAAAOBBLbQ/AAAA4EEttD8AAADgDmfHPwAAAOAOZ8c/AAAA4A5nxz8AAADgDmfHPwAAAADBsMk/AAAAAMGwyT8AAAAAwbDJPwAAAADBsMk/AAAAQPK90j8AAABA8r3SPwAAAEDyvdI/AAAAQPK90j8AAADAXRXhPwAAAMBdFeE/AAAAwF0V4T8AAADAXRXhPwAAAOAOZ8c/AAAA4A5nxz8AAADgDmfHPwAAAOAOZ8c/AAAAAMGwyT8AAAAAwbDJPwAAAADBsMk/AAAAAMGwyT8AAABA8r3SPwAAAEDyvdI/AAAAQPK90j8AAABA8r3SPwAAAMBdFeE/AAAAwF0V4T8AAADAXRXhPwAAAMBdFeE/AAAAwJImxj8AAADAkibGPwAAAMCSJsY/AAAAwJImxj8AAACgt8bEPwAAAKC3xsQ/AAAAoLfGxD8AAACgt8bEPwAAAKD8jsQ/AAAAoPyOxD8AAACg/I7EPwAAAKD8jsQ/AAAA4EEttD8AAADgQS20PwAAAOBBLbQ/AAAA4EEttD8=",
          "dtype": "f8"
         },
         "type": "mesh3d",
         "visible": false,
         "x": {
          "bdata": "AAAAAAAAgD9zuH8/d6+1IXevtSFzuH8/a+J+P+TnkCLk55Aia+J+P3B+fD8mquciJqrnInB+fD+T34E/aaQhIwAAgD8AAABAAAAAQHO4fz9zuH8/AAAAQAAAAEBr4n4/a+J+PwAAAEAAAABAcH58P3B+fD8AAABAAAAAQJPfgT8AAABAAABAQOMRQEAAAABAAAAAQOMRQEBlR0BAAAAAQAAAAEBlR0BAZOBAQAAAAEAAAABAZOBAQDYQP0AAAABAAABAQAAAgEAAAIBA4xFAQOMRQEAAAIBAAACAQGVHQEBlR0BAAACAQAAAgEBk4EBAZOBAQAAAgEAAAIBANhA/QA==",
          "dtype": "f4"
         },
         "y": {
          "bdata": "AAAAAAAAAAA3hHk/j+N5P4/jeT83hHk/0Yf5P6lx+j+pcfo/0Yf5P5ZDO0AG8DxABvA8QJZDO0CljntAwph8QAAAAAAAAAAAzyJ5PzeEeT83hHk/zyJ5P4CN+D/Rh/k/0Yf5P4CN+D/mEzlAlkM7QJZDO0DmEzlAv1hyQKWOe0AAAAAAAAAAADeEeT/PInk/zyJ5PzeEeT/Rh/k/gI34P4CN+D/Rh/k/lkM7QOYTOUDmEzlAlkM7QKWOe0C/WHJAAAAAAAAAAACP43k/N4R5PzeEeT+P43k/qXH6P9GH+T/Rh/k/qXH6PwbwPECWQztAlkM7QAbwPEDCmHxApY57QA==",
          "dtype": "f4"
         },
         "z": {
          "bdata": "AAAAAAAAAAAAAAAAAAAAAAAAAAAAAAAAAAAAAAAAAAAAAAAAAAAAAAAAAAAAAAAAAAAAAAAAAAAAAAAAAAAAAAAAAAAAAAAAAAAAAAAAAAAAAAAAAAAAAAAAAAAAAAAAAAAAAAAAAAAAAAAAAAAAAAAAAAAAAAAAAAAAAAAAAAAAAAAAAAAAAAAAAAAAAAAAAAAAAAAAAAAAAAAAAAAAAAAAAAAAAAAAAAAAAAAAAAAAAAAAAAAAAAAAAAAAAAAAAAAAAAAAAAAAAAAAAAAAAAAAAAAAAAAAAAAAAAAAAAAAAAAAAAAAAAAAAAAAAAAAAAAAAAAAAAAAAAAAAAAAAA==",
          "dtype": "f4"
         }
        },
        {
         "connectgaps": false,
         "hoverinfo": "skip",
         "line": {
          "color": "black",
          "width": 1
         },
         "mode": "lines",
         "name": "Edge",
         "type": "scatter3d",
         "visible": false,
         "x": {
          "bdata": "AAAAAAAAAAAAAAAAAADwPwAAAGAO9+8/AAAA4O61NjwAAAAAAAAAAAAAAAAAAPh/AAAA4O61NjwAAABgDvfvPwAAAGBN3O8/AAAAgPwcUjwAAADg7rU2PAAAAAAAAPh/AAAAgPwcUjwAAABgTdzvPwAAAADOj+8/AAAAwET1XDwAAACA/BxSPAAAAAAAAPh/AAAAwET1XDwAAAAAzo/vPwAAAGDyO/A/AAAAII00ZDwAAADARPVcPAAAAAAAAPh/AAAAAAAA8D8AAAAAAAAAQAAAAAAAAABAAAAAYA737z8AAAAAAADwPwAAAAAAAPh/AAAAYA737z8AAAAAAAAAQAAAAAAAAABAAAAAYE3c7z8AAABgDvfvPwAAAAAAAPh/AAAAYE3c7z8AAAAAAAAAQAAAAAAAAABAAAAAAM6P7z8AAABgTdzvPwAAAAAAAPh/AAAAAM6P7z8AAAAAAAAAQAAAAAAAAABAAAAAYPI78D8AAAAAzo/vPwAAAAAAAPh/AAAAAAAAAEAAAAAAAAAIQAAAAGA8AghAAAAAAAAAAEAAAAAAAAAAQAAAAAAAAPh/AAAAAAAAAEAAAABgPAIIQAAAAKDsCAhAAAAAAAAAAEAAAAAAAAAAQAAAAAAAAPh/AAAAAAAAAEAAAACg7AgIQAAAAIAMHAhAAAAAAAAAAEAAAAAAAAAAQAAAAAAAAPh/AAAAAAAAAEAAAACADBwIQAAAAMAG4gdAAAAAAAAAAEAAAAAAAAAAQAAAAAAAAPh/AAAAAAAACEAAAAAAAAAQQAAAAAAAABBAAAAAYDwCCEAAAAAAAAAIQAAAAAAAAPh/AAAAYDwCCEAAAAAAAAAQQAAAAAAAABBAAAAAoOwICEAAAABgPAIIQAAAAAAAAPh/AAAAoOwICEAAAAAAAAAQQAAAAAAAABBAAAAAgAwcCEAAAACg7AgIQAAAAAAAAPh/AAAAgAwcCEAAAAAAAAAQQAAAAAAAABBAAAAAwAbiB0AAAACADBwIQAAAAAAAAPh/",
          "dtype": "f8"
         },
         "y": {
          "bdata": "AAAAAAAAAAAAAAAAAAAAAAAAAOCGMO8/AAAA4HE87z8AAAAAAAAAAAAAAAAAAPh/AAAA4HE87z8AAADghjDvPwAAACD6MP8/AAAAIDVO/z8AAADgcTzvPwAAAAAAAPh/AAAAIDVO/z8AAAAg+jD/PwAAAMByaAdAAAAAwACeB0AAAAAgNU7/PwAAAAAAAPh/AAAAwACeB0AAAADAcmgHQAAAAKDUcQ9AAAAAQBiTD0AAAADAAJ4HQAAAAAAAAPh/AAAAAAAAAAAAAAAAAAAAAAAAAOBZJO8/AAAA4IYw7z8AAAAAAAAAAAAAAAAAAPh/AAAA4IYw7z8AAADgWSTvPwAAAACwEf8/AAAAIPow/z8AAADghjDvPwAAAAAAAPh/AAAAIPow/z8AAAAAsBH/PwAAAMB8IgdAAAAAwHJoB0AAAAAg+jD/PwAAAAAAAPh/AAAAwHJoB0AAAADAfCIHQAAAAOAXSw5AAAAAoNRxD0AAAADAcmgHQAAAAAAAAPh/AAAAAAAAAAAAAAAAAAAAAAAAAOCGMO8/AAAA4Fkk7z8AAAAAAAAAAAAAAAAAAPh/AAAA4Fkk7z8AAADghjDvPwAAACD6MP8/AAAAALAR/z8AAADgWSTvPwAAAAAAAPh/AAAAALAR/z8AAAAg+jD/PwAAAMByaAdAAAAAwHwiB0AAAAAAsBH/PwAAAAAAAPh/AAAAwHwiB0AAAADAcmgHQAAAAKDUcQ9AAAAA4BdLDkAAAADAfCIHQAAAAAAAAPh/AAAAAAAAAAAAAAAAAAAAAAAAAOBxPO8/AAAA4IYw7z8AAAAAAAAAAAAAAAAAAPh/AAAA4IYw7z8AAADgcTzvPwAAACA1Tv8/AAAAIPow/z8AAADghjDvPwAAAAAAAPh/AAAAIPow/z8AAAAgNU7/PwAAAMAAngdAAAAAwHJoB0AAAAAg+jD/PwAAAAAAAPh/AAAAwHJoB0AAAADAAJ4HQAAAAEAYkw9AAAAAoNRxD0AAAADAcmgHQAAAAAAAAPh/",
          "dtype": "f8"
         },
         "z": {
          "bdata": "AAAAAAAAAAAAAAAAAAAAAAAAAAAAAAAAAAAAAAAAAAAAAAAAAAAAAAAAAAAAAPh/AAAAAAAAAAAAAAAAAAAAAAAAAAAAAAAAAAAAAAAAAAAAAAAAAAAAAAAAAAAAAPh/AAAAAAAAAAAAAAAAAAAAAAAAAAAAAAAAAAAAAAAAAAAAAAAAAAAAAAAAAAAAAPh/AAAAAAAAAAAAAAAAAAAAAAAAAAAAAAAAAAAAAAAAAAAAAAAAAAAAAAAAAAAAAPh/AAAAAAAAAAAAAAAAAAAAAAAAAAAAAAAAAAAAAAAAAAAAAAAAAAAAAAAAAAAAAPh/AAAAAAAAAAAAAAAAAAAAAAAAAAAAAAAAAAAAAAAAAAAAAAAAAAAAAAAAAAAAAPh/AAAAAAAAAAAAAAAAAAAAAAAAAAAAAAAAAAAAAAAAAAAAAAAAAAAAAAAAAAAAAPh/AAAAAAAAAAAAAAAAAAAAAAAAAAAAAAAAAAAAAAAAAAAAAAAAAAAAAAAAAAAAAPh/AAAAAAAAAAAAAAAAAAAAAAAAAAAAAAAAAAAAAAAAAAAAAAAAAAAAAAAAAAAAAPh/AAAAAAAAAAAAAAAAAAAAAAAAAAAAAAAAAAAAAAAAAAAAAAAAAAAAAAAAAAAAAPh/AAAAAAAAAAAAAAAAAAAAAAAAAAAAAAAAAAAAAAAAAAAAAAAAAAAAAAAAAAAAAPh/AAAAAAAAAAAAAAAAAAAAAAAAAAAAAAAAAAAAAAAAAAAAAAAAAAAAAAAAAAAAAPh/AAAAAAAAAAAAAAAAAAAAAAAAAAAAAAAAAAAAAAAAAAAAAAAAAAAAAAAAAAAAAPh/AAAAAAAAAAAAAAAAAAAAAAAAAAAAAAAAAAAAAAAAAAAAAAAAAAAAAAAAAAAAAPh/AAAAAAAAAAAAAAAAAAAAAAAAAAAAAAAAAAAAAAAAAAAAAAAAAAAAAAAAAAAAAPh/AAAAAAAAAAAAAAAAAAAAAAAAAAAAAAAAAAAAAAAAAAAAAAAAAAAAAAAAAAAAAPh/",
          "dtype": "f8"
         }
        },
        {
         "hoverinfo": "skip",
         "marker": {
          "cmax": 0.6673227548599243,
          "cmin": 0,
          "color": {
           "bdata": "ljQxPpY0MT6WNDE+ljQxPr01Jj69NSY+vTUmPr01Jj7ldyQ+5XckPuV3JD7ldyQ+D2qhPQ9qoT0PaqE9D2qhPXc4Oz53ODs+dzg7Pnc4Oz4Ihk0+CIZNPgiGTT4Ihk0+ku+VPpLvlT6S75U+ku+VPu6qCD/uqgg/7qoIP+6qCD93ODs+dzg7Pnc4Oz53ODs+CIZNPgiGTT4Ihk0+CIZNPpLvlT6S75U+ku+VPpLvlT7uqgg/7qoIP+6qCD/uqgg/ljQxPpY0MT6WNDE+ljQxPr01Jj69NSY+vTUmPr01Jj7ldyQ+5XckPuV3JD7ldyQ+D2qhPQ9qoT0PaqE9D2qhPQ==",
           "dtype": "f4"
          },
          "coloraxis": "coloraxis9",
          "size": 3
         },
         "mode": "markers",
         "name": "StressMeasures",
         "type": "scatter3d",
         "visible": false,
         "x": {
          "bdata": "AAAAAAAAgD9zuH8/d6+1IXevtSFzuH8/a+J+P+TnkCLk55Aia+J+P3B+fD8mquciJqrnInB+fD+T34E/aaQhIwAAgD8AAABAAAAAQHO4fz9zuH8/AAAAQAAAAEBr4n4/a+J+PwAAAEAAAABAcH58P3B+fD8AAABAAAAAQJPfgT8AAABAAABAQOMRQEAAAABAAAAAQOMRQEBlR0BAAAAAQAAAAEBlR0BAZOBAQAAAAEAAAABAZOBAQDYQP0AAAABAAABAQAAAgEAAAIBA4xFAQOMRQEAAAIBAAACAQGVHQEBlR0BAAACAQAAAgEBk4EBAZOBAQAAAgEAAAIBANhA/QA==",
          "dtype": "f4"
         },
         "y": {
          "bdata": "AAAAAAAAAAA3hHk/j+N5P4/jeT83hHk/0Yf5P6lx+j+pcfo/0Yf5P5ZDO0AG8DxABvA8QJZDO0CljntAwph8QAAAAAAAAAAAzyJ5PzeEeT83hHk/zyJ5P4CN+D/Rh/k/0Yf5P4CN+D/mEzlAlkM7QJZDO0DmEzlAv1hyQKWOe0AAAAAAAAAAADeEeT/PInk/zyJ5PzeEeT/Rh/k/gI34P4CN+D/Rh/k/lkM7QOYTOUDmEzlAlkM7QKWOe0C/WHJAAAAAAAAAAACP43k/N4R5PzeEeT+P43k/qXH6P9GH+T/Rh/k/qXH6PwbwPECWQztAlkM7QAbwPEDCmHxApY57QA==",
          "dtype": "f4"
         },
         "z": {
          "bdata": "AAAAAAAAAAAAAAAAAAAAAAAAAAAAAAAAAAAAAAAAAAAAAAAAAAAAAAAAAAAAAAAAAAAAAAAAAAAAAAAAAAAAAAAAAAAAAAAAAAAAAAAAAAAAAAAAAAAAAAAAAAAAAAAAAAAAAAAAAAAAAAAAAAAAAAAAAAAAAAAAAAAAAAAAAAAAAAAAAAAAAAAAAAAAAAAAAAAAAAAAAAAAAAAAAAAAAAAAAAAAAAAAAAAAAAAAAAAAAAAAAAAAAAAAAAAAAAAAAAAAAAAAAAAAAAAAAAAAAAAAAAAAAAAAAAAAAAAAAAAAAAAAAAAAAAAAAAAAAAAAAAAAAAAAAAAAAAAAAAAAAA==",
          "dtype": "f4"
         }
        },
        {
         "cmax": 0.6673227548599243,
         "cmin": 0,
         "coloraxis": "coloraxis10",
         "hoverinfo": "skip",
         "i": {
          "bdata": "AAAAAAAAAAAEAAAABAAAAAgAAAAIAAAADAAAAAwAAAAQAAAAEAAAABQAAAAUAAAAGAAAABgAAAAcAAAAHAAAACAAAAAgAAAAJAAAACQAAAAoAAAAKAAAACwAAAAsAAAAMAAAADAAAAA0AAAANAAAADgAAAA4AAAAPAAAADwAAAA=",
          "dtype": "i4"
         },
         "intensity": {
          "bdata": "KVtHPilbRz4pW0c+KVtHPnX8Oj51/Do+dfw6PnX8Oj7iBjk+4gY5PuIGOT7iBjk+Upe1PVKXtT1Sl7U9Upe1PYSfUj6En1I+hJ9SPoSfUj7JNmc+yTZnPsk2Zz7JNmc+hK2oPoStqD6Erag+hK2oPkvAGT9LwBk/S8AZP0vAGT+En1I+hJ9SPoSfUj6En1I+yTZnPsk2Zz7JNmc+yTZnPoStqD6Erag+hK2oPoStqD5LwBk/S8AZP0vAGT9LwBk/KVtHPilbRz4pW0c+KVtHPnb8Oj52/Do+dvw6Pnb8Oj7iBjk+4gY5PuIGOT7iBjk+Upe1PVKXtT1Sl7U9Upe1PQ==",
          "dtype": "f4"
         },
         "j": {
          "bdata": "AQAAAAIAAAAFAAAABgAAAAkAAAAKAAAADQAAAA4AAAARAAAAEgAAABUAAAAWAAAAGQAAABoAAAAdAAAAHgAAACEAAAAiAAAAJQAAACYAAAApAAAAKgAAAC0AAAAuAAAAMQAAADIAAAA1AAAANgAAADkAAAA6AAAAPQAAAD4AAAA=",
          "dtype": "i4"
         },
         "k": {
          "bdata": "AgAAAAMAAAAGAAAABwAAAAoAAAALAAAADgAAAA8AAAASAAAAEwAAABYAAAAXAAAAGgAAABsAAAAeAAAAHwAAACIAAAAjAAAAJgAAACcAAAAqAAAAKwAAAC4AAAAvAAAAMgAAADMAAAA2AAAANwAAADoAAAA7AAAAPgAAAD8AAAA=",
          "dtype": "i4"
         },
         "opacity": 1,
         "text": {
          "bdata": "AAAAIGXryD8AAAAgZevIPwAAACBl68g/AAAAIGXryD8AAACgjl/HPwAAAKCOX8c/AAAAoI5fxz8AAACgjl/HPwAAAEDcIMc/AAAAQNwgxz8AAABA3CDHPwAAAEDcIMc/AAAAQOqytj8AAABA6rK2PwAAAEDqsrY/AAAAQOqytj8AAACA8FPKPwAAAIDwU8o/AAAAgPBTyj8AAACA8FPKPwAAACDZ5sw/AAAAINnmzD8AAAAg2ebMPwAAACDZ5sw/AAAAgLAV1T8AAACAsBXVPwAAAICwFdU/AAAAgLAV1T8AAABgCTjjPwAAAGAJOOM/AAAAYAk44z8AAABgCTjjPwAAAIDwU8o/AAAAgPBTyj8AAACA8FPKPwAAAIDwU8o/AAAAINnmzD8AAAAg2ebMPwAAACDZ5sw/AAAAINnmzD8AAACAsBXVPwAAAICwFdU/AAAAgLAV1T8AAACAsBXVPwAAAGAJOOM/AAAAYAk44z8AAABgCTjjPwAAAGAJOOM/AAAAIGXryD8AAAAgZevIPwAAACBl68g/AAAAIGXryD8AAADAjl/HPwAAAMCOX8c/AAAAwI5fxz8AAADAjl/HPwAAAEDcIMc/AAAAQNwgxz8AAABA3CDHPwAAAEDcIMc/AAAAQOqytj8AAABA6rK2PwAAAEDqsrY/AAAAQOqytj8=",
          "dtype": "f8"
         },
         "type": "mesh3d",
         "visible": false,
         "x": {
          "bdata": "AAAAAAAAgD+Br38/+SjjIvko4yKBr38/ub5+PwkhOiMJITojub5+Pz4OfD+SiiQjkookIz4OfD+GG4I/bRdCIwAAgD8AAABAAAAAQIGvfz+Br38/AAAAQAAAAEC5vn4/ub5+PwAAAEAAAABAPg58Pz4OfD8AAABAAAAAQIYbgj8AAABAAABAQCAUQEAAAABAAAAAQCAUQEBSUEBAAAAAQAAAAEBSUEBAcfxAQAAAAEAAAABAcfxAQD3yPkAAAABAAABAQAAAgEAAAIBAIBRAQCAUQEAAAIBAAACAQFJQQEBSUEBAAACAQAAAgEBx/EBAcfxAQAAAgEAAAIBAPfI+QA==",
          "dtype": "f4"
         },
         "y": {
          "bdata": "AAAAAAAAAAC+tHg/ASB5PwEgeT++tHg/y7j4P96/+T/ev/k/y7j4PwmsOkAGjjxABo48QAmsOkB6AHtA2yt8QAAAAAAAAAAAKUd4P760eD++tHg/KUd4PzCf9z/LuPg/y7j4PzCf9z9jNjhACaw6QAmsOkBjNjhA16NwQHoAe0AAAAAAAAAAAL60eD8pR3g/KUd4P760eD/LuPg/MJ/3PzCf9z/LuPg/Caw6QGM2OEBjNjhACaw6QHoAe0DXo3BAAAAAAAAAAAABIHk/vrR4P760eD8BIHk/3r/5P8u4+D/LuPg/3r/5PwaOPEAJrDpACaw6QAaOPEDbK3xAegB7QA==",
          "dtype": "f4"
         },
         "z": {
          "bdata": "AAAAAAAAAAAAAAAAAAAAAAAAAAAAAAAAAAAAAAAAAAAAAAAAAAAAAAAAAAAAAAAAAAAAAAAAAAAAAAAAAAAAAAAAAAAAAAAAAAAAAAAAAAAAAAAAAAAAAAAAAAAAAAAAAAAAAAAAAAAAAAAAAAAAAAAAAAAAAAAAAAAAAAAAAAAAAAAAAAAAAAAAAAAAAAAAAAAAAAAAAAAAAAAAAAAAAAAAAAAAAAAAAAAAAAAAAAAAAAAAAAAAAAAAAAAAAAAAAAAAAAAAAAAAAAAAAAAAAAAAAAAAAAAAAAAAAAAAAAAAAAAAAAAAAAAAAAAAAAAAAAAAAAAAAAAAAAAAAAAAAA==",
          "dtype": "f4"
         }
        },
        {
         "connectgaps": false,
         "hoverinfo": "skip",
         "line": {
          "color": "black",
          "width": 1
         },
         "mode": "lines",
         "name": "Edge",
         "type": "scatter3d",
         "visible": false,
         "x": {
          "bdata": "AAAAAAAAAAAAAAAAAADwPwAAACDw9e8/AAAAIB9lXDwAAAAAAAAAAAAAAAAAAPh/AAAAIB9lXDwAAAAg8PXvPwAAACDX1+8/AAAAICFEZzwAAAAgH2VcPAAAAAAAAPh/AAAAICFEZzwAAAAg19fvPwAAAMDHge8/AAAAQFKRZDwAAAAgIURnPAAAAAAAAPh/AAAAQFKRZDwAAADAx4HvPwAAAMBwQ/A/AAAAoO1CaDwAAABAUpFkPAAAAAAAAPh/AAAAAAAA8D8AAAAAAAAAQAAAAAAAAABAAAAAIPD17z8AAAAAAADwPwAAAAAAAPh/AAAAIPD17z8AAAAAAAAAQAAAAAAAAABAAAAAINfX7z8AAAAg8PXvPwAAAAAAAPh/AAAAINfX7z8AAAAAAAAAQAAAAAAAAABAAAAAwMeB7z8AAAAg19fvPwAAAAAAAPh/AAAAwMeB7z8AAAAAAAAAQAAAAAAAAABAAAAAwHBD8D8AAADAx4HvPwAAAAAAAPh/AAAAAAAAAEAAAAAAAAAIQAAAAACEAghAAAAAAAAAAEAAAAAAAAAAQAAAAAAAAPh/AAAAAAAAAEAAAAAAhAIIQAAAAEAKCghAAAAAAAAAAEAAAAAAAAAAQAAAAAAAAPh/AAAAAAAAAEAAAABACgoIQAAAACCOHwhAAAAAAAAAAEAAAAAAAAAAQAAAAAAAAPh/AAAAAAAAAEAAAAAgjh8IQAAAAKBH3gdAAAAAAAAAAEAAAAAAAAAAQAAAAAAAAPh/AAAAAAAACEAAAAAAAAAQQAAAAAAAABBAAAAAAIQCCEAAAAAAAAAIQAAAAAAAAPh/AAAAAIQCCEAAAAAAAAAQQAAAAAAAABBAAAAAQAoKCEAAAAAAhAIIQAAAAAAAAPh/AAAAQAoKCEAAAAAAAAAQQAAAAAAAABBAAAAAII4fCEAAAABACgoIQAAAAAAAAPh/AAAAII4fCEAAAAAAAAAQQAAAAAAAABBAAAAAoEfeB0AAAAAgjh8IQAAAAAAAAPh/",
          "dtype": "f8"
         },
         "y": {
          "bdata": "AAAAAAAAAAAAAAAAAAAAAAAAAMCXFu8/AAAAIAAk7z8AAAAAAAAAAAAAAAAAAPh/AAAAIAAk7z8AAADAlxbvPwAAAGAZF/8/AAAAwPs3/z8AAAAgACTvPwAAAAAAAPh/AAAAwPs3/z8AAABgGRf/PwAAACCBVQdAAAAAwMCRB0AAAADA+zf/PwAAAAAAAPh/AAAAwMCRB0AAAAAggVUHQAAAAEAPYA9AAAAAYHuFD0AAAADAwJEHQAAAAAAAAPh/AAAAAAAAAAAAAAAAAAAAAAAAACDlCO8/AAAAwJcW7z8AAAAAAAAAAAAAAAAAAPh/AAAAwJcW7z8AAAAg5QjvPwAAAADm8/4/AAAAYBkX/z8AAADAlxbvPwAAAAAAAPh/AAAAYBkX/z8AAAAA5vP+PwAAAGDMBgdAAAAAIIFVB0AAAABgGRf/PwAAAAAAAPh/AAAAIIFVB0AAAABgzAYHQAAAAOB6FA5AAAAAQA9gD0AAAAAggVUHQAAAAAAAAPh/AAAAAAAAAAAAAAAAAAAAAAAAAMCXFu8/AAAAIOUI7z8AAAAAAAAAAAAAAAAAAPh/AAAAIOUI7z8AAADAlxbvPwAAAGAZF/8/AAAAAObz/j8AAAAg5QjvPwAAAAAAAPh/AAAAAObz/j8AAABgGRf/PwAAACCBVQdAAAAAYMwGB0AAAAAA5vP+PwAAAAAAAPh/AAAAYMwGB0AAAAAggVUHQAAAAEAPYA9AAAAA4HoUDkAAAABgzAYHQAAAAAAAAPh/AAAAAAAAAAAAAAAAAAAAAAAAACAAJO8/AAAAwJcW7z8AAAAAAAAAAAAAAAAAAPh/AAAAwJcW7z8AAAAgACTvPwAAAMD7N/8/AAAAYBkX/z8AAADAlxbvPwAAAAAAAPh/AAAAYBkX/z8AAADA+zf/PwAAAMDAkQdAAAAAIIFVB0AAAABgGRf/PwAAAAAAAPh/AAAAIIFVB0AAAADAwJEHQAAAAGB7hQ9AAAAAQA9gD0AAAAAggVUHQAAAAAAAAPh/",
          "dtype": "f8"
         },
         "z": {
          "bdata": "AAAAAAAAAAAAAAAAAAAAAAAAAAAAAAAAAAAAAAAAAAAAAAAAAAAAAAAAAAAAAPh/AAAAAAAAAAAAAAAAAAAAAAAAAAAAAAAAAAAAAAAAAAAAAAAAAAAAAAAAAAAAAPh/AAAAAAAAAAAAAAAAAAAAAAAAAAAAAAAAAAAAAAAAAAAAAAAAAAAAAAAAAAAAAPh/AAAAAAAAAAAAAAAAAAAAAAAAAAAAAAAAAAAAAAAAAAAAAAAAAAAAAAAAAAAAAPh/AAAAAAAAAAAAAAAAAAAAAAAAAAAAAAAAAAAAAAAAAAAAAAAAAAAAAAAAAAAAAPh/AAAAAAAAAAAAAAAAAAAAAAAAAAAAAAAAAAAAAAAAAAAAAAAAAAAAAAAAAAAAAPh/AAAAAAAAAAAAAAAAAAAAAAAAAAAAAAAAAAAAAAAAAAAAAAAAAAAAAAAAAAAAAPh/AAAAAAAAAAAAAAAAAAAAAAAAAAAAAAAAAAAAAAAAAAAAAAAAAAAAAAAAAAAAAPh/AAAAAAAAAAAAAAAAAAAAAAAAAAAAAAAAAAAAAAAAAAAAAAAAAAAAAAAAAAAAAPh/AAAAAAAAAAAAAAAAAAAAAAAAAAAAAAAAAAAAAAAAAAAAAAAAAAAAAAAAAAAAAPh/AAAAAAAAAAAAAAAAAAAAAAAAAAAAAAAAAAAAAAAAAAAAAAAAAAAAAAAAAAAAAPh/AAAAAAAAAAAAAAAAAAAAAAAAAAAAAAAAAAAAAAAAAAAAAAAAAAAAAAAAAAAAAPh/AAAAAAAAAAAAAAAAAAAAAAAAAAAAAAAAAAAAAAAAAAAAAAAAAAAAAAAAAAAAAPh/AAAAAAAAAAAAAAAAAAAAAAAAAAAAAAAAAAAAAAAAAAAAAAAAAAAAAAAAAAAAAPh/AAAAAAAAAAAAAAAAAAAAAAAAAAAAAAAAAAAAAAAAAAAAAAAAAAAAAAAAAAAAAPh/AAAAAAAAAAAAAAAAAAAAAAAAAAAAAAAAAAAAAAAAAAAAAAAAAAAAAAAAAAAAAPh/",
          "dtype": "f8"
         }
        },
        {
         "hoverinfo": "skip",
         "marker": {
          "cmax": 0.6673227548599243,
          "cmin": 0,
          "color": {
           "bdata": "KVtHPilbRz4pW0c+KVtHPnX8Oj51/Do+dfw6PnX8Oj7iBjk+4gY5PuIGOT7iBjk+Upe1PVKXtT1Sl7U9Upe1PYSfUj6En1I+hJ9SPoSfUj7JNmc+yTZnPsk2Zz7JNmc+hK2oPoStqD6Erag+hK2oPkvAGT9LwBk/S8AZP0vAGT+En1I+hJ9SPoSfUj6En1I+yTZnPsk2Zz7JNmc+yTZnPoStqD6Erag+hK2oPoStqD5LwBk/S8AZP0vAGT9LwBk/KVtHPilbRz4pW0c+KVtHPnb8Oj52/Do+dvw6Pnb8Oj7iBjk+4gY5PuIGOT7iBjk+Upe1PVKXtT1Sl7U9Upe1PQ==",
           "dtype": "f4"
          },
          "coloraxis": "coloraxis10",
          "size": 3
         },
         "mode": "markers",
         "name": "StressMeasures",
         "type": "scatter3d",
         "visible": false,
         "x": {
          "bdata": "AAAAAAAAgD+Br38/+SjjIvko4yKBr38/ub5+PwkhOiMJITojub5+Pz4OfD+SiiQjkookIz4OfD+GG4I/bRdCIwAAgD8AAABAAAAAQIGvfz+Br38/AAAAQAAAAEC5vn4/ub5+PwAAAEAAAABAPg58Pz4OfD8AAABAAAAAQIYbgj8AAABAAABAQCAUQEAAAABAAAAAQCAUQEBSUEBAAAAAQAAAAEBSUEBAcfxAQAAAAEAAAABAcfxAQD3yPkAAAABAAABAQAAAgEAAAIBAIBRAQCAUQEAAAIBAAACAQFJQQEBSUEBAAACAQAAAgEBx/EBAcfxAQAAAgEAAAIBAPfI+QA==",
          "dtype": "f4"
         },
         "y": {
          "bdata": "AAAAAAAAAAC+tHg/ASB5PwEgeT++tHg/y7j4P96/+T/ev/k/y7j4PwmsOkAGjjxABo48QAmsOkB6AHtA2yt8QAAAAAAAAAAAKUd4P760eD++tHg/KUd4PzCf9z/LuPg/y7j4PzCf9z9jNjhACaw6QAmsOkBjNjhA16NwQHoAe0AAAAAAAAAAAL60eD8pR3g/KUd4P760eD/LuPg/MJ/3PzCf9z/LuPg/Caw6QGM2OEBjNjhACaw6QHoAe0DXo3BAAAAAAAAAAAABIHk/vrR4P760eD8BIHk/3r/5P8u4+D/LuPg/3r/5PwaOPEAJrDpACaw6QAaOPEDbK3xAegB7QA==",
          "dtype": "f4"
         },
         "z": {
          "bdata": "AAAAAAAAAAAAAAAAAAAAAAAAAAAAAAAAAAAAAAAAAAAAAAAAAAAAAAAAAAAAAAAAAAAAAAAAAAAAAAAAAAAAAAAAAAAAAAAAAAAAAAAAAAAAAAAAAAAAAAAAAAAAAAAAAAAAAAAAAAAAAAAAAAAAAAAAAAAAAAAAAAAAAAAAAAAAAAAAAAAAAAAAAAAAAAAAAAAAAAAAAAAAAAAAAAAAAAAAAAAAAAAAAAAAAAAAAAAAAAAAAAAAAAAAAAAAAAAAAAAAAAAAAAAAAAAAAAAAAAAAAAAAAAAAAAAAAAAAAAAAAAAAAAAAAAAAAAAAAAAAAAAAAAAAAAAAAAAAAAAAAA==",
          "dtype": "f4"
         }
        },
        {
         "cmax": 0.6673227548599243,
         "cmin": 0,
         "coloraxis": "coloraxis11",
         "hoverinfo": "skip",
         "i": {
          "bdata": "AAAAAAAAAAAEAAAABAAAAAgAAAAIAAAADAAAAAwAAAAQAAAAEAAAABQAAAAUAAAAGAAAABgAAAAcAAAAHAAAACAAAAAgAAAAJAAAACQAAAAoAAAAKAAAACwAAAAsAAAAMAAAADAAAAA0AAAANAAAADgAAAA4AAAAPAAAADwAAAA=",
          "dtype": "i4"
         },
         "intensity": {
          "bdata": "vYFdPr2BXT69gV0+vYFdPi7DTz4uw08+LsNPPi7DTz7flU0+35VNPt+VTT7flU0+k8TJPZPEyT2TxMk9k8TJPZIGaj6SBmo+kgZqPpIGaj7Fc4A+xXOAPsVzgD7Fc4A+dmu7PnZruz52a7s+dmu7PqrVKj+q1So/qtUqP6rVKj+TBmo+kwZqPpMGaj6TBmo+xXOAPsVzgD7Fc4A+xXOAPnZruz52a7s+dmu7PnZruz6p1So/qdUqP6nVKj+p1So/vYFdPr2BXT69gV0+vYFdPi3DTz4tw08+LcNPPi3DTz7flU0+35VNPt+VTT7flU0+ksTJPZLEyT2SxMk9ksTJPQ==",
          "dtype": "f4"
         },
         "j": {
          "bdata": "AQAAAAIAAAAFAAAABgAAAAkAAAAKAAAADQAAAA4AAAARAAAAEgAAABUAAAAWAAAAGQAAABoAAAAdAAAAHgAAACEAAAAiAAAAJQAAACYAAAApAAAAKgAAAC0AAAAuAAAAMQAAADIAAAA1AAAANgAAADkAAAA6AAAAPQAAAD4AAAA=",
          "dtype": "i4"
         },
         "k": {
          "bdata": "AgAAAAMAAAAGAAAABwAAAAoAAAALAAAADgAAAA8AAAASAAAAEwAAABYAAAAXAAAAGgAAABsAAAAeAAAAHwAAACIAAAAjAAAAJgAAACcAAAAqAAAAKwAAAC4AAAAvAAAAMgAAADMAAAA2AAAANwAAADoAAAA7AAAAPgAAAD8AAAA=",
          "dtype": "i4"
         },
         "opacity": 1,
         "text": {
          "bdata": "AAAAoDewyz8AAACgN7DLPwAAAKA3sMs/AAAAoDewyz8AAADAZfjJPwAAAMBl+Mk/AAAAwGX4yT8AAADAZfjJPwAAAOC7ssk/AAAA4LuyyT8AAADgu7LJPwAAAOC7ssk/AAAAYJI4uT8AAABgkji5PwAAAGCSOLk/AAAAYJI4uT8AAABA0kDNPwAAAEDSQM0/AAAAQNJAzT8AAABA0kDNPwAAAKB4DtA/AAAAoHgO0D8AAACgeA7QPwAAAKB4DtA/AAAAwG5t1z8AAADAbm3XPwAAAMBubdc/AAAAwG5t1z8AAABAtVrlPwAAAEC1WuU/AAAAQLVa5T8AAABAtVrlPwAAAGDSQM0/AAAAYNJAzT8AAABg0kDNPwAAAGDSQM0/AAAAoHgO0D8AAACgeA7QPwAAAKB4DtA/AAAAoHgO0D8AAADAbm3XPwAAAMBubdc/AAAAwG5t1z8AAADAbm3XPwAAACC1WuU/AAAAILVa5T8AAAAgtVrlPwAAACC1WuU/AAAAoDewyz8AAACgN7DLPwAAAKA3sMs/AAAAoDewyz8AAACgZfjJPwAAAKBl+Mk/AAAAoGX4yT8AAACgZfjJPwAAAOC7ssk/AAAA4LuyyT8AAADgu7LJPwAAAOC7ssk/AAAAQJI4uT8AAABAkji5PwAAAECSOLk/AAAAQJI4uT8=",
          "dtype": "f8"
         },
         "type": "mesh3d",
         "x": {
          "bdata": "AAAAAAAAgD+Ppn8/XzyzIl88syKPpn8/Bpt+P8akIyPGpCMjBpt+Pwyeez+6NJQjujSUIwyeez94V4I/HxioIwAAgD8AAABAAAAAQI+mfz+Ppn8/AAAAQAAAAEAGm34/Bpt+PwAAAEAAAABADJ57Pwyeez8AAABAAAAAQHhXgj8AAABAAABAQFwWQEAAAABAAAAAQFwWQEA/WUBAAAAAQAAAAEA/WUBAfRhBQAAAAEAAAABAfRhBQETUPkAAAABAAABAQAAAgEAAAIBAXBZAQFwWQEAAAIBAAACAQD9ZQEA/WUBAAACAQAAAgEB9GEFAfRhBQAAAgEAAAIBARNQ+QA==",
          "dtype": "f4"
         },
         "y": {
          "bdata": "AAAAAAAAAABE5Xc/c1x4P3NceD9E5Xc/xen3PxMO+T8TDvk/xen3P3wUOkAHLDxAByw8QHwUOkBOcnpA8757QAAAAAAAAAAAg2t3P0Tldz9E5Xc/g2t3P+Cw9j/F6fc/xen3P+Cw9j/gWDdAfBQ6QHwUOkDgWDdA7+5uQE5yekAAAAAAAAAAAETldz+Da3c/g2t3P0Tldz/F6fc/4LD2P+Cw9j/F6fc/fBQ6QOBYN0DgWDdAfBQ6QE5yekDv7m5AAAAAAAAAAABzXHg/ROV3P0Tldz9zXHg/Ew75P8Xp9z/F6fc/Ew75PwcsPEB8FDpAfBQ6QAcsPEDzvntATnJ6QA==",
          "dtype": "f4"
         },
         "z": {
          "bdata": "AAAAAAAAAAAAAAAAAAAAAAAAAAAAAAAAAAAAAAAAAAAAAAAAAAAAAAAAAAAAAAAAAAAAAAAAAAAAAAAAAAAAAAAAAAAAAAAAAAAAAAAAAAAAAAAAAAAAAAAAAAAAAAAAAAAAAAAAAAAAAAAAAAAAAAAAAAAAAAAAAAAAAAAAAAAAAAAAAAAAAAAAAAAAAAAAAAAAAAAAAAAAAAAAAAAAAAAAAAAAAAAAAAAAAAAAAAAAAAAAAAAAAAAAAAAAAAAAAAAAAAAAAAAAAAAAAAAAAAAAAAAAAAAAAAAAAAAAAAAAAAAAAAAAAAAAAAAAAAAAAAAAAAAAAAAAAAAAAAAAAA==",
          "dtype": "f4"
         }
        },
        {
         "connectgaps": false,
         "hoverinfo": "skip",
         "line": {
          "color": "black",
          "width": 1
         },
         "mode": "lines",
         "name": "Edge",
         "type": "scatter3d",
         "x": {
          "bdata": "AAAAAAAAAAAAAAAAAADwPwAAAODR9O8/AAAA4ItnVjwAAAAAAAAAAAAAAAAAAPh/AAAA4ItnVjwAAADg0fTvPwAAAMBg0+8/AAAAwJh0ZDwAAADgi2dWPAAAAAAAAPh/AAAAwJh0ZDwAAADAYNPvPwAAAIDBc+8/AAAAQJeGcjwAAADAmHRkPAAAAAAAAPh/AAAAQJeGcjwAAACAwXPvPwAAAADvSvA/AAAA4AMDdTwAAABAl4ZyPAAAAAAAAPh/AAAAAAAA8D8AAAAAAAAAQAAAAAAAAABAAAAA4NH07z8AAAAAAADwPwAAAAAAAPh/AAAA4NH07z8AAAAAAAAAQAAAAAAAAABAAAAAwGDT7z8AAADg0fTvPwAAAAAAAPh/AAAAwGDT7z8AAAAAAAAAQAAAAAAAAABAAAAAgMFz7z8AAADAYNPvPwAAAAAAAPh/AAAAgMFz7z8AAAAAAAAAQAAAAAAAAABAAAAAAO9K8D8AAACAwXPvPwAAAAAAAPh/AAAAAAAAAEAAAAAAAAAIQAAAAIDLAghAAAAAAAAAAEAAAAAAAAAAQAAAAAAAAPh/AAAAAAAAAEAAAACAywIIQAAAAOAnCwhAAAAAAAAAAEAAAAAAAAAAQAAAAAAAAPh/AAAAAAAAAEAAAADgJwsIQAAAAKAPIwhAAAAAAAAAAEAAAAAAAAAAQAAAAAAAAPh/AAAAAAAAAEAAAACgDyMIQAAAAICI2gdAAAAAAAAAAEAAAAAAAAAAQAAAAAAAAPh/AAAAAAAACEAAAAAAAAAQQAAAAAAAABBAAAAAgMsCCEAAAAAAAAAIQAAAAAAAAPh/AAAAgMsCCEAAAAAAAAAQQAAAAAAAABBAAAAA4CcLCEAAAACAywIIQAAAAAAAAPh/AAAA4CcLCEAAAAAAAAAQQAAAAAAAABBAAAAAoA8jCEAAAADgJwsIQAAAAAAAAPh/AAAAoA8jCEAAAAAAAAAQQAAAAAAAABBAAAAAgIjaB0AAAACgDyMIQAAAAAAAAPh/",
          "dtype": "f8"
         },
         "y": {
          "bdata": "AAAAAAAAAAAAAAAAAAAAAAAAAICo/O4/AAAAYI4L7z8AAAAAAAAAAAAAAAAAAPh/AAAAYI4L7z8AAACAqPzuPwAAAKA4/f4/AAAAYMIh/z8AAABgjgvvPwAAAAAAAPh/AAAAYMIh/z8AAACgOP3+PwAAAICPQgdAAAAA4ICFB0AAAABgwiH/PwAAAAAAAPh/AAAA4ICFB0AAAACAj0IHQAAAAMBJTg9AAAAAYN53D0AAAADggIUHQAAAAAAAAPh/AAAAAAAAAAAAAAAAAAAAAAAAAGBw7e4/AAAAgKj87j8AAAAAAAAAAAAAAAAAAPh/AAAAgKj87j8AAABgcO3uPwAAAAAc1v4/AAAAoDj9/j8AAACAqPzuPwAAAAAAAPh/AAAAoDj9/j8AAAAAHNb+PwAAAAAc6wZAAAAAgI9CB0AAAACgOP3+PwAAAAAAAPh/AAAAgI9CB0AAAAAAHOsGQAAAAODd3Q1AAAAAwElOD0AAAACAj0IHQAAAAAAAAPh/AAAAAAAAAAAAAAAAAAAAAAAAAICo/O4/AAAAYHDt7j8AAAAAAAAAAAAAAAAAAPh/AAAAYHDt7j8AAACAqPzuPwAAAKA4/f4/AAAAABzW/j8AAABgcO3uPwAAAAAAAPh/AAAAABzW/j8AAACgOP3+PwAAAICPQgdAAAAAABzrBkAAAAAAHNb+PwAAAAAAAPh/AAAAABzrBkAAAACAj0IHQAAAAMBJTg9AAAAA4N3dDUAAAAAAHOsGQAAAAAAAAPh/AAAAAAAAAAAAAAAAAAAAAAAAAGCOC+8/AAAAgKj87j8AAAAAAAAAAAAAAAAAAPh/AAAAgKj87j8AAABgjgvvPwAAAGDCIf8/AAAAoDj9/j8AAACAqPzuPwAAAAAAAPh/AAAAoDj9/j8AAABgwiH/PwAAAOCAhQdAAAAAgI9CB0AAAACgOP3+PwAAAAAAAPh/AAAAgI9CB0AAAADggIUHQAAAAGDedw9AAAAAwElOD0AAAACAj0IHQAAAAAAAAPh/",
          "dtype": "f8"
         },
         "z": {
          "bdata": "AAAAAAAAAAAAAAAAAAAAAAAAAAAAAAAAAAAAAAAAAAAAAAAAAAAAAAAAAAAAAPh/AAAAAAAAAAAAAAAAAAAAAAAAAAAAAAAAAAAAAAAAAAAAAAAAAAAAAAAAAAAAAPh/AAAAAAAAAAAAAAAAAAAAAAAAAAAAAAAAAAAAAAAAAAAAAAAAAAAAAAAAAAAAAPh/AAAAAAAAAAAAAAAAAAAAAAAAAAAAAAAAAAAAAAAAAAAAAAAAAAAAAAAAAAAAAPh/AAAAAAAAAAAAAAAAAAAAAAAAAAAAAAAAAAAAAAAAAAAAAAAAAAAAAAAAAAAAAPh/AAAAAAAAAAAAAAAAAAAAAAAAAAAAAAAAAAAAAAAAAAAAAAAAAAAAAAAAAAAAAPh/AAAAAAAAAAAAAAAAAAAAAAAAAAAAAAAAAAAAAAAAAAAAAAAAAAAAAAAAAAAAAPh/AAAAAAAAAAAAAAAAAAAAAAAAAAAAAAAAAAAAAAAAAAAAAAAAAAAAAAAAAAAAAPh/AAAAAAAAAAAAAAAAAAAAAAAAAAAAAAAAAAAAAAAAAAAAAAAAAAAAAAAAAAAAAPh/AAAAAAAAAAAAAAAAAAAAAAAAAAAAAAAAAAAAAAAAAAAAAAAAAAAAAAAAAAAAAPh/AAAAAAAAAAAAAAAAAAAAAAAAAAAAAAAAAAAAAAAAAAAAAAAAAAAAAAAAAAAAAPh/AAAAAAAAAAAAAAAAAAAAAAAAAAAAAAAAAAAAAAAAAAAAAAAAAAAAAAAAAAAAAPh/AAAAAAAAAAAAAAAAAAAAAAAAAAAAAAAAAAAAAAAAAAAAAAAAAAAAAAAAAAAAAPh/AAAAAAAAAAAAAAAAAAAAAAAAAAAAAAAAAAAAAAAAAAAAAAAAAAAAAAAAAAAAAPh/AAAAAAAAAAAAAAAAAAAAAAAAAAAAAAAAAAAAAAAAAAAAAAAAAAAAAAAAAAAAAPh/AAAAAAAAAAAAAAAAAAAAAAAAAAAAAAAAAAAAAAAAAAAAAAAAAAAAAAAAAAAAAPh/",
          "dtype": "f8"
         }
        },
        {
         "hoverinfo": "skip",
         "marker": {
          "cmax": 0.6673227548599243,
          "cmin": 0,
          "color": {
           "bdata": "vYFdPr2BXT69gV0+vYFdPi7DTz4uw08+LsNPPi7DTz7flU0+35VNPt+VTT7flU0+k8TJPZPEyT2TxMk9k8TJPZIGaj6SBmo+kgZqPpIGaj7Fc4A+xXOAPsVzgD7Fc4A+dmu7PnZruz52a7s+dmu7PqrVKj+q1So/qtUqP6rVKj+TBmo+kwZqPpMGaj6TBmo+xXOAPsVzgD7Fc4A+xXOAPnZruz52a7s+dmu7PnZruz6p1So/qdUqP6nVKj+p1So/vYFdPr2BXT69gV0+vYFdPi3DTz4tw08+LcNPPi3DTz7flU0+35VNPt+VTT7flU0+ksTJPZLEyT2SxMk9ksTJPQ==",
           "dtype": "f4"
          },
          "coloraxis": "coloraxis11",
          "size": 3
         },
         "mode": "markers",
         "name": "StressMeasures",
         "type": "scatter3d",
         "x": {
          "bdata": "AAAAAAAAgD+Ppn8/XzyzIl88syKPpn8/Bpt+P8akIyPGpCMjBpt+Pwyeez+6NJQjujSUIwyeez94V4I/HxioIwAAgD8AAABAAAAAQI+mfz+Ppn8/AAAAQAAAAEAGm34/Bpt+PwAAAEAAAABADJ57Pwyeez8AAABAAAAAQHhXgj8AAABAAABAQFwWQEAAAABAAAAAQFwWQEA/WUBAAAAAQAAAAEA/WUBAfRhBQAAAAEAAAABAfRhBQETUPkAAAABAAABAQAAAgEAAAIBAXBZAQFwWQEAAAIBAAACAQD9ZQEA/WUBAAACAQAAAgEB9GEFAfRhBQAAAgEAAAIBARNQ+QA==",
          "dtype": "f4"
         },
         "y": {
          "bdata": "AAAAAAAAAABE5Xc/c1x4P3NceD9E5Xc/xen3PxMO+T8TDvk/xen3P3wUOkAHLDxAByw8QHwUOkBOcnpA8757QAAAAAAAAAAAg2t3P0Tldz9E5Xc/g2t3P+Cw9j/F6fc/xen3P+Cw9j/gWDdAfBQ6QHwUOkDgWDdA7+5uQE5yekAAAAAAAAAAAETldz+Da3c/g2t3P0Tldz/F6fc/4LD2P+Cw9j/F6fc/fBQ6QOBYN0DgWDdAfBQ6QE5yekDv7m5AAAAAAAAAAABzXHg/ROV3P0Tldz9zXHg/Ew75P8Xp9z/F6fc/Ew75PwcsPEB8FDpAfBQ6QAcsPEDzvntATnJ6QA==",
          "dtype": "f4"
         },
         "z": {
          "bdata": "AAAAAAAAAAAAAAAAAAAAAAAAAAAAAAAAAAAAAAAAAAAAAAAAAAAAAAAAAAAAAAAAAAAAAAAAAAAAAAAAAAAAAAAAAAAAAAAAAAAAAAAAAAAAAAAAAAAAAAAAAAAAAAAAAAAAAAAAAAAAAAAAAAAAAAAAAAAAAAAAAAAAAAAAAAAAAAAAAAAAAAAAAAAAAAAAAAAAAAAAAAAAAAAAAAAAAAAAAAAAAAAAAAAAAAAAAAAAAAAAAAAAAAAAAAAAAAAAAAAAAAAAAAAAAAAAAAAAAAAAAAAAAAAAAAAAAAAAAAAAAAAAAAAAAAAAAAAAAAAAAAAAAAAAAAAAAAAAAAAAAA==",
          "dtype": "f4"
         }
        }
       ],
       "layout": {
        "autosize": true,
        "coloraxis": {
         "cmax": 0.6673227548599243,
         "cmin": 0,
         "colorbar": {
          "tickfont": {
           "size": 13
          },
          "title": {
           "font": {
            "size": 15
           },
           "text": "<b><span style=\"color:blue; font-weight:bold\">Stress Measures</span> *</b><br><b>(DOF) <span style=\"color:blue; font-weight:bold\">sigma_vm</span></b><br><b>Max.:</b> <span style=\"color:blue; font-weight:bold\">0.000E+00</span><br><b>Min.:</b> <span style=\"color:blue; font-weight:bold\">0.000E+00</span><br><b>step:</b> <span style=\"color:blue; font-weight:bold\">0</span>; <b>time</b>: <span style=\"color:blue; font-weight:bold\">0.000</span><br> <br>"
          }
         },
         "colorscale": [
          [
           0,
           "rgb(49,54,149)"
          ],
          [
           0.11111111111111116,
           "rgb(69,117,180)"
          ],
          [
           0.2222222222222222,
           "rgb(116,173,209)"
          ],
          [
           0.33333333333333337,
           "rgb(171,217,233)"
          ],
          [
           0.4444444444444444,
           "rgb(224,243,248)"
          ],
          [
           0.5555555555555556,
           "rgb(254,224,144)"
          ],
          [
           0.6666666666666667,
           "rgb(253,174,97)"
          ],
          [
           0.7777777777777778,
           "rgb(244,109,67)"
          ],
          [
           0.8888888888888888,
           "rgb(215,48,39)"
          ],
          [
           1,
           "rgb(165,0,38)"
          ]
         ],
         "showscale": true
        },
        "coloraxis10": {
         "cmax": 0.6673227548599243,
         "cmin": 0,
         "colorbar": {
          "tickfont": {
           "size": 13
          },
          "title": {
           "font": {
            "size": 15
           },
           "text": "<b><span style=\"color:blue; font-weight:bold\">Stress Measures</span> *</b><br><b>(DOF) <span style=\"color:blue; font-weight:bold\">sigma_vm</span></b><br><b>Max.:</b> <span style=\"color:blue; font-weight:bold\">6.006E-01</span><br><b>Min.:</b> <span style=\"color:blue; font-weight:bold\">8.867E-02</span><br><b>step:</b> <span style=\"color:blue; font-weight:bold\">9</span>; <b>time</b>: <span style=\"color:blue; font-weight:bold\">0.900</span><br> <br>"
          }
         },
         "colorscale": [
          [
           0,
           "rgb(49,54,149)"
          ],
          [
           0.11111111111111116,
           "rgb(69,117,180)"
          ],
          [
           0.2222222222222222,
           "rgb(116,173,209)"
          ],
          [
           0.33333333333333337,
           "rgb(171,217,233)"
          ],
          [
           0.4444444444444444,
           "rgb(224,243,248)"
          ],
          [
           0.5555555555555556,
           "rgb(254,224,144)"
          ],
          [
           0.6666666666666667,
           "rgb(253,174,97)"
          ],
          [
           0.7777777777777778,
           "rgb(244,109,67)"
          ],
          [
           0.8888888888888888,
           "rgb(215,48,39)"
          ],
          [
           1,
           "rgb(165,0,38)"
          ]
         ],
         "showscale": true
        },
        "coloraxis11": {
         "cmax": 0.6673227548599243,
         "cmin": 0,
         "colorbar": {
          "tickfont": {
           "size": 13
          },
          "title": {
           "font": {
            "size": 15
           },
           "text": "<b><span style=\"color:blue; font-weight:bold\">Stress Measures</span> *</b><br><b>(DOF) <span style=\"color:blue; font-weight:bold\">sigma_vm</span></b><br><b>Max.:</b> <span style=\"color:blue; font-weight:bold\">6.673E-01</span><br><b>Min.:</b> <span style=\"color:blue; font-weight:bold\">9.852E-02</span><br><b>step:</b> <span style=\"color:blue; font-weight:bold\">10</span>; <b>time</b>: <span style=\"color:blue; font-weight:bold\">1.000</span><br> <br>"
          }
         },
         "colorscale": [
          [
           0,
           "rgb(49,54,149)"
          ],
          [
           0.11111111111111116,
           "rgb(69,117,180)"
          ],
          [
           0.2222222222222222,
           "rgb(116,173,209)"
          ],
          [
           0.33333333333333337,
           "rgb(171,217,233)"
          ],
          [
           0.4444444444444444,
           "rgb(224,243,248)"
          ],
          [
           0.5555555555555556,
           "rgb(254,224,144)"
          ],
          [
           0.6666666666666667,
           "rgb(253,174,97)"
          ],
          [
           0.7777777777777778,
           "rgb(244,109,67)"
          ],
          [
           0.8888888888888888,
           "rgb(215,48,39)"
          ],
          [
           1,
           "rgb(165,0,38)"
          ]
         ],
         "showscale": true
        },
        "coloraxis2": {
         "cmax": 0.6673227548599243,
         "cmin": 0,
         "colorbar": {
          "tickfont": {
           "size": 13
          },
          "title": {
           "font": {
            "size": 15
           },
           "text": "<b><span style=\"color:blue; font-weight:bold\">Stress Measures</span> *</b><br><b>(DOF) <span style=\"color:blue; font-weight:bold\">sigma_vm</span></b><br><b>Max.:</b> <span style=\"color:blue; font-weight:bold\">6.673E-02</span><br><b>Min.:</b> <span style=\"color:blue; font-weight:bold\">9.852E-03</span><br><b>step:</b> <span style=\"color:blue; font-weight:bold\">1</span>; <b>time</b>: <span style=\"color:blue; font-weight:bold\">0.100</span><br> <br>"
          }
         },
         "colorscale": [
          [
           0,
           "rgb(49,54,149)"
          ],
          [
           0.11111111111111116,
           "rgb(69,117,180)"
          ],
          [
           0.2222222222222222,
           "rgb(116,173,209)"
          ],
          [
           0.33333333333333337,
           "rgb(171,217,233)"
          ],
          [
           0.4444444444444444,
           "rgb(224,243,248)"
          ],
          [
           0.5555555555555556,
           "rgb(254,224,144)"
          ],
          [
           0.6666666666666667,
           "rgb(253,174,97)"
          ],
          [
           0.7777777777777778,
           "rgb(244,109,67)"
          ],
          [
           0.8888888888888888,
           "rgb(215,48,39)"
          ],
          [
           1,
           "rgb(165,0,38)"
          ]
         ],
         "showscale": true
        },
        "coloraxis3": {
         "cmax": 0.6673227548599243,
         "cmin": 0,
         "colorbar": {
          "tickfont": {
           "size": 13
          },
          "title": {
           "font": {
            "size": 15
           },
           "text": "<b><span style=\"color:blue; font-weight:bold\">Stress Measures</span> *</b><br><b>(DOF) <span style=\"color:blue; font-weight:bold\">sigma_vm</span></b><br><b>Max.:</b> <span style=\"color:blue; font-weight:bold\">1.335E-01</span><br><b>Min.:</b> <span style=\"color:blue; font-weight:bold\">1.970E-02</span><br><b>step:</b> <span style=\"color:blue; font-weight:bold\">2</span>; <b>time</b>: <span style=\"color:blue; font-weight:bold\">0.200</span><br> <br>"
          }
         },
         "colorscale": [
          [
           0,
           "rgb(49,54,149)"
          ],
          [
           0.11111111111111116,
           "rgb(69,117,180)"
          ],
          [
           0.2222222222222222,
           "rgb(116,173,209)"
          ],
          [
           0.33333333333333337,
           "rgb(171,217,233)"
          ],
          [
           0.4444444444444444,
           "rgb(224,243,248)"
          ],
          [
           0.5555555555555556,
           "rgb(254,224,144)"
          ],
          [
           0.6666666666666667,
           "rgb(253,174,97)"
          ],
          [
           0.7777777777777778,
           "rgb(244,109,67)"
          ],
          [
           0.8888888888888888,
           "rgb(215,48,39)"
          ],
          [
           1,
           "rgb(165,0,38)"
          ]
         ],
         "showscale": true
        },
        "coloraxis4": {
         "cmax": 0.6673227548599243,
         "cmin": 0,
         "colorbar": {
          "tickfont": {
           "size": 13
          },
          "title": {
           "font": {
            "size": 15
           },
           "text": "<b><span style=\"color:blue; font-weight:bold\">Stress Measures</span> *</b><br><b>(DOF) <span style=\"color:blue; font-weight:bold\">sigma_vm</span></b><br><b>Max.:</b> <span style=\"color:blue; font-weight:bold\">2.002E-01</span><br><b>Min.:</b> <span style=\"color:blue; font-weight:bold\">2.956E-02</span><br><b>step:</b> <span style=\"color:blue; font-weight:bold\">3</span>; <b>time</b>: <span style=\"color:blue; font-weight:bold\">0.300</span><br> <br>"
          }
         },
         "colorscale": [
          [
           0,
           "rgb(49,54,149)"
          ],
          [
           0.11111111111111116,
           "rgb(69,117,180)"
          ],
          [
           0.2222222222222222,
           "rgb(116,173,209)"
          ],
          [
           0.33333333333333337,
           "rgb(171,217,233)"
          ],
          [
           0.4444444444444444,
           "rgb(224,243,248)"
          ],
          [
           0.5555555555555556,
           "rgb(254,224,144)"
          ],
          [
           0.6666666666666667,
           "rgb(253,174,97)"
          ],
          [
           0.7777777777777778,
           "rgb(244,109,67)"
          ],
          [
           0.8888888888888888,
           "rgb(215,48,39)"
          ],
          [
           1,
           "rgb(165,0,38)"
          ]
         ],
         "showscale": true
        },
        "coloraxis5": {
         "cmax": 0.6673227548599243,
         "cmin": 0,
         "colorbar": {
          "tickfont": {
           "size": 13
          },
          "title": {
           "font": {
            "size": 15
           },
           "text": "<b><span style=\"color:blue; font-weight:bold\">Stress Measures</span> *</b><br><b>(DOF) <span style=\"color:blue; font-weight:bold\">sigma_vm</span></b><br><b>Max.:</b> <span style=\"color:blue; font-weight:bold\">2.669E-01</span><br><b>Min.:</b> <span style=\"color:blue; font-weight:bold\">3.941E-02</span><br><b>step:</b> <span style=\"color:blue; font-weight:bold\">4</span>; <b>time</b>: <span style=\"color:blue; font-weight:bold\">0.400</span><br> <br>"
          }
         },
         "colorscale": [
          [
           0,
           "rgb(49,54,149)"
          ],
          [
           0.11111111111111116,
           "rgb(69,117,180)"
          ],
          [
           0.2222222222222222,
           "rgb(116,173,209)"
          ],
          [
           0.33333333333333337,
           "rgb(171,217,233)"
          ],
          [
           0.4444444444444444,
           "rgb(224,243,248)"
          ],
          [
           0.5555555555555556,
           "rgb(254,224,144)"
          ],
          [
           0.6666666666666667,
           "rgb(253,174,97)"
          ],
          [
           0.7777777777777778,
           "rgb(244,109,67)"
          ],
          [
           0.8888888888888888,
           "rgb(215,48,39)"
          ],
          [
           1,
           "rgb(165,0,38)"
          ]
         ],
         "showscale": true
        },
        "coloraxis6": {
         "cmax": 0.6673227548599243,
         "cmin": 0,
         "colorbar": {
          "tickfont": {
           "size": 13
          },
          "title": {
           "font": {
            "size": 15
           },
           "text": "<b><span style=\"color:blue; font-weight:bold\">Stress Measures</span> *</b><br><b>(DOF) <span style=\"color:blue; font-weight:bold\">sigma_vm</span></b><br><b>Max.:</b> <span style=\"color:blue; font-weight:bold\">3.337E-01</span><br><b>Min.:</b> <span style=\"color:blue; font-weight:bold\">4.926E-02</span><br><b>step:</b> <span style=\"color:blue; font-weight:bold\">5</span>; <b>time</b>: <span style=\"color:blue; font-weight:bold\">0.500</span><br> <br>"
          }
         },
         "colorscale": [
          [
           0,
           "rgb(49,54,149)"
          ],
          [
           0.11111111111111116,
           "rgb(69,117,180)"
          ],
          [
           0.2222222222222222,
           "rgb(116,173,209)"
          ],
          [
           0.33333333333333337,
           "rgb(171,217,233)"
          ],
          [
           0.4444444444444444,
           "rgb(224,243,248)"
          ],
          [
           0.5555555555555556,
           "rgb(254,224,144)"
          ],
          [
           0.6666666666666667,
           "rgb(253,174,97)"
          ],
          [
           0.7777777777777778,
           "rgb(244,109,67)"
          ],
          [
           0.8888888888888888,
           "rgb(215,48,39)"
          ],
          [
           1,
           "rgb(165,0,38)"
          ]
         ],
         "showscale": true
        },
        "coloraxis7": {
         "cmax": 0.6673227548599243,
         "cmin": 0,
         "colorbar": {
          "tickfont": {
           "size": 13
          },
          "title": {
           "font": {
            "size": 15
           },
           "text": "<b><span style=\"color:blue; font-weight:bold\">Stress Measures</span> *</b><br><b>(DOF) <span style=\"color:blue; font-weight:bold\">sigma_vm</span></b><br><b>Max.:</b> <span style=\"color:blue; font-weight:bold\">4.004E-01</span><br><b>Min.:</b> <span style=\"color:blue; font-weight:bold\">5.911E-02</span><br><b>step:</b> <span style=\"color:blue; font-weight:bold\">6</span>; <b>time</b>: <span style=\"color:blue; font-weight:bold\">0.600</span><br> <br>"
          }
         },
         "colorscale": [
          [
           0,
           "rgb(49,54,149)"
          ],
          [
           0.11111111111111116,
           "rgb(69,117,180)"
          ],
          [
           0.2222222222222222,
           "rgb(116,173,209)"
          ],
          [
           0.33333333333333337,
           "rgb(171,217,233)"
          ],
          [
           0.4444444444444444,
           "rgb(224,243,248)"
          ],
          [
           0.5555555555555556,
           "rgb(254,224,144)"
          ],
          [
           0.6666666666666667,
           "rgb(253,174,97)"
          ],
          [
           0.7777777777777778,
           "rgb(244,109,67)"
          ],
          [
           0.8888888888888888,
           "rgb(215,48,39)"
          ],
          [
           1,
           "rgb(165,0,38)"
          ]
         ],
         "showscale": true
        },
        "coloraxis8": {
         "cmax": 0.6673227548599243,
         "cmin": 0,
         "colorbar": {
          "tickfont": {
           "size": 13
          },
          "title": {
           "font": {
            "size": 15
           },
           "text": "<b><span style=\"color:blue; font-weight:bold\">Stress Measures</span> *</b><br><b>(DOF) <span style=\"color:blue; font-weight:bold\">sigma_vm</span></b><br><b>Max.:</b> <span style=\"color:blue; font-weight:bold\">4.671E-01</span><br><b>Min.:</b> <span style=\"color:blue; font-weight:bold\">6.896E-02</span><br><b>step:</b> <span style=\"color:blue; font-weight:bold\">7</span>; <b>time</b>: <span style=\"color:blue; font-weight:bold\">0.700</span><br> <br>"
          }
         },
         "colorscale": [
          [
           0,
           "rgb(49,54,149)"
          ],
          [
           0.11111111111111116,
           "rgb(69,117,180)"
          ],
          [
           0.2222222222222222,
           "rgb(116,173,209)"
          ],
          [
           0.33333333333333337,
           "rgb(171,217,233)"
          ],
          [
           0.4444444444444444,
           "rgb(224,243,248)"
          ],
          [
           0.5555555555555556,
           "rgb(254,224,144)"
          ],
          [
           0.6666666666666667,
           "rgb(253,174,97)"
          ],
          [
           0.7777777777777778,
           "rgb(244,109,67)"
          ],
          [
           0.8888888888888888,
           "rgb(215,48,39)"
          ],
          [
           1,
           "rgb(165,0,38)"
          ]
         ],
         "showscale": true
        },
        "coloraxis9": {
         "cmax": 0.6673227548599243,
         "cmin": 0,
         "colorbar": {
          "tickfont": {
           "size": 13
          },
          "title": {
           "font": {
            "size": 15
           },
           "text": "<b><span style=\"color:blue; font-weight:bold\">Stress Measures</span> *</b><br><b>(DOF) <span style=\"color:blue; font-weight:bold\">sigma_vm</span></b><br><b>Max.:</b> <span style=\"color:blue; font-weight:bold\">5.339E-01</span><br><b>Min.:</b> <span style=\"color:blue; font-weight:bold\">7.882E-02</span><br><b>step:</b> <span style=\"color:blue; font-weight:bold\">8</span>; <b>time</b>: <span style=\"color:blue; font-weight:bold\">0.800</span><br> <br>"
          }
         },
         "colorscale": [
          [
           0,
           "rgb(49,54,149)"
          ],
          [
           0.11111111111111116,
           "rgb(69,117,180)"
          ],
          [
           0.2222222222222222,
           "rgb(116,173,209)"
          ],
          [
           0.33333333333333337,
           "rgb(171,217,233)"
          ],
          [
           0.4444444444444444,
           "rgb(224,243,248)"
          ],
          [
           0.5555555555555556,
           "rgb(254,224,144)"
          ],
          [
           0.6666666666666667,
           "rgb(253,174,97)"
          ],
          [
           0.7777777777777778,
           "rgb(244,109,67)"
          ],
          [
           0.8888888888888888,
           "rgb(215,48,39)"
          ],
          [
           1,
           "rgb(165,0,38)"
          ]
         ],
         "showscale": true
        },
        "font": {
         "family": "Arial, sans-serif"
        },
        "scene": {
         "aspectmode": "data",
         "camera": {
          "eye": {
           "x": 0,
           "y": -0.1,
           "z": 4
          }
         },
         "dragmode": "pan",
         "xaxis": {
          "showgrid": false,
          "visible": false,
          "zeroline": false
         },
         "yaxis": {
          "showgrid": false,
          "visible": false,
          "zeroline": false
         },
         "zaxis": {
          "showgrid": false,
          "visible": false,
          "zeroline": false
         }
        },
        "showlegend": false,
        "sliders": [
         {
          "active": 11,
          "currentvalue": {
           "prefix": "Step: "
          },
          "pad": {
           "t": 50
          },
          "steps": [
           {
            "args": [
             {
              "visible": [
               true,
               true,
               true,
               false,
               false,
               false,
               false,
               false,
               false,
               false,
               false,
               false,
               false,
               false,
               false,
               false,
               false,
               false,
               false,
               false,
               false,
               false,
               false,
               false,
               false,
               false,
               false,
               false,
               false,
               false,
               false,
               false,
               false
              ]
             },
             {
              "title": {
               "text": "<b>OPSTOOL:: Plane Responses 3D Viewer</b><br><br>"
              }
             }
            ],
            "label": "0",
            "method": "update"
           },
           {
            "args": [
             {
              "visible": [
               false,
               false,
               false,
               true,
               true,
               true,
               false,
               false,
               false,
               false,
               false,
               false,
               false,
               false,
               false,
               false,
               false,
               false,
               false,
               false,
               false,
               false,
               false,
               false,
               false,
               false,
               false,
               false,
               false,
               false,
               false,
               false,
               false
              ]
             },
             {
              "title": {
               "text": "<b>OPSTOOL:: Plane Responses 3D Viewer</b><br><br>"
              }
             }
            ],
            "label": "1",
            "method": "update"
           },
           {
            "args": [
             {
              "visible": [
               false,
               false,
               false,
               false,
               false,
               false,
               true,
               true,
               true,
               false,
               false,
               false,
               false,
               false,
               false,
               false,
               false,
               false,
               false,
               false,
               false,
               false,
               false,
               false,
               false,
               false,
               false,
               false,
               false,
               false,
               false,
               false,
               false
              ]
             },
             {
              "title": {
               "text": "<b>OPSTOOL:: Plane Responses 3D Viewer</b><br><br>"
              }
             }
            ],
            "label": "2",
            "method": "update"
           },
           {
            "args": [
             {
              "visible": [
               false,
               false,
               false,
               false,
               false,
               false,
               false,
               false,
               false,
               true,
               true,
               true,
               false,
               false,
               false,
               false,
               false,
               false,
               false,
               false,
               false,
               false,
               false,
               false,
               false,
               false,
               false,
               false,
               false,
               false,
               false,
               false,
               false
              ]
             },
             {
              "title": {
               "text": "<b>OPSTOOL:: Plane Responses 3D Viewer</b><br><br>"
              }
             }
            ],
            "label": "3",
            "method": "update"
           },
           {
            "args": [
             {
              "visible": [
               false,
               false,
               false,
               false,
               false,
               false,
               false,
               false,
               false,
               false,
               false,
               false,
               true,
               true,
               true,
               false,
               false,
               false,
               false,
               false,
               false,
               false,
               false,
               false,
               false,
               false,
               false,
               false,
               false,
               false,
               false,
               false,
               false
              ]
             },
             {
              "title": {
               "text": "<b>OPSTOOL:: Plane Responses 3D Viewer</b><br><br>"
              }
             }
            ],
            "label": "4",
            "method": "update"
           },
           {
            "args": [
             {
              "visible": [
               false,
               false,
               false,
               false,
               false,
               false,
               false,
               false,
               false,
               false,
               false,
               false,
               false,
               false,
               false,
               true,
               true,
               true,
               false,
               false,
               false,
               false,
               false,
               false,
               false,
               false,
               false,
               false,
               false,
               false,
               false,
               false,
               false
              ]
             },
             {
              "title": {
               "text": "<b>OPSTOOL:: Plane Responses 3D Viewer</b><br><br>"
              }
             }
            ],
            "label": "5",
            "method": "update"
           },
           {
            "args": [
             {
              "visible": [
               false,
               false,
               false,
               false,
               false,
               false,
               false,
               false,
               false,
               false,
               false,
               false,
               false,
               false,
               false,
               false,
               false,
               false,
               true,
               true,
               true,
               false,
               false,
               false,
               false,
               false,
               false,
               false,
               false,
               false,
               false,
               false,
               false
              ]
             },
             {
              "title": {
               "text": "<b>OPSTOOL:: Plane Responses 3D Viewer</b><br><br>"
              }
             }
            ],
            "label": "6",
            "method": "update"
           },
           {
            "args": [
             {
              "visible": [
               false,
               false,
               false,
               false,
               false,
               false,
               false,
               false,
               false,
               false,
               false,
               false,
               false,
               false,
               false,
               false,
               false,
               false,
               false,
               false,
               false,
               true,
               true,
               true,
               false,
               false,
               false,
               false,
               false,
               false,
               false,
               false,
               false
              ]
             },
             {
              "title": {
               "text": "<b>OPSTOOL:: Plane Responses 3D Viewer</b><br><br>"
              }
             }
            ],
            "label": "7",
            "method": "update"
           },
           {
            "args": [
             {
              "visible": [
               false,
               false,
               false,
               false,
               false,
               false,
               false,
               false,
               false,
               false,
               false,
               false,
               false,
               false,
               false,
               false,
               false,
               false,
               false,
               false,
               false,
               false,
               false,
               false,
               true,
               true,
               true,
               false,
               false,
               false,
               false,
               false,
               false
              ]
             },
             {
              "title": {
               "text": "<b>OPSTOOL:: Plane Responses 3D Viewer</b><br><br>"
              }
             }
            ],
            "label": "8",
            "method": "update"
           },
           {
            "args": [
             {
              "visible": [
               false,
               false,
               false,
               false,
               false,
               false,
               false,
               false,
               false,
               false,
               false,
               false,
               false,
               false,
               false,
               false,
               false,
               false,
               false,
               false,
               false,
               false,
               false,
               false,
               false,
               false,
               false,
               true,
               true,
               true,
               false,
               false,
               false
              ]
             },
             {
              "title": {
               "text": "<b>OPSTOOL:: Plane Responses 3D Viewer</b><br><br>"
              }
             }
            ],
            "label": "9",
            "method": "update"
           },
           {
            "args": [
             {
              "visible": [
               false,
               false,
               false,
               false,
               false,
               false,
               false,
               false,
               false,
               false,
               false,
               false,
               false,
               false,
               false,
               false,
               false,
               false,
               false,
               false,
               false,
               false,
               false,
               false,
               false,
               false,
               false,
               false,
               false,
               false,
               true,
               true,
               true
              ]
             },
             {
              "title": {
               "text": "<b>OPSTOOL:: Plane Responses 3D Viewer</b><br><br>"
              }
             }
            ],
            "label": "10",
            "method": "update"
           }
          ]
         }
        ],
        "template": {
         "data": {
          "bar": [
           {
            "error_x": {
             "color": "#2a3f5f"
            },
            "error_y": {
             "color": "#2a3f5f"
            },
            "marker": {
             "line": {
              "color": "#E5ECF6",
              "width": 0.5
             },
             "pattern": {
              "fillmode": "overlay",
              "size": 10,
              "solidity": 0.2
             }
            },
            "type": "bar"
           }
          ],
          "barpolar": [
           {
            "marker": {
             "line": {
              "color": "#E5ECF6",
              "width": 0.5
             },
             "pattern": {
              "fillmode": "overlay",
              "size": 10,
              "solidity": 0.2
             }
            },
            "type": "barpolar"
           }
          ],
          "carpet": [
           {
            "aaxis": {
             "endlinecolor": "#2a3f5f",
             "gridcolor": "white",
             "linecolor": "white",
             "minorgridcolor": "white",
             "startlinecolor": "#2a3f5f"
            },
            "baxis": {
             "endlinecolor": "#2a3f5f",
             "gridcolor": "white",
             "linecolor": "white",
             "minorgridcolor": "white",
             "startlinecolor": "#2a3f5f"
            },
            "type": "carpet"
           }
          ],
          "choropleth": [
           {
            "colorbar": {
             "outlinewidth": 0,
             "ticks": ""
            },
            "type": "choropleth"
           }
          ],
          "contour": [
           {
            "colorbar": {
             "outlinewidth": 0,
             "ticks": ""
            },
            "colorscale": [
             [
              0,
              "#0d0887"
             ],
             [
              0.1111111111111111,
              "#46039f"
             ],
             [
              0.2222222222222222,
              "#7201a8"
             ],
             [
              0.3333333333333333,
              "#9c179e"
             ],
             [
              0.4444444444444444,
              "#bd3786"
             ],
             [
              0.5555555555555556,
              "#d8576b"
             ],
             [
              0.6666666666666666,
              "#ed7953"
             ],
             [
              0.7777777777777778,
              "#fb9f3a"
             ],
             [
              0.8888888888888888,
              "#fdca26"
             ],
             [
              1,
              "#f0f921"
             ]
            ],
            "type": "contour"
           }
          ],
          "contourcarpet": [
           {
            "colorbar": {
             "outlinewidth": 0,
             "ticks": ""
            },
            "type": "contourcarpet"
           }
          ],
          "heatmap": [
           {
            "colorbar": {
             "outlinewidth": 0,
             "ticks": ""
            },
            "colorscale": [
             [
              0,
              "#0d0887"
             ],
             [
              0.1111111111111111,
              "#46039f"
             ],
             [
              0.2222222222222222,
              "#7201a8"
             ],
             [
              0.3333333333333333,
              "#9c179e"
             ],
             [
              0.4444444444444444,
              "#bd3786"
             ],
             [
              0.5555555555555556,
              "#d8576b"
             ],
             [
              0.6666666666666666,
              "#ed7953"
             ],
             [
              0.7777777777777778,
              "#fb9f3a"
             ],
             [
              0.8888888888888888,
              "#fdca26"
             ],
             [
              1,
              "#f0f921"
             ]
            ],
            "type": "heatmap"
           }
          ],
          "histogram": [
           {
            "marker": {
             "pattern": {
              "fillmode": "overlay",
              "size": 10,
              "solidity": 0.2
             }
            },
            "type": "histogram"
           }
          ],
          "histogram2d": [
           {
            "colorbar": {
             "outlinewidth": 0,
             "ticks": ""
            },
            "colorscale": [
             [
              0,
              "#0d0887"
             ],
             [
              0.1111111111111111,
              "#46039f"
             ],
             [
              0.2222222222222222,
              "#7201a8"
             ],
             [
              0.3333333333333333,
              "#9c179e"
             ],
             [
              0.4444444444444444,
              "#bd3786"
             ],
             [
              0.5555555555555556,
              "#d8576b"
             ],
             [
              0.6666666666666666,
              "#ed7953"
             ],
             [
              0.7777777777777778,
              "#fb9f3a"
             ],
             [
              0.8888888888888888,
              "#fdca26"
             ],
             [
              1,
              "#f0f921"
             ]
            ],
            "type": "histogram2d"
           }
          ],
          "histogram2dcontour": [
           {
            "colorbar": {
             "outlinewidth": 0,
             "ticks": ""
            },
            "colorscale": [
             [
              0,
              "#0d0887"
             ],
             [
              0.1111111111111111,
              "#46039f"
             ],
             [
              0.2222222222222222,
              "#7201a8"
             ],
             [
              0.3333333333333333,
              "#9c179e"
             ],
             [
              0.4444444444444444,
              "#bd3786"
             ],
             [
              0.5555555555555556,
              "#d8576b"
             ],
             [
              0.6666666666666666,
              "#ed7953"
             ],
             [
              0.7777777777777778,
              "#fb9f3a"
             ],
             [
              0.8888888888888888,
              "#fdca26"
             ],
             [
              1,
              "#f0f921"
             ]
            ],
            "type": "histogram2dcontour"
           }
          ],
          "mesh3d": [
           {
            "colorbar": {
             "outlinewidth": 0,
             "ticks": ""
            },
            "type": "mesh3d"
           }
          ],
          "parcoords": [
           {
            "line": {
             "colorbar": {
              "outlinewidth": 0,
              "ticks": ""
             }
            },
            "type": "parcoords"
           }
          ],
          "pie": [
           {
            "automargin": true,
            "type": "pie"
           }
          ],
          "scatter": [
           {
            "fillpattern": {
             "fillmode": "overlay",
             "size": 10,
             "solidity": 0.2
            },
            "type": "scatter"
           }
          ],
          "scatter3d": [
           {
            "line": {
             "colorbar": {
              "outlinewidth": 0,
              "ticks": ""
             }
            },
            "marker": {
             "colorbar": {
              "outlinewidth": 0,
              "ticks": ""
             }
            },
            "type": "scatter3d"
           }
          ],
          "scattercarpet": [
           {
            "marker": {
             "colorbar": {
              "outlinewidth": 0,
              "ticks": ""
             }
            },
            "type": "scattercarpet"
           }
          ],
          "scattergeo": [
           {
            "marker": {
             "colorbar": {
              "outlinewidth": 0,
              "ticks": ""
             }
            },
            "type": "scattergeo"
           }
          ],
          "scattergl": [
           {
            "marker": {
             "colorbar": {
              "outlinewidth": 0,
              "ticks": ""
             }
            },
            "type": "scattergl"
           }
          ],
          "scattermap": [
           {
            "marker": {
             "colorbar": {
              "outlinewidth": 0,
              "ticks": ""
             }
            },
            "type": "scattermap"
           }
          ],
          "scattermapbox": [
           {
            "marker": {
             "colorbar": {
              "outlinewidth": 0,
              "ticks": ""
             }
            },
            "type": "scattermapbox"
           }
          ],
          "scatterpolar": [
           {
            "marker": {
             "colorbar": {
              "outlinewidth": 0,
              "ticks": ""
             }
            },
            "type": "scatterpolar"
           }
          ],
          "scatterpolargl": [
           {
            "marker": {
             "colorbar": {
              "outlinewidth": 0,
              "ticks": ""
             }
            },
            "type": "scatterpolargl"
           }
          ],
          "scatterternary": [
           {
            "marker": {
             "colorbar": {
              "outlinewidth": 0,
              "ticks": ""
             }
            },
            "type": "scatterternary"
           }
          ],
          "surface": [
           {
            "colorbar": {
             "outlinewidth": 0,
             "ticks": ""
            },
            "colorscale": [
             [
              0,
              "#0d0887"
             ],
             [
              0.1111111111111111,
              "#46039f"
             ],
             [
              0.2222222222222222,
              "#7201a8"
             ],
             [
              0.3333333333333333,
              "#9c179e"
             ],
             [
              0.4444444444444444,
              "#bd3786"
             ],
             [
              0.5555555555555556,
              "#d8576b"
             ],
             [
              0.6666666666666666,
              "#ed7953"
             ],
             [
              0.7777777777777778,
              "#fb9f3a"
             ],
             [
              0.8888888888888888,
              "#fdca26"
             ],
             [
              1,
              "#f0f921"
             ]
            ],
            "type": "surface"
           }
          ],
          "table": [
           {
            "cells": {
             "fill": {
              "color": "#EBF0F8"
             },
             "line": {
              "color": "white"
             }
            },
            "header": {
             "fill": {
              "color": "#C8D4E3"
             },
             "line": {
              "color": "white"
             }
            },
            "type": "table"
           }
          ]
         },
         "layout": {
          "annotationdefaults": {
           "arrowcolor": "#2a3f5f",
           "arrowhead": 0,
           "arrowwidth": 1
          },
          "autotypenumbers": "strict",
          "coloraxis": {
           "colorbar": {
            "outlinewidth": 0,
            "ticks": ""
           }
          },
          "colorscale": {
           "diverging": [
            [
             0,
             "#8e0152"
            ],
            [
             0.1,
             "#c51b7d"
            ],
            [
             0.2,
             "#de77ae"
            ],
            [
             0.3,
             "#f1b6da"
            ],
            [
             0.4,
             "#fde0ef"
            ],
            [
             0.5,
             "#f7f7f7"
            ],
            [
             0.6,
             "#e6f5d0"
            ],
            [
             0.7,
             "#b8e186"
            ],
            [
             0.8,
             "#7fbc41"
            ],
            [
             0.9,
             "#4d9221"
            ],
            [
             1,
             "#276419"
            ]
           ],
           "sequential": [
            [
             0,
             "#0d0887"
            ],
            [
             0.1111111111111111,
             "#46039f"
            ],
            [
             0.2222222222222222,
             "#7201a8"
            ],
            [
             0.3333333333333333,
             "#9c179e"
            ],
            [
             0.4444444444444444,
             "#bd3786"
            ],
            [
             0.5555555555555556,
             "#d8576b"
            ],
            [
             0.6666666666666666,
             "#ed7953"
            ],
            [
             0.7777777777777778,
             "#fb9f3a"
            ],
            [
             0.8888888888888888,
             "#fdca26"
            ],
            [
             1,
             "#f0f921"
            ]
           ],
           "sequentialminus": [
            [
             0,
             "#0d0887"
            ],
            [
             0.1111111111111111,
             "#46039f"
            ],
            [
             0.2222222222222222,
             "#7201a8"
            ],
            [
             0.3333333333333333,
             "#9c179e"
            ],
            [
             0.4444444444444444,
             "#bd3786"
            ],
            [
             0.5555555555555556,
             "#d8576b"
            ],
            [
             0.6666666666666666,
             "#ed7953"
            ],
            [
             0.7777777777777778,
             "#fb9f3a"
            ],
            [
             0.8888888888888888,
             "#fdca26"
            ],
            [
             1,
             "#f0f921"
            ]
           ]
          },
          "colorway": [
           "#636efa",
           "#EF553B",
           "#00cc96",
           "#ab63fa",
           "#FFA15A",
           "#19d3f3",
           "#FF6692",
           "#B6E880",
           "#FF97FF",
           "#FECB52"
          ],
          "font": {
           "color": "#2a3f5f"
          },
          "geo": {
           "bgcolor": "white",
           "lakecolor": "white",
           "landcolor": "#E5ECF6",
           "showlakes": true,
           "showland": true,
           "subunitcolor": "white"
          },
          "hoverlabel": {
           "align": "left"
          },
          "hovermode": "closest",
          "mapbox": {
           "style": "light"
          },
          "paper_bgcolor": "white",
          "plot_bgcolor": "#E5ECF6",
          "polar": {
           "angularaxis": {
            "gridcolor": "white",
            "linecolor": "white",
            "ticks": ""
           },
           "bgcolor": "#E5ECF6",
           "radialaxis": {
            "gridcolor": "white",
            "linecolor": "white",
            "ticks": ""
           }
          },
          "scene": {
           "xaxis": {
            "backgroundcolor": "#E5ECF6",
            "gridcolor": "white",
            "gridwidth": 2,
            "linecolor": "white",
            "showbackground": true,
            "ticks": "",
            "zerolinecolor": "white"
           },
           "yaxis": {
            "backgroundcolor": "#E5ECF6",
            "gridcolor": "white",
            "gridwidth": 2,
            "linecolor": "white",
            "showbackground": true,
            "ticks": "",
            "zerolinecolor": "white"
           },
           "zaxis": {
            "backgroundcolor": "#E5ECF6",
            "gridcolor": "white",
            "gridwidth": 2,
            "linecolor": "white",
            "showbackground": true,
            "ticks": "",
            "zerolinecolor": "white"
           }
          },
          "shapedefaults": {
           "line": {
            "color": "#2a3f5f"
           }
          },
          "ternary": {
           "aaxis": {
            "gridcolor": "white",
            "linecolor": "white",
            "ticks": ""
           },
           "baxis": {
            "gridcolor": "white",
            "linecolor": "white",
            "ticks": ""
           },
           "bgcolor": "#E5ECF6",
           "caxis": {
            "gridcolor": "white",
            "linecolor": "white",
            "ticks": ""
           }
          },
          "title": {
           "x": 0.05
          },
          "xaxis": {
           "automargin": true,
           "gridcolor": "white",
           "linecolor": "white",
           "ticks": "",
           "title": {
            "standoff": 15
           },
           "zerolinecolor": "white",
           "zerolinewidth": 2
          },
          "yaxis": {
           "automargin": true,
           "gridcolor": "white",
           "linecolor": "white",
           "ticks": "",
           "title": {
            "standoff": 15
           },
           "zerolinecolor": "white",
           "zerolinewidth": 2
          }
         }
        },
        "title": {
         "font": {
          "size": 18
         },
         "text": "<b>OPSTOOL:: Plane Responses 3D Viewer</b><br><br>"
        }
       }
      }
     },
     "metadata": {},
     "output_type": "display_data"
    }
   ],
   "source": [
    "fig = opsvis.plot_unstruct_responses(\n",
    "    odb_tag=1,\n",
    "    slides=True,\n",
    "    ele_type=\"Plane\",\n",
    "    resp_type=\"stresses\",  # at Gauss points, it will be averaged over the element\n",
    "    resp_dof=\"sigma_vm\",\n",
    "    show_model=False,\n",
    "    show_defo=True,\n",
    "    defo_scale=\"auto\",\n",
    ")\n",
    "fig.write_html(\"images/plane_resp_plotly2.html\", full_html=False, include_plotlyjs=\"cdn\")\n",
    "fig.show()"
   ]
  },
  {
   "cell_type": "raw",
   "id": "b25d83b7",
   "metadata": {
    "raw_mimetype": "text/restructuredtext",
    "vscode": {
     "languageId": "raw"
    }
   },
   "source": [
    ".. raw:: html\n",
    "   :file: images/plane_resp_plotly2.html"
   ]
  }
 ],
 "metadata": {
  "kernelspec": {
   "display_name": "opstool-dev",
   "language": "python",
   "name": "python3"
  },
  "language_info": {
   "codemirror_mode": {
    "name": "ipython",
    "version": 3
   },
   "file_extension": ".py",
   "mimetype": "text/x-python",
   "name": "python",
   "nbconvert_exporter": "python",
   "pygments_lexer": "ipython3",
   "version": "3.12.9"
  }
 },
 "nbformat": 4,
 "nbformat_minor": 5
}
